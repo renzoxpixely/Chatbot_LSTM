{
  "cells": [
    {
      "cell_type": "markdown",
      "metadata": {
        "id": "6xoKYBBO6xaV"
      },
      "source": [
        "# **Chatbot**"
      ]
    },
    {
      "cell_type": "markdown",
      "metadata": {
        "id": "2SOmE99B7Is0"
      },
      "source": [
        "Este proyecto es para crear un chatbot conversacional usando Sequence para secuenciar modelos LSTM. El aprendizaje de secuencia a secuencia consiste en entrenar modelos para convertir de un dominio a secuencias en otro dominio.\n"
      ]
    },
    {
      "cell_type": "markdown",
      "metadata": {
        "id": "mVuZTAV08qWY"
      },
      "source": [
        "# Step 1: Import all the packages "
      ]
    },
    {
      "cell_type": "code",
      "execution_count": null,
      "metadata": {
        "id": "U0mJXRse83hp"
      },
      "outputs": [],
      "source": [
        "import numpy as np \n",
        "import tensorflow as tf\n",
        "import pickle\n",
        "from tensorflow.keras import layers, activations, models, preprocessing"
      ]
    },
    {
      "cell_type": "markdown",
      "metadata": {
        "id": "aL0Rz6JZ9eLW"
      },
      "source": [
        "# Step 2: Download all the data from kaggle"
      ]
    },
    {
      "cell_type": "code",
      "execution_count": null,
      "metadata": {
        "colab": {
          "base_uri": "https://localhost:8080/"
        },
        "id": "79eY9jkA9lnq",
        "outputId": "8b92f54c-1f34-46a6-d9f3-b97dbabb8ca1"
      },
      "outputs": [
        {
          "name": "stdout",
          "output_type": "stream",
          "text": [
            "Looking in indexes: https://pypi.org/simple, https://us-python.pkg.dev/colab-wheels/public/simple/\n",
            "Requirement already satisfied: kaggle in /usr/local/lib/python3.8/dist-packages (1.5.12)\n",
            "Requirement already satisfied: python-slugify in /usr/local/lib/python3.8/dist-packages (from kaggle) (7.0.0)\n",
            "Requirement already satisfied: certifi in /usr/local/lib/python3.8/dist-packages (from kaggle) (2022.9.24)\n",
            "Requirement already satisfied: python-dateutil in /usr/local/lib/python3.8/dist-packages (from kaggle) (2.8.2)\n",
            "Requirement already satisfied: tqdm in /usr/local/lib/python3.8/dist-packages (from kaggle) (4.64.1)\n",
            "Requirement already satisfied: requests in /usr/local/lib/python3.8/dist-packages (from kaggle) (2.23.0)\n",
            "Requirement already satisfied: six>=1.10 in /usr/local/lib/python3.8/dist-packages (from kaggle) (1.15.0)\n",
            "Requirement already satisfied: urllib3 in /usr/local/lib/python3.8/dist-packages (from kaggle) (1.24.3)\n",
            "Requirement already satisfied: text-unidecode>=1.3 in /usr/local/lib/python3.8/dist-packages (from python-slugify->kaggle) (1.3)\n",
            "Requirement already satisfied: chardet<4,>=3.0.2 in /usr/local/lib/python3.8/dist-packages (from requests->kaggle) (3.0.4)\n",
            "Requirement already satisfied: idna<3,>=2.5 in /usr/local/lib/python3.8/dist-packages (from requests->kaggle) (2.10)\n"
          ]
        }
      ],
      "source": [
        "!pip install kaggle "
      ]
    },
    {
      "cell_type": "code",
      "execution_count": null,
      "metadata": {
        "colab": {
          "base_uri": "https://localhost:8080/",
          "height": 1000
        },
        "id": "6cU-sP689zyx",
        "outputId": "6a42b712-2241-4a0d-fd5d-5a310924adbd"
      },
      "outputs": [
        {
          "data": {
            "text/html": [
              "\n",
              "     <input type=\"file\" id=\"files-b2c68f5e-4411-419c-995e-a7b25f283de3\" name=\"files[]\" multiple disabled\n",
              "        style=\"border:none\" />\n",
              "     <output id=\"result-b2c68f5e-4411-419c-995e-a7b25f283de3\">\n",
              "      Upload widget is only available when the cell has been executed in the\n",
              "      current browser session. Please rerun this cell to enable.\n",
              "      </output>\n",
              "      <script>// Copyright 2017 Google LLC\n",
              "//\n",
              "// Licensed under the Apache License, Version 2.0 (the \"License\");\n",
              "// you may not use this file except in compliance with the License.\n",
              "// You may obtain a copy of the License at\n",
              "//\n",
              "//      http://www.apache.org/licenses/LICENSE-2.0\n",
              "//\n",
              "// Unless required by applicable law or agreed to in writing, software\n",
              "// distributed under the License is distributed on an \"AS IS\" BASIS,\n",
              "// WITHOUT WARRANTIES OR CONDITIONS OF ANY KIND, either express or implied.\n",
              "// See the License for the specific language governing permissions and\n",
              "// limitations under the License.\n",
              "\n",
              "/**\n",
              " * @fileoverview Helpers for google.colab Python module.\n",
              " */\n",
              "(function(scope) {\n",
              "function span(text, styleAttributes = {}) {\n",
              "  const element = document.createElement('span');\n",
              "  element.textContent = text;\n",
              "  for (const key of Object.keys(styleAttributes)) {\n",
              "    element.style[key] = styleAttributes[key];\n",
              "  }\n",
              "  return element;\n",
              "}\n",
              "\n",
              "// Max number of bytes which will be uploaded at a time.\n",
              "const MAX_PAYLOAD_SIZE = 100 * 1024;\n",
              "\n",
              "function _uploadFiles(inputId, outputId) {\n",
              "  const steps = uploadFilesStep(inputId, outputId);\n",
              "  const outputElement = document.getElementById(outputId);\n",
              "  // Cache steps on the outputElement to make it available for the next call\n",
              "  // to uploadFilesContinue from Python.\n",
              "  outputElement.steps = steps;\n",
              "\n",
              "  return _uploadFilesContinue(outputId);\n",
              "}\n",
              "\n",
              "// This is roughly an async generator (not supported in the browser yet),\n",
              "// where there are multiple asynchronous steps and the Python side is going\n",
              "// to poll for completion of each step.\n",
              "// This uses a Promise to block the python side on completion of each step,\n",
              "// then passes the result of the previous step as the input to the next step.\n",
              "function _uploadFilesContinue(outputId) {\n",
              "  const outputElement = document.getElementById(outputId);\n",
              "  const steps = outputElement.steps;\n",
              "\n",
              "  const next = steps.next(outputElement.lastPromiseValue);\n",
              "  return Promise.resolve(next.value.promise).then((value) => {\n",
              "    // Cache the last promise value to make it available to the next\n",
              "    // step of the generator.\n",
              "    outputElement.lastPromiseValue = value;\n",
              "    return next.value.response;\n",
              "  });\n",
              "}\n",
              "\n",
              "/**\n",
              " * Generator function which is called between each async step of the upload\n",
              " * process.\n",
              " * @param {string} inputId Element ID of the input file picker element.\n",
              " * @param {string} outputId Element ID of the output display.\n",
              " * @return {!Iterable<!Object>} Iterable of next steps.\n",
              " */\n",
              "function* uploadFilesStep(inputId, outputId) {\n",
              "  const inputElement = document.getElementById(inputId);\n",
              "  inputElement.disabled = false;\n",
              "\n",
              "  const outputElement = document.getElementById(outputId);\n",
              "  outputElement.innerHTML = '';\n",
              "\n",
              "  const pickedPromise = new Promise((resolve) => {\n",
              "    inputElement.addEventListener('change', (e) => {\n",
              "      resolve(e.target.files);\n",
              "    });\n",
              "  });\n",
              "\n",
              "  const cancel = document.createElement('button');\n",
              "  inputElement.parentElement.appendChild(cancel);\n",
              "  cancel.textContent = 'Cancel upload';\n",
              "  const cancelPromise = new Promise((resolve) => {\n",
              "    cancel.onclick = () => {\n",
              "      resolve(null);\n",
              "    };\n",
              "  });\n",
              "\n",
              "  // Wait for the user to pick the files.\n",
              "  const files = yield {\n",
              "    promise: Promise.race([pickedPromise, cancelPromise]),\n",
              "    response: {\n",
              "      action: 'starting',\n",
              "    }\n",
              "  };\n",
              "\n",
              "  cancel.remove();\n",
              "\n",
              "  // Disable the input element since further picks are not allowed.\n",
              "  inputElement.disabled = true;\n",
              "\n",
              "  if (!files) {\n",
              "    return {\n",
              "      response: {\n",
              "        action: 'complete',\n",
              "      }\n",
              "    };\n",
              "  }\n",
              "\n",
              "  for (const file of files) {\n",
              "    const li = document.createElement('li');\n",
              "    li.append(span(file.name, {fontWeight: 'bold'}));\n",
              "    li.append(span(\n",
              "        `(${file.type || 'n/a'}) - ${file.size} bytes, ` +\n",
              "        `last modified: ${\n",
              "            file.lastModifiedDate ? file.lastModifiedDate.toLocaleDateString() :\n",
              "                                    'n/a'} - `));\n",
              "    const percent = span('0% done');\n",
              "    li.appendChild(percent);\n",
              "\n",
              "    outputElement.appendChild(li);\n",
              "\n",
              "    const fileDataPromise = new Promise((resolve) => {\n",
              "      const reader = new FileReader();\n",
              "      reader.onload = (e) => {\n",
              "        resolve(e.target.result);\n",
              "      };\n",
              "      reader.readAsArrayBuffer(file);\n",
              "    });\n",
              "    // Wait for the data to be ready.\n",
              "    let fileData = yield {\n",
              "      promise: fileDataPromise,\n",
              "      response: {\n",
              "        action: 'continue',\n",
              "      }\n",
              "    };\n",
              "\n",
              "    // Use a chunked sending to avoid message size limits. See b/62115660.\n",
              "    let position = 0;\n",
              "    do {\n",
              "      const length = Math.min(fileData.byteLength - position, MAX_PAYLOAD_SIZE);\n",
              "      const chunk = new Uint8Array(fileData, position, length);\n",
              "      position += length;\n",
              "\n",
              "      const base64 = btoa(String.fromCharCode.apply(null, chunk));\n",
              "      yield {\n",
              "        response: {\n",
              "          action: 'append',\n",
              "          file: file.name,\n",
              "          data: base64,\n",
              "        },\n",
              "      };\n",
              "\n",
              "      let percentDone = fileData.byteLength === 0 ?\n",
              "          100 :\n",
              "          Math.round((position / fileData.byteLength) * 100);\n",
              "      percent.textContent = `${percentDone}% done`;\n",
              "\n",
              "    } while (position < fileData.byteLength);\n",
              "  }\n",
              "\n",
              "  // All done.\n",
              "  yield {\n",
              "    response: {\n",
              "      action: 'complete',\n",
              "    }\n",
              "  };\n",
              "}\n",
              "\n",
              "scope.google = scope.google || {};\n",
              "scope.google.colab = scope.google.colab || {};\n",
              "scope.google.colab._files = {\n",
              "  _uploadFiles,\n",
              "  _uploadFilesContinue,\n",
              "};\n",
              "})(self);\n",
              "</script> "
            ],
            "text/plain": [
              "<IPython.core.display.HTML object>"
            ]
          },
          "metadata": {},
          "output_type": "display_data"
        },
        {
          "name": "stdout",
          "output_type": "stream",
          "text": [
            "Saving chatterbotenglish.zip to chatterbotenglish.zip\n"
          ]
        },
        {
          "data": {
            "text/plain": [
              "{'chatterbotenglish.zip': b'Rar!\\x1a\\x07\\x01\\x00\\xf3\\xe1\\x82\\xeb\\x0b\\x01\\x05\\x07\\x00\\x06\\x01\\x01\\x80\\x80\\x80\\x00\\xb8\\xfa\\x8d\\x823\\x02\\x03\\x0b\\xe2\\x99\\x00\\x04\\xd0\\xc7\\x00 \\xbe\\xdf\\xea\\xd3\\x80\\x03\\x00\\x15ChatBotSpanish/ai.yml\\n\\x03\\x02$\\xcd\\x93\\x16\\xb3\\n\\xd9\\x01\\xc9A\\xde\\x0cG\\x05T334\\xf2gE\\xde\\xfc(I\\xa5\\xe9Xk6\\xe6itq\\xb5\\x95\\x15SN&\\xd2t\\xe6l\\xb2\\x05\\x92B\\x80\\x8b2\\xc0\\x05\\xb2\\xfc\\x1f<!lz\\x16\\x8c\\xa7\\xad\\xd6UJ\\xa6<\\xcaBW9\\xdb\\xf8\\x00\\x0b)\\x12\\x9dO\\x0c\\xcc\\x91 \\xae\\xfb\\xf3\\xbe\\xfco\\xb7<k\\xbf\\xc2~\\xe7/\\x97\\xa6\\xef\\xc5eUk\\xcc\\xc6\\xce\\xba\\xbf\\xcf\\x93\\xfbI\\x8f\\x98\\xfe\\x14\\xda\\xe7\\xcb<\\xb3\\xaa\\x89\\'\\xa6\\xb5\\xd1D\\xf9\\x97L\\xab\\xf2J\\xcau-\\xb5\\x01\\t\\xc7\\xc3\\x83G\\xff\\xfa\\xfe\\xfe\\xbb-\\xf9H\\x07$\\xa1Rsc\\xf3y$\\x90\\xea\\xfaO\\xda\\x0c8\\\\\\x11\\x81V\\xf1A\\xe1-V\\x81\\xf8\\x99i\\xf4\\x0c$\\x10\\x1f[oh\\xfb\\xd6\\x9a\\x00\\x19\\xe2\\x83z`$\\xa9\\x87\\xc1\\xd2&\\xfa\\xdbd\\xed\\x93E\\xbd\\x9f\\xb5\\x9d\\xc5l\\x0f\\xd0\\x1e\\xd2B\\x82\\x1dN.\\n\\x15\\x8d5\\x02\\x1a\\x08\\xc0\\xeb\\xa5\\x90;D\\xcb\\xddj\\x1f\\xe3%\\xb3J\\x1c\\xaf\\x9a\\xb3\\xa9\\xb3{\\xc7\\xfa\\xb2\\x8a\\xd4\\xcc\\xb5\\xbb\\xe9\\x03G\\xebHV\\x13\\xe0\\x11AW-\\x9b \\x12%\\xf7\\x95\\xb4\\x02\\xad{Y\\xec\\n\\xf0H\\xe2\\x8br\\xb4\\xef\\x03\\x18+\\xcf\\x92\\x85\\xf7w\\x1d\\x19\\x82\\x12\\x07\\xc2\\xe8N\\x1a\\x19\\xe1\\x04\\xf4\\xaf5\\xbfJP\\xb6\\x0c9B\\xf2\\x1a-\\xbf:K\\x07*\\x91JG\\xf7Zl\\x85p2\\xc4BBK<V \\xa8\\x0f\\xc6F\\xedyJ\\xa7\\x05\\xbb\\xcb\\xc85Bs3\\t\\x91\\xb4xglaXF4\\xc0\\xbe\\x8f\\x98\\xf0\\x0c\\xae>\\x82 X\\xe9)\\xfal/\\xe1\\xa4\\x12\\x9e\\xd2\\xea\\xb3\\'Z\\xeb\\x9fS\\xd1\\x01\\xbb9r\\xd6\\x13\\x93\\x1a\\xf4\\xc0\\x184i\\xa1\\xcd\\x14\\x1b\\xb0\\xb1\\xf9\\xe0\\xe5\\xf5\\xc5\\x01\\xf3\\x83\\x903\\xb0s\\xfe\\x96\\xb3 R\\'\\x1b\\xa3\\xee`L\\xa4\\x1d\\xc2r\\x88\\xbe)=N\\xfd\\x80ES\\xb2e\\x9c$\\x05\\xcb\\xd9\\xc1+\\r\\x8f?\\xf0\\xba\\x9e\\x82\\x01\\xdf7\\x085\\x1dP1\\xc0\\\\/ET\\x14\\xce\\xd2\\xa5\\x86\\n\\x1b\\xa8\\\\Z\\xe7Ez+\\xc1\\'\\xfa\\xaf#\\xd4\\x91RZ\\n\\xac\\xec\\x10\\x189-\\xdc\\xa5+g\\x0b\\xac\\x03z\\x07\\xd0m\\xde(G\\x96\\xad\\xadq\\xd3\\x1f\\xbe\\xe7F\\xba\\xf3\\xb2\\x04.\\x90\\x92\\x989.\\xe3\\'\\xa1U\\xa9\\xee\\xc0\\x14\\xceD&\\x11p\\x97\\xd5\\xa4,\\xc1\\xa1\\xa0\\xc9t\\x13\\xc7\\xe0I\\x1b\\xcd\\xf9\\n\\x9e^$UR5\\xcb\\xf7!/\\xc20\\xf2\\xd1\\x12OZ\\xdc6\\x1c\\xfar\\xc5>\\xc2 \\x84\\xe5\\xdc\\x9ei\\x07\\x02\\xf8m\\\\\\xa0l:db\\x11\\xce\\x9e\\x1bo\\xec\\xe0\\xc9\\x01V\\xbb\\x00M\\x0e\\xfe\\xb3\\xabZ\\x90-\\xc2\\xd3\\xb9G\\xacE\\xb5,\\x03\\x83\\xf6?\\x0fI\\x13\\x86\\x91\\xee\\xc7*\"\\xb2\\x15\\xfas[\\xff\\xed\\xedG@\\xbe\\xb3\\xc1\\xa98\\xcd\\xa2rF\\xd1\\x90\\r\\xfd\\xf9\\x10=\\xce\\x029Q\\xc2\\xb0\\xed$#e\\n\\x98\\xe5;~\\x80X\\xb5\\xe1&L\\xa2\\x15\\x9aEv\\x03\\xb6\\xbc\\xe6\\x1f\\xbdnum\\x006\\xb8\\x96\\xba\\x98\\x8b=\\x17J\\x90\\x8a\\x18\\xe4?\\x9d\\x81\\xfeW`\\xd3\".\\x91\\xe0J\\x12T\\x1e\\x11;\\xa2\\x12\\x1f\\x1c9\\xa4\\'\\xe7\\xeco\\xa0\\xd5\\x7f\\xce\\x13\\r\\x02a\\xc9\\xc8~\\xce\\xe8\\xb2\\\\\\xec\\x13t\\xb31>TR\\xf0\\xe7\\x1a\\x97\\xf1\\xc1\\xc4\\xcf\\x990\\x13|\\xc7\\xd5\\x90\\x02\\x04I \\xc2\\xe3\\xf7\\x84\\x8as\\x97.j\\x92^B\\x00H\\x00\\x96\\xe0n\\xac\\xe4C\\n=\\xe5\\xe1\\xe2\\x8d\\xd4LF^[*q\\x03/2\\xb2#+\\x10\\x9c&T%\\x94\\x9a@\\x04\\x02\\xae!Nw\\x91\\xc4\\xefK.\\xe4\\xae0\\xc4\\x93\\x1a\\x86\\x92\\x1a\\xc1\\x17\\xac0\\x84\\xa5qk@\\xe32)n\\x9d!f\\xf6\\xf6\\x83Un\\xa2\\x019\\x84e\\xa0\\x19\\xdf\\xc2=\\xd5*\\x1ag\\xe1\\x9ca\\xe9\\x14Q*\\x15\\xb7*\\xe5\\xad\\x9b\\xaa}\\xf7E\\xf0\\x88\\x9d\\xfb\\x0f\\x11\\x10\\xbc\\x859\\xf1\\x8cG\\xd7d\\xff\\x1b{\\x11S\\xc8\\xb7M\\x0cG\\xf8u\\xfb\\x8b\\xcd\\x9f@\\x80\\x9cRt\\xb02\\xe3\\xcblB\\x1a\\xa0\\xe7\\x82\\x9b+\\xbf\\x17X\\\\h\\x9f\\x12JE6|(\\xa3f\\xb9\\xff\\x01o~\\xff\\xdb\\xd2_\\xfb\\xdf\\xbd4&=\\xa2\\xcde\\x81\\xca\\xa4\\xe1\\xea\\x05P/Am\\xcf&6\\xa4Js\\xa1\\x13\\x0c\\x11\\xd4)F5\\x95\\xe1\\xa9\\x83R\\x07\\xe8)\\xa6\\x08\\xa6\\x9f-\\xbd\\xb2\\xbaC x\\x06\\xb5\\xe4\\x0e\\xab$\\xa5\\xfcWW\\x1d\\xc8\\x9d\\xf3\\xeaFF\\xd2\\xd0lF\\x8d\\xa7\\xc9 d<\\xc6L\\x18%e\\x11\\x04\\xb0d\\xa59\\xa7\\xaf\\x84TJ8\\xa7\\x12\\xe2&\\n\\x9ea\\x8b\\xdb\\x9f\\x91B\\xa7\\x08\\x0ev\\xdeJ<4\\xfa\\x82\\xf3[+}&\\x05\\xa0\\x9a\\xa7{4\\xb8\\xf0\\x85\\xe36\\xd6\\x0b \\xc6\\xb4Z\\xeep]\\xad\\xd5\\xae/\\x9e?M\\xd2\\xc7\\xc9L(\\n\\xc9\\x1b\\x0f{\\xd2\\x03\\xd0\\xb7i\\x07U\\x04q$=@h\\xbe\\xca1\\x06\\x8d\\xd92\\xdb\\xd88\\xa1\\xe8\\\\\\x98\\xc2O\\xa1\\xd0 \\x87\\x17Zh&;\\x9e\\x16f\\x91\\x82\\xebh\\x81b\\xc4\\xf3\\xce<\\xc1\\x08\\x17<\\xd5\\x03\\x8f=\\xc9*\\x8d\\xc0\\xb4\\xbd-\\xec\\x8d\\xd4\\xd1L7E\\xbe\\xbd\\x86\\xc0\\x81\\xc5\\x11\\xae\\x17\\xe0\\xe0oHxAjk+.^>m\\xed\\x08\\x94\\x15\\x91* \\x96\\x15\\xcd\\x05\\xb6\\xd1S\"\\xa7\\x89M\\xc2\\xa6\\xb7\\xc6\\x8cd\\x07\\xd3\\x1d\\r\\x1b\\x16\\xb0\\x12\\x11\\xaaB\\xf6g\\x88\\xfb\\x1c\\x1a\\xf0\\x1fb\\xf3P\\xa8K\\xc9\\xe4o\\xb4\\xacy\\xd5\\x15\\xdf\\xa6\\x92\\xabU\\x12\\xcf!\\xd7B\\xc1GV\\xdb\\xd6\\xa8@\\x7f\\x1d\\xf2\\x89c\\xc5V\\xa1\\xeb\\xb1\\x9a\\xaa?lR_m/\\x07\\x84\\x0cXnY\\x06\\xb1\\xc2S\\x8a\\xc7H\\xaa\\x02\\xab0bD\\xe2,D\\xa9Y>\\xe4\\xc4/\\xac\\xb1\\xac\\xba\\xe0\\xe2\\xcfE\\x9f\\xc3VtP\\x88\\xd8\\x99\\r\\xd7\\xbc\\xf8\\xa2\\xc5\\xbf4(N\\x93hBYN\\xb3\\x1e\\xa8\\xa1\\x94\\xba6\\xb0\\x96Cz\\x02\\x06\\xc8\\x88\\xc6+c\\xa2/.\\xd1\\x92{~T\\xbe\\xc8\\xc1$\\xf0\\xd5\\xc4f\\xabP\\xe3\\xa8[\\x91\\xca\\xe8\\xe2\\xd94\\xd8e\\x88\\xd8\\x12q\\x9e\\x96H\\xafK~\\xf4G\\x05\\xc3\\xac\\xd6(^h\\r`VR\\\\}\\xa2f~\\xc1%\\xdb\\x04\\xb5E\\xb4\\'\\xad\\xcbK\\xfey\\xbc3\\x87\\x9c|\\xb5\\x97\\xaae\\xba\\x08\\x1ctS\\\\\\xde8\\x96\\r\\x96\\xe6\\xdd\"\\xa6\\xc8 nk\\x1c\\xab\\x99\\xc8\\xe2\\x85\\x1cU\\x0b\\xe7<\\xe1\\x1e\\xec1*;\\x08\\x14\\xc0$\\x1d\\x95>\\xf3\\xee\\xa5RZ\\xc8\\xab\\x83\\xae\\xc31dzk\\x99\\x95<\\xa2\\x03\\xd6\\xdb\\xd5\\x11tM\\xcc\\xb7r..\\x11|mt\\xf4\\xfeH+M\\x7fj\\x19\\xa5t/\\x00[\\xfan\\xd9\\x07\\xb5&L\\x82\\x7ftP\\xfe\"\\xdaKP\\xb5\\x06\\xb0\\xab\\xf1\\x19\\xd2E\\x05\\xc7\\xb2\\x9e\\xb1\\t(x\\xd1\\x8c[wK.\\xec\\x00)\\x85:#\\xf33\\tCAT\\xd7\\x08~\\x15\\x10\\x05\\xcd\\x89G:\\xc6\\x93\\x04\\x8c\\xfbv\\x87W\\x9a\\xde\\x92\\xf7\\x87\\x0e\\xfc\\xaf\\r \\xfe\\x01YkCt\\xda*+e\\xce\\x08L\\xab\\x89\\x15\\x82r\\xf1q\\xc6\\x02\\xc2\\r\\xa95\\xdf\\xda<;\\x91U#\\x81\\xcc\\xaa\\xe2U\\xbb\\x01%\\xf6\\xae&u[\\xdb\\xaf\\x97\\xdbK\\xbf\\xa8n<\"\\x10\\xd8\\x8f\\xdee\\x068\\xf8\\xf6\\xcc\\xb2\\x80\\xf8T\\x17\\x90v\\x11\\x87T\\x0c$?\\x8a\\x10\\x7f\\x17=r6\\x94\\xc0 \\xcc^^1\\x03\\xf6\\xee\\xf7p\\xc1W\\xdd\\xbbS(\\x1b\\x81\\xe1\\x14\\x92C\\xb2\\xa1gD\\xe7\\xe1t\\xc3\\xbdu\\xe4A\\xeb\\xce\\x13\\xae\\xf5w\\xe9\\xdcv\\xb4\\xdb\\xc4\\xe7L\\xa3\\x00|\\x81\\xdas\\x06\\xc1A\\x87^\\x95dKt! q\\xaf*\\xb4\\xab\\xe2\\x81k\\x12\\x0c\\t \\x90\\x1e\\x85\\xf9\\xb7\\x88\\x00\\x84\\x01j\\xd0\\'\\x81\\xdan]0jB\\xc67\\xd2\\xfb\\xbb\\x89ls\\xadJv\\x04\\xe9\\x97w`iN\\xb0\\xdcc\\xf1\\tb\\xe3\\x0e**\\xc3\\xad\\xcd\\xd0\\x16\\x06>\\x96\\xde\\xbb\\x17\\x01$\\xdc\\xf8\\xaa\\xab\\xc1\\xa7\\xb5`\\x1f\\xc9c\\xa9\\x94,w8H\\xeb^\\xf0\\xda\\x91!1\\x1c\\xc2\\x0fyi5\\xab\\x04A\\\\\\x8ao\\xc8\\xc91\\x8e\\xd7f\\xec\\x95`-\\xcb\\xa8;\\xb5\\x90\\x880\\x84\\xe7]\\x10\\xc3\\x04nVL0\\'\\xa1\\xed\\xbf1\\x15&^\\xe6\\xc3\\x02\\x97+\\xc4\\x18\\x8a3\\xcd\\xfe\\xb9\\xe4\\xe8\\xf3\\xc9\\xfau=\\xb9\\x07\\xe62\\x9b\\x9d\\xd7e8?\\xae\\xe9\\x17\\xc4\\x9dH\\xc8\\x84/9\\xc1\\x82\\x0cr\\x1d\\x11\\xd8\\xc3_\\x98:W\\x04\\x8dxu\\xd4\\xa9\\x87\\xf3\\xbeS\\xa8\\x13\\xa7\\xb1\\xd8\\x17c\\x15\\x88\\xffp\\xa6\\xb40\\x8f\\xbb\\x08s\\xf2\\x07\\xbb\\xac\\xcd\\xc3i=AMq\\x1a{\\xe4\\x9f\\xefN>\\x89\\xea\\xca\\xdb+a\\x94i\\x99}\\xe0\\xeaf\\xbd\\x86\\x85){Rq{\\xe5U\\x80\\xda\\x11\\xa3\\x95\\xd5g%\\xf4K\\xcf\\x98\\x94rWn&Nxl\\x02\\xeb\\xf8J\\xba.\\xbc\\x8a\\xf3u\\x9c\\t\\xa9\\xecv6$I\\x84\\x98z|_\\xbbcq\\x1f\\x16\\xa4So\\xd0\\xf5\\xc2A\\x0f\\x88\\x90\\x04Q\\xdf\\xaf\\xef\\x8d\\xd5~\\x18\\x03\\xc9_\\xb8\\xc0\\xaf\\x15\\xd1#!\\xb8%\\xa8%a\\x01\\x9a\\xa3Q{~z\\x18\\xe2\\xfb\\xb0\\xff\\xdfz\\x8er\\x88G\\x0f\\x1a\\xa2\\x03t\\xday\\x1c\\xb7i}\\xd9r\\xa0J]:b4dR\\xa92\\xdd\\x9d\\x1d\\x98X\\x88\\x01m\\xff\\xcc?\\nL`\\x11\\xd6.\\x18)\\xaa\\xec\\x8f\\x06\\xd3gs\\x0e\\xb2 \\x10\\xc6\\xad\\xfd\\x9d!\\x93\\xd9\\x01\\xb1q)\\xe6\\xf3u\\xe9\\xa7z\\xbc`\\xb3\\xbe\\x04.`\\x1f\\x98K!U\\xa7HQn$\\xf5\\x11*\\xa7\\xa6\\x1d{\\x85\\xc9\\xf3\\xe1X\\x0fu\\xa0D\\x1c\\xbd@.\\xe67\\x03k\\x8b\\xe1b\\xf1\\x07t\\xec\\xafRqp[\\x8fQt\\xed\\xb8Pa8\\xf4\\xb7\\x8ct\\xf3\\x99\\xcc\\x94\\xb1p\\xf3J\\x86c!R\\xc0\\x023\\x9c\\xca\\xf8&=\\xb5A\\x0e\\xa4\\xfb\\xban\\xf0\\xeeA#\\x04\\xfe\\x0bzeQ\\xea\\x0f\\x7f\\x16\\xfa\\xc2k)FP\\xfax\\x0e\\xa4\\x92\\xe6\\xf4s\\x90\\xd2F\\x8b\\x11\\x88{\\x86\\x00V{\\xce\\x97\\xa4|Y\\xf0\\'\\xfep\\x84\\xc9\\xf9\\xf4\\xf1\\'\\xc3\\x05b\\x99\\xabl@\\xaf\\x00\\xa3\\xaf\\xbd\\r[\\xe3&\\xf1@\\xad\\xe9\\x02W\\x9a?w\\xd7\\xf6\\x9fTAj\\xd7\\x18J\\x92\\xebF\\x03\\x1d\\x84\\x956{\\xa5\\xc4p\\xb9\\xfd{\\x15\\x0b\\xeeG\\t\\xe4WZI\\xea]\\xf2\\x0f\\xf8q\\t\\xffU\\xe2\\x11o\\xd7\\x04\\ny\\xae\\x94\\x07.\\xe4\\x1a\\xf7\"Q;\\xb9\\xed\\xf5s~\\x98\\x8d\\xcfz\\x13\\x08\\xd1\\xb8n\\x06K~W\\x0eC\\xc5\\xbf\\xfa\\xc3\\x17-I\\x85\\x15\\xdd\\xdf\\xd2\\xe4\\xd8W@\\xd2\\x9a\\x17\\x87\\xad&R\\xd3v\\xba\\x04\\xf0n\\xd1\\xf0\\n\\x90\\xcf\\xbf\\xff\\x1cZF\\xb6\\xcb\\xf7\\xceu*\\x84\\x98e\\xd8\\xc2\\xddG\\n\\xe3\\xda3\\x05\\xb0\\x0e\\xa4\\x98Fh\\xd5\\x00;\\xd9\\xe48\\x06\\x8e\\x93?V\\xae\\x181\\x84\\xa8\\xc5\\x08\\xc7u\\xb7H\\xab\\x807\\xd0\\xc9\\x9e\\x8d\\xd8X\\x9d\\x94\\xc3\\x10\\x18\\xc8\\x84\\xa7\\xa2\"\\xc8QBZ{\\xe4P\\xf5\\x8e8)G!\\x0e\\xb7\\xb5\\xdd\\xe0\\xa1y\\xd2~\\xdf\\x11\\x0e8K\\xf3\\xce|\\x81q;\\'r\\\\\\x1eQ\\xa1.\\xb3\\xdb\\x17\\xd9\\x8f\\x9f\\xc7\\x93\\xfd\\x03\\x07h\\xf4g\\x12\\xba\\x1e+\\xdd\\xa7\\xc1\\x0cL\\x10,\\xc9c\\xc1\\xc5\\xa3T\\xaf\\xb9\\xbc\\xf3}\\xdd\\x82\\xef\\x19\\xcf\\xa2c_F\\xb3\\x12\\x98:\\x19a\\x83\\xff4q\\x80\\xc4{\\x9c\\xb7{\\xfd}y0g\\xcc\\xd5>\\xa4\\xde{\\x84;\\x95\"5z\\xab\\x9a7\\x84_\\xb7:\\xdfC\\x9c-\\xfd\\xa5n\\xf1\\x9b\\x17\\x8b\\xc33\\xeb\\xae\\x16I\\x9akOU\\xf6\\x8f\\x1c\\xf7\\xe4\\x89\\xc1\\x8a\\x06\\x9b\\xb1A*\\xa8\\xa2\\x100\\n\\xe3\\x97\\xd4\\xbd\\xe5\\xe9\\xc8\\x85\\xcd\\x16\\xfc\\x922\\x93\\xc3x1\\xf9\\xa1\\xd3u\\xde\\xb6WdE\\xe0\\x93\\xb9jTz\\x0f\\r\\x80\\xc0\\x84\\xba\\x86\\x06f\\x9fK\\xd7El\\x1eG\\n\\xed\\x83\\x1eO\\xa4\\xd4\\xb4\\x85\\xbd\\x19\\xe0\\xe3b\\x18\\xaf\\x92\\xf0d\\xaa*\\x91\\xc9Op\\x15g\\x1c\\xa3\\xe0\\x18\\xc7\\x9dx\\xfa\\x00\"\\r\\x1f\\x93\\xb4\\xd9\\x11\\x9b\\x04(\\x96\\xeaI\\x89\\x12e\\xdb\\x07\\x95.\\x07\\xa1\\xdd.^\\xc6\\xe1\\xc9\\xc6\\xe6\\xe6\\xde\\x0es\\xcf\\x0e\\xe6N\\x90\\xeaW\\xbcw*\\xa90\\x05\\xc7\\xcaY\\x8eaI\\xe1\\x84\\xe4\\x7feL\\xcf\\xa9\\x93\\xef\\x9e\\xdf\\xfb\\x84\\xc1\\x12\\xee\\xf9\\xac\\xc5\\xaa\\x0faGDI\\xfe\\x894-(\\x13v\\x7f\\x99\\xf7\\xb1M\\xba\\xda\\xe2\\xe3\\r\\xdb\\x05\\xb5\\xad\\xbaIO\\xe8\\xf7\\x9dg\\xb1\\x19k\\x8b\\x0f\\xf8dZ\\x9f\\xc0o\\xb4\\xaf\\x80B63\\x04\\xc0[\\x92N.\\xc8K\\xdc\\x17%\\x1b1\\x87a\\xf4\"(\\x06\\x8c\\xbb\\x1c\\xb5E\\x8d\\x19\\x0c;\\xc0R><I\\x8e\\x91\\xbb\\xa6\\x94\\xf2r\\x0b2C\\xb94k|\\xfa\\x07\\xfb0\\xfa\\xf7\\xcfE\\x02j`\\x9d\\xef4\\xbe\\xad\\x91\\x0c=\\x9c\\x07\\xb6\\xfeq\\xe8\\xb5\\x0e\\x82\\x82*\\xb5\\xb2\\xc3\\xb1A\\xf3S\\x1f\\xf0\\xc4\\xb8\\x9f\\xd4\\x17)?\\xc7\\xf7\\x1f\\xf9\\x13\\xe0\\x9b\\xd4\\x97\\xb6*\\x19\\xd4aeq\\x81\"\\xb8\\x8e\\xc4\\x93\\x05\\x0b\\xdc|\\x01\\x07\\x9c\\xc9kd\\xfb\\xa5\\x16!l\\xe1\\xf9\\xb0q\\x88p\\xdeA\\xb6\\x12\\xdfx\\xc9!\\x03\\xd7\\xe4Q\\xd1\\xbe;\\x10\\x8a\\x0b-\\x10F\\xc8\\xe8\\xc4K\\xb5\\xcb;\\xcd\\x9c\\xa9\\xebM\\xe9\\x83\\xc5\\x8e\\x05\\xa3HfU~\\xa4\\x94)\\x84\\x85\\x12\\xf2\\xc2Q\\xe2R\\xc7\\xe4v\\xc3\\x9a1T\\x94\\xee;\\x97f\\x19\\xf7\\x16(\\x8b\\\\\\xd3\\xad\\xe6\\x12\\xfe\\xb1\\x98\\xc23:\\'\\xd4\\xe5\\tb\\x1d\\xa0*jj8\\t\\x06\\x06\\xef\\xea\\x8d4\\x7fO\\x1f\\xe6\\xbbFQ\\xbaO\\xe5#\\xc8f\\x13\\xaf\\xc5\\x8d (>W\\x9c\\xa7L\\x1e<\\xb8\\x8e\\xd8\\x87B\\xb8\\x8dj\\xabLBc\\xf3Ng\\x94\\xb1\\xb5\\x19I\\xd8\\xb0f\\xd4\\xb9D\\xa0\\xf5\\\\\\nD\\x08&\\xca\\xf6\\xb3l\\xd1\\xac!\\xed\\x0cr(s\\x13\\x88vH\\xa0j\\xd1\\']\\x95\\x16q\\xde\\x7f\\xc7F\\x06\\x80\\'d\\xe039\\x02\\x03\\x0b\\xcb\\x05\\x04\\xa2\\x0b \\x0f\\xc8\\x85N\\x80\\x03\\x00\\x1dChatBotSpanish/botprofile.yml\\n\\x03\\x02_V\\x1cV\\xb3\\n\\xd9\\x01\\xceQ\\xc7\\x02FeC33\\xf4P5\\xbd\\xf8P\\x97\\xb8\\xa8rU%\\x13$rQ(s\\x1c\\x91\\xca%\\x81\\x12\\x11Ea \\x16A\\nG\\xe3\\x8a\\xc7C\\xa2c\\xad\\xd33\\x19\\xf3&\\x93_\\xe8=\\r\\'\\x1eL\\x93\\xc4\\x12$\\x83\\xa3w\\x9d\\x00h>@7\\xa3\\x9b\\xa3z\\xfe\\xe6\\xe6\\xe6\\xed|\\xf1)\\x17c&us\\xb1\\xfe\\xae\\x0f:\\xaa\\xad\\xd9\\xa7\\xa1\\x9c\\x129\\xbaY[\\xd7d\\xe6\\x0b\\xb2\\x0f\\xdcp^\\xc3\\xd4\\xf2\\x02\\xac\\x81\\xe6v\\x94\\xf5\\x9e\\xe7\\xee\\x05)3y\\x19\\x8c\\x15\\xa6{\\xa5q\\xdaz\\xbb\\xa5#\\x01$\\'\\xe4Wn\\xaeR+)=\\x15\\x9dyh]we \\x9f<\\x03\\x9d\\xa8\\xca\\xf9\\xb0&\\xb7V\\xf19U<\\xcd\\x10\\xf0\\xac\\xc0\\xac\\xcb\\xd2\\x8a\\x8b\\x17\\x89\\xa4\\xe4*Q{\\xb1\\xbd\\x96\\x88y(\\x87C\\n\\xd1\\x95\\x96\\xde\\xb1\\x0c8\\xb8R\\x1ec6\\x90b>\\xaa\\xe8\\x8b\\x9aDTR\\x1c\\x8bK\\x94\\xa1\\x93f\\x11z\\x0c\\x17\\x94\\xd1\\x93\\xff\\x1ej\\x81N*)\\xaa\\x81\\x10\\xad#h\\x16\\x95r\\xeb\\xc34O=\\x0b\\x80\\x01\\x0c\\xa6\\x118\\x93\\xd97\\x1c\\xcaA\\xb0~\\x1a[\\xd9N\\xc3\\xaf\\x10\\xd3N\\x11\\x16wl\\xe8\\x93\\x0f\\xed\\x85\\xd9\\x7f\\xde\\x93\\xb7W\\x17\\xa0j\\x0b\\x80\\xd4$\\xf3w\\xfe3\\x17\\x07\\xb0\\xd1\\xec(\\xbe\\r\\x92\\x08\\xfaH\\xfc\\xe7\\x94N\\xe0iL$\\xcew\\x91\\x18V\\xfe\\x8f(\\x07\\x812\\xbd<W\\xad\\xbei9Q\\xd4\\xa83#\\x93&\\xf0\\xce2\\xc9B\\tZn\\xf1\\xb1j\\xfa{y8Q\\xe2[z\\xa6C\"g(\\xc9A3\\x05\\xe0\\x9d\\xbf\\xbeRB\\x1b\\xdb\\xd3\\x17^\\xf0g\\xb2\\xf0\\xdf\\xab\\x8a\\xa4|\\x1bK5k\\xa7h\\xd4\\xfb\\xdd\\x9a\\xcf\\xc0\\x08\\xc0X[\\xd1U\\xc9\\x9c\\xe7\\xb4\\xb1\\x85\\xfc\\xeat\\x02\\xe1\\x87\\'w[qu\\xa5\\xc9\\x1b\\x1f\\xa8\\x9d\\x1c\\xef\\xff\\t\\xe7\\xf7\\x84\\x13<T/&\\xf7\\xb1\\x1a\\ttI&\\xfb\\xee+R\\x04\\xae\\x8ch\\xd9Q\\x7f\\xa55\\t\\xd6,7\\xef1=q\\xb2\\xc9\\xbb\\xcb\\xfc\\x9aUL:5\\x93\\xb1\\xb0\\xba\\x16G\\xc0\\x9b\\x02A\\x1f\\x14\\x1f\\xe3J\\xfcR\\xdd\\x1a\\xcb/\\x98\\xe6/\\r\\x183\\x90\\x82\\rv\\x13_,-\\x13\\x18\\xd9\\x04Bn\\r\\xcd\\xe55\\xc8W\\x9b\\x8b[\\xcb\\x01\\xf7\\xd6\\xa8dWoP\\x95\\x1c\\x8c\\xc7\\x1e\\xd9$\\xe9\\xb7\\xa7/KnVWX`\\x1a\\xa6\"\\xcd\\xd1\\xf5L\\xe7\\xf2\\t\\xbb\\xc8\\x1a9\\xa3\\xc5\\xa2\\x16\\xe0\\xc6\\x16\\x81\\x0b\\xaf\\xd7\\xba\\x8a\\x82\\xb2\\xf3\\xf7\\xd8\\x87\\x9e\\x11\\x96\\xf0\\x91oN\\xce\\xa7]\\xbc\\x02\\xf4331\\xe4\\xdc\\xd08\\xfeG\\xfd\\xaf>6$\\x9d\"\\xf2(\\xa2\\xe9\\xcbk-\\x0e\\x16\\x1a\\xc10\\xf8s\\xab\\x00\\t\\xcb\\xcd\\x9b\\xccX{L^\\xaf5\\xebC\\xb4\\xed\\x85\\x86.?\\x03#\\xb3m3\\xeb\\xc3Q|\\xb0/u\\xfc\\xf1}g\\r\\xdb\\x0e^\\xd8\\x8f\\xd1B\\x1e\\xa6\\x8f\\x11\\xcf\\x91H\\x9c\\xd5w\\xc6*\\'\\x98\\xe4\\xc3#\\xacA\\x17`4\\xed\\x96,\\xda8\\x02\\x03\\x0b\\x8d\\x0e\\x04\\xcc! \\x85U\\xf8(\\x80\\x03\\x00\\x1cChatBotSpanish/computers.yml\\n\\x03\\x027\\\\\\x1c**\\x0b\\xd9\\x01\\xcb\\x9f\\t\\x077u4D3?5d]\\xef\\xc2\\xad\\xeazT@@ \\x80I\\xa5\\x85\\x13PF\\xc2i\\xb8\\x13bI\\xb2\\xf2\\xee\\xf32\\xd0\\xbe\\x8cw\\xd0\\x9bK\\xc6\\xd6\\xc5\\xa1\\xe8\\x81k\\x9aX\\x0f<\\xc9\\xb4\\x97\\xfe\\x1a\\xaa\\xbc\\xbc\\xe8Jx\\x8bi,\\xbc\\xaa4O\\t<&\\x8d\\xf8\\xe9\\xf8\\'\\xe2\\x08\\xe1\\'Y\\xf1\\x19#\\xbal\\xd5\\xd9<\\xd6\\xfe\\xbeO\\xc2)+\\xa7E\\xf7Me\\xbeC\\xc6\\xaeu\\xf2n\\xcex;h\\xff\\xfd~\\x9f\\xcd\\xf3D$E}Q\\xc1&9NT~\\x7f$Q-\\xef~\\xc6\\xab\\xd2\"\\x96{tWl\\xe2\\x9b\\x9e\\xb3F\\x89\\xa4\\xba\\xcd=\\x95N#\\xc5\\xf0J\\xbb\\x84\\xee\\xe4\\xf5e\\xed\\x1f2N\\xb6\\x04#\\xf1\\xdfU\\xc7\\xccq#\\xa2.\\x88\\xac\\x98\\xf8\\x9f\\xa675m\\x99\\nM\\xb3\\xf2\\xbd\\x07\\x8a\\xe1\\x01\\xb4\\xc5\\xc9\\x18&\\x94\\xfdnX\\xab\\xb4`_$64\\x1c\\xa1)9\\xb4\\xcf\\xdcd\\r\\x11\\xa0\\xb6a\\x1b\\xbe\\xac\\x88Zf\\xd3\\xff\\x1c\\x11\\n\\xdb\\xe8a\\x8e\\xfb\\xdc^7\\x86M[\\xb4\\xf5\\'\\x00\\\\\\xd4m?\\x91\\x9e<\\x94.9\\x06\\x05~j\\xf7\\x10\\x1f\\x7f\\xef\\x9e#\\xe9$b\\xab\\xa5\\x87\\xf0u\\x12\\xb8cQ \\x01\\x13@\\x84T\\xde=\\xa6\\xb0\\xac\\x8b\\x9c\\xe2V8`\\xcaT\\xff&{\\x99\\t\\xcc4\\xadhI\\x82?\\x80\\xd0a\\xf0\\xf6\\x02%\\xc3#\\xfa\\xe7s}\\xd7V\\xcdJ\\x87\\xc2\\x91\\xfbs*\\xb0%^\\xefo\\x7f\\t\\xd5\\xa7\\xaf\\x07\\x8e\\xdb\\xc8\\xdb\\xb7<8\\xc8\\xa5\\xdb\\xdb\\\\\\xd9>\\xa4s\\xab\\x13\\xbe\\x80Y\\x8d\\xba\\xb0_\\xb3+\\xff\\xdf,oU\\xaav\\xd5Z\\x985m\\x81\\xed\\xc2\\x00n\\x04{\\x89>\\xe0\\xfb\\x13\\x84J\\xb9\\xc0\\xe4\\xe8\\x041,L\\x04\\x98\\x83\\x14\\xc7\\x9a\\xa9\\xee\\xbeU\\xe1\\xd0\\'\\xeb\\x84\\x94\\xb8\\x7f\\x9b)(\\xda~W0\\x1a\\x0b\\xa1XH:\\xdeX\\xa8d+\\xd2\\xeby\\xbc\\rZ\\x1e\\x00\\xa5\\xe5q\\xc5>\\xac\\x0b\\xc7\\xf8\\x9c3E\\x93F\\xb3\\xa1\\x96y\\xc5(\\xb4\\xf2\\xe1$\\'\\xd3\\xd6\\x8f\\x08\\x16\\xa8\\xe7vm\\x80\\xdf%8\\x9a\\x9dt\\x03\\x81\\xa1\\x1d9\\'\\xcd}b\\xc1>H\\xc3\\x89\\xdd\\xe5\\xca\\xf9\\xe5F\\' \\xfe\\xa0#\\x19N\\x10\\x13e\\x04\\x01\\xfd\\x86\\xf6H\\xf30y\\x11\\x91\\xc9\\x958\\x92\\xbb\\x90?r\\xd8\\xa4F\\xdbR\\x03\\xbeT\\xffV!\\x0b\\xa1\\xc3\\x15CJ\\x94\\xc6\\'\\xd3=\\xbe\\xaa\\xf3\\x91\\xa88\\\\\\x93\\x1a\\xdd\\xef\\x14\\x7f\\x15\\xce\\x865\\xc3f\\xa1\\xc2\\x98\\xfa\\x108\\\\\\xd8\\xca\\x9c|\\x84\\xc44A\\xf1J\\xf7\\x93-\\x05\\xbd\\xa3\\x99P\\x9bq\\xc3\\xed\\x13e\\xf1\\xa1\\x94\\xda\\xf6\\x0f\\xe84\\xc9\\xe3,bC\\xdbB\\x98Q\\x96r\\x1a\\xd4\\xcfjk\\xc9\\x19\\xa4\\xc6\\x80\\x1f\\x9fQc\\x1b\\xa1\\xba03\\xe5<D\\x91JID\\rh\\x94,\\x0e_\\xc8TB\\x8b\\xb8o\\x0e\\xa4Y\\\\\\xd6\\x08T\\xe1\\xeb\\xd6/z\\xa4\\xeaVi\\xf9\\x8a\\xaa\\x19\\x90~\\x1e\\x16>O\\xae?\\x17\\'\\xa7\\x83\\x85\\x9a\\x18G\\xef\\x05[\\x17\\x99R\\xff\\x9b~/\\xdf\\xbe\\x84{G PQCJ\\xc7?\\xde\\xfa\\xa7W\\xbcc^\\xa0\\xf1\\xaay\\xd1\\xcf\\x1fi\\x8f\\xcf\\xe3\\xfa~_\\x9e\\xdc\\xb8p-\\xf0\\xe3v\\xd3m5f\\x18\\xdc\\xf3\\x10\\x0f\\xd5\\x1c\\x82p\\xda\\x18\\\\u\\x88\\xdb\\xce\\xb9\\xb5\\x8dgK\\x8d\\xd2\\x7f\\x94\"\\x1czC\\xcd3\\xb7\\x0b\\xa6d7\\x823\\xcd5\\xca\\xf1\\xa2a~\\xadW\\x98\\x1d\\x03\\xa0@<\\xb9\\nR\\x9aWX\\xd2\\xd1\\xb99\\xcd\\x84\"\\x1e\\xee+J]\\xa1\\xadq\\xce\\x0b\\x00XCS\\x9f\\xb1\\xd3(8\\x91\\xe7b\\xc9\\xb1\\x80\\xb6\\xed\\xb0Oi\\n\\xb4?\\x06\\xa9\\xd2\\x00\\n\\xc3\\xacr\\x8a,\\x90,\\x02\\x86rr\\xe6j\\x05c\\x05N\\x81N\\xc7q\\x8a\\xe6QD\\xf2\\xb0F5f\\xb3\\xf5\\xa3\\x8aq\\x01\\xdcm8 \\xbc\\x19\\x13>\\xec\\xde\\x17FZ\\x9aJl\\xb3\\rs&MM?\\xeb\\xdbp\\x83\\xbbGI\\xf7i\\xc5uV\\x89\\xb4n\\x98\\xfcH\\xdc\\x1f^\\x95u\\x96\\xac\\xddd=\\xe7\\xf2\\x18\\x83\\x91\\x8e\\xddOl\\xd8\\xf9\\xa5\\x03\\xe4\\xb3t\\xe4\\xf7y\\x07\\x8d\\'!\\xab;z\\xdd\\x8a\\xba\\xa1\\x1d\\x80\\x82!\\xd48\\x89\\\\\\x9d\\xf6\\xc02\\xa7\\xfd^\\xd5\\x14\\xb9\\xe7\\xd0\\xdeA\\xd29\\x93\\xb1\\x0c\\xb9\\xd6\\xe7G\\xf2\\xfc\\xc1@[\\xb8\\x99j\\x9c\\xad\\x90\\x1b\\xaa\\xf5\\xa5%\\xa1u\\xae&\\xdd\\xa0G\\x1c\\x91\\xb9:\\x11\\xfa\\x95\\xdf\\xb2\\xbb\\xf4\\xbb\\x92b4\\xed\\x16\\x14\\xc6\\xee\\x91Qm\\xf3\\xe1\\x06\\xad\\xaf-\\xdf\\x11\\xb6\\xe3\\xd4\\xd5\\x86\\x0e\\x86\\xc2a\\xa2\\x1a\\xd4^]\\x9aW \\xf4.\\xdf\\xb1<{R%\\xd1*ni\\x80\\x92\\xba;wW\\xa9}\\x8b\\xb1\\x1d\\xc08\\xf1\\x8b\\xd9\\xca\\xf8\\xe1\\xfd\\x08\"\\xb3\\xe2]\\x03\\xd6<f\\xa1\\xf1\\xc6}\\xef\\xf9v\\xbd\\xfc\\x9e\\x9f\\xef|\\xff(\\xd4\\xa0=\\x08\\x98\\x8b\\xc2\\xac\\xe7)\\x05\\x81|\\xbe\\xc8(8\\x0ex\\xd8\\x9eQ\\x0e)\\xfb\\x9d\\xb7\\x06}\\xb8\\x9a\\x0f-\\xb8\\xa9\\xfc\\x8c\\x9a{9\\xe7:P\\x85\\x98\\xf0\\x1c\\xf8\\xd4\\x85\\x90\\x8e\\xf3\\xc9\\x1d\\xbb\\xa2\\xb4\\xdd\\x0b\\x11\\x04r\\nM:\\xd8P\\xbd\\xf7\\xa4\\xdeu\\x8bZ\\x99\\xd7\\x87F4d#.\\xd7\\xd6\\x7f$\\xaffe\\x1c\\xceo\\xb4!\\t\\r\\n[\\x1e\\'\\xcc\\xbf\\xafW\\xa2c\\x95S^y\\x0c\\xd7\\x00\"\\x7f\\x0b\\xdae\\x1d\\xdcu\\xf8\\xb9\\n\\xf9^\\xa2\\xf6\\x8fi\\xd1\\x8c\\xeduz\\x84\\x8c\\xed\\xe7\\x15\\xc7\\x18\\x97\\x81\\xabu\\x83a\\x07\\x86s\\xe4\\xc0\\xff\\x0e\\x89\\x87\\xcb\\xa5<\\x15\\x10\\x17\\xb6Qa2\\xb9\\xcdtK\\xd5\\xb5\\xac\\xdfb\\xef\\xb4@\\xcd\\xfc\\x8b&\\x0b@\\xfd\\x12\\xa0\\xd5\\xa9\\xaf^Ni\\x9aN:\\x04rWND\\xc93\\x02Q\\xa9\\xcdkZ\\x81\\x9d\\x9cX\\xcd\\x12\\xe4\\x8e\\x01\\xef\\xa7\\xb9\\x95\\x99L\"\\xc8o\\x1e\\xa3\\x89\\xa8\\xc9wN\\r\\x04\\xda\\x8b,f\\x0b2cG\\xe8\\xfb\\xee\\xb9\\xd6\\x0e9P\\x83\\xbd@\\xe2\\xfa\\xd5\\xe1\\xed\\x11\\x12M\\x15\\xeaP\\xee\\x0b`\\x95\\xfc{v\\x111\\xe0\\x82\\xee\\x87\\xdcs{\\xed\\xce\\xfa\\xd0\\xa9\\xcfu\\xaf\\xa8\\x97\\xe3\\xf1#\\xa4+z&]\\xad\\x97\\xc3b\\xceN64;Y9\\xf7\\xce\\x1b\\xc5\\xe8E&~J\\xd0\\xf2%\\x1eH\\xf9\\x9cC\\xe1\\x97\\x94,\\x9c|\\xd9\\xa7\\xabA\\xd1\\x0b\\\\U\\xf9\\xec\\xb6\\xd6,\\xbb\\xf7\\xf7k\\xca\\x8d\\xe9\\xbe\\xcb\\x87\\xae\\xbe\\x86w\\xaep\\x9d\\x86\\xa1\\x9an\\xf3\\x7f54H\\xc2\\x87\\xda~m]i\\x1a\\xe4X\\xc3\\xdd|\\x99\\xdfn\\xa3\\xa0\\xf8(\\xa8\\x87\\xa7\\xc9\\x17$\\x12\\x17v\\xac\\xc6T\\xbd\\x84\\x8a\\xc4G\\xd9\\x9c\\xf5\\x03e\\xc9\\x0fS\\xed\\xcc2i\"\\xfc\\xc5\\x1e\\xfe\\x1b%\\xef:]\\xdf\\xd9Q\\x18\\xb2\\x98C6\\xc7\\xa8hO\\x99\\xb9\\xba\\x97<\\x07\\xa2\\xca\\xef\\xf9\\xd0H\\xaePd\\xae~\\xd14\\xd5\\xf5\\xf1{\\x9c)%\\xb4\\x13\\xfd\\x01\\xb3\\xa9\\xb0\\xafd\\x17\\xfaL(\"\\xba/\\x7f\\xb0\\x03\\x11\\xd4\\xfd:\\xe0\\xae\\xc4\\xef\\x93\\x83\\x97\\x83\\x0cut\\xf6S\\\\-I\\x1e\\xcd\\xa5\\xfc\\x1fPf{T\\x842\\x8f0\\xe7\\xdf.\\x00E\\xa7\\x9fm\\x9fj)p\\x80y\\xd6c\\xf8XWmhb\\x04\\x83\\xea\\xf6\\x90\\x95\\x05 ,\\xedB\\xa3\\xde\\x1e)L\\xa7.n\\x92\\x1f\\x80\\x83\\xbd\\xd3\\xd6\\xde\\xe3\\xd6\\x07\\x1f\\xb9\\xe8\\xd5&\\xd3\\xab\\xc7\\x15\\xe1X\\x7f\\xack\\x93r\\xd4\\xe0\\xb6`\\xbe\\x10\\x8e\\r\\x97v\\xb4\\xe6\\x98\\xaa\\xaa\\xe8e\\x0b\\xb1\\x85\\x05y\\x0c\\xdf&l\\xd36}\\xe0\\xfe\\xbd\\\\\\x06\\xa1\\xde\\x94x`)^\\xf3\\xbf\\xa8\\x04\\x93%\\xbeI\\xa2uN\\xeb\\x0f<\\xbe@d6\\xe8f8\\x02\\x03\\x0b\\x8e\\x9e\\x00\\x04\\x9a\\xd8\\x00 ~\\xfb\\xa5\\x8e\\x80\\x03\\x00\\x1aChatBotSpanish/emotion.yml\\n\\x03\\x02\\x16P\\x94\\\\*\\x0b\\xd9\\x01\\xc8\\x97\\n\\x0f7\\x06C4CD\\xf2WD\\xde\\xf8T\\xe3\\xdc\\xdc\\xf0\\x0c\\xd3!\\xdd:\\xc1v\\x03n\\xdb\\xb6\\xde\\x00\\xf3Y\\xa4\\x94\\xcc\\xa6\\x14\\xa56\\x94\\xaa\\xca\\xaa\\xe3oe\\xe8z,f\\xbb\\x18\\x05\\x81s\\xcc\\xae\\xbc>\\xfa<\\n)L\\xcd\\xb6\\xf3Vp\\x8c\\xcb\\x0e\\xa5#\\x06<Ly\\x95\\xc6\\xa3\\xf8O\\xdf\\x13\\x04\\x98 \\x10\\x0f\\x11\\x9a\\x1b\\xa8\\xd5e\\xb4\\xd1w\\xf7\\xf1ysQ\\xb2\\xcd\\xd4\\xd9_\\x8ak+\\xe9\\xa2\\xdb\\xa0\\x9e\\x0b\\xa0?\\xff\\xba\\xf1\\xabh\\x05\\xcd\\x0bm\\xb3T+\\x1b_\\x16l\\xc7\\xdd\\xe8\\x84}3R?U\\xd9\\x98\\x81_X\\xfc\\xcfFm\\x94\\xf7\\x88\\xc2o\\xe4{3\\xb0w\\xa8\\x00\\r\\xcd`\\xa1&\\x86`4\\x85C\\xf9\\xe4\\x02k\\xb7\\xfc\\xf3~w\\x8d\\xbf\\xf1\\xfb\\xcd\\xbf\\xfe\\x7f9\\xb6\\x8f\\xdc\\xe3\\xfd\\xb8\\x15d)\\xe8a/\\xb6\\xce\\xbc\\xc4\\xe2\\x02\\x0b\\xac\\xcf\\x9b\\xef\\x87[\\x14i\\xd2N\\x041\\xa4%\\x8dq\\xa7\\xae\\xfd\\x83u`\\x1f\\x8d-\\xc7d\\x84\\x9c\\x84\\r\\xa0z\\x12a\\xb5?\\xc4=\\x10S\\xdd\\x90\\x03[n\\xa0ID2\\xacIF\\x84R\\\\\\xf7n\\x07\\xa6m#\\xd3\\xa54B\\x16?\\x00]\\x95&\\xeef\\xd5h\\xf7\\x81\\x90\\xfd\\xc8j\\x83\\x0c\\x19=yv\\xfe\\x00u\\xd5\\x1d \\xb9\\xf6\\xf7\\x82 \\x04D\\xdf\\x05}\\xd7\\x82.\\xdb|\\x00XI\\xffh\\x8eQ\\xd5\\xb7\\xbe\\x14k\\x96\\x8b\\xf4\\x03{PE\\'\\x84\\xc3\\x83\\xb4e8\\xa0\\x13Kg\\xc4o!I8\\x9c*\\x9d@\\xa7H\\x00s;\\xd1\\xdb\\t\\xdd\\xb8\\x84W\\x12\\xdd\\x80\\x1e\\xdd\\xdf\\xc8BAv\\x8a\\x8e\\xe8\\x07\\x1fa\\xdc\\x11= \\xeb\\x06\\xb0\\xd6\\xe8\\xaa\\x84\\xe7\\x126\\xce\\x8bG\\xd4\\x0ei\\xa0\\x85\\xcd\\xff \\x99n\\xb6\\x9b\\x9d\\x99\\x82*\\xab\\xb1\\xbdns\\xf9\\xb5\\x81\\xd4\\x0b3\\x14\\x1a\\xb5,\\xb9\\x9b\\xf0O0\\xc2\\x16\\x82\\x10\\xd7\\xf1\\xd6\\x83O\\x1eq\\xf8\\xf3T\\x16\\x11\\x12t\\xd0\\x15N\\x7f\\x1fus\\xaaR\\xc3p\\xba\\xdbO\\x06f\\x1c\\x80\\r\\xdd;\\xbf\\xdc\\x01\\xdf#Q\\x04\\xa5\\x1a\\xd8\"\\x10\\x9eD\\xbe\\xe2\\x9f\\x82\\x96\\xca\\x1cX\\n\\x1e\\xd0\\x93\\x05\\xe7\\xd07Z\\x89\\xb8\\xc0p\\x1c\\x1d\\\\\\xe5\\xb4\\x9d\\xc0`\\x9b\\x14\\xe0\\x9b\\xa9*kO\\x80\"\\x8a\\xa3}\\xe4K?t\\x1a\\xd4\\r\\x0b\\xa2\\xcbC`\\x0b#f\\x1c7\\xc8\\xdc\\x83f\\xe41\\x15\\x9c;\\xb3\\xb18*F*\\xae\\xc5\\\\l\\xb2\\xca1\\xa0\\xff<\\xe5~\\xef\\xfd\\x1b\\x9b\\x18\\x88\\xcbk\\x9f\"@y\\xde`}\\xc3\\xb0\\xf1\\xfb$\\xec\\x1eQpwY\\xf6\\xc8\\xe2\\x90\\x9c\\xbfF\\x89y\\xe5 \\xc2\\x1c\\xc4\\x15\\xc3\\r\\xf8W\\xb8x\\xee\\xb3\\xc2\\xadA\\x1e\\xc2\\xc3x\\x01\\xa0\\x85\\x8b\\xd8\\r\\xbd\\x88\\x89\\xeb\\xa0\\xff\\xd3k\\xb1u\\xeb\\xb1YO7@S\\x1a\"\\x0f\\xe9@!\\xa0\\x00)\\xe9\\x07`\\x16\\xd9\\xe1\\xc5u\\xbd\\x19\\x1bg>\\x03\\xa0\\\\&,*c\\xe3\\xdaQ\\x11\\x00J*\\xa7\\xb21\\x11O\\x19\\x9d]\\xb48\\x93\\x8cq\\xbc0U\\xc1\\x16\\x1f\\xa2\\x82\\xb9\\xf7\\xf8\\x10\"ID\\xa5\\xfd?\\xe4\\x96\\x86\\xd7\\xaf7K\\xab_k\\xbc0i\\x80c\\xa8\\xcc\\xa9\\xa6j.O\\x06\\xb4\\x01d\\xe0\\xc4\\xe0\\x96=\\xb3\\xe2p\\x88V\\xde\\xd6\\tG\\xb8\\x88\\xec\\x8d\\x93\\x81s\\xe6\\xf7\\x04<9Ob\\x18\\x9bB\\x18\\xbc&\\xadg\\xe7\\xa3\\xa2\\x82\\xee\\xc14!az\\x08=@I+U\\x95\\xf6\\x05\\xc5\\x15B\\x9e\\xad\\xff\\xf6\\x83\\xec*\\x7f\\x91\\t\\xcd\\xff\\xb5r<LL|\\xe4\\xe9\\xb1\\x96\\xc0\\x07\\x9e\\r\\x05#\\xcc\\xf8\\x12m\\xb9\\xd6\\x97\\xf1\\xfb\\xfa\\xec\\xb5\\x1b\\x9a<\\xbcda\\x04\\x80Vka\\xd8\\x9c\\x10@\\xaa\\x82\\x88\\xa7s\\xfeI4\\xd3^V\\xfa\\x90\\xfdh[*\\xf3&\\x83\\x00`Z\\xc5\\xecq\\x88WE\\\\\\xa0x\\xde\\xb4\\x18\\x81km#\\xd7\\x0c\\\\\\x93\\xd1\\x00\\xaf\\x0f/\\x1fH\\x82u!\\xa8a\"\\x8d\\xc0\\xd2\\x84\\xdb\\xaf\\x0b\\x91\\xf9\\\\\\r\\xe7\\xa4\\xbb\\x18\\x83\\xe0T\\x07\\x80\\x8f!\\x80\\xd0%2\\x1a\\xa7aJ\\xb7E\\x1c\\xf6\\x14\\xbcm\\xee%\\xd0 B\\xe4\\xc0\\xe4\\x0e\\xa0?6n\\xb6V\\x83\\xc1w\\x05j9\\xae\\xfe\\xb9\\x1d\\xf8\\x98+\\xb8\\xca\\xa2\\x039\\x01\\x00\\'\\x14\\xe6\\x11Q\\xc0\\xd2>COG\\x15\\x05\\xa4\\xe8[\\x82\\x15X\\x8e\\xa2KJ\\xd2W3\\x0e\\x84\\xcb\\x04\\xd2n\\x08:\\x14\\xce\\xc2\\x1f3\\xc3\\x9c\\x85f\\xdf\\xfaU\\xe4X\\xcd\\\\y(\\xa7Ft\\xe8\\xc3ps1}9\\xf3\\x16\\x0f\\x0c^V\\xe1\\x96\\xb5\\xe0[\\xa4F\\xd6\\n\\xcf\\x87z9\\xb8\\x00\\x82\\x902\\xf0\\x85G:\\xca@\\x0c\\xf5_m\\x8a\\xdb\\x11\\x89EM\\x06y\\xdaY@\\xeb\\x96Fi\\x13\\xcauWH!\\xcd\\x07\\x84Zs\\xde%B\\xc7!\\x91\\xaa\\xd1\\x7f\\xe5f\\xa8f;w8\\xf6\\xef\\xf9\\xe7\\xe3\\xac\\xc4f\\x95\\x1f\\x99\\x03\\x14\\x97\\x9e\\xb5n2\\xabn\\xdaP\\xd3\\x1a\\xb5\\x8fF\\xd1F-\\xb0\\t\\x8a\\xd1\\xf6]\\xe6\\xf1>~,\\x8eBo\\x17\\x9ez\\x1f\\xd7\\x8aD\\x13\\x0f\\xf3<\\x8e\\xbaV\\x94@\\xee\\xd0\\xe8\\x02\\xcd\\xc1 S\\xac\\xa1jS\\xca\\x7f\\x9fe\\x8e\\xe3\\\\\\xc3~\\xaf\\x8f\\xb6\\xc9\\xcb\\xc1\\xb4\\x0f\\xf8\\x0e\\xf3\\xfav\\x9a\\xf5\\xc6\\xa2(\\xb2L\\x90\\xf6@\\x80\\x9a\\x08\\x84\\xd5\\x98.b\\xc4\\xed\\x10u*(c\\x1c\\x02\\x0e\\x05\\xcc\\xf8\"\\xc3\\xc4yw\\xe1\\xb2\\xe2\\x81\\xe7\\x02-3\\xca\\x98\\x1ed\\x82=\\xa0ssS\\x7fqr\\x04\\x88=w\\x94$ \\xa6\\x9c[\\x00\\xc6\\xcb\\xb8\\xab\\xacsu\\x118\\'J\\x8e4\\x83t\\x994#\\x86\"<\\xb2Q\\x9d#\\x865\\x83\\'\\x88\\xe7\\xe8\\xe5o\\x02\\x1e\\tV\\xf7\\xfa\\x8c\\xe6p\\xdd\\x06*NAI\\x0e\\xd7\\xd2 }\\xb9\\x9b\\x85+\\xf7<\\x1d]\\x18\\xa9\\x8d\\xfb\\x82\\x1e\\xb4\\xb7\\xe5\\xaf2JH\\xb0\\x97\\x9eJH\\x1cS\\xd8\\xd5?\\xee\\x8dHm5\\xed\\x98\\xca\\x18U%3\\xb0\\xee\\xb8u\\x8d\\xdd\\xc6\\xa4\\xceCd\\xd5$\\x93V\\x00\\x11)g\\x92y\\xd2\\xd3\\xc6\\x86]c\\x88\\xaf\\x9b\\r\\xae\\x14\\xfa\\xb5\\x1f\\xf2\"\\x11f\\xbc\\xb4\\xf8\\xe5\\x93\\x92!l\\x06[5\\xd1\\x0f\\x0c\\'\\xac\\xd7\\xb8\\xac\\x9b\\xed\\x91\\x83x\\xef\\xbd\\xee>4ccc\\x1c\\xe0\\xba\\xe3\\xc8\\xbcP\\'\\xd3\\xf8\\x020\\xff\\xca\\xbb\\n\\xbe\\xe5TO\\x83\\xa6eZ\\xf9$\\xc7\\xe0\\xcd\\xacQ\\xbf-9^\\xc6\\xa9\\x1d\"MK\\xa3\\xa5\\x9f\\x8f\\xac\\\\\\x127\\x08HVP\\xe6\\x01_*\\x8f\\xbcY\\xac\\x1ap\\x94\\xa3\\x14\\x85\\xf1\\xe4P\\x1ex\\xe4:\\xc5\\x82\\xae\\xcb\\x8f\\x08\\xc9\\x13\\xda\\xdbq\\x9f\\x01:B\\x8a\\xdb\\xf6\\xeeg\\xe4\\x08\\x1e\\xa8a\\xae\\x1e\\x9e\\x1d\\'\\x83\\x88\\x93]\\x1cvGf\\xa8\\x92\\xd3\\xecd\\x1e\\xa9\\xa8\\xda\\xad\\xde\\x82C(\\xb1\\xbf\\xa8L>\\xec\\xee\\x90A\\x91\\xfd\\xff\\xb2\\x1f\\x80\\xc4\\xe4\\xdd\\xf5\\x9f\\x85\\xb6\\xca\\xc2\\xfd\\x10\\xf4]\\xc3V\\xba\\x1b\\x02\\xf0g\\x8ad\\xe1\\x16\\x9d\\xef\\x027\\xaf\\xde\\x84X\\xd0N?\\x1f\\x18e^1<cW\\xe1\\x97\\x80u\\xddIVo2\\\\PCnx\\xc5\\x9bT0w\\x1eJ\\x9e\\xc5+\\x99\\x1f\\xefj\\xcde\\xa5\\xcb\\x1b\\xc0\\x0cqV\\xdf\\x90bV6\\xd15=4\\xf0\\xe8\\x87c\\xd3U\\x08\\x83U\\x1d4\\xe4\\xb2-F\\x82\\xa9\\xd3\\xad\\x967->\\ntR\\xea\\xbfQ\\xa2wq!i\\xe8\\xc2\\x00\\xc8oefd=C\\xd7j\\xbc\\xab\\xecI\\x0e\\x7f\\xb6\\xdfA\\x1f\\xb7\\x8a\"\\x95\\x9e\\xb8\\xb6\\xa8\\xc4~\\xe1\\xdc\\xc6\\x9a\\xa1]>\\xa0\\xdf\\x00\\x13d.\\xa4\\xa9\\x00\\xd1\\xe4\\x1e`\\x1f\\xd3\\x17\\xb8&\\xd1\\xa7`k\\xf4SS\\xc7\\x99Uxc\"\\xd7`\\x92\\x0e)\\xe9\\xd4\\x96\\xbf\\xad\\x867\\x10 \\xb9;\\xc9\\xb6\\x0b2\\x94\\x84W\\xbcQp\\x86\\x16\\xc8(\\x8a\\xd9\\xb5\\xa1\\x14.Ut\\xd7\\\\\\x14<\\xbeG\\x0e\\xcbg\\xc5\\x8e\\xa1d_nq~Tw\\x05Pa\\xf1a\\xa9\\x00qo\\\\\\x0b\\xfc\\x19w\\x1a\\x98\\xe8\\x82\\x9a\\x08\\x9aU\\x13=\\xc0\\xfc\\xf4iJ2\\x95ZjE\\xba\\x8b\\xfd\\xd9L1\\x16\\x9aj$\\xb3\\x0c\\x90\\xc7{\\xfeAT\\xcd\\xc5>D\\xb0>0\\xb7\\x05\\x7fo*\\xc8\\x81\\x89_\\x7f\\xcczj\\x07\\xdf2C\\xfe2\\x17\\xdc\\xf7L<\\x00Qu \\xa4\\xddKG\\xc6\\xcbx\\x97Ns\\xa1\\\\\\\\\\xd6\\x7f^\\x83i\\xcaEO\\xc6\\x0c\\xd1\\x8a\\xec\\xfe\\x15\\x10\\xab\\xc6 \\xf3V-E\\xd9x\\xd9\\xe6<\\xe3F\\xf9\\x13\\x83A*?\\xfc`\\x99\\xb3\\xa2\\xd5\\xa1\\xd7\\xa4\\x1a\\x14\\xad\\x10G\\x08`\\xfeL<\\xb6\\xb3\\x1bH\\xa3D8\\x08\\xc3l.\\x8a\\x8b\\x8f\\xa5\\x87\\xffSl\\xf7\\xab#g\\xc4B&4*t\\xea\\r\\x17\\x04<x\\xf8D\\x96v\\x91V@\\x8fYi\\x04\\xc4\\xea\\x95\\xf6\\x07\\x1c\\x03\\xc7D\\xb5\\xf6\\xa7+\\xf1Xj\\x8bzi\\x9dh\\xe5>M\\x13\\xe2c\\x81=\\x00\\xba\\x14\\xa6L\\x02z\\x16\\xff77\\x1aQ\\xa9\\xa1\\x9a\\xc9\\xe9\\x8a~&\\x91\\xbf\\xf6oF\\x11\\x08>VeB=\\\\\\xaa\\x05\\x05\\'9\\xfe\\xa6(K%\\x8ctU\\xd4\\xa4\\xaf\\xac\\x81t\\xa1Nq\\x8b7\\x02\\x9c\\x99\\x9aDV\\x12=\\x97\\xcc\\xa6\\xe8\\xaf\\xd5\\xb4n\\xbfP\\x84\\xb1\\xde=Q\\xe1\\x88\\x04\\x16\\x97\\n\\xa9\\xf2\\xd3xV\\xd2U&t\\xbao\\xa2\\xa0\\xdd\\x00\\xc7\\xd6\\x195\\xad\\x9f\\xe7\\xf4~\\x1f\\xeb\\xcc\\xf5\\x10b\\x96\\xa3\\xc0.\\xe5b\\x98\\xd6&n6pE\\xcb\\xde`\\n9 \\xa9)\\x8c%\\xa3Bg\\xc8\\xcd\\x82\\xa4=\\xbf\\xb7\\xdaP\\xbd\\x1b-\\x1d,l\\xd1\\x00\\xf4\\xee\\n\\xcbG\\x1e\\x9b\\xf6\\x92\\xf4\\xb2\\xc9\\xbaiFi\\xa5|\\x0f\\x04\\x0c\\x01\\xb0z\\x1b\\x98W\\xc32<I\\x9aP)\\xca\\xc0\\xcc+8\\x03\\x9b\\xee\\xc0\\xd78\\xb1\\xcb\\\\6(\\xd8[$u\\x14\"\\x125\\x7f\\x99\\xadT/E\\xb2%Qjq\\xc9\\xab\\xdc\\xb7\\x0b\\x84\\x8a\\xe8JD\\xc6U\\xf4\\\\xk\\xdd\\x9e+C\\x18 f@\\xd6ox\\xd6\\x9ah%\\x9f\\xed\\x18\\x08\\xb4\\x1b1Dc\\x91.\\xee\\x1b\\xb1\\x9c\\xa1\\xe6\\x10\\x19jW\\x88\\xf0`\\x90NcE\\x91\\xc3J\\xcdJC}\\xcf*\\xe4\\xfcy\\xa5\\xdc\\xe4\\xcf\\xf4C\\xfe\\xc2\\x9e\\xa9\\x0c/\\xaa\\xda`~\\x15;\\xae\\x07\\x03Af0\\xa2\\x02\\xe0\\x8d@\\xd6G<-\\x9aR\\xe9\\'\\xa2\\'\\xdfZ\\xd5\\x90\\xf6\\x8c\\xd1\\x10\\x0e&+S\\xfeQj\\xe3P2\\xb7\\xb6L\\x0f^\\xf9o\\x96\\x9a\\xf33(\\nw\\xc4Xg\\xbe|\\x16\\x8b\\xcb\\xd5\\xb2\\x886V\\xeb$\\x8f\\xdd\\x1d\\xb6\\\\\\x8a7a\\xa5\\x06\\xc66h\\x04\\x03\\xd1V\\x98\\xbb\\x94\\xb2\\x08x\\x1d\\x9bd\\x83\\xee\\xcc6?J\\x17\\xb8\\xa48\\x95o\\x85\\xb6\\x16\\x15\\xceJ\\xcd\\t\\xcb`\\xc9\\x84%\\x07\\xe5\\xdfa$\\x17\\x16\\xc0t\\xcch\\xbac\\xfe\\xcb\\xd2\\xbf\\xb1\\xe0O\\xc2\\xb4\\xde\\xae\\xff\\xcdT\\xd3\\xb2\\xa6\\xa8o\\xfdL\\x8de\\xbdRzN\\x1d\\xc4\\xc5\\xf0\\x81\\xa7)\\xa1\\x89\\xa1\\x9a\\xba\\xc7\\xde8\\x8b\\x99l\\xa3\\xfcD\\x80\\xef\\xaf\\x83`n\\xc2\\x072\\x1e\\n\\x1d\\x93\\xda\\x8e\\x87w\\x1b#\\xee o\\x86\\x1d\\x1f>\\\\XU\\xa3\\x18\\xf7-\\x7fF\\x8f0\\x80\\x989\\x86)\\xf5\\xd7\\x8bu\\xab\\xf3\\x95-\\xbb\\xbd\\\\\\x16\\xe2\\xaf&>JY\\xdd6\\x14YG9\\xc1\\xfc=\\r`5\\xc8\\xbb\\xcb[&9\\xab\\x1b\\xa6\\xbd5Y\\x0f\\xab\\xeb\\xee\\x80\\xc5\\x90)\\xee\\x8dY\\x07\\xdb\\x0cE\\xe5\\xc3>\\xb2V\\xd1\\x91L\\x81\\x9dQ\\xc4\\xe3\\x8f\\xa8E\\xccQ#\\xbe\\xc9\\xac\\xe2/\\x85\\xdc\\x95\\xd1\\xcc\\xe0Fv\\x11\\xa2K\\x0c\\xd4,y\\x94\\x0ed\\x81\"\\xd9\\x99\\xbf\\xe6\\x15b\\\\ZNTE\\xec\\xdaU\\xe2\\xb2\"\\xa1n>g\\x8a\\xb90\\x12\\t\\x8f-\\x1f2\\x0e\\xceH%\\x0f\\xeb?\\xd4\\x97>\\xcb\\x1eX8\\xb0\\xf4\\xf0\\xc5\\xaf\\x11\\x07\\x1eu/S\\xc2\\xab\\x81*\\xc9\\x8f\\x1bsH\\x85\\xd8\\xf1\\xfa\\xe5\\xcdU\\xda$i\\'\\xae>\\x87m\\xbd6\\x87\\t\\xb5\\xad\\xedAH\\x9d\\xe4\\xd7\\x97m|\\xbd\\xf7^\\xb8\\x9e+D S\\xb1\\x06\\x80\\xe8d<)eR\\xe4\\x97\\xc4\\xa20YJ#\\xf5k^\\x12\\x11\\xfc\\xe9=f\\xef\\xdb\\xc3\\xde\\xeb\\xb1f\\xfe5c\\xddV/Pr\\x96N\\xbd\\xed\\x8cW\\xb2\"\\xd1\\x90Pc\\xdc\\xb9jw\\xaa\\xce:\\xa6x\\x01\\x1e\\xd3w\\x94z\\xbf\\xdd\\xe2\\n\\'\\'\\xb8\\xb6B\\xe5O\\r\\\\\\xa5\\xc3\\xc7\\xbcPBX\\xc0\\xfa\\xb7\\xfc\\xc7p\\xbc\\xaf\\xc9\\x9e0\\xa6k\\xc4\\xe8\\xdd\\x8fW\\x9f\\xb7b4P\\xb9;\\xb5b\\xdaXi\\xfe\\x1f\\x970q\\xcf\\x92\\xf5\\xb6,\"\\x9692\\xcc3e\\nz5/\\x9e\\xa2;\\xf4\\xd1\\xdd\\xb4\\xa8\\t{\\xa5vo\\xf9\\xf2\\x13\\x90\\x05x\\x88\\x86V!_m1\\x88Tc\\x86\\xed\\x94\\x92&-\\x92\\x8d\\x86\\xcd\\xe8\\xa6{\\xee\\xb6K\\x8e\\xdb\\x9f\\x0e\\xa9|&\\x8a\\xc0\\xfd\\xd6C\\xe8\\x17\\xbe\\x07\\x0cF\\x8f\\xa6\\xd9_\\xfd\\x94v\\x7f\\xe9D8\\xeb\\x11\\xa6D\\xfd#]=\\x11f\\x11=\\x8d\\xd6\\x06\\xf4\\x92z-E\\xa2\\xba\\xfb\\xf2\\x87\\xe2l\\xff9\\xd0B\\xae\\xc3\\xb4\\xca=\\xb1$\\xd2\\x1e\\xf1\\x0frY\\x1f\\x0b\\x8d\\x96\\xf2\\xca\\x06\\xd4\\x8a\\xf3p\\x9a\\xc5f\\xbd`\\xac\\xfaI?\\xd4q\\xb8\\xd0\\xb9\\x19\\xa7O/a\\x86\\x15\\xf2\\xf2.\\x9a\\x8e1\\x1cWQ\\xf3\\xdd\\x1b\\xf2[\\x86.\\x93\\xb0\\xc2x\\xbe\\xe1\\xfeT;\\x84\\x8c\\x94\\x15\\x95v\\x05\\xb8:Go\\xcb\\x85\\x10v\\xca\\x1e\\x87u\\xb0|\\x01\\x1co\\xc5\\xe1c.b\\xe5\\xce\\xb7\"\\xc8AL\\xd5F\\xa333.s\\x97\\x0e\\xbcq7\\xc3\\xa4\\x12\\xaf\\xea\\xed%\\xc1$\\xa3\\xa8\\x97\\x05\\x16\\xe3s\\xf9K\\x9d\\xc6\\xa9s22\\xf6\\xf2+\\xb3\\xe2\\xcd\\xf3\\x16S\\xcf\\x87\\xc0 \\xfd/\\xf8v\\xa7\\xec\\xa1\\xec\\xf8g4\\xf0\\xd3\\x84/\\xac\\x82}7\\x13\\xca\\x13\\xfd7\\x91W\\xa6\\x13\\xca\\x15\\xe9\\xa5\\x13E\\xecq\\r\\x0fsK\\xf1<\\xca\\x88\\x1f\\x99\\xda{\\xfe\\x04\\x8fZ\\xaa|ys\\xc4\\xf4\\xea\\xbe\\xe4\\x99\\xfb\\xf5\\x13;\\xc9yYQ#\\xff\\xf2\\xfa\\xbf\\xb5\\xd3\\xb6\\xc1\\x96\\x88\\xdc\\x87\\x17\\xc6\\xfb\\xb0r\\'\\xf0L;\\xa9\\xbb\\xb1\\xf8.X\\x87d\\x18\\x8cU\\xe1\\x0c\\x07V\\x9f\\x08\\xab\\x8f\\xef\\xdf\\xf2\\x11d\\xd9C\\xddt\\x02\\x07\\xfb\\x8a\\xf5\\xbc~\\xb4\\xb7N\\xe1\\x8f\\xfc\\xe1\\xe8T\\xb7d{\\t}o\\xe5\\xe4\\xca\\']\\x98\\x93\\xcd\\x1d^\\x157l\\x18\\x04\\x1e\\x02y\\xf3~+\\x1e\\xf0\\xf7:\\xd3{c\\xfc(.\\xe9\\xab$\\x15\\xe5\\xf8,\\xd8\\x07c\\\\\\x9d?\\xd1\\xcc\\x00\\xaf\\xa4\\x9e\\xa4\\xee\\'%\\xa1\\x8a|\\xd2\\'&=c\\xdf\"\\xc5\\xfc(\\xf3M\\x8aRXGK\\x88g&\\xce\\\\\\xe6\\xa8I\\x87o\\xec\\xabh|\\xaa\\xa2\\x87=\\xff\\xab\\xf4\\xba{W\\xc1\\xf2a\\x8au\\xc3\\x84\\xda\\x99\\x0f1k\"\\xab\\xe9\\xa3\\xe2\\x87e@\\x06c\\x962\\x17p\\x81\\x84\\x1aO\\x97\\xc5\\xab\\x04bvi\\x1e\\x13\\x0f\\x98\\xa2\\x19\\x95\\xef\\x00\\'A\\xdf\\xdc\\xd5\\xc7#Y\\xe1\\xe5\\x97;\\x1eE\\x03\\xc1P\\r\\x82\\x03\\x0f\\x19\\xcf{K\\xdd\\x16\\xa0\\xe2Y\\x1f\\xed\\xfb]\\x0b\\xe5>\\xceS\\xd7\\n_S\\xa7\\xe3\\xb1\\xd0\\x0c\\xdfzT\\xf0\\xcc\\x00\\xdf\\x10J|J\\xed\\x94PWl\\xd1\\xc6n\\xf4\\x1f\\xb3\\xf8\\x82\\xb1G\\x02I\\x97a\\xd6\\xa7&\\xf2[m5\\xd1\\xdb\\xd8T\\xac\\xca\\r\\xf0\\xee\\xad\\xe9{8~\\x1d\\x05x/B@\\xcd\\xba\\x15\\xd8q\\xcd\\xdd\\n\"vi\\x1d\\x95e\\xc4d>/y\\xbd\\x18\\xbd\\xcd%\\xa7\\xa2\\r\\x94X\\xa7\\x16\\xce\\xaaf\\x96\\xe1\\xd7\\xef\\xa1A\\xe4\\x98\\xf6\\xf0\\xfc\\x05\\xed\\xba7<\\xf1+\\xc7\\x96k\\x9d\\x08\\x95b_\\x89\\xf2\\xf0aK\\xf2\\xf9\\xa4\\x02\\xa4\\xc6O\\x1bQ\\x1ai\\xad\\x90e\\xe6t\\xb1_K\\xdb\\xe7\\xa2[\\x12\\x85\\x9b\\x81.[<\\xa4\\xea[y$\\x1e\\x81\\x02\\xbb\\xa5\\xf9\\x98\\xfe\\x8eM\\xf5\\x0cr\\x14\\xbf5b\\xf4\\xb0DW\\x85\\x04\\xb4\\xafu\\xdb\\xc5\\xab\\xd2\\xdd1\\xc1\\xb0\\x00}\\xa9\\xf0\\xf8?\\xc9\\xaa\\x0e\\xa0puS\\xb2O\\x8b\\x9c\\\\E\\'j\\x7f\\xb2\\xfa{\\ns\\x1e\\x1b_\\xa8\\x9e6\\xd9\\xe3[V\\'\\xcbs\\x8e\\xe5W\\xc4\\x1eHm`r|\\xabg\\xe9\\xa7Xw\\xcb\\xa2\\xbd%\\xf9S\\x06\\x9b\\xb4\\x9fG\\xe6V,\\xc7\\xf2\\xd8\\x91q\\x96\\xdcX\\xceQ{7\\xd9LjN\\x88\\x0f\\\\.W%\\x93\\x1a\\xfch3\\xf1\\x00\\x86\\xc16\\xdd3\\x02\\x03\\x0b\\xb5\\x05\\x04\\x9c\\x0b U\\xc0q4\\x80\\x03\\x00\\x17ChatBotSpanish/food.yml\\n\\x03\\x02\\xba[\\xdah*\\x0b\\xd9\\x01\\xcb\"\\xb1\\x026dC3C\\xf4PD\\xde\\xf8R\\x9b\\xdc\\xce\\x014\\xc1\\x00\\x99\\xaf2\\x0c\\x83$\\xe0\\x05\\xa4\\x9bd\\x04\\x89Q\\x12\\x9c\\x98\\xf8\\xdb\\xd94MS\\\\\\xd3\\x00\\xc5\\xcc\\x9b\\xc8?\\xb3\\xe0\\xb1\\xa1\\x1c\\x13Fp\\xe7\\xe0\\n&\\xee\\xae\\xaa\\xae\\xca\\xe4\\x17\\xe4n\\xcd\\xf8U\\xfc\\x07\\xfa\\xbf\\xe2\\xf4\\xa9\\xf5\\xecm\\xeb\\xad\\xde\\xcd\\x1e\\xba5\\xb5\\xb5h\\xa5\\xac\\xdd]\\xeeS\\xd6h\\x8e\\xe9\\xf1\\xf8Q\\xaa\\xbe.\\xd1E\\t\\xe3\\xda\\xba) \\x8f;\\xdbC\\x0f\\xa6\\x8f\\xa6\\x04\\x83\\xfc\\xd6\\xb6l\\xc1\\x8a\\x84}u+\\xab\\xa33\\xf0#\\\\\\xdf\\x02qW+}\\x15\\x12{T\\x81\\x166QU\\xd9]/\\t4\\xa4\\xddR\\x81\\xd8\\xac\\xfb\\x87\\x83\\xa8U\\x8b\\xb6\\xb6<\\x08\\x00\\xef9B\\x16\\xa6\\xbd\\xd2\\x91\\xe3\\xfb\\xebs\\xf1\\xe0C}\\xae\\x05|\\xa52\\xa2\"\\x05\"`\\xa9\\xba\\xbeQ\\xbcrl\\xc7\\xf0\\xafo\\x9a?p\\x0c\\x11\\x85a\\x15\\x7f2?n\\x01\\x9a\\xe3y^p=\\r\\x11\\x16\\xa6\\xe3\\xd1\\x0e\\xdc\\x9a\"]\\xb6\\x88\\x94\\x84H\\xb2\\x96\\x115\\xe0\\x81U\\xc2ni\\n\\x15\\xd8\\xfeY\\x95[\\xb9\\x0bAg\\x1f\\xba=\\x97\\x11Dy\\xd4R\\xde7\\xce\\x85\\xd6\\x02\\x87D\\x99F\\x8d\\xcd\\xb1\\xb0\\xe4nf\\xe6A=\\xe8\\xab\\xc2\\xa4O*s\\xd99\\x8e\\xd2\\x94x\\xd0\\xe3\\xbe\\x85\\x97Lo\\xc7\\x87p\\xf2\\xabP\\x19\\x08\\x90\\xbdr\\xf7\\xefV\\x98+p\\xa7jG\\x12\\xc8\\xae\\x00jD\\x12\\xbdS0\\xf9\\x1bB\\x9d\\xc2\\x16\\x01\\x03\\x8e\\x18_\\xcb\\xfb\\xd7\\xac\\xe0\\x0b\\xeb \\xa0}4^\\x00f\\x0c\\x1e\\xbd\\xa8\"\\x14\\xc1\\xd3\\x03\\x03\\xbd\\x16\\xe3\\xc1\\xd2\\xa1\\x7fh\\xa1\\x95F \\x7f\\xf1\\xc0B\\x12\\xd3\\xfe\\xf12\\x15J\\xbb\\xab\\x9d$\\x03\\xdcL\\x05\\xc0@k\\x85\\xaf\\x07\\x0c\\xd9\\x1bY\\x13\\x0f\\xf2\\xfb\\x91\\xc6\\xba\\x1c\\xb8c2\\t-\\xd7!N5~\\xd9\\xa6P\\xa4\\r-\\x8dF\\xdc\\xf0z\\xe7NvN\\xf43\\xd2\\xf9#rn\\x8b3\\xb6\\x0c\\xac\\xd0\\x7f\\x18]8\\x18\\xd6by9\\x9d,\\xc1\\x1c\\xdaw%\\xf5\\x94s\\xe4\\xdb\\x82\\xfeZ>\\xcd\\x8d\\xe5E\\xfc\\xca$\\xc5\\xac\\xcc\\x89\\x8d\\xfb\\xac\\xd9\\x8f\\xeb\\xf8\\xaaV\\x0c\\xab\\xf0dl/==1\\xf1\\x9fI\\xf8\\x8a\\x95\\x97\\x12\\xa11\\x13\\xa6g\\xf2v\\xf5#.\\x08nc\\xc4\\xaf\\xabs]\\xffb`Y\\xd1\\xe4A\\x87\\xa3:c\\xd1\\xd4\\x00\\xf5\\x84j\\x13\\xab{\\x8e\\xaa\\x9bE\\x14Z1-\\xa0\\xa8\\xd8\\x8e1$\\xb3\\xc1%\\x0b\\xd8\\xb7K\\x01\\xaf\\x85\\xa9\\xda\\xa2\\x1b\\x0e>GK\\x17n\\xe6\\xe8T+R\\xf4\\xb1\\xde\\xdf\\x08\\xc7&\\xd5\\xd8=;\\x96\\xae\\xa4\\xeb\\xcat\\xb5\\xb9z\\x89\\xff\\x92Zg\\xd5\\x13K\\x1d\\xad\\x8d\\xc8\\xe9O\\x03zcb\\x1d0\\x9b\\x84&\\xf5%\\x8d65\\xbf\\xea\\x1cW\\xd2\\x97\\xf9\\xbb?f#{\\xfa\\xcc\\xfd=\\xb7\\xcdH\\xcc\\x0e\\x1aW\\x93\\'\\xe7\\xa7P\\xfb\\xe1\\x86\\xe65\\x02\\x03\\x0b\\xc6\\x07\\x04\\x9f\\x11 27Q\\xfb\\x80\\x03\\x00\\x19ChatBotSpanish/gossip.yml\\n\\x03\\x02@\\x13W\\x83*\\x0b\\xd9\\x01\\xccW\\xc2\\x03Gu443?6\\x04M\\xeb\\x85_\\x00S8\\x04\\xd2\\xe9E\\x15H\\xe4\\x8d\\xe8\\x92p\\x1b\\xc3\\x96\\xce[\\xa2M\\xe4\\xb2NTS\\x8d\\xad\\x8fC\\xd0\\xe9\\xeb\\x9a]S<\\xca5\\'\\xff\\x0b\\'\\x11r\\x96JRT\\xe1\\xa9Q\\xc3b\\xc0\\xf7\\xbc\\x05\\x81g\\x8f\\x8f\\x85\\x8f\\x87\\x80\\x16\\x07\\xef\\x7f\\xd9\\xee-S\\xf0\\x85r\\x9ca\\x7f\\xd3\\xd1\\xf4:\\xb9_|xtU+\\xb8\\xc2w\\x9bQ=(\\xdc\\xfe4m\\x1d\\x1dV\\xf8\\xdfi\\xfb\\xd0\\xe7&_d\\xda\\x07k\\xb7G\\xd7\\'~\\x98\\xc1\\xc6\\xbb\\xf8w\\xb7\\x1a\\x1e\\xeb\\x17\\xfe^\\xdb\\xa0~>\\xac1}\\x9d.\\xb8l\\x85\\xe8\\xeb\\x01\\x97|x\\xddG\\x9eE\\xfa\\xa3\\x97\\xbe\\xed\\x8e\\xf8\\xfc;/O`u\\xd86\\xdd\\xb2\\xd0\\xdb\\xcd\\xceDvX\\xc0\\x84\\x8f\\xfa\\xa1e\\xb6#}A\\x80.\\xc0\\x07f\\xad\\x01\\xf0\\xa8\\xb9\\xe6\\x91^\\xb1?\\x87\\xc3\\xd0TCg<N\\xf0\\xf4`\\xcb#q\\x02\\x91\\xe1=\\xfb(d\\x9f=K\\xbc\\xf8\\x7f\\xc0WV\\x86\\xc7\\xd0\\xa2\\xa8\\x7f\\x9cb\\xa5\\xf6\\x8f\\xe8\\xb7\\xff\\xceH\\x07\\xb2\\xf6\\x7fG\\x88\\xf8\\x9a\\x96\\xd9\\xc3\\xe5\\xdfh\\xaf\\xc7o\\x87\\x10#\\x01G\\xf0\\x9f~`m\\\\\\x06z#\\x01%\\xf1\\xb7\\x85\\x90\\xb6\\x92c=\\x8e8E%\\xad\\xcb\\xb8\\xf7\\t\\'\\xe4\\xcd\\x1aM\\xa6\\xb6\\x933\\x9f(\\x17xA0\\xde$\\xac\\x19*;,\\'\\xe0\\xd6H\\xc1e\\xba\"\\x0b$\\x9b\\xf8\\x84\\x8dQ\\xaa\\x1f\\xef\\x12\\x8c\\xf2\\x05\\x81B\\x16=\\xee\\x94\\xe6\\x94\\xb8\\xa1\\x91\\xf6\\xb16\\x88\\xd1\\x16\\xc7urj\\x9fxJ\\xad\\x17\\rtx\\xdb$Q\\xd2\\x9bM\\xb5\\x9cZ\\x1c\\x02\\xf9\\xcd%\\xd1\\x89b{\\xe0?\\xa1\\xb6\\x9c`Q\\xa4x-\\xe5Fw\\x87c\\x9d\\xfeF{\\xf8\\xfc=*JV\\x0bq)nD\\x80=\\x95\\x8ckS\\x03F\\x97\\xa4H\\xbeo\\xf9\\x00<^h\\x9e\\n\\x8b\\xf3\\x82>p>\\xa0\\xc6%\\x93\\xf8s\\xe7\\x12\\xbc0?\\xac\\x89^I\\xb8\\x1f[\\x1c#5I\\x8d\\xe8\\xdc\\xa7T\\xffi\\xe8\\xc7\\xc3s\\x03A?\\xe9CL\\xb1\\r\\xd3\\xc4\\xca_\\xab/\\xdcG\\x98\\x81R\\x10\\xa8q\\xd2\\xe4\\xf0m\\xe5\\xedClJ\\xfd\\xab\\x9b\\xaeDfs\\x1c\\xba\\xdc\\xf3\\xa4i\\xb8H/\\x0c\\x99\\xb3F\\xef\\x0f\\x89XA\\xac\\xed\\xd2\\xad|\\xf7b\\xcdK\\xa2\\xc3\\xb7b#X\\xa1\\xdbR\\xa8\\xb0e%!@>z\\xdb\\xfcv\\x9c\\xe1`\\x84\\xb04\\x88\\xa3g\\x9eh\\xa9\\x8c\\xe0f^\\xe3\\x84;\\xf25x\\xaf\\xee\\xb9\\xc3<,\\x1c\\xfd>~\\xb2\\x81,\\x9e\\x98\\xa6\\xf5\\x0c\\xeb\\xa4\\xa8\\x0fX\\xb8h\\x82\\xc3.\\xe6\\xf39\\x13\\x1bg+\\xbe\\xb2\\xae\\x17fJ\\x04r\\xe9%M/@0l[\\xde\\xfa\\xa1A\\x82)\\xfc\\xb3b\\x8df\\xd6M\\xb3>\\x9fr\\xf6g\\xda\\xfa*A\\x11\\xe9\\x1e\\xc2\\xeb\\x1a2\\x82\\xbe*\\xcf\\xf3\\'my\\xc8\\xa2\\x8eY\\x07Z\\x91\\x9dMb\\xa9\\xb56\\x90 \\x95S\\xec\\xd2\\xe0\\xc8\\x91\\xfd\\xa5\\xf1\\x1c\\xf3\\xd6\\t\\xdd\\xe2\\xd3_G\\xc9du\\x0e\\xfe/\\xac\\x81\\xc5\\xedsO\\xed\\xcb\\xde\\xd6=\\x89`\\xc95\\xfd\\xbaB\\xbe\\x86r%Y\\xcc\\xef\\x8f1\\xab\\x1a\\xf4\\xc3\\x8d\\xaf\\xe4L\\xe6\\xc2Ut3.\\xfb\\x80;u|[>\\x15\\x11gO4\\xe8c\\xab\\xcfO\\x82;e\\x9dR.\\xcbG\\x83\\xb7\\xad\\x8e0\\xd6\\xad8\\xf70\\x9c\\xfb+:2\\xc4\\xd0Ny\\xdf\\x18\\xff\\xbb.\\xebK)k\\xde\\xe1#\\x18\\xbc\\xbaz[\\xf5b\\xa97V\\xbc\\x97\\x12\\x8f\\xb7\\xc8\\xe9y\\xf3o\\x9b$\\xf6\\xa1&\\xdb\\x05\\xf2\\x1d\\x01\\x84[Vf\\xeac\\xfe\\x82\\xd2|~\\xb3+\\xa5\\x81_\\xcd\\xea\\xac>\\x97\\xc7h\\xeb\\xc9\\x99\\x97\\x98\\xeez[\\x9d\\xcc]\\x9fl\\x15\\xcbz\\x14\\xc8}\\xb5\\x0e\\xb0\\x97,\\xb9\\xcd\\xd9\\x9b\\x9f\\xbf\\xcc\\x1b6y\\x1f`$\\x18\\xcf\\xcb\\xa7\\xbe\\xf8q\\x8e\\xb4\\xed\\x8b\\tZ\\x1fC$\\xab,\\xaf\\x11.\\xfd\\xd3\\x86\\xa3\\xc3h\\xf8\\x98\\xc2\\xc5\\x14#\\xac\\x1f\\xb0\\xa7O\\xf2\\xfa\\xc6\\x99{\\x83\\xf8\\r\\xcb\\xe3\\xed8\\x02\\x03\\x0b\\x87\\x03\\x04\\x9c\\x08 $\\xeb\\xa1\\xa7\\x80\\x03\\x00\\x1cChatBotSpanish/greetings.yml\\n\\x03\\x02@\\xbbt\\x8d*\\x0b\\xd9\\x01\\xcd\\x15\\x83\\x015\\x04C4/s[\\xe7\\xc52\\xf0\\xef\\x80)\\xe4\\xb8\"\\n\\x0e\\xe4\\x08)\\xeb\\x18\\xdbS\\xa0\\x9c\\x9b\\xc3r\\x08>rXPTVR%\\xd3\\xec\\xb8A\\x8d\\xc8\\xe28\\x13\\x82;\\xe3\\xe51\\xee\\xe6c\\xcc{\\xbfD\\xf37u\\xe3\\xd6\\xf5\\xee\\xfb\\xe0\\xbd\\xf2H=J\\x98\\x99:\\x9b\\xc7\\'\\x11\\xa6b\\x95T\\xf4\\xcc\\xd9\\x10T\\xf8)\\x8d8\\xe2?.\\xb4>\\xe7%\\x9eC\\x1b\\x0f\\xd8\\xb4\\xb6Y\\xd6u\\xd6\\x92o\\x04q\\xef\\xb87\\x11\\xee\\xfbF\\xef\\xadF\\xa8W\\xcbxl\\xc3\\x8d%\\x89{=k\\xa8\\xfbyG\\x03\\xa0QbqP\\xcb\\xe2\\x85,t\\xe2w\\x88\\x0fI%\\x96\\xfa\\n\\xad\\t&\\xa1]\\xc4\\xcc\\x98\\x83\\xda\\x0b\\xe9_\\x91\\xbbg\\np\\x11\\xc8T\\n\\x8ah\\x0c\\xdd\\xc8\\xbc{\\xb9\\xe0l`\\x80\\xfa\\x9cV\\x8e8)fp\\xdf\\t\\x80\\xba\\xc5U\\'k\\xc2\\x96\\x94\\x1cB\\x8e\\x90\\xd4\\x90\\xdd\\x8c\\x7f!\\x1f\\xb0\\\\\\xc9y\\x1c\\xdf\\x95\\x16\\xfa\\xde\\xa6\\xdb0V\\xe8\\xbb\\x99|\\xb58HZI\\\\\\xce\\xef\\x07_\\xb1P\\xcf\\xd0\\xebT\\x1c\\x0b\\xe3\\x1b\\xb2\\xdfa\\xeb\\x14\\x04\\xab|\\xe1\\xdd\\xca\\xd1%I\\xb5\\x84.\\x19\\xfe\\x8a\\xd9c\\xfdC\\xbd\\xd8 H\\xc8\\xa1\\xb2`X) \\x98\\xda\\xcc\\x0b\\x9c\\x18\\\\\\xe9\\r\\x9f\\xe4\\xad\"\\x05fc\\xe7\\x0e\\x80]\\xd6\\x821\\xc2P\\xedO\\x0f.u\\r\\x16\\x14\\x9a|54\\x82\\x8bkC\\xd1\\xc7r\\xd0\\xce&0\"\\x83\\xf5]\\x1a\\x89\\xd9\\xbdP\\x96\\xb2\\xc4\\x0b\\x01\\x11Sr\\x87tb\\x0b\\xbf\\t\\x12\\xb5\\xb9\\xf9\\xadL\\x86<\\xdc\\xd7.?\\xd3\\rX\\x90\\xd0@\\x89\\t5\\x02\\x03\\x0b\\xb5\\x01\\x04\\xe0\\x01 \\x17F\\x87\\xe4\\x80\\x03\\x00\\x19ChatBotSpanish/health.yml\\n\\x03\\x02\\x96\\xce\\xb9\\x95*\\x0b\\xd9\\x01\\xc3+\\xb25T32\\xf8D\\xdfxS\\xe0\\x00p\\x03I\\xa2\\xa3`i/\\x01v\\xd6\\x16\\n\\xc9),\\x87\\x1f6\\x1a\\r\\x028\\x00\\x919\\xadY\\x11e\\xe3sDk\\xf9\\x8f\\x1b|\\x99\\xbcx\\xf15\\x8b\\x1a\\xf2^\\xe3\\xb6\\x1b\\xd3\\xa3\\\\\\xa4\\xc7m\\x1a\\xca\\xe4;\\xdfu\\x165\\x9d\\xd1\\xd8\\x9b\\xd4(\\xfeq\\xef\\xdfi\\x8f\\xc5\\xb4\\x83O\\x8f\\x82|\\x08+|-\\xddA\\x14\\x94\\xe2\\x0e\\xb4\\x01\\x11\\x8cx\\xa6\\xb9}\\x99\\x85\\x8c\\x04\\xf1v\\x84|\\xcd\\xaa\\x82#\\x0c\\xb9\\xe4\\xad\\xc9\\xa3\\xba\\x9a\\xb3\\x12\\x05\\xcb\\xceP-U\\x8aa\\xcd\\xceQ\\xf5\\xb3Fi\\x81\\xb2\\xd6\\xcd\\r\\xec\\xcaq\\xf6\\x08y\\x8b\\x82u\\x1a\\xfb\\xa5\\xc3,\\x1c\\xd9huK:8\\xa5\\x0b\\xb0\\xb5\\xfa\\x88&6\\x02\\x03\\x0b\\xf0\\x03\\x04\\xf5\\x06 \\xb5\\xd4\\xbbX\\x80\\x03\\x00\\x1aChatBotSpanish/history.yml\\n\\x03\\x02\\x108\\x85\\x9c*\\x0b\\xd9\\x01\\xcdz\\xec\\x016d3D3\\xf4PD\\xdf\\x9c)k\\x9a\\\\\\xce\\x014\\xb0\\xc4\\x0fD\\x02M\\x10\\t\\xc0U\\xf8\\x0cj\\x0b\\xb4\\xad\\xa4\\xae\\xe4s\\x8d\\xbd\\x93D\\xd4\\xf8\\x04\\x01\\xdf3x\\xdf\\xf4\\xae\\xec<l=\\x0f\\x88\\xe6e\\xe5\\xa2h\\xd5Q%r\"\\x8dQH\\xf8\"O\\xdb>\\xe3\\x15\\xb6v\\xf0\\x84]l\\xbe[\\xbe,\\xeat\\xa7\\x08\\xf6n\\xae\\x0f\\xca\\xd8\\xc8\\x96\\xe3\\xd3I\\x07\\xca\\xf1\\xcf\\xfa\\xf9\\xb6\\xfbY(U\\x13\\xcd\\xcdg\\x0c@\"\\x7fV\\xec\\x9ds\\x14\\x90\\x98+{w1\\x88g\\x7f\\xff\\xe6\\x02\\x19gX\\x03-&\\xcb\\x18\\xb0G~\\x7f\\xe0a\\\\\\xfeg\\xdc\\xfe}\\x0c\\x89\\xca\\x90\\x1e\\xec\\xd3\\xa56;\\x19~\\'\\xe7\\x0c\\xe9$\\xae\\xb6\\xc8\\x07\\x0f\\xe3\\x9c\\'B\\xec\\x03Bd\\xd4\\xd9o\\xd1\\x00\\xc8\\xfb\\xa7\\xca\\x87A:\\xdc\\x8eo>\\xa6~\\xbc\\x90h\\x119\\xeb\\xf0\\x0c\\xc6Y\\xa9y\\xa6\\x0f\\t^K\\xdc\\x8e\\x97<!qg&4\\x9e\\xdc\\xc0\\xa5,\\xb3\\xd7\\xd3\\x83\\x13|=\\x1c(Mb\\x82\\xa8I\\x11\\xe1B`\\xb4\\x17m\\xe5w\\x99{\\xc8\\xfbE,\\xd4\\xe2\\xea\\xb8\\x90\\xba\\x05\\xea\\x85\\xf4\\xbfU:a\\xb0{\\xd1o\\xa3\\xe9\\xbf\\xe1\\xa3\\xedc\\xd0\\x86\\x14/\\xf9\\xbau}}\\xadW\\xba\\xb9\\xc8\\xcd\\xa9&\\xe8\\xf1\\xcbfmb\\xc6\\x02<\\xe8\\xee\\x12\\xcf#\\xa8eb\\xb0\\xcc[\\xae\\x1f\\x99[>\\xd9z\\xb2\\xaf\\xa9=\\xd0[\\xf2\\xf2\\xce!\\xc5\\xc7C\\x87\\x0b|\\xc5\\x9a.\\xb1\\xff\\xf4+o\\xdb5\\xe0\\x04(\\xc1\\x16Og6\\x9b\\xb6\\xdf\\xde\\x17\\x1bD}\\x145F\\xe5\\x80\\xb1\\x87\\xf8\\x8d\\x88t\\x02\\x1a\\xdd\\x9b\\xb8\\n\\x02\\xf5gg\\x82\\xca\\xc9\\xa2+\\xecA\\xec\\xa6\\x19\\x93\\x8d_!\\x13\\xe9\\xb0\\xe0\\xd2e\\xdaf\\xfe\\xb8:\\xe4+\\'Y\\x8c)\\x80\\x94\\xae4\\x98\\x82\\xd1\\xf4\\x80q|4\\xc1}x\\xa3D+%\\xbb(\\xd5\\xab\\xc4^\\xd7]\\xb3\\x87\\xe0\\xd5\\t\\x13\\xa4)\\x90\\xc3\\xecW3\\xee\\xa5-\\xf9\\xf6\\xa8\\x8f\\xa6\\x84\\xc9\\xa9\\x1bZ\\xaf\\xc9\\xdc\\xcf\\'\\xe9\\xb3\\x99O\\xb8,o\\xe8\\'4\\x02\\x03\\x0b\\xb7\\r\\x04\\xf6+ \\x08\\xfe_\\x16\\x80\\x03\\x00\\x18ChatBotSpanish/humor.yml\\n\\x03\\x02kk\\x02\\xb2*\\x0b\\xd9\\x01\\xca%\\xb3\\x067tUC3?5dL\\xefE\\\\X\\\\\\x80$D\\x99f\\x14\\x18q\\x08\\xf0H\\xc0\\x81\\xc7\\xa0;~\\x08\\x9e\\x97~\\x05\\xf6\\xee\\xccEi\\xb7\\x91\\xe0X x\\xde\\x16\\x03:\\xcd\\xa6\\xff\\xd7;vQn6\\nr\\xce\\x8c^\\x06\\xee\\xfb\\xe1\\\\\\xaey\\xf6\\xce\\x9c\\xe7\\xc1?P\\xac\\x15\\xa0kFL\\xeb\\xa8\\xcfd\\x1fE\\xbf\\xaf\\x83\\x9aM\\x17\\xd5d<\\x13Y^\\xba!i\\x92\\xf3\\xb28\\xc7\\xef\\x8e\\xfd\\xbe\\xba\\xeeuTI}rM\\xa1\\xf6\\x9b_\\x04\\x92,\\x8f\\x7f\\xbb\\xa2\\xd9\\xaf0]\\xf0\\x92Sd\\x93\\xaf\\x93\\xbc\\xd1:X.\\x80i\\xb4\\x06We\\x15\\xac\\xc3\\xa3\\xab3\\xed\\xe7\\x93\\xa0\\xcb\\x93\\x92S\\xff{\\xf6~L\\xdc\\x04?\\x94\\xf3\\x04\\xe4\\xb2\\x9do\\x9cB\\x1d\\xe7q\\xe2\\x02r\\xc9\\xa83\\xd8\\xc3\\x97^\\xb0-;\\x82<\\x00\\x08\\xe7\\xd1\\xd55\\x1a\\xa6~\\xdfe|\\x11\\x9e\\x84f\\xa3H\\xbb \\nC\\xd1\\xd3`(\\x04\\xae\\xba\\x96\\x15\\xc8\\xff`\\x85\\xf4\\xdemR\\xa0\\xf3\\x00\\xd0I-\\x88\\x90i\\x12\\x90\\'4\\xad9\\xa0\\x9d\\x1f\\xef>8J\\x08]\\x0c\\x1b0=\\xd8gN\\xf4~\\xf7\\xfb\\x99\\n\\x0f#\\x9dfu?%\\t\\xa4\\xb6\\xe7Z\\xdc;\\xac\\xc3v\\xf07?\\x00\\x7f\\xc3\\xfb\\r\\x82[\\xdft\\x02\\xca6\\x82\\xe1F\\x01\\xf9\\xb4\\xae\\xd6\\x980\\x8d\\x0e\\xe8\\xd2y\\x82\\x83\\xe0\\x0e+[S\\x85\\xa8\\x02Z\\xea\\x85\\x82\\x02\\x8fnfW\\xc4\\xab\\xba\\\\ \\x18RFv\\x82\\xd3s\\xe8\\xacG\\xecF\\x05\\xe2\\xf9\\x8e\\xeeA\\xf4\\xda\\xb1.](\\xdb\\xfe\\x88\\xbeT\\xad\\xd3\\xb9\\xcc\\ts\\r\\xcc\\xd0\\x13J\\xd2:>@k\\xc3\\xc1?{\\xfd\\xdf\\xd2`\\xe3\\x04\\x10ZG\\xa9JS\\'L\\x17\\xb4wk\\x11a\\x1at B\\xf8\\xfc\\xe0,\\xa8\\xb0;\\x06!\\xa8Q\\xe4\\xd0\\x1d\\xa2\\'\\x82\\xb89>\\xf4\\x92\\xfe\\x01\\xbf/\\x8b\\xcd\\xe2!\\x012\\x19!D\\xd1\\x0f\\xa9\\xbe\"\\xa5\\x8a\\xe1#,\\x93\\xf2\\n\\xea\\xdb<ii\\x91\\x1a\\xb8J\\x10]\\x14WI\\x881Z:\\x91U\\xed\\xb8\\ng\\x96lY\\xe1\\xfckjt\\xae\\xad\\x94\\xeb\\x9f\\x06\\x91\\xf3\\x02\\xb4\\xe2\\r@\\x8f\\xdc\\xa9\\x99\\x95\\x08\\xe3\\xbb\\xbc\\x1cS\\xb5&\\xb8\\xfe\\xd2\\xbb\\x1bn\\x02\\x9d\\xe6 BCSD\\xfe\\x9f\\x9fh<\\xe6N :\\x85\\xd8\\xbf!I\\r*1d\\xd1\\xf1S\\xb3\\xfc\\xb0\\xda\\x0f=b)\\xeb\\n\\xe1hT\\xb09\\xb4\\x9d\\x08\\xf0)\\x1ed\\x15\\x10\\x0c\\x07H[\\x0c\\x08\\x81\\x12\\x118\\xca\\x10\\xffp\\xe0\\x0b[L\\xd3\\xad\\x98ti\\xa39)\\x81\\xd0\\xd7\\xf3s6c\\xae\\xbe\\x01\\x91\\x9a\\x96\\x08\\x14\\x0c*=l\\xe9\\xec\\x99Ni!\\xac\\xfb\\x96\\x8e/\\x83\\xe6Y8LIG\\xa8p\\x0b\\x0f\\xa97\\x96--\\x07\\xa1\\xdb\\x1d\\xe8\\x90\\xd1W\\xb7\\xb0o}0:\\x13\\x8a\\xa2<rJs\\x03\\xc0\\xac\\xbf\\x19\\x1e<\"y\\xc2y\\xf4_\\x82\\x8a\\x97\\xea*\\x94\\xd1\\x8a\\xd3Q\\x13\\x97\\x03\\xe0]\\rc\\x1d)\\x8f\\x13\\x96\\xb7\\x949\\x17\\t\\xdd\\x9d\\xf8\\x0c\\r\\xa7P\\xc8\\xd1!\\'((9~$\\xbd\\x8a+T\\x0fA\\x10\\x92\\x8f()\\xeb\\xe0\\xd2g\\xcf[G[A\\xa3N\\xae\\xa2e\\xd9bD\\x0c\\x16\\x83\\xa1\\x81)\\xa2]g\\xee&\\xd8;\\xea\\t\\x8fQom/\\xeb\\x1f\\x91Y\\xcf\\x8dJr\\xdc\\x84\\xa7\\'d\\xfc\\'\\x8b\\x93\\xa0\\xcd)/-\\xf6\\xcd\\x15X\\x96\\xdd\\x16\\x05\\xf83\\xed&.\\xd1+\\x01\\x87\\xd4\\xf8\\xa7\\xb93}\\xc5\\x83\\xed\\xb1\\x81\\xb7\\xa7%\\x84Z!\\xa9E\\xc3\\x7f\\x1c?\\x95\\xae\\x8c\\xed\\x07!&\\xa1\\x1b\\x81^\\xbb5\\x95i\\xdb\\xd8+\\x9c\\xed\\xb7\\x1e\\x1a\\xce\\x84a\\x9a\\x86\\xacJ\\xaa&\\x0ez!\\xc0\\xaf\\x04\\xb9\\xfc\\xb8+\\xdc $\\xfd\\xd2\\xd0cr\\xc6\\x1em\\x1a\\x0bTpXkD1\\x9a\\x0e\\xa4\\x89\\xf6\\xae\\xbd\\xb7\\x8dT\\xeb\\xcb\\x8c\\x1c\\x12\\xc6\\xb4`\\xb6\\x06\\'\\xd5\\xa8r\\xc5\\xc9@\\xfb\\x9aR\\xb4\\x9973\\xaeVK\\xb3u\\xbd\\xb5\\x17^\\xcd\\'\\xf7\\x83\\xf5d\\xb3)\\x95^Y\\xa8X\\xac\\xee\\x1c]\\x02\\xfc\\xcb+\\x01\\xd2-\\xbdY\\xdfI\\x9d\\xb1\\x86\\x98\\x95GP\\xc0\\x15V\\x85\\xde\\x81_\\x1f\\x1d\\xfd,\\xc5\\xa7\\xa2!\\x84\\x80\\xc9\\x1a\\x89\\x14IOV\"$\\xb5\\xe0\\x1f\\x98\\xfc\\x1c\\xf2\\xb3g<\\x9f\\x89\\x04\\x84`\\x91LH\\xfa\\xdb\\xe0@^r\\x9d+7\\xa7\\xe7\\xe4\\x99\\xda3v\\x9e\\'7\\x12\\x84\\x86\\xdfi\\x128\\xab\\xa8l\\xb5q\\x0c\\x13\\xe2\\x80R\\xc1\\xa1\\x10\\n\\xcd\\xbe\\xde\\x03\\x8a\\xd1|\\xaa\\xc5\\xdb\\xf0\\xd5\\x85a\\x7fO\\xceM\\'\\x8ev\\xa6\\xf9\\x0eT\\xc7\\x82J\\xa9~r\\x99\\x0b\\xb6\\xa7\\xb6bbJh\\xcb\\xc2\\x93\\x1d\\xd6\\xcc\\x13\\xd3\\x18ZTH\\xb5\\xa9\\xea\\xb0\\xd1\\xa3\\xba\\xd9_Ta\\xb1\\x97\\x03UB\\x81\\xeevC2\\x80\\'t\\x8a]\\xc4\\xaf\\xce\\xe6\\xa5\\xc9z\\x9fUo\\xaf8\\xbfW\\x80\\x1f\\xce\\x04>Q\\xc8u\\xe2\\xdb\\x7f\\x0e\\x02\\xf3\\x85\\xb9\\xec\\x95\\xae\\xaa\\x94\\x8b\\xda]\\xa6\\x85\\xfdq\\xbf\\xd1\\xf2B\\x9a>lJ\\xe1\\x12\\xac\\x80]`J\\x98M-\\xd5\\xe7\\xde\\xd0\\xa8h\\x17\\xda#g,\\xa2PS\\x07\\xd6\\x92L\\x9f\\xbc\\x98]\\xbe\\xcdo\\xa4Fx\\xc5\\x8b]\\x14\\xe5\\x873\\xdfADE\\x85\\x1e\\x1f\\xc2\\x91T\\xb7\\xc1bZN\\xd7\\x8cE\\x92\\xc1!\\x0c\\x1a\\x97\\\\\\x9a$\\xbcRaX(\\xba\\x8bs\\xd8\\x0fy\\x04.\\xbb-\\xe6\\x02\\xff\\xeb!\\xee\\x1a\\xef*\\t\\r\\xaa\\xabqc\\xea\\x1c\\xad\\x8d\\xaa\\xa6\\xdb\\xeb^3\\x88\\x7f\\x11w\\x83\\x88\\x13C\\x88\\x06F\\x96U\\x99\\xb4\\xe4m\\xec\\xce|+DY2\\xa3.\\r\\x07\\xe8V\\xcd\\x99\\xc2)\\\\\\xcbF\\x0bQB!\\t\\x085\\xf1-\\xca\\x91(\\xea\\xf9\\x83~\\xaas\\xe8F\\xe4\\xd75]\\r\\xbe\\xdbJ\\xe8\\xfdH\\x86r\\x98\\xdc\\x9bS\\xdc8\\xec\\xf0~\\xe4\\x11Jr\\xf4\\xfc.k_zx\\xca\\n\\xddF\\xe1\\x89\\xa3\\xc2|\\x1f\\x9c\\xbc\\x05m\\xca3\\x08\\x00\\xd3f\\xb6\\xb2\\xd1\\xa1\\xc9\\x9e~\\xc0\\xe6\\x11\\xd7\\xc4GF\\xd8z1X2\\x02\\x99t\\xd15\\xc7%\\x02y\\'\\xcb\\x1d%s\\xe9\\xc2#q\\xa2\\xd7\\x19\\x12\\xa5\\xe4;W\\x96\\x10\\xd4\\xde\\xaa_b\\xb8\\x9cXo\\xba\\xc5\\xbcA\\x7f\\xaelk?U\\x9d\\'\\x05\\xec\\xb0\\x8c\\xe5\\xcb\\xd0\\x80\\xff\\x07\\xf3\\xa2\\x8c\\xb0sq\\x9f\\xdca\\xe9(\\xd8\\xee.#\\x9e\\x80\\xc8i+\\xcb\\x88\\x05-[\\x8c\\x19\\xce\\x03}O\\xcb\\x88\\xc7\\x9f\\xf6\\x02T\\xbfN\\\\=\\x83\\xa1\\x85q\\x9d\\x07\\xff\\xfe\\x94\\x9b\\xd0p\\xf5\\xeb\\xd6\\xdc\\x90\\x8fE\\x885\\xab\\xab\\x1ay\\x1c\\xf9j\\x1e\\x83\\x108\\xf6;~\\x92\\xd9cp\\x1bv-A\\xaf\\x8a\\xd1\\xdd\\x0e l\\xde\\x18\\xe2\\xb3#\\xbc!\\xc4\\xe9!\\xbe\\xbc\\x9b\\xdal\\x9c\\xe5\\xe3\\xc6D\\x8a\\x1f\\xe2\\xd0\\xe6\\xf8ly\\xd9`)o}\\x99z1\\xe4U!\\xcd\\xcf\\x18\\xf46\\xdec\\xd6\\xa0\\xe7\\xfdKs\\x85\\xc7\\xeb\\x12\\xef\\x90\\x93\\xad\\xc5\\xe7i\\xb3\\x1b\\xd1\\x1d\\xa4\\xabj?\\xc0I_\\x96\\xb1\\xde#\\xbd\\xbe1\\x10%O\\x11[[\\xd4\\x92\\x16c+8\\x9cq\\x07@4S\\x1f\\xb6\\xeb\\x06\\x1f\\xe7\\xc7\\x91\\x9a\\xbe\\xc9\\xf6\\x8bL\\xf6\\xfa\\x9c\\x15b\\xe0\\x11\\x8el\\x80\\xa6\\x80\\xb0S9\\x02\\x03\\x0b\\xe7\\x0e\\x04\\xfa! \\x06-\\x01\\x8d\\x80\\x03\\x00\\x1dChatBotSpanish/literature.yml\\n\\x03\\x02_K\\x8c\\xcb*\\x0b\\xd9\\x01\\xcd\\xf3c\\x07@eEC#O5dL\\xe6\\x8a\\xad\\x00Z\\x8b\\xb7x\\xde\\x12\\x06\\x0e\\xec\\x1d\\x83\\xf0\\x01\\x97\\x9a\\x95.\\xaaT\\x1dU\\xd5}\\xaa\\xa4\\xdazm\\xe40\\x18\\x1c<o\\x0b\\x88u\\xac\\x98A\\xf4\\xcf{T\\x92b\\x0b\\xf0\\x8b\\xd1\\xa0\\x92\\xae\\xf8L\\xcf\\'\\xd2\\xb4\\xec\\xfe\\x13\\xe9\\xe7>\\xe4D\\xe9\\x89\\xa5\\xad\\x93\\xb9\\xf42\\xaf.\\xd7\\xe5#h\\xad\\x8f6l{6\\xa6u9\\xcf:\\x8d\\x14\\x1e\\x10\\xe3?\\xbf\\xab\\x19!\\xd7?\\xdb%\\rm\\x99h\\xa596\\xa4\\x918}\\xa7\\x94\\x81\\x92yi\\xa3\\xe1,\\xd4[\\xf3\\xa6J\\x997\\xde\\xb9`G+g\\xb2\\x97\\x05\\t\\xb2\\xca{(Nx1M\\x08\\x85\\xad\\xee?q&\\xdb\\xb1\\'M\\xa9\\xf0\\x07\\xe1\\xfb\\xbdHB\\xf3\\x96\\\\\\xf6\\xf5T\\xbd\\x00\\xc7*\\xf7\\xea\\xcdC\\xeeBe6\\xb1P\\x1fpxA\\xdd`\\xf5N\\x08\\xd9\\x8a\\\\Z\\xe1\\x9a\\xac\\xcdghh\\xca\\x03\\x85\\xe2L\\x86\\xe3=\\xf4\\x1a\\xa8\\x01\\x02>\\xc1\\x08\\xbbuQ:\\x04\\xbf\\xc6\\x81\\xfc\\x03`a\\xe1Pi7\\xb39\\xe8:\\x15G\\x88\\xb7 \\xc7Bh\\x82\\x005\\xe6\\x1a\\xf8G(\\xc6\\x0f\\x94H\\xec\\xa6\\xf9\\xd1\\x12H\\x95\\xabnLa.PX\\xe8\\x16\\x88I;\\x8a\\xec\\x18p\\x93\\x9f\\xf1\\x06g\\x00\\xa0<\\x14\\xe2\\x88\\x1b\\x9e\\xed+\\xc2\\x8c\\xba\\x97gMj\\x8b\\xe6\\xc8\\x1f\\xd1\\x13\\xeb\\xd1L\\xc7\\x8d11{>\\xfc7\\xa9\\x82\\x07\\xb7\\xd71\\x9f\\x15\\xb8\\xf8\\xc5\\xec\\xf7\\x8e\\xe6\\xdf\\x92<\\n\\x1a\\xe9\\xed\\xeb\\x80\\x14pB|/\\x15\\xda&\\x89\\xbc.\\x98\\xe7\\xae\\x0c\\x93\\x91\\xd8X\\xfa\\xe4\\xdd\\xa6\\xb1%\\'\\xf2\\x12\\x8cm\\x17{\\xb7yr1\\x1e\\x1e\\x17\\xb3T\"x\"y\\x18A\\xb5\\x94\\xd9\\x19\\xd4\\x0c\\xf1\\x859^\\x8e\\xa5F\\x0e\\xb9\\x98\\xa2v)\\x1c!W\\xe0\\xcev,~\\xf2\\t\\x0e\\xf3p\\xf6\\x98e\\x9ep\\x8e\\xe5\\x8f\\xcd\\r\\xaf7c\\x06\\xdds\\xcf\\xe8b\\xad^q7S-\\xf9 =4$j\\x928\\xd5\\xfdG\\x18\\x07zYGy\\x0b;\\x1d\\x8f\\x18\\xaf\\x8b\\x90\\x01\\x96\\xc9\\x83\\\\Q\\x1b\\xd1\\xd0\\xbd\\x0c\\xac\\xe8\\x8a\\xbcFT`k\\x89%Z\\xc2\\x0c\\xe2x\\xdeH\\xb3~\\x1b\\x1f\\xa3\\x04K\\x7f\\xb4\\xf8\\x82CMq\\x11\\xecMVvmq6bf\\xd5M\\xacd\\xfa\"f\\xf4\\x80\\xcc\\x88\\xb2\\x0bwZ\\x05\\xa9\\x97\\x12\\xbe\\xbf\\\\:\\xfb\\xbd\\x8e\\xdc\\x9fo\\xa8a\\xb7\\xa8\\x8c\\xbc\\xcb\\x1fb\\x8bP\\xdb\\xa0\\xe3\\x19\\xb9\\xdb@\\xc1?\\xcc\\x82\\xb2\\xd9k v,\\x01\\x16\\xff\\x81\\xde8\\x83\\xac\\xadJU\\xc6\\x12\\xd3\\\\\\xd2\\x94\\xa2\\xa6(\\xd8\\x91`\\xd54\\xc0\\x1a.`\\xa7\\xa4\\x1cUX\\xdb\\xfb\\xb2:\\xb8\\x00\\xf2\\xd0\\x9da<\\xf4\\\\1\\x86\\x92\\xa0\\x95\\xdd+\\x80\\xb1if\\x1eC\\xff\\xc3X\\xda>H\\x10nD\\xd5\\xc1\\xa5t\\xcba\\x06\\xd7\\x9b\\x7f\\xeacZ\\x02\\xa5AdF\\xd0\\xd1R:z\\x191\\xb1\\'\\xefa\\x1bD\\x82\\xcf\\xff\\xa9\\xe3u\\xe0\\xb2\\x8c\\xea\\xc0\\xb8R\\x0b\\xe9e}\\xe6o\\xae\\xa8w\\xd6\\xda\\x0f\\x05\\x82@\\xe9\\x94\\xe5G\\xb6R~\\xdf\\xa6\\xe7x\\xc8\\x08\\x89U\\x0f\\xee\\xb9\\xbc,\\xbc\\xdb\\xf3\\x93\\x88\\xe0\\xe1h\\xf1\\x88(\\xd0\\xba=X\\xa8\\xa9\\x92\\xa9\\x9e\\x97D\\xc9\\xc9)\\xc1\\xe6y\\xd0H\\x7f\\x89j\\xec\\xa2Q\\xe7]\\xb0\\xadl\\xe7\\xdaR%\\t7\\xac\\xb7\\xe2\\xde\\xd9]\\x91\\x18^\\xf3\\x94GoSw5jc\\x12\\xd0\\xac\\x99\\xba\\xb5 F\\xe2\\x98Q\\x88\\xf0\\xc2\\xea\\xe0\\xb0\\xf0JN\\xf7\\x18l!\\xa6h2Oq8\\xc2c(\\x9f;\\xe4\\xf6\\xc4\\xc3\\xc6\\x80\\xeb\\n\\x96\\x95 \\x01G~\\xab*\\x8cpg\\xa1\\x9d\\x12\\xc0\\xd16\\x81\\xe0\\xe6\\x10\\xfd1\\xb3\\xc1\\xb8\\x88\\x94\\xe2\\x81\\x05&\\xd6yj\\xf1\\x0f\\xf1\\x10\\xac\\x9d\\xa5\\x90e\\x9ccR\\xe1k6\\xe4j\\xcb\\xd5\\xd4\\x13\\xc0\\x93\\x14,e\"\\x0eX[\\x86\\xeb\\x9aV\\xfb#W,vwp\\xc8KQ(\\x1eJ\\xd7\\xb7\\xd0\\xe0\\xd4\\x84\\xa9\\xf6\\x9b\\x8a\\r]of*:\\x11\\xf6\\xc2\\xe2\\xcb[\\xa8\\x88\\xe6\\x96\\xc6\\xe3\\x15\\xa6\\xe2^\\xf6G\\x1f\\xac\\xb8Q\\xf6\\xfa\\xa8\\x01\\x0f\\xfb\\n\\x87Od\\xaf\\x0e\\x02\\xdcD\\x19Z\\x04\\xbf\\xf4\\x93\\'\\x8b.~|LrTdD;F\\xd6\\xac\\xd35\\xd1\\xa7\\xd3#C\\n\\xe1\\xe4\\x9c<\\x96UxE)zW0Ph\\xee\\x11\\xc0\\x15zE\\x85\\x17\\x99\\x1d\\x9d\\\\\\x10\\x8d\\xb7\\xaab\\xd1\\x84\\x86\\\\\\xd4\\xe5\\xba\\xe4\\xd8J{\\x11V\\x8b\\x19\\x06\\xb0\\xa2q\\xa1\\xb4f\\x93\\xf8\\xc1&\\xf8C\\xd2\\x90\\xc9\\xc1\\xa65\\xb9\\xf7x\\xb8yC\\xba\\xaado\\xa4\\x17\\xc2U\\xd0\\xf5ZW\\x8c\\xa5=w\\xaa\\x7f\\xef\\x0bzG\\x89\\xca\\xe4\\xeb\\x12\\xb2\\xbd\\x80\\xe3<m\\x7f\\x91\\x8f[\\x85%4\\xa6\\x8c\\xa9\\xef\\t\\xc7+\\xe7\\xdf\\x14v^\\xa73\\xdf0vF\\xb3\\xa5RU\\x03\\x9d<\\xe3\\x8c\\\\j~W-\\x13\\xddsX\\x9e[\\x9e\\x1a\\x0b\\x98\\xc8A\\\\>w4\\xabq:\\x81\\xed? \\x90\\xba\\x90\\xb3-|\\xd5kIU\\xc0\\x8e\\xf1\"\\x9e\\x88^\\xa0\\xe0\\x7f\\x88\\xa0\\xdd\\'O\\x18\\x9a\\x84\\x88\\x19@\\xb83(n\\x9aa\\x86\\x02\\xbe\\xc5HB)!\\xd7\\xb7\\xe8\\xda\\xce\\xa4:K\\x1aNX\\xcf\"\\xadds\\xc4f^}\\x95\\xd2\\x1b\\xe1\\xa3\\x19}-\\x96j\\xa1DQ\\xd2o\\x98\\x8f.`A\\x9b\\xcb\\'8\\xf8\\x11\\xbfPG\"\\xe5\\x9b\\x8c3\\xcc\\x9c\\xa3\\x84\\x0c\\xc5G%\\xca\\x86\\x1e\\xa5\\x97\\xc5\\x91\\xa3\\t\\xfbz\\xccA]\\xa6\\xef\\xf1\\xbb\\xdcG\\n\\x12\\\\\\xca\"\\xc7I\\x04\\xa6|`t\\xfc\\xf7iQN\\x9ae\\x8du:\\x80\\x878-2\\xdf\\x19\\xb4)\\xc3o\\xd2\\x95?\\x914O$\\xc8\\xab\\xb3X\\xf5oTr\\xca7\\xa9\\\\\\xbc!u\\x1c\\xe9\\x95\\x8f\\x93\\xf5\\xd4\\xa3\\xa9\\xa9\\xec\\x13\\x0f\\x866\\xe8\\x07?\\xf9\\xaf\\xc7GS\\x1f\\x92-\\t\\xe7\\x12\\x0c\\xd4\\xcc\\x96\\x90\\x04\\x95\\xfd\\x8370|\\x82\\xc2rhJ\\xc1$\\x15\\xb5\\x84,\\x86\\xc5M\\xb53\\x15OF\\xf8\\xbb\\x89^`\\xf8Z\\xe5G\\x0f\\xe9\\xeex\\xe8\\xbe3\\xef]Vp|\\x9f\\x9f\\xe7\\xfax\\x84\\xa5\\xad\\\\\\xb3j!\\x05\\x06\\rSt\\xebd:\\xf2o\\x03=\\xee\\xd9\\xa8\\xf8VD\\xc3\\x0c2\\xfa\",\\x99\\xb1\\xa2]ZXz\\x8e\\xa2z\\xa8\\xb2\\xdb\\xc1\\xd1N\\xfa,:\\x05\\x07\\x12\\xe9\\xf7\\xc6\\xd0\\xcd\\x88\\x03C\\xcf\\xb6\\x91\\xad\\xa5B\\xd5\\xa14j\\xfe\\t\\'\\xed\\x08!\\xcf\\x17\\x983\\xd9P\\x18\\xfb\\x9d\\x07{4\\x10\\xeb4\\x00w\\x9c\\x00\\xe0\\xb6\\xe5v}y\\\\R\\x9dl\\xe2\\x13X\\x88\\xa7\\x143\\xd5\\xd8\\x94s\\x08U\\xec\\xc2\\x85\\xa4k\\x04K\\xf6\\x98\\x16\\x00\\xc4\\x8dJ\\xb4\\xdc\\xa00V2(\\xc9a1\\x93]I$\\xc1\\n\\x0c\\xa8\\x8bt\\xf0/\\xc5N\\xa5\\xef\\xf3>\\xdf\\x88:F\\xbb\\xb1O\\xfd\\xbe\\xbe\\xc3&\\xf4\\xa0T\\x1d\\xb7\\x08\\x95\\x05e\\\\\\xbd\\x01\\x89\\x95\\xeel;\\xfb\\xe9J9\\xac!0\\x0b\\xf9L\\x14\\x82}\\xe0\\xfd\\xf3\\x83\\xbb@\\x07\\xa5\\xcf\\xc3\\xa1e\\xf2\\xffG\\x03\\xech\\xf9\\xb4\\x83\\t\\x14$\\x98\\xb9\\xd1{m\\xb8\\xa1\\xae\\xa3a\\x15L\\xc5\\x1b:\\x1b4\\xd4\\xb4\\xaaU\\x80h\\x8b,\\x92\\xc3\\xd6\\xb5jFs\\x8e\\xd1\\xb0\\xb8\\x19\\x8b\\xaaz\\x81b\\x1aJ\\xd8~\\x98X\\xb1:\\xd0S\\xb0I\\xcd\\x1c\\xc3\\x074\\x95\\x9bHt\\xc5\\xa71\\xd5\\xbc\\\\ \\x1e\\x0c\\x87\\x94\\xc1\\x80\\xec\\t\\\\\\xe5\\xca\\xb2\\xc5wO\\x08\\xfa>OD\\xe8\\xe6<\\x08&&x[\\xce\\xc8\\x9f\\x07\\x93\\xbboS\\x07\\xe4\\xf5dL-\\xc5\\x83\\x19`\\x9b\\xb1\\xd7+\\x9d\\x98\\xac\\x94\\x16Q\\xe9/Q+\\x9f\\x1a\\x98\\xa5\\xad\\x8d\\x8fR\\x1eK\\xfb\\x89-\\x97\\xaa\\xe9q\\xb3\\x94\\xfd\\x0c\\x91\\x8dT\\x02\\x16\\x06\\x93|V+q\\xd8\\xcfWM\\x1b2a\\x92\\xe4\\x03\\x07\\x8dw\\xfaO\\xf0CV\\xa3\\xbb\\x85k\\xfd\\x189\\x13\\xf9}RP\\xc1\\xb35\\xf7\\xf3\\xfa\\xe3\\x15-\\t\\xec\\x92\\xd1f\\xd1\\x80\\xfe\\xb3\\xd8e4\\x02\\x03\\x0b\\xe6\\x08\\x04\\xc4\\x14 o\\xf9(\\xbe\\x80\\x03\\x00\\x18ChatBotSpanish/money.yml\\n\\x03\\x02\\r\\x99\\xd7\\xd7*\\x0b\\xd9\\x01\\xce\\xf2b\\x047uD43?7tM\\xeb\\x85\\x1doNL\\x12\\t\\xad\\xe9z#\\x9b`\\x908 \\x13T\\x16\\x7f\\x05\\x88\\xa0I\\xb3\\t7\\x82c\\xe3ob\\xd0\\xb4@\\xf8\\x04\\x02g2I\\xb5\\xf7\\xd5vI\\xccA\\xbcoC\\xe1\\x89 \\x8f\\xe1u^\\xf7\\xaa\\xae\\xaa\\xac\\xf1\\xea\\xfe\\x13\\xe7\\xd0=\\xa7\\xdc^\\x87eV\\xe7\\xe1]X\\xfaz\\xbe\\xe9\\xad}\\xd5p\\xea\\xa1\\xf7o\\xab\\x0cM\\x1a\\xce\\xc8\\xfb\\x8f\\xd7M\\x0cF\\x8af\\xb2\\xa9\\xafv\\xe7]\\xd54\\xcb\\xdb\\xfa>c\\xd9p\\xfd0\\xeb@\\x01].\\x18)\\xf0\\xa6\\xb3\\xcb\\x07\\xed\\x8b\\xbc\\xef\\xb0\\x07og\\xf0\\xeb\\x02Q\\x8eN\\xe1\\x05\\xb7\\x9e\\x06\\xa3\\xb0\\x08\\xdf\\xb2`\\xb2\\xe1\\xe8\\xf6;\\xe8:\\x02\\xbb\\xc5.\\x01|\\xc3hkX\\xaa\\xaf\\x1bzm\\xff\\xff\\xfd\\xfa\\x9e\\x13\\x7fp\\xe3\\xdc\\'\\x85\\r\\x82\\xe7x@<>\\x97\\xb4\\x19r.\\x16\\x07\\xbf\\xd5\\xd1\\x00P\\xe9\\xde\\x95L\\x9d\\xc3\\x8f{\\xa4\\xb6@\\x89\\x01U\\x9e#\\xb7w\\x87I\\x03pL\\x12\\xcd\\x89,\\xa1R\\xd3Q\\x91\\xff\\xa2\\xb1\\xfc\\xea2\\xa1U\\x0501\\t\\x8c\\x89(\\x987\\xc9\\xf3\\xa4$F\\xa2\\xf4\\xd1\\xdd\\x17\\n\\xfb^\\xa1\\xea\\x9a\\x1d\\x19\\xa7\\xaa*$\\xa9Jk\\x833O\\x10\\xe5\\xf3\\x93\\x95\\xd4y\\r\\xd6\\xc5\\x96\\xd6\\x0cgk\\xbaD\\x07p\\xd1\\xd67R\\xba[\\x0c\\xa1\\xe1\\x15\\xe0\\xf4\\t`\\x95}\\xac\\xd3\\xf1.\\xd0\\xd7\\x18\\x9e\\x9e\\xf7\\x1d\\x98WGKb\\xc9\\x94wd\\xfe\\t\\xb7t0e|^\\xe1q\\'\\x87\\x03\\xfdyM\\xc1\\xa3\\xb9$\\xcb\\x1a\\xb9P\\xcd\\x08\\xdd\\xdaJi\\x12~\\xe1\\x924\\xf8\\xd5\\xa6\\xa27\\xee\\xcc\\x95\\x84\\x9bx\\r\\x10B\\xe5Q\\'\\xf09\\x8e\\xb2\\x04\\xf3\\x02\\'p$0\\x82\\xa3\\xce\\x00\\xb4\\x83\\x99\\xddj\\x94(=\\x8d\\xf8H3\\xd1O\\x1fz\\xf0\\xf4\\xafsV\\xc2\\xb1\\xac\\x8f:\\xdc\\xd3\\x1dG\\x8a\\x10I\\x0cc\\xaet\\xdb\\xe8\\x88W\\xec\\xa9\\xb9N\\xbb%`\\xd2\\x0c\\xbe\\xba\\xbd\\xae\\x8b\\x97\\x1fr\\xa4\\xd6L\\xbc\\xd4\\xd8h\\x04@)\\xd2\\x85\\xb5?\\x05\\xdc{\\xd2.\\xc3\\xb0)\\xa3lH-\\xbc#O\\x17\\x95\\x92\\xe8\\x10\\xde\\x11En\\x81\\xbd\\xb7\\x1aj\\x03 & ?8\\x08l\\xab\\xb2\\xb0\\x91G\\xa5S\\x1f\\xe3P?~\\x92\\x8a\\x81\\xb2u\\xe5\\xc2>\\xea]\\xa56m\\xf2@\\xea\\x19\\x96\\xb16%\\xf0\\x92mD\\x05\\x90\\xe0*;\\xcd+\\x1f!\\xdf8\\xdc\\xa1\\x9d\\x92\\xf0\\x05\\xcbZ\\xc9\\xa6\\xe4f\\xda\\xf7\\xf6T\\xa0l|w,\\xe17\\xa7J\\x1f\\xdf\\xe3\\xc0~\\xe7\\xa3\\x93\\xfb\\x8f\\xbc\\xd8Mj\\xcf\\xeb\\x1fU\\xd1\\x91\\x12\\x87\\xcd\\x99\\xde0\\xc2\\xdc\\xee[\\xea^\\x1a\\xf4#\\x88\\x82O,D\\x92+\\\\EQ\\x0e>\\xeb\\x18\\x0f(,@\\x15M\\x15\\x17[\\xb7\\x9b\\x17\\x93\\xb3\\xc3O\\xe5\\xca\\xcc\\xcb\\xbef?W\\xdb\\x029!3\\x13w\\x10\\x05y\\xbd\\xaf@\\xddSm\\xfcnZg\\x86w\\xc63V\\xc0B\\x14\\xc2A\\xfb\\r\\xbf\\xc7 BxH{\\x83`\\xc2\\x0bu\\xe2\\xd4h\\xa7\\xffk\\xb6G~\\xa3\\xaa\\xd5\\xde:\\xb2\\xd5v \\xb9\\xec\\xaa\\xd5~\\xd5\\r\\xebj\\x1a\\xc1\\xd3\\xe9jS\\xbb\\xb4\\xa0\\x1e\\xb2\"u\\xc5x\\x9d\\xb5\\xda^I\\x7f_.\\x83|\\xd0\\x16\\\\{\\xa8\\xba\\xba\\x1a\\xb6\\x0b\\r\\x8d\\xa3\\'\\xc8J\\xb2\\x93\\x81\\x9bM\\xd7kD\\xe6g\\xe1\\x14\\x99\\xbf((g\\xd2\\xfa$\\xbd;\\x8c\\xf3\\x10g\\xd06\\xf6Eq\\x93J\\xaa\\x01\\x82D\\x12\\xf2U\\xe5(\\xebRk\\xca(\\x94\\xcb3\\x8e\\x02\\xacC0\\xb2\\xe4\\xaf\\x1e\\xb5\\xc8\\xc4ePMR\\xe9\\xc3^E\\xe2\\x93lFK\\x1dEm2\\x83\\x99\\x86JU\\xb1\\x84F\\xfd,\\x0b:\\x19\\xf6\\x1b\\xb8\\xad\\x99\\x8b\\xbeW\\x06\\xd1\\xc2\\xe9x\\xd3\\xa6\\x9ae\\xc6\\xccn\\xab@?Z\\x88 (\\xf2\\xce\\xf0\\xa3\\x86/+\\xb1\\xd3\\x89\\xbd]\\x15B3\"\\x83\\x9d\\x9d\\xd0\\x05`\\xaa4n\\x7fv\\xe7\\xbd\\x03\\x0e\\r\\x1c|\\xe7M2\\x08\\xdc\\xc01kf{o\\xceo\\xfc\\xdb\\x82!\\x94\\x94L\\x8cY\\x90r\\xbc\\xc4\\xcaO5\\xd3\\xcc\\xf2\\xb2i/\\x89y?\\xc9*^|\\x92\\xc2\\x9a\\xec\\xfe&e\\x12\\xf2\\xfcLQ\\x98&j\\x01\\xb8&\\xab\\x98,\\xe2\\xc7\\xb1\\xdc9\\xfe6/\\x00\\xfc\\xa6\\xa6\\x0bO\\x93c\\x80\\xbb4\\xdb^p\\xe9\\x01z\\xf98\\x85G\\xa1\\x15\\xf1\\xb2X\\xe63\\xa0\\xees\\xc6+\\xe3\\x8a\\xdc\\xeef4|\\xe2B\\xff\\x95\\x87T\\xc6\\xc8f\\xfe\\xbf\\x1f\\xbc\\xfcn\\x06\\xed\\xd1\\x0f\\xf8M\\x1e-\\xa4\\x13\\xfc\\x80\\x97?_\\x88\\x0c\\xf1\\xddl(\\xec|]\\xe1vm\\xf9\\xd9\\t!\\xb3\\xe2\\xf8r\\xe3\\xfe\\xb5/\\xa6A\\xfe{\\x0ex\\xb5\\xf8\"\\x8dN\\x98GU\\x90\\x17bc\\x155\\x02\\x03\\x0b\\xfd\\x05\\x04\\xeb\\x0b \\x8e?\\xc4\\x12\\x80\\x03\\x00\\x19ChatBotSpanish/movies.yml\\n\\x03\\x02\\xf11i\\xe0*\\x0b\\xd9\\x01\\xcak\\xf9\\x02FdCC3\\xf4P4\\x9dp\\xa1Jf\\xd5&\\xa3n\\x17N\\x07N&\\xe9:\\xa4\\xe0r\\x03\\xba\\x0e\\x90\\x8e\\xee\\x82\\xf4h4\\x89\\xe3nG\\x02\\x81\\xd2\\x8d\\xc2\\xea\\x99\\xe6M\\x92\\xff\\xc0\\x06\\xe9\\xf0G\\x8a%D\\x91\\xe1\\x99wy\\xe29\\x05\\xe7\\x88\\xcf!\\x99\\xf6e\\xd5\\xc5|V\\x85\\xde\\xca\\x9dsX\\xffgG\\xa5V;Ji\\xe8\\xa1\\xd6\\xe9e\\xcf]\\xed4K\\x9c\\xff|\\x19j\\xde\\xa3\\xa4cVe\\xd7\\xd0\\xa5\\'&\\x85\\xdc\\xb1\\xd3g\\x8a\\xbf\\xaeO\\x8a\\x85\\xaa\\xa8\\xe1>\\xa8\\x85\\x9a+m.\\xea\\xf3\\xbdju+\\x9b\\xdf\\xc5\\xafG\\xeb\\xee\\x08\\x91\\xe1\\x1d\\xacB\\xf8\\x8c\\xad6\\x01v\\xa3\\xa6Sh\\x8a\\xb4N>d\\xdf`\\x15F\\xc5\\'\\nr\\x80\\x93\\x19\\x11\\x1b\\x82\\xc3\\xefC\\xca\\xd0z\\xeb\\x98\\x1a\\\\\\xaaX\\x88\\x14fmu\\x9d\\xd1+y\\x10\\x80^\\x90\\x16fM\\xbaO\\xff\\x00!\"\\x81\\x04\\x0e\\xa87:\\x84\\xeeA\\xf8\\xd2n\\xd9\\xf9\\xc1G\\xfc\\xfd\\xfc\\xe1\\xb3\\xf1\\x18a\\x9c\\xbd\\xfe\\xdd\\xb0&\"\\xb0\\xc1\\xd2\\xddnD\\xde{]\\\\\\x01\\xb9\\xbdo\\xdc\\xac\\xa8~\\x11\\x16\\xebZ4\\x86\\x15\\xd9\\xd7\\xd7\\xd95\\xe4Q\\xdc\\xd1\\xa9\\xbf}-Z\\x0b\\xa2\\xa6\\xe6\\xaeP\\x8d\\x9eV6\\x85J\\x8c^\\xdaW\\x10\\xb8#.\\x81\\xfbg\\x88\\x88\\xadx\\x8a\\xcdc\\x95\\x1b\\x1a7\\xc2\\xd9!2d\\x1f\\rD\\xe8\\xda\\x07I\\xe8\\xe8\\xa1\\x8a\\x89q\\xa1\\xd7\\xc5\\x8f@\\xd3@Z12\\xc1\\xa9\\xa0q\\x03\\x9b\\xec\\xdb\\xeb\\xa9(\\xc8\\xcf\\x0c\\x9a\\xb8\\xe0\\xb0\\x08`,>f\\x98l\\xc4\\xed\\x94\\xb6e\\xe4\\x177\\xb7\\xc2?\\xaf4uc2R\\xa3=-o\\xd7\\xd6\\x7fD\\x0c\\x15E\\x16\\x1c{\\xc9\\x9e\\xda\\x87\\xc4Y\\xaf}\\xc3\\x10\\xa7\\x95Q\\xe07\\x97\\x90C\\xd7\\xd9.\\xd6A5\\x91\\xf6\\xde\\x93\\xde\\x96\\x94\\x19E\\xb2\\x89=xU\\xffp\\x1bQ(\\xc7\\xd9T\\xd9\\x94\\xaa\\'\\xaa\\xbe\\n\\xdc\\x1d\\x1d6\\xabgy81J\\xd4c\\xd5+\\x9e\\xcd\\x00l\\xd6\\xfe&\\xf2\\xcb\\xd6\\xa5y+f28\\x97*q~o\\x94\\xe3~\"\\xc2\\x0f\\xee&\\x89@\\xef\\x0c\\xf4\\xe01\\xef\\x8e&\\xe82<\\xebW\\xde*R4H1\\xae\\xe6:Y\\x02\\xc4\\xdd\\xc1Z&?\\xf3\\xb9o\\x96QO\\xd3\\x11\\xcbt\\xac\\x82\\x91~\\t\\xd1\\xccT\\x10\\x1b\\xe39n3:\\xb2\\xda&\\xf3\\x8d\\x07\\xa9\\xd4\\xebLV\\x98/\\xc3\\r\\xb8\\x1aXxTCP\\x963\\xe83Y.\\x88\\xb7\\r\\xa8\\xc7\\xb3\"Kn\\x85+\\xa5\\x1b;\\xd7\\x1e\\xe7\\xa7\\x16\\xafA$\\x04\\xf4\\x1b\\r\\x1f!\\xfd\\xa7s\\xea\\xeb\\xb3\\xf2\\x9bs\\xf0\\x87k/.g\\xb4\\xe2\\xcf\\x8a\\xbc\\xf6\\x1d\\x92\\xcf\\xfdi\\x08\\xf7Z\\x89\\xb7N\\xe2\\xacl\\x911\\xbf\\x9c\\xab\\xd2b\\xad\\xeb\\xc0k\\x91\\xd9\\x7f\\xeb\\x85\\xb7\\xc4\\xdc\\x0c\\x08j\\x1d\\xff\\xf5-\\x81\\x94\\x1b\\x16\\xf7\\r\\xbc\\xce\\xf4\\x0el\\x94\\xcb\\xde\\xf1\\xdcA\\xa3\\x1a\\xf1\\x9eA\\x96R8\\xbd\\xc9\\x1c\\x95\\x91<>\\xb5\\x96\\'5\\x87\\x971\\xf0\\xa0\\xf4\\xb7g\\xeb\\x0c\\x1dp\\xe4JU/\\x8e\\xa1\\xa7\\x0c\\xa1\\x08\\xee~4\\xc9\"vK5\\x16xH\\x9e\\xa0FT\\x86zO\\x1d}]=@Hj\\xe7\\x997\\x02\\x03\\x0b\\x8c\\x07\\x04\\x92\\x0f \\x8a\\x16;f\\x80\\x03\\x00\\x1bChatBotSpanish/politics.yml\\n\\x03\\x02\\xcc\\xb7\\xc1\\xe7*\\x0b\\xd9\\x01\\xcc\\x1d\\x88\\x03HeC42\\xf4\\x87D\\xdf8R\\xe0\\x18f\\x83a\\xa4\\xa3A\\xa4\\xa2\\x8a\\xa3\\x82&\\xda\\xc7\\x10?\\xf24\\xde\\x038\\xd9\\xb0\\xd14\\x14k4\\x95Fs\"H}\\xe4\\x93\\xc9\\x99%\\x12\\x83\\x87\\xc9R6\\x95\\xdd\\xfa\\xfd~\\xbbI\\xf1\\xfb\\xfc\\x13\\xfb\\xef\\xb8\\xf5-\\xc9\\xd5\\xdf\\x8b\\xdd\\x0f7G\\x91\\x98_c\\xf2}0\\xe8\\xa6\\xfb\\xb7\\xbb\\x184\\xd0zI\\x89\\xfb\\xd2\\xd82\\xc7p\\xea\\xaa\\xf6:\\xc6\\x0e\\x16\\xe7s\\xe1\\x93z\\x18\\xc4\\xd2\\x06\\xfe\\xc6Z\\xdc~I\\xda\\x83\\xdd\\xa7\\x87S\\xd2<6\\xca\\xc7U\\x0f}\\x10\\x03w\\xb6\\x9e\\xb8\\x941\\xf7\\x13<O-^!\\xb6C\\x7f\\x0c\\xdc\\xc4\\xc0{`K\\xa3\\xf7\\x8d\\xd7\\xcc[\\xd6\\x01>\\xa7\\x00\\xb1i\\x17>\\xd3b\\xe8F`\\xa3\\xdd\\xd6\\x88\\x13\\x07\\x01\\xbe\\x03J,\\xbf\\x9c2\\xb1\\xc8q\\xc0\\x80\\xa5\\xd3\\x0b*J\\xc7\\xe7\\xfc\\xd1\\x13\\x87\\xdc\\x02G\\xda\\x9e\\x86\"\\xf8\\x06*1\\xc5_\\x1a\\\\lV[\\xfbV\\x93\\x8b\\\\8^\\xdbQ9I\\xec\\xe7\\x1a\\x8d~\\xdc\\x1e\\xb7\\xa2\\xf31\\xe5\\xb7\\x01\\x0fu\\xa1\\x84\\xae\\x8a\\x98\\x91\\xda\\xf3\\xc1\\xecJ]9&W\\xd5x\\x842\\xc1\\xb8\\xe5\\xa0LI y5-\\xc9JO\\x15H\\x93Vt\\xcc\\xc3\\xa1\\xb0\\x83\\xf1}\\x1d\\x88\\xeb\\xd9\\x191\\xf9\\xa3d\\x1a\\x81C;\\xb1\\xc5\\xbb\\x17\\xb1\\x15\\xbb\\x87\\xd2\\x81\\xe4)\\xc3d\\x847&7\\x9aO\\xf3\\xecr\\xdavT\\xed?\\xf0\\n\\x9a\\xc8\\x83\\xc90mK\\xd4\\xaaO\\rR\\x88*W\\xe5\\x81\\x12)\\xe5\\xd8?\\xb7=Zk\\t\\xc0>!\\xa0\\x86\\xb3\\xb3\\t\\xab\\x18\\x95\\xa0oK\\xb3\\xa4\\xf6\\x18\\xe7u\"4KF\\xab\\x06p&=\\xa3}\\xbd\\xf4\\xd0!-\\xceD\\xcex\\x88-\\x8a6\\xb9\\n\\xc5\\xf0\\xfeT\\xd4\\xbd\\x82\\xee(\\xb7\\x12\\x943\\x00BM\\x88\\x99\\xb4\\xd7\\x98\\t\\'8\\xa8;\\xfb\\x00\\xa0\\xd0\\x8b\\x8a\\xa6,S6N\\xc6C\\xbdY\\xe9\\xc6\\xa8\\x8a\\xa7\\xffV\\x02b\\xd8\\x12T\\xbeF\\x89\\x90\\x84n\\x84\\xe8x\\xea\\x11K3\\xac(\\xc8-=<H7\\x8csC\\xb2[\\x852T|\\xb0:S\\xc0\"\\xda\\t\\xb4&?\\x12\\x8f8\\xf4\\xf69$)^\\x07\\xcb\\xf9t\\xb9\\x10\\x18\\x1bC}\\xc7\\xb6\\x92\\x0c\\x99\\xfc\\x1c\\x87}z\\xe7\\xe2\\xb9\\xc4>9Xs\\x0e\\x8b\\x1cK\\xea\\x94\\xac\\x90\\x84\\xf5\\xcd|f\\x90\\x9d\\x08\\xf0\\xea:\\x12l\\xa8\\xe5\\x9f\\x02\\xf8\\xa3\\xcdwM\\xc7d\\x80H\\xcd\\x93KI\\xdc\\xf0\\xb5c\\xa9\\x8b,0\\xd1\\xde\\x02o\\x1b\\xf1\\xdcN=\\xb7\\xbcBn#\\xa5^_\\xc6o|\\xa1C\\r\\xf5\\xb7U\\xef\\xba\\xe6\\xa0n\\x1f\\x8f\\x1e\\xe2\\xcf\\x86\\xb1\\x87:2\\x053\\xd6\\xfcD\\x89v\\xeb\\t\\x0eR\\xad\\xe98\\x8c\\x8bt\\x8e\\x8dJ\\xc4j\\x0e6\\x12\\x0f\\xbbV\\xf3\\xa1\\xec\\x99QSm\\xa78O\\xb0\\x11\\x17\\x9d\\x91\\xe9\\x05\\xd1\\xa2\\xf9\\xcc\\xb0\\xcf\\x93\\x1a\\xe2+\\x81\\xda\\xb0\\xe0v@\\xdd\\x0e6\\x83J\\x0c\\x8a\\xfe\\x17m\\r\\x97D#\\xc0&\\x88\\xe5\\x18\\x95mfW.\\xa3\\xd9Y-\\\\\\xa2\\\\\\xf1n&m\\xces\\xe9\\x03\\xd2\\xac\\x8678\\xa3[.N\\xac&\\x00\\xee\\x07\\xcb\\xb7\\xfe\\x00_\\xaf\\xcf\\xb7>\\x1f^\\xb1\\xadcT[*t\\xee\\xe8\\xe8t\\x03VX\\xf4\\xf3\\xc8\\x13/\\xec\\x03tHa\\ts~D\\r\\xac\\xf6Gg+\\xf4\\x8f\\x04\\xc0}\\xe5Ag\\'B\\x8a\\xe5\\xfc#3\\xe5\\x03\\xf4\\x1b\\x9aE6\\xf2\\xf2\\xcd\\xf5\\xc3\\xa5\\xa1\\x9b\\x96 \\x1d\\xf6b\\xf2FG/\\x80g\\xc1\\xd9|\\x02\\x14\\x0c\\x87:\\xa5\\x8a\\x1e\\x82\\x1cg\\xf1g\\xa9\\xb4\\xfb\\xc5\\xaf\\x98\\x07\\x8f\\x03\\x0e\\x05\\x8a\\xee3\\xb7k\\xbee\\\\\\xae\\xc3B\\x1d%\\x85o\\x0f\\xb6\\xab\\xd7\\x8d\\x11\\xd9\\xf8\\xf1\\x9c\\xd4\\xef\\x1f\\xa1\\xb3\\xc0%\\xf5:\\x1e\\x05;hg\\xfb*\\x889\\x02\\x03\\x0b\\xf7\\x11\\x04\\xc40 sj3V\\x80\\x03\\x00\\x1dChatBotSpanish/psychology.yml\\n\\x03\\x02\\xc5g\\xb3\\xfe*\\x0b\\xd9\\x01\\xceo\\xf3\\x087fDD3C\\xf2gD\\xde\\xb8U\\xf0\\x02\\xef\\x80=(7\\x8d\\x80\\xde\\x85\\x81\\x00\\x9b\\xd0\\xf6M\\xd5\\xc9\\xb3DU\\xd5^W\\xc0\\x85g\\x8d\\xad\\x8bFhakZX\\x0e\\xf9\\x96aG\\xcfbfj\\xa6\\xaa\\xe8\\x9c\\xf8\\xf0\\xd4\\x89\\xb3u3\\x13\\x1fOb&\\xb8\\xe4\\x7f\\t\\xfb\\xc1\\x00@\\xf7\\x8cP\\xeb\\xdf\\xc2\\xcbi}\\xdf\\xcf\\xd9\\xfc\\xb6r\\xbb\\x9d\\x1d\\xd6Ug\\x0e~\\xca,\\xaf\\xc1\\xf6\\xdc\\xeb\\xe9>\\x90\\xdb?\\xfe\\xf3\\xcf\\x8fO\\xc6\\xf7q~\\xce\\xe7PxT\\x7fp\\xad\\xc7\\x12\\xd0\\xc3\\xf6\\x1a\\xde\\xcd\\x87\\xfb\\xb5\\xf5S\\xe2o\\x9e&\\xd5\\xf8C\\x88\\x13\\x07\\xad\\x94[\\x81\\xb0\\xdb\\xe7\\x9dv\\x1c\\x0b7\\xda\\x19\\xdc\\x8c\\x9b\\xbf/6\\xfaRSa\\xc5\\xef\\x14}\\x9c\\xd7\\xd2\\x9b\\xb8\\xd9\\xb7l\\xdc\\xdak\\xde\\xfa\\rK\"`\\xfe\\xa1\\xa81\\xf6\\x07\\xe7U\\xb0X<O\\xa7/2\\xf2\\x08C\\xc9\\xb1\\xe1\\xf9\\xe2DNb7\\xae\\x10U\\x9f\\x17\\xc8\\xc9p\\x9f\\xdb\\xb3\\xf08\\x1b \\xc5\\x9f6y\\r\\xb7oJ^\\x16\\xb9\\x97\\xde82\\xa67\\x8f\\xe3\\xcb\\xd43\\xf5iL\\xd7\\xd4\\x1f\\xeb\\x19Y#=\\xcc\\x83\\xafc\\xa8\\xc2\\xe8 \\x9e\\x97:\\xcf\\xb5\\xab\\xeb\\xc5\\xd7R\\xda|\\xc5Dv\\x94\\x9aB6\\x8c\\xc8\\xfc\\x17\\x18s\\xd8\\xae\\xdf\\xde\\xef#\\x1f\\x85Z\\xd5\\x01\\x99h\\x87\\xdc\\xe1l\\xfb\\xb0\\x10H\\xd0\\x98\\xfe\\x02\\x18\\xdc8\\xd5p\\x1ce\\xcc\\xc0[\\x06\\x99\\xff\\x1a\\x1f\\xbf1\\xec!\\x11]\\xdd>\\x95d\\xb3\\xe9H\\xe6Q7\\x1f\\xc4\\xb32\\xe2$0\\xaa\\xcb\\xa3\\xc0\\xff\\x96d\\x808QG\\x0f\\xe8\\xe0rs3\\xab\\x8c\\xc5f\\xae\\xee\\x9f3\\xce\\xac\\xc9\\xa3\\xf3\\xf0\\xc2\\x9f\\x1b;m6rt\\xc3\\xc2\\xe9\\xf26\\xc2\\x8a$\\x9b\\x8f\\x99\\xe5\\x87/\\xb5\\x89\\x19\\x05\\x06\\xe7u+\\x91#zk\\x02J\\xc3\\xb7\\x856]\\x8b\\xa6\\x17\\xe4\\xf4xak>\\xe8\\xc6\\x81Z\\xb3\"\\x8c\\xdc\\xcb\\xedr\\xe0[\\\\\\xc8Z\\xb2\\xd3\\\\\\x16~Jz\\n\\x12\\x1c\\xc8\\x9a\\xfaW\\x03\\x8f#\\xf7y\\xa8\\xff\\x890\\x14\\xa8\\x166[s.\\xef\\x10\\xe6\\x95{\\xf43\\x82\\xf0\\x14mJ\\xcav\\xed\\x0fl\\xe2\\xa7\\xc2\\x1b\\xdfN.\\xe0\\xcbu\\xc1\\xe0v\\x0c\\xbb\\xb2P\\xd4\\xa9\\xc9C\\xa3\\xb9\\xf3;\\xfa\\n?\\xbf\\x17q\\xef\\x1a]\\xce\\xddS\\xe1\"\\x0b\\xe4g\\xc8$\\x96\\x8f\\x9e\\xc3\\x94B\\xc5,\\xec\\x9c\\x87\\xc2;\\x14\\xe4\\xcb\\xf9\\xf5)\\xf8\\xa8y\\xce\\xe9\\x19#\\x9f\\xf4\\x1dm\\x0bEEt\\xb2\\xdc\\xe8n}\\x93\\x96$\\x18\\x8e\\xae\\x8c\\x9f\\xb7\\xc22\\x16-[#I\\xae\\xa2\\xf8L\\xb7\"N\\xd8\\xac1\\xb2\\x80\\x9b\\x03B\\xe8\\xbc\\xa3\\x9a\\x7fC\\xce\\xd4\\xf9\"\\xb0R\\x03\\xb8\\xce75U,\\xefH\\x07Q\\xdby\\xc4\\x1d\\x11.\\xcf6\\xb0\\xd3e/\\xf4\\xf8\\r\\x1d:\\xb6\\x9b\\x8ap\\xfe\\xb1\\x99\\xfa\\x8a\\xa2\\x17-\\x0c\\xb4\\x82\\xd9\\x82\\xa0\\x9d\\xf7\\xfeV.Q\\xf7\\x8b\\x10H\\xf6\\xc2\\x15\\x8d\\x11)\\x0e\\xce\\xbb\\xb4\\xe9d\\x0e\\xff\\x0c\\xaaQ\\x8c\\x01\\xb2\\xf5\\x1d\\x9b\\x90\\'\\x12\\xb3\\x07!\\x08\\x99Hk\\xa1\\xfc\\xafQvw\\xf4y\\xe1m\\xb4\\xcaV\\xfd\\xe9\\x88\\xba\\x11NB|G\\x86\\x87\\xf9\\xc2\\xe8D\\x9f\\x19O/\\xc0R\\xfb!B\\xd5\\xc5\\x98S9\\tsa\\x8arf\\x96\\x8aS\"e\\xffc\\x18\\xfd\\xea\\x13\\n\\xa4)k\\x1al\\t\\xc9jL\\x08\\x1c>O)8\\x94\\x8d\\'\\xa0\\x1a\\xb9\\x1d\\xd3\\xa7#\\x07\\xe3<\\xa0\\x12\\x05\\xd3\\xe8l^\\xedp\\x00\\xc2I\\x05\\xaa\\xcb\\xe9C\\x03\\x9f\\xfbz\\xa7\\xd8V\\xc90\\x9c\\x07lmx\\x90\\x16\\'\\xe5Vl\\x81\\x10\\x02\\xfc\\xfbu\\xa8\\x99\\x11\\x0b\\x0f0\\x13+\\xc4\\x96\\x15\\x19*\\x15*\\x92\\xd9\\x8d\\x91V\\\\#\\x8d\\x981:\\x95\\xa9\\xa0\\xfc\\xf6\\x08*\\x8b\"\\xe3?\\xee#\\x99l\\x9bXf\\xa1j\\xdc\\xc8\\x04\\xc1w\\xe1\\\\\\xc0e5\\'5\\x8b\\xf7\\xc21\\x02rx\\xb7\\xc0\\xf3\\xdb\\xcc\\xac\\xd1\\x07\\xcc\\xbak\\xe8\\xee\\xeb\\xba\\xdcu|\\xba(\\xcf\\xbe.j\\xaaclHO\\xb4\\x9d\\x8b\\xfe%Y\\xc6\\xcbB\\xce\\x8cw\\x9aDo\\xbd|m\\xfd\\x83\\xf8\\xdc\\xafH\\xc5\\xf2\\xa9\\xd0\\x0f3\\x90-!W\\xe3\\xb8\\xfbd:\\xea\\x17\\xb4\\xab\\xede\\x92\\xe2T\\xa2\\x15\\x19\\x8b\\x94\\xb3\\x00?\\xbd\\xdb\\xf2H%\\xa4t\\xcdboL\\x7f\\x99\\xd2\\x8f\\xd9\\xaf\\xaf\\xa1k\\xcd\\x80\\xc1A\\xee\\x00D\\xb6\\x08v\\x14\\x7f\\xed4\\x86@\\'dY\\x9b\\t\\xd1\\x9b\\xdf\\x8d\\x06\\xff\\xff\\xfcI\\x1f\\xcd\\x9d#&\\xe8\\xa6\\xdfo\\xa6\\xa7\\xa6%@Lj\\xd3\\xd1:h\\xd0\\xc8\\x89\\xe7\\x00\\x17\\xba\\xdd\\x1cU\\xfe\\xe9\\xb0\\x13\\xc5\\xac\\xeb\\x00NE\\xac\\x91\\x0c\\xee\\x9e\\x0c\\xb5\\xec\\x08=v\\x1bf\\xe2~wi8#;\\x95\\x9eu\\xaf\\x1c\\xd4S\\xba\\xe6\\rb\\xbe\\x02\\xd8\\xb3\\xb3\\x03\\xa5\\xf0\\x17\\x97u\\xe2\\x0e\\x8b\\xf3\\x81\\x1a\\x99\\xb9\\xf9\\xdf\\xe9r_)rb\\xd8\\x032a\\xb9\\xcc\\xe6\\x90P\\x1f\\x94\\x95\\x19\\x8e\\x14\\xf0\\x11^1\\xbb\\xc4,\\xb7\\xaa$\\x8e\\xe9\\xff@\\x08_}\\xd6\\xc9\\xec\\xe9\\th\\x14\\x1c\\xf1\\xd3[\\x8d\\xbe\\x95_\\xc4\\x01\\xcd\\xdeXp\\xad\\xb2D\\x95\\x04fs]\\xfel\\xab\\x8dK\\x02\\x05\\x04\\xa3[\\x06/4\\xcc\\xa9\\x89\\xa2\\xfa|,\\xc9\\x86\\x93\\xec\\xd2\\xc4\\xfa\\xfci_*\\xbaW\\n q\\x1c\\x89\\x94\\x03\\x1f\\x7fT\\xbf/\\xd2f^\\xd2R\\xc6&\\x075\\x9d>8\\xa5\\xc4\\x86\\xcfl\\xef\\xd0\\xc7\\xb6\\xf9\\xa4a\\x12\\x83kE\\xb4\\xee\\x9f\\x0b\\xa2\\xb2w\\xb0\\xe4\\xacR\\xb5\\xa9\\xd3\\xdf\\x10\\xc2OLr\\x9cyT\\xf8e\\xb5Ls\\x8f\\xca\\xe5\\x90\\x9b\\xceV\\x9c\\x1c\\x19\\xb0v\\x84=\\x00\\xc8\\x16\\xf1\\x8b\\xe91\\xa3\\x80\\xbc\\xb3\\x02\\x87\\xf5\\xfc\\xb4\\x97\\xe3\\x82\\x0c8\\x1f\\xe1>\\x18[0\\xa6\\x88\\x8e\\x18\\xcf\\x89\\x80p\\x05c\\xbd\\xb1Vn\\x8d\\x0b\\x00v\\xc3\\x97A\\xb7+\\xfa4\\xb5\\xadHc\\xd9\\x0e\\x81\\x83z\\xee\\x064\\xe5%)\\xf6\\xb3\\xcc\\x8d\\xf2\\x8b\\x9a\\x0c\\xe9\\xd5\\x00\\x99nJ\\xafh\\xc2\\xd5*+V_\\xba8\\xcf\\xb3.\\x02\\x9d$5,\\x8d\\xd4\\xa7\\x03\\x00\\x949\\x99\\xe1\\xe6\\x97|\\xaf\\x9e\\x1c\\x1f\\x07\\xd2\\x9f\\x96W\\xc3\\xda\\xad@k\\x0f\\x88\\xe7\\xd5\\x1c8!\\x98MN\\x9e\\xc9\\xd9\\x8f\\xc2\\xfcdY\\xd6\\x11\\xadk\\xf27o\\x88\\xbe\\xdd\\x12\\x85\\xfc@\\xda\\x1b\\xad\\xe1\\x10yZ%>\\xdd\\xa8x\\x1f\\x9e8vj\\xb1\\xf3\\x97G2\\xf8l;\\xf5\\\\\\x08k\\x1d\\x17\\xe5h\\x8fu+!\\xad\\xd4\\xd4$\\rG\\xb4c\\'\\x05\\xd5\\xf8\\xbaWZ\\xaeY\\x00k,\\xe9\\xd9H:N\\xe8\\xed\\xdco\\xa7\\xd4\\x81\\xc7r\\xb4\\xad\\xa3\\xe1\\xf5\\xc3\\x89\\x1e;\"\\xfd>U\\xe8\\xc4\\xe2\\xf1\\xcduQr\\xeb\\xc5o[\\xd9\\xad\\xbbW\\x97\\x88\\x01\\xb6\\xccey\\xba\\xff\\xb2\\xd3\\xa2\\x83FZ\\xda\\x89\\xb9\\xaf>\\x0b\\xb1\\x04X]\\x9dX?\\xc2\\x93\\xfe\\xf9af\\xb3\\xa9\\x19\\x0eT\\x9e4\\xd7\\xc0\\xd5\\xa7J\\xb5\\xa7\\x1c\\x1c\\xca\\xe2\\xc7\\xeeJ\\xa0S\\xabh\\xb6v\\x96\\xd3\\xdcQ\\xde8\\xd1\\xfa\\x9d\\xa0\\x96.\\xc1\\x9e6z\\xd4\\xd4\\xc8\\xa9a(\\xa5\\x1a\\x04\\xf9d\\x89\\x04swc\\xcd \\'\\x91\\xf2`\\x9e\\xcb\\x8e\\xb5\\xd1\\xcb-6\\x11\\xd8\\xdc@\\xe1\\xf6\\xd9o\\x88\\x96\\xe3\\x17\\xed;!\\xdd\\xd3\\xe4I\\xc6\\xaeM\\x8a\\xd4\\x19[\\x90\\x0el\\x07\\xe4\\xcb\\xdc\\xcf\\x81\\xac{1\\xb0d\\x85g\\x0eR\\x14\\xff\\xf2\\xb3an\\xa8\\x97g\\xb2m\\xd8b(\\xbf{G\\xdd\\xcc\\xdeK\\xa4Yz\\xf2VVx^\\x8f_\\x1c\\x9e\\x04\\xbaO\\xf6\\x13\\xe0\\xfcdAM\\x00\\x00\\xad\\x94\\xb3MK\\r:os\\xa8\\xaa\\xe6\\xd8\\xe73\\xfb\\xb7\\x83\\x10\\xb6n\\xfd\\xf5\\x13\\x7fV\\xa9\\xb6\\nD\\x82\\xa2D\\xf0\\x1d<\\xae\\x08\\x89\\x82\\xbe\\xd3\\xac\\nxU\\xcc\\x1232\\x99zP\\xec\\xdb\\x89\\xcd\\xba_\\xa0\\xe0?{\\xe0\\xadF\\xa2\\x99\\xfa\\x03F\\xb0\\xab\\\\\\xd4\\xd30\\xb6\\xb1\\xcfd\\xad\\xcaJ\\x19\\xdf\\xaa\\x17\\x82S\\xc6\\xbc%C\\xa5\\xce\\x13\\xb1\\x95\\xfb.{\\xb2\\xcewcv\\xe3dA\\xad\\xdf\\x074\\xd6\\xce_\\xc1E\\xc1\\x0c\\x12=\\xc4\\x1a\\xdbq\\xa9(\\x14\\x91)\\\\b\\r\\xf0\\xc45\\xb3\\x8b\\t79/116E8\\xe0g\\x1d\\xa5\\x102\\xdc\\x8d\\x08Y\\xf1\\x0f\\x01\\xd0\\xf2\\x8c\\xbcD8n\\xc7\\xa1\\xebz0\\xf7\\xe8\\xc1\\x1f\\x96]\\x9b\\x90h\\x13|\\xa7\\x9dqY\\xda\\x94\\x9f#l}\\x84\\xd7K\\xd5\\xb5\\x05\\xfc\\xf5\\x10\\xa3\\xbfh\\x1d\\xce\\xc6mU\\xd8|hk\\x82\\x93d\\x18a\\xe8$E\\xc2\\xc3M\\x13\\xc0\\xcd\\'xB\\xb9e\\x97\\x18\\xa3\\x15_M\\xc5\\xdb\\xd1\\x8d\\x1f_(\\x0b\\xaa\\x86\\xc0\\xce\\xbd\\xfe\\xa9\\xc5M\\xd3\\x08\\xdfb\\x91r$]\\x12[ZXX\\x9e0\\x13\\x0fW\\xb6D\\x88\\xe5\\x8f$=\\x1cr\\\\\\x91\\xec\\xec\\xf0\\xb3|\\x80\\xd9\\xd7\\x1fMb\\xf4\\x08\\x98\\xae\\x0b\\xd7\\xb6n\\x9cK\\x07\\x9b\\x98\\xf2\\xd7\\xf8,#*\\xf6\\xc7\\xa5\\x1c0\\x9b\\x81\\x0b!2&\\x9b=h\\xf4\\x18\\x8a\\xa8\\x94\\xfb8\\x05\\xda\\x99\\xac\\r\\x8f6J\\xe5\\x93\\x19MB\\xfeFV9\\xac\\xf6\\xaa\\xc2Um*\\xd5\\x94e\\xbd\\xf9\\x16k\\x9e9f\\x11|y\\xb2\\xe6)\\xefe\\xe7\\x13\\x0fR\\t\\xa8\\xab\\x86\\x14\\xc2y\\x7f\\x82\\r\\xb3\\x1c\\xd6\\x1b\\xc4K\\x80\\xfff\\xeaG\\xa0\\x9e\\x0fvd\\xbeq\\xe0\\x97wc\\xdb\\xc3l0\\xe5\\x81Te{\\x01:{\\x95\\xbd\\x05\\xc3(\\x1egg\\xd3\\xea\\xeb\\xa5s#:\\xf0re%R\\xc4\\xe9\\x9dF\\xf6\\xfa\\x16R\\x14\\x05&\\xa8\\xcf.\\xc3\\xb14]O\\x0c\\x1b\\xd7u\\x0fW\\x0cLD\\xd3-\\x027Fc\\xe4Ie^\\x06\\x1d3\\x12\\xbeZ1\\'\\xf7j\\xd0\\xc6\\x9dA&\\xe5~\\xd3!6\\x02\\x03\\x0b\\xe5\\x08\\x04\\x88\\x15 \\xbf\\xfa&\\x0f\\x80\\x03\\x00\\x1aChatBotSpanish/science.yml\\n\\x03\\x02\\x00\\xae\\x1f\\xd5\\x87\\x85\\xd5\\x01\\xcd\\xf2a\\x04Ve334O6dL\\xf3E\\x1cw\\x85\\xd4\\xe5r\\xaf\\x97\\x82\\xee\\xf0^\\x96-\"\\xd2V\\xd2%\\xd2)7\\x15o\\xc7\\x1c\\xf4\\x02SI\\xa9)\\xe9)\\x1f\\xc1\\x10@\\xe8\\xe8\\x04\\x00^\\x9e\\x1f\\x84\\xf3\\xbc\\xef\\xbar\\x86\\xe0\\xea\\xa1}\\x8e\\x8f\\xf9\\xe9\\xf6dh\\xb1\\xcf\\xa1\\xde\\x94A\\xfc\\xdd|M\\xbb\\x0f\\tl\\x1f\\xfd+4\\xb1\\xb7\\xb9\\x98V{\\xb5\\xbd\"\\xc8p_;\\xee\\x859=\\xb7YD}\\x18\\x8a\\xf6\\x7f\\x171\\xf0E\\xa6r\\xaf(\\x89l\\x8e\\x1b\\x99\\xbf\\x11\\x05\\x88\\xbbc\\xf8\\xaf\\xc8\\xd6\\x06\\x1e\\xe3\\x0b\\x9c\\xa8\\xaa\\xea\\x83)=t\\xb0\\xd2l9\\xa8\\xbe\\x110\\xbe\\x1c\\xb2\\xdc\\x82\\'\\xf3_K\\x10\\xa1\\x1e\\xae}z\\xbe\\x05\\x0fuF\\xfb\\x03\\xc5U\\xe1\\xffj0R\\r\\x80\\x11\\xec\\x03\\x9d\\xee\\x08D;x@\\t\\xb5\\x0b\\xc9\\xe5\\x88\\x9eF\\x13\\xc5\"+\\xfdu2!=\\xbf\\x06\\x91\\x8d\\xa2\\xbdA\\x0eJ\\x9a\\xb5.\\xf2\\xc6v,\\x92r\\xbfx^\\xef\\xce$\\xa8\\xcb`\\'\\xd1#U\\xa3}\\xe8\\xf0\\xadY\\xe5$E\\x8aC\\x1d\\xab\\x1b\\xca1U,:\\xe8\\xf0\\x80\\xdb\\xa4@\\x92\\x1d$\\xba\\xc7\\x83\\xba\\x17\\x08\\xd4udz\\xab\\xc7\\\\\\x84U=\\x02\\x97\\x86\\xaa\\x82\\x1a\\xde\\xae(\\xe2\\x8f\\xa9\\xf2rrf\\xa6}\\x87\\xba:\\x83\\xa4B>Z\\x1d\\xa7Aj\\xc0l\\xfb(\\\\\\x94\\xe8\\x0fQ\\xda\\xd42\\r\\x02[aQ\\x02\\xa4C\\x98\\x02l\\'\\xaf\\x00\\x8f\\x9cj2\\xe3NJ?\\x98\\x0e\\xd1v\\xf3\\x04[I\\x1d\\x8a\\xec~7o\\x94zR\\xfe\\x1d\\xc5\\xe6\\x92E\\xf8Z\\xea1=\\x89\\xf9\"\\x05\\xd3\\xea\\xce\\xea]\\x8arg3\\xde\\'!\\x94\\xeaAb\\xac;\\x00o\\xd1\\xb5\\x05\\x9a\\x18t\\x1cxX,\\xa0\\xb1E\\x04\\xf4^\\x12\\xe8T&K\\x04_J0t\\xdbF#\\xb8\\xe3H\\xc3\\x17\\xd3\"\\xb6z\\x9e;\\x16\\x8e\\xa3\\xb8C\\x17\\r\\x03\\x9c\\'\\x1fR \\x9f-\\xa9\\xf0\\x1f\\xd1^/NMi\\\\*\\xa3\\x1co\\xa8\\xd2\\x9en\\xc2\\x8d\\x8eM\\xf6!\\xa6t/:Qk8\\x14\\x9c\\x16\\nd\\x0c\\x89\\xb4 \\xe5\\xca\\xdb\\x11\\xd5D.\\xe5\\x89\\x00vg;\\xd0e\\x1b\\xce\\x16\\xd9\\xcdAu\\xf8\\xcc-\\x14JZj\\x18\\xf2\\t\\xf2Y\\xdd(\\xee\\xa8SI\\x01-\\x15\\x89\\x05\\xe9\\x1c7\\xb9\\xa0\\xee_\\xe8\\xc6l\\xbc&pW\\x8f~H\\xaa\\xf7;\\x8c\\xae\\xaf\\x95`\\x89\\x14\\x84oY\\xd7\\xd2\\\\\\xf8\\x14^\\x91=\\xc4?kZ\\x91Q\\xa9\\x81\\xc8\\x13\"\\xd5 -\\x04A\\x13\\x9f%\\x02:\\xec\\xe4\\xe9\\xa9\\xc5[S!TV/c\\x04\\xbbyXd\\xb7\\xf1~\\xe9\\x90\\x9aR\\xd1\\x81\\xe3\\xef\\x0b\\xa1\\x10\\x80\\xeb\\xd6\\xad\\x0b\\xfb\\xdf\\x05h\\x87\\xb2\\x1c\\xe4,,\\x16\\r\\x94\\x84\\xabB\\xc2O\\x8e\\rA4{\\x14p7\\x1a\\x9d\\xe3*\\xac\\xa0>\\xd7\\x92\\xc9\\x99`U\\x16\\xdbo\\x10 \\x19\\xc7\\tW \\xb4\\xe7\\xaayVg\\x01\\t\\xafec\\xd7\\xf8\\x84\\x9b%\\x84\\x98\\x05\\xb1\\xb8\\x9bY\\xe8\\xe7\\xb2\\xd2\\xf2\\xc3S\\xb7\\xc6\\xc8\\xddn\\xdb \\xf1\\\\\\xe8\\x9b\\xfb\\xa5\\'}\\xe4\\xc7;\\x08@\\xa7\\xabuY\\xa7\\x98?f@\\x89\\xeb<XJ\\x85s\\xe0/\\x85\\xc6X\\xc9V\\xb5\\xbd=\\x94s\\xe7\\x8b\\x9eW\\xa6\\x02#\\x1c\\xf5K+;\\xbe%.\\x80C\\xfe\\xab\\n\\x84\\x9d\\xc3N\\xdb\\xde\\xefl3C@O\\x00\\x00\\xf2\\xee\\x7fH\\xe3\\xdf\\x94\\xcf\\t]\\xe1=\\xb1K\\xdb+\\xd8&HJ\\x88cjT\\xe1U\\x10\\xe2\\x8b\\xa9\\xd5$\\xb3\\x9d(\\x95zr0\\xe9\\xb2\\xd5\\xa6;\\xa4\\xbc\\xf9b\\xb9+\\x86\\x8d%fl\\rZE\\x9fLq\\x97J]\\xcc\\x17lq\\x12\\x0b\\x9d\\x98.s\\xa5v\\xcfN\\x903B\\xb9\\xd8;\\x14A\\x1b|\\xec\\xaaO/\\x8c\\xaa$r\\n\\x85G1\\xc9XL\\xb8\\x9c\\t!y6\\xf3\\x036\\xcb4\\xa3:\\x19\\x13\\n\"\\x0c{\\x0c\\xb4\\xf2\\xae\\x03\\xa5\\xe7\\x1f&\\xcaM\\x18\\xf7\\xed>\\xc8\\xf7G8\\x02b\\xab\\xd3\\x1f\\x94o8\\x89\\xcb\\xf8\\x07\\x83\\xf4\\xe1}\\x94r\\xae\\x1d6\\xf6vX\\x14\\xba\\x18\\xc1\\xbf\\xbc\\xed\\xc6qI\\x1a\\xf9\\xb7s\\xf3T\\xd2\\xb7\\xaf\\xef\\xf9:\\x94\\xb6\\xd4\\x99i\\xf6pZ\\xd2\\xd3\\x90\\xe3_\\xd6\\xe6\\xba\\x10\\xf39\\xf4\\xde\\xef\\xa3S\\xa7\\xf1\\xfd}\\xf7}\\xcf\\xef\\x9b\\x99c\\xf4\\x8domS\\xc1\\x99\\xf8\\xc1\\xc8`g\\x17\\xa0\\xd7\\x8fi\\xbf>\\xd8\\xf5\\xaf\\x9d \\x1d\\xcda9e\\xb7\\xf0\\x7f\\xfb?\\x0bJ\\xdf\\xb1\\xc7q\\x87\\xb3\\xb3\\x0b\\xec\\xc1%N\\xff\\xfc\\xb8\\xff\\xa1\\xe5\\xfbx\\xbe\\xcc\\x12\\xf4\\x9f\\x15\\xe5\\xa4\\xceg\\xac\\xd7\\x8c\\x11&\\xc4\\xe4F\\x9d\\x1bx\\xf4\\x91\\xe6Y\\x97\\x8a\\xadi\\x9d\\x0c\\xf3\\xf5\\xaf8\\xe3\\xbb\\xd0V;B\\xc45\\x02\\x03\\x0b\\xd7\\x08\\x04\\xf8\\x10 \\x1b ( \\x80\\x03\\x00\\x19ChatBotSpanish/sports.yml\\n\\x03\\x02\\xfb\\x13\\x856+\\x0b\\xd9\\x01\\xcd\\xc0S\\x047uDD3?5cY\\xcf\\x85\\\\i\\xb0\\x0b0)\\x1b\\x80\\x8c;\\xb8\\x8a)n\\xee5\\xbd\\x0c\\x03%\\xeem\\xad8\\x9en^\\xbc\\xe8)\\x95\\x1a\\x91H\\xe5q\\xa8\\x980(\\x9cj\\x14\\x02\\xcf2I\\x13\\xfe\\xae\\xef\\x0e\\xf4\\xa0\\xbcH\\x923\\xa2\\xee\\xab\\x95\\xca\\xe5U\\xd6\\x1f\\x1e\\xaf\\x82~\\xe0\\x1c\\xe0\\xe7\\x8c\\xca\\xba\\xd9\\xa5\\xb4\\xcc\\xca\\xbf^/\\xd1Ukm5\\xd5\\xc5+h\\xebe5\\x1bS\\x1e\\x0f\\xd7?|W\\xa2\\xbf\\x12\\xa2\\xb7\\xfc\\x91Q\\xe2W5\\xbe\\xee\\x8c\\x9c\\xd2`W\\xef\\x8d=\\xf0x\\xb8\\x94\\xa4c\\x8eus\\xd8\\xba\\x01\\x05h?\\xa4\\xa5\\xbc\\x8fy\\xc9\\xd0ld\\xcbo\\xb7\"\\xb0\\xc9\\x8b,X\\xaf\\x8e>H\\xbc\\xfd\\x11\\xaa\\xf8\\x11\\x94~\\x83\\xd6J\\x1b\\xeb\\xce\\xd5\\xd3\\xa2j4\\xc1\\xdb\\xd1\\x9a4wA\\xc2\\x19\\x16\\x01\\xe2\\xf2\\x01\\xdc\\xd7\\x9a\\x85z\\xacC\\xa2\\x90\\xcc\\x9e:W\\xa3\\xb8\\x1f\\x94\\xb9\\xebm[O~L\\xd9P\\xc1\\x07\\x1cK\\x96\\xdf\\x81.\\x03j`b\\xd2\\xca\\x10\\xbe\\xe9\\xa2n\\xbe\\xed\\xb7\\x0b\\xbaX\\xdf\\x84\\xffGQ\\xf9\\x8f\\xf4[\\xe2\\xd6Pw\\xd6\\x066\\xb3\\xb6\\x8b)M;3\\xcc\\xca]\\xea2\\xcb\\xf4\\'\\xb7\\xc3O\\x14\\x82R\\xae\\xc4nVu\\xbd\\x17\\xd4\\x1b\\x8d\\xe4|#\\xe7\\xa8oSO\\n\\x02\\x81\\xb5S\\xa2\\'\\xe3\\x08L\\xdd\\xea\\x9c\\xd1@\\r\\xd6u\\x024\\x03\\x1e\\xcd\\xb9\\x9aS\\xba\\xd0<<\\xab\\'\\x81A%\\x04\\x80\\x1b\\x1a\\xb5\\xbd\\x13\"\\xc4-\\x08$F\\xa4o\\xf4\\x8e\\xa4J\\x81\\xee\\x03\\xeeg\\n#\\x04\\xd5\\xb5\\xce\\xcf\\xdct0\\x82\\x0f\\xa9Nw\\xd0\\xfd\\xb5\\x17\\xc1\\r\\x813}\\x07\\x0b\\x86\\x99\\x07\\xda\\x96v\\xe4\\xa3^Vm\\xc8[\\xe6\\xfd\\x85\\x90jwm\\xbeag\\xf6HL\\xd4\\xdf\\xd9S\\xec\\x80\\x14\\x03S\\x91=t\\xcc\\x08\\x03k\\x9fR\\'\\'\\xb0\\xac\\xbaa\\x12\\xbb*\\x7f\\x80\\x80N\\x91\\xd6R\\x9bt\\x9b\\x90\\x80\\x04y\\xddF\\x92(\\x0e\\x04\\xfdb\\x02\\r\\x84\\xc4\\x9d\\x90\\xc9\\xd8y\\xa7\\\\\\xf4\\xaf\\xd9u\\xa1\\xe1\\x10,W\\xa2.\\xc5\\xd6/\\x1e\\xd5\\x8bb\\xef\\x11\\x90\\xdaC\\x02\\xa7p)K\\xd4\\xd7\\xbe\\xbe\\xd5\\x19s\\xff\\x9b4|\\xf2*!B\\xb7\\xfd\\xd8\\xa1\\xe5\\n\\x94\\x08\\nZy<\\xd3J\\x18G\\xf27M\\xbe\\xfds!\\xdd\\r\\xae\\x99\\x8dL\\xe6\\xf8U{\\n7\\x94\\xed\\xc2\\x1d-\\x82\\xfdx\\xd4\\x97\\xf9e}\\xd7\\xe7\\xf2\\x8e\\x84\\x0e\\xb7\\xb4]\\xea5\\xe6\\xb7\\xff=\\xab\\xb8\\xb8\\xe5\\xca\\x9eW\\xbe\\x8c\\xfe\\x872\"\\xfa \\xc4C\\xe0\\x84*\\xf9`\\x07p\\x83\\xb7,\\xba\\xb1\\x94\\xd5\\xd7c\\xd9r\\xfb\\n\\xe8.!\\xd6\\x15\\x7f\\xf1U\\xf7\\xae\\x8f\\xac\\x89\\xc1H@\\xf8\\xdd\\xb8\\xe2\\x0b\\x81\\xdb\\n&\\xb9\\xd5\\xd4\\xbe\\xcd\\x96&\\x01\\xca+$\\x858|s\\xd7\\x8f\\xc6\\x11L\\x0c\\xad\\xf0\\xa4\\xd3\\xd3\\xbbf\\xbe\\xb8\\x1f?\\'?\\x1a\\xc1\\x14\\x18|A\\x0c\\xc3\\x81\\xe4\\x9aL\\xabg\\x1d\\xff1\\xc7<\\xd2\\xc2H\\xdc\\xb6\\x87\\xd3N\\x99!M\\xff\\x890`\\x8f\\xa4\\xc3\\xcf\\xdb|\\xfeR\\x06}k\\x85m@\\xea\\xac\\x07&b\\x1by{\\xfcY7kYd\\xd5\\x0b\\x93\\xa8\\'&\\xe3,\\\\8\\xd3\\x1a\\xf8\\xd4W\\x1a\\xc2\\xaaK\\xa5\\xf9\\x07f\\xa6B\\xd6\\xfa\\xa0\\xeb\\x17-\\x89G{\\xaez\\xf0\\xfd\"?\\xf0\\x84\\x15\\x9f5\\xbe\\xee\\x0c\\x9c\\xc2\\xb4\\x9b}\\x11\\xe3\\xfa\\xc0\\x90\\x11\\xf1\\xa6\\xf6O<yv\\xa6L\\x8d\\xec\\x13\\x11\\x1b1\"\\xb7\\xf4\\xf0\\x85\\xe1\\x93\\xee\\xe6\":\\xabG\\x11HC\\x866h\\x83c\\xc7\\xf3b\\x86\\x0ec\\xc7\\'\\x07\\x0c\\xe0\\xa2\\x15\\xeb\\xd3o\\xc6\\xbc\\xed\\x9e\\xec:t\\x07\\x8cW\\x1ep\\xc7\\xe6\\x93\\x1b\\xcc\\xd7\\xd3\\xbd\\xf8\\xf7\\xb31\\xce\\xc6\\xd3\\xa4\\x0e\\xf2\\xb11\\xb6F\\xec\\xaf\\xab\\x91Y\\\\yAL\\xec\\xcfon\\xc1(\\xf7\\x84`U\\x02r\\xc5\\x00\\x8c\"\\xb2b\\xd8\\xb0j\\x93\\xe0\\xc4\\xcb\\t\\x8a\\xc95\\x153T\\xd3\\xcf3\\xf5\\x96\\x19\\x0er\\xb3\\xd4\\xd8TO-\\xbe\\xdel\\x11\\x18\\x1e\\xbf\\xc1\\xf0\\xbfs\\x8c\\x88E\\x9a\\xa4\\x97n\\xe3\\xfd\\xef\\xab\\xdf:\\x92\\xe5,T\\xb3\\xd9\\x9f\\xe9\\x04\\x00\\xee\\xbe\\xb3\\xec\\x1dm\\x85&9\\xd5P\\xac\\x97e\\xdc\\xd0\\x02V\\xbe4\\x7f(\\xd8\\xdb\\xcb\\xb2\\x94\\xf5\\x19\\x04\\xea\\x0c\\'\\xcd\\xae\\xd3\\x04\\xda\\x9f\\xc4\\xcebO\\x94\\xe5zS\\x9b\\xbe\\xc9ax*]m\\x0cvYI\\xc6\\x88r\\xf0\\xe4mZ\\xd9,\\xd7e\\'\\xed\\x16C\\x13\\x13\\x88f>\\x1fV\\xef\\xb9\\x80\\xde\\xb3\\x89g\\xf8\\x14\\xef]\\xa1t\\x85[\\xff\\x18\\xae\\x9bJ7\\xad\\xd9\\xa79^\\xf7\\xcf\\x08\\xa7\\'\\x85{c\\xac\\xa9\\'\\x15\\xa6`\\xb47\\x90\\x8e/\\xae\\xd05\\x02\\x03\\x0b\\xe7\\x05\\x04\\x81\\n \\x17r\\tq\\x80\\x03\\x00\\x19ChatBotSpanish/trivia.yml\\n\\x03\\x02\\x1b(PC+\\x0b\\xd9\\x01\\xc8s\\xe3\\x026eDC2\\xf4PE\\xdf<*\\xf5\\xcd2DE\\x12\\x05\\r\"\\x08\\x9c\\x82\\x08\\x08\\t\\x01M\\xb6\\xf31\\xb7a\\x99y\\x93:\\x19\\x1c\\xf1\\xb3a\\xa2h\\x88\\xd6i\\x12\\x8f\\xcc\\xdas\\xfe]\\xe61\\x89\\x1e)\"s\\x1eU\\xd5r\\xbf\\xae\\x8b\\x9eA\\xca\\xef\\xba\\xab\\xfb\\x9c\\xd7\\xff\\x8b\\xc8\\xdbf\\xcbMn\\x9a\\xcf>\\xe6\\xfb-\\xad\\xd9\\xdc\\xdd\\xc9)~y\\xab\\xb0\\xe2q\\xf4\\x8bs\\xf7\\xc3\\xf9\\xf1\\xb9\\xda\\x7f/fK\\xa6d\\xd3\\xb3\\x8b\\xcd\\xe1\\xfbeU\\x90\\xee\\x96g\\x88l?\\xac\\x9e\\x9b\\x19\\x8a\\xcb[*\\xf3\\xf3{\\x97\\x8fF\\xe3\\x0f\\xcd\\xff\\x93\\xa4\\xcc\\xda\\xe5g\\xbd\\xdd\\x82v\\t\\xecBO]\\xda\\xccn\\x9e\\xfab\\xa6\\xdb\\x12[\\xd4d\\x17\\xdbk\\x1e\\xcas\\x0f|\\xbc\\x0c\\xf6\\x9e\\xaf\\x9a]\\x17\\xa93w\\x87\\x8f\\xcb\\xc5\\xbb\\x14\\xcev\\xb0\\xa1+ Vy\\xd6\\xa9\\xb2\\x07\\xd3\\xc5E\\xcf\\\\\\x14\\xd1T\\xc2+\\xd3D@n*\\xe5\\tY\\xd5\\xd4\\xc4\\xb6A2\\x05*\\xb0@\"b\\x7f\\xd6\\xe6\\xd6\\x12\\xcf\\x1c\\xb5\\xe9\\xeen\\xf4%g\\xe5T\\xd7\\x0e\\x1b.B\\xb4\\x0b\\xcb\\x81F\\xc1\\x896\\x84\\xb6P\\xce\\x11\\x99\\xc8\\x94\\xb5\\xb0\\x06\\x04\\xc8l\\xb1\\x1a\\x7fC\\xf7E9\\xcb~\\xb5\\xc4#4\\x7f\\xcbQ\\xc1}\\x96\\xe4\\x1f(\\x11\\xacAb\\xfe\\x83\\xef\\x1b\\x16\\xea\\x01A\\x9bm#\\xf3\\xb8\\xb2\\n\\xb0G\\xc8\\xe8I\\xb04\\xe9v\\xaf\\x84\\xcf\\xa2\\xab\\xad\\xd4\\xfb3\\x86*B\\xe8\\xe8\\xeb$\\x14\\xf2\\xb8r\\xb4\\xcc\\xd4\\xef@\\xfc\\x95\\xfa\\xee\\x8cb\\xcf/\\x02\\xa4\\x89*N(\\nE7\\xd4\\xf8\\xf8\\x83\\xe7R\\xec\\x93H\\x8a\\xdb\\x85\\x88s\\xe4\\xf1>\\xf8(\\xda\\x03\\xd5t\\xed!\\x8be\\x04\\x94\\xbc[\\xca\\x8f\\xc9\\xaal#B\\xa8:\\x94/P\\x1f\\xbe\\xba\\xc4Ct\\x91S^\\xc8\\xb3\\x97\\xe4\\x7f]\\xd8\\xf1\\xce\\x92H\\xf3\\xfbV\\x8d6\\x00\\x05:\\xf1\\xb8\\x90`Rg[\\x16G\\xc6Ka\\x858x\\xf8\\xfc\\x89\\xfcAg^\\xd3\\xaa\\x0e\\x8ck2\\xcdy:\\xdc\\x0b\\\\(4Tq\\xacZ\\xb0%\\xc6\\x02#\\xc1%\\xe3\\xb8\\xa5\\xfb\\x94\\xee\\x13\\x9c0\\xa9\\x0f\\xf8\\x13M#\\xff\\x15 \\x15\\x94#oa\\xabE5\\xa0\\xb3\\x94\\x0e\\xc3\\x9c\\x80\\xac\\x81y\\xb7\\x95}\\x16\\x96s\\x8d\\xa4\\n\\xdb\\xfd\\xd1-\\x90\\xc9\\x13\\xd2\\xf9Pe\\x13J\\xd8\\xd8~jegCK\\xebnc\\xe0[2\\xc5q\\x9b\\xe6u\\x06\\x10\\xaf\\xb5/\\x8exX\\xffS]f\\x0b\\x05\\xc0\\x0b\\xb9:B\\x8d\\xa6\\x0e9\\xab\\x02\\x19\\xea\\x1a\\x15\\x1e\\x9e\\xf6\\xe1\\xd2\\x9f\\x81;=\\xf2\\x05\\xe0\\xc9\\x9c\\x86\\xa7-\\x8f\\x9a \\xe9|WP\\xc3Z\\xe0\\x86\\\\\\xe8v\\x17\\xdc{lvV\\xb2\\x1dPL\\xeb\\x87{\\x0eS\\xfcFp=v\\x8e\\xfe\\x93\\xed-\\xe0=\\xb4\\xe5\\xb0\\x96\\xea\\xe9\\xab\\x00\\xc3~\\xd26E\\xce\\x96lEb\\xe9\\xa5\\n\\x00\\x10\\tXU\\xce\\x9dOUWb\\xacW\\xbd\\t\\xc4\\x16\\x0c\\xe8p\\xbfV.\\xed\\xd8\\xd1\\xecu\\xdbD=\\xf6O/\\x0eE\\x1a{\\xa4\\xb9u\\xae8Qu\\x96\\xf0``j0\\x9d\\xdd\\xb7\\xc6\\x80\\xe5\\xed\\x7fy(\\x02\\x03\\x0b\\x00\\x05\\x00\\x10\\x00\\x00\\x00\\x00\\x80\\x00\\x00\\x0eChatBotSpanish\\n\\x03\\x02\\x9e\\xba\\xb9d\\xab\\n\\xd9\\x01\\x1dwVQ\\x03\\x05\\x04\\x00'}"
            ]
          },
          "execution_count": 3,
          "metadata": {},
          "output_type": "execute_result"
        }
      ],
      "source": [
        "from google.colab import files\n",
        "files.upload()"
      ]
    },
    {
      "cell_type": "code",
      "execution_count": null,
      "metadata": {
        "id": "raW7lVdQ9z7k"
      },
      "outputs": [],
      "source": [
        "!mkdir -p ~/.kaggle"
      ]
    },
    {
      "cell_type": "code",
      "execution_count": null,
      "metadata": {
        "colab": {
          "base_uri": "https://localhost:8080/"
        },
        "id": "Adp0zjFP90Bl",
        "outputId": "8ff3ab39-df10-480a-c9ab-4ead49c07ca2"
      },
      "outputs": [
        {
          "name": "stdout",
          "output_type": "stream",
          "text": [
            "cp: cannot stat 'kaggle.json': No such file or directory\n"
          ]
        }
      ],
      "source": [
        "!cp kaggle.json ~/.kaggle/"
      ]
    },
    {
      "cell_type": "code",
      "execution_count": null,
      "metadata": {
        "id": "mPpi-Suj9z4s"
      },
      "outputs": [],
      "source": [
        "!ls ~/.kaggle"
      ]
    },
    {
      "cell_type": "code",
      "execution_count": null,
      "metadata": {
        "colab": {
          "base_uri": "https://localhost:8080/"
        },
        "id": "1gocz2gG9zsC",
        "outputId": "48bb9b41-6447-4b5d-b40e-34aacf9e719f"
      },
      "outputs": [
        {
          "name": "stdout",
          "output_type": "stream",
          "text": [
            "chmod: cannot access '/root/.kaggle/kaggle.json': No such file or directory\n"
          ]
        }
      ],
      "source": [
        "!chmod 600 /root/.kaggle/kaggle.json"
      ]
    },
    {
      "cell_type": "code",
      "execution_count": null,
      "metadata": {
        "colab": {
          "base_uri": "https://localhost:8080/"
        },
        "id": "Rq0zmSYy-S0R",
        "outputId": "bf7fea92-a885-456f-b117-20d4bff57ad0"
      },
      "outputs": [
        {
          "name": "stdout",
          "output_type": "stream",
          "text": [
            "Traceback (most recent call last):\n",
            "  File \"/usr/local/bin/kaggle\", line 5, in <module>\n",
            "    from kaggle.cli import main\n",
            "  File \"/usr/local/lib/python3.8/dist-packages/kaggle/__init__.py\", line 23, in <module>\n",
            "    api.authenticate()\n",
            "  File \"/usr/local/lib/python3.8/dist-packages/kaggle/api/kaggle_api_extended.py\", line 164, in authenticate\n",
            "    raise IOError('Could not find {}. Make sure it\\'s located in'\n",
            "OSError: Could not find kaggle.json. Make sure it's located in /root/.kaggle. Or use the environment method.\n"
          ]
        }
      ],
      "source": [
        "!kaggle datasets download -d kausr25/chatterbotenglish"
      ]
    },
    {
      "cell_type": "code",
      "execution_count": null,
      "metadata": {
        "colab": {
          "base_uri": "https://localhost:8080/"
        },
        "id": "8yk6kTtM-bQ0",
        "outputId": "aef464a2-5179-4619-fe4c-bc8cf11e1bea"
      },
      "outputs": [
        {
          "name": "stdout",
          "output_type": "stream",
          "text": [
            "Archive:  /content/chatterbotenglish.zip\n",
            "  End-of-central-directory signature not found.  Either this file is not\n",
            "  a zipfile, or it constitutes one disk of a multi-part archive.  In the\n",
            "  latter case the central directory and zipfile comment will be found on\n",
            "  the last disk(s) of this archive.\n",
            "unzip:  cannot find zipfile directory in one of /content/chatterbotenglish.zip or\n",
            "        /content/chatterbotenglish.zip.zip, and cannot find /content/chatterbotenglish.zip.ZIP, period.\n"
          ]
        }
      ],
      "source": [
        "!unzip /content/chatterbotenglish.zip"
      ]
    },
    {
      "cell_type": "code",
      "execution_count": null,
      "metadata": {
        "colab": {
          "base_uri": "https://localhost:8080/"
        },
        "id": "0PMKhVnUHwGi",
        "outputId": "cd63dacc-bb1e-444b-d1aa-ca9d1ef1faf9"
      },
      "outputs": [
        {
          "name": "stdout",
          "output_type": "stream",
          "text": [
            "--2022-12-14 16:10:25--  https://github.com/shubham0204/Dataset_Archives/blob/master/chatbot_nlp.zip?raw=true\n",
            "Resolving github.com (github.com)... 140.82.114.3\n",
            "Connecting to github.com (github.com)|140.82.114.3|:443... connected.\n",
            "HTTP request sent, awaiting response... 302 Found\n",
            "Location: https://github.com/shubham0204/Dataset_Archives/raw/master/chatbot_nlp.zip [following]\n",
            "--2022-12-14 16:10:25--  https://github.com/shubham0204/Dataset_Archives/raw/master/chatbot_nlp.zip\n",
            "Reusing existing connection to github.com:443.\n",
            "HTTP request sent, awaiting response... 302 Found\n",
            "Location: https://raw.githubusercontent.com/shubham0204/Dataset_Archives/master/chatbot_nlp.zip [following]\n",
            "--2022-12-14 16:10:26--  https://raw.githubusercontent.com/shubham0204/Dataset_Archives/master/chatbot_nlp.zip\n",
            "Resolving raw.githubusercontent.com (raw.githubusercontent.com)... 185.199.108.133, 185.199.109.133, 185.199.110.133, ...\n",
            "Connecting to raw.githubusercontent.com (raw.githubusercontent.com)|185.199.108.133|:443... connected.\n",
            "HTTP request sent, awaiting response... 200 OK\n",
            "Length: 24292 (24K) [application/zip]\n",
            "Saving to: ‘chatbot_nlp.zip’\n",
            "\n",
            "chatbot_nlp.zip     100%[===================>]  23.72K  --.-KB/s    in 0.002s  \n",
            "\n",
            "2022-12-14 16:10:26 (15.1 MB/s) - ‘chatbot_nlp.zip’ saved [24292/24292]\n",
            "\n",
            "Archive:  chatbot_nlp.zip\n",
            "   creating: chatbot_nlp/\n",
            "   creating: chatbot_nlp/data/\n",
            "  inflating: chatbot_nlp/data/ai.yml  \n",
            "  inflating: chatbot_nlp/data/botprofile.yml  \n",
            "  inflating: chatbot_nlp/data/computers.yml  \n",
            "  inflating: chatbot_nlp/data/emotion.yml  \n",
            "  inflating: chatbot_nlp/data/food.yml  \n",
            "  inflating: chatbot_nlp/data/gossip.yml  \n",
            "  inflating: chatbot_nlp/data/greetings.yml  \n",
            "  inflating: chatbot_nlp/data/health.yml  \n",
            "  inflating: chatbot_nlp/data/history.yml  \n",
            "  inflating: chatbot_nlp/data/humor.yml  \n",
            "  inflating: chatbot_nlp/data/literature.yml  \n",
            "  inflating: chatbot_nlp/data/money.yml  \n",
            "  inflating: chatbot_nlp/data/movies.yml  \n",
            "  inflating: chatbot_nlp/data/politics.yml  \n",
            "  inflating: chatbot_nlp/data/psychology.yml  \n",
            "  inflating: chatbot_nlp/data/science.yml  \n",
            "  inflating: chatbot_nlp/data/sports.yml  \n",
            "  inflating: chatbot_nlp/data/trivia.yml  \n"
          ]
        }
      ],
      "source": [
        "!wget https://github.com/shubham0204/Dataset_Archives/blob/master/chatbot_nlp.zip?raw=true -O chatbot_nlp.zip\n",
        "!unzip chatbot_nlp.zip"
      ]
    },
    {
      "cell_type": "markdown",
      "metadata": {
        "id": "l4kJp6uO-fQE"
      },
      "source": [
        "# Step 3: Preprocessing the data"
      ]
    },
    {
      "cell_type": "markdown",
      "metadata": {
        "id": "QEV_hSXs-7mF"
      },
      "source": [
        "### a)Leer los datos de los archivos.\n",
        "Analizamos cada uno de los archivos .yaml.\n",
        "\n",
        "1. Leer los datos de los archivos.\n",
        "Analizamos cada uno de los archivos .yaml.\n",
        "2. Elimine los tipos de datos no deseados que se producen al analizar los datos.\n",
        "3. Agregue <START> y <END> a todas las respuestas.\n",
        "4. Cree un Tokenizer y cargue todo el vocabulario (preguntas + respuestas) en él."
      ]
    },
    {
      "cell_type": "code",
      "execution_count": null,
      "metadata": {
        "id": "kWYOjzOc_iQi"
      },
      "outputs": [],
      "source": [
        "from tensorflow.keras import preprocessing, utils\n",
        "import os\n",
        "import yaml"
      ]
    },
    {
      "cell_type": "markdown",
      "metadata": {
        "id": "qyUnopqjDjud"
      },
      "source": [
        "El conjunto de datos contiene archivos .yml que tienen pares de preguntas diferentes y sus respuestas sobre temas variados como historia, perfil de bot, ciencia, etc.\n",
        "Podemos leerlos fácilmente de la siguiente manera:"
      ]
    },
    {
      "cell_type": "code",
      "execution_count": 24,
      "metadata": {
        "id": "RxG-s4k0CowI"
      },
      "outputs": [],
      "source": [
        "dir_path = '/content/chatbot_nlp/data'\n",
        "files_list = os.listdir(dir_path + os.sep)"
      ]
    },
    {
      "cell_type": "code",
      "execution_count": 25,
      "metadata": {
        "colab": {
          "base_uri": "https://localhost:8080/"
        },
        "id": "-bRvbQ00Coy5",
        "outputId": "06b865a4-cab8-4a52-c26a-d00a44bd5a0b"
      },
      "outputs": [
        {
          "output_type": "stream",
          "name": "stdout",
          "text": [
            "VOCAB SIZE : 1973\n"
          ]
        }
      ],
      "source": [
        "questions = list()\n",
        "answers = list()\n",
        "\n",
        "for filepath in files_list:\n",
        "    stream = open( dir_path + os.sep + filepath , 'rb')\n",
        "    docs = yaml.safe_load(stream)\n",
        "    conversations = docs['conversations']\n",
        "    for con in conversations:\n",
        "        if len( con ) > 2 :\n",
        "            questions.append(con[0])\n",
        "            replies = con[ 1 : ]\n",
        "            ans = ''\n",
        "            for rep in replies:\n",
        "                ans += ' ' + rep\n",
        "            answers.append( ans )\n",
        "        elif len( con )> 1:\n",
        "            questions.append(con[0])\n",
        "            answers.append(con[1])\n",
        "\n",
        "answers_with_tags = list()\n",
        "for i in range( len( answers ) ):\n",
        "    if type( answers[i] ) == str:\n",
        "        answers_with_tags.append( answers[i] )\n",
        "    else:\n",
        "        questions.pop( i )\n",
        "\n",
        "answers = list()\n",
        "for i in range( len( answers_with_tags ) ) :\n",
        "    answers.append( '<START> ' + answers_with_tags[i] + ' <END>' )\n",
        "\n",
        "tokenizer = preprocessing.text.Tokenizer()\n",
        "tokenizer.fit_on_texts( questions + answers )\n",
        "VOCAB_SIZE = len( tokenizer.word_index )+1\n",
        "print( 'VOCAB SIZE : {}'.format( VOCAB_SIZE ))"
      ]
    },
    {
      "cell_type": "markdown",
      "metadata": {
        "id": "WMPqb8LxIeGI"
      },
      "source": [
        "### b) Preparación de datos para el modelo Seq2Seq\n",
        "\n",
        "Este modelo requiere 3 matrices encoder_input_data, decoder_input_data y decoder_output_data.\n",
        "\n",
        "Para encoder_input_data:\n",
        "Tokenize las preguntas y rellénelas a su longitud máxima.\n",
        "\n",
        "Para decoder_input_data:\n",
        "Tokenize las respuestas y rellénelas a su longitud máxima.\n",
        "\n",
        "Para decoder_output_data:\n",
        "Tokenize the Answers y elimine el primer elemento de todas las tokenized_answers. Este es el elemento <START> que se agregó anteriormente."
      ]
    },
    {
      "cell_type": "code",
      "execution_count": 26,
      "metadata": {
        "id": "oEfAPL4HCo1t"
      },
      "outputs": [],
      "source": [
        "from gensim.models import Word2Vec\n",
        "import re"
      ]
    },
    {
      "cell_type": "code",
      "execution_count": 27,
      "metadata": {
        "id": "QqYoDsbSCo4f"
      },
      "outputs": [],
      "source": [
        "vocab = []\n",
        "for word in tokenizer.word_index:\n",
        "  vocab.append(word)\n",
        "\n",
        "def tokenize(sentences):\n",
        "  tokens_list = []\n",
        "  vocabulary = []\n",
        "  for sentence in sentences:\n",
        "    sentence = sentence.lower()\n",
        "    sentence = re.sub('[^a-zA-Z]', ' ', sentence)\n",
        "    tokens = sentence.split()\n",
        "    vocabulary += tokens\n",
        "    tokens_list.append(tokens)\n",
        "  return tokens_list, vocabulary"
      ]
    },
    {
      "cell_type": "code",
      "execution_count": 28,
      "metadata": {
        "colab": {
          "base_uri": "https://localhost:8080/"
        },
        "id": "9vKhieIwCo7J",
        "outputId": "8a7fd5fc-b4aa-41f6-f365-662156a1bbbf"
      },
      "outputs": [
        {
          "output_type": "stream",
          "name": "stdout",
          "text": [
            "(543, 25) 25\n"
          ]
        }
      ],
      "source": [
        "#encoder_input_data\n",
        "tokenized_questions = tokenizer.texts_to_sequences( questions )\n",
        "maxlen_questions = max( [len(x) for x in tokenized_questions ] )\n",
        "padded_questions = preprocessing.sequence.pad_sequences( tokenized_questions, maxlen = maxlen_questions, padding = 'post')\n",
        "encoder_input_data = np.array(padded_questions)\n",
        "print(encoder_input_data.shape, maxlen_questions)"
      ]
    },
    {
      "cell_type": "code",
      "execution_count": 29,
      "metadata": {
        "colab": {
          "base_uri": "https://localhost:8080/"
        },
        "id": "AJo7WPjLCo-q",
        "outputId": "aa7c718e-7cac-43ec-f27c-0f4987060dc5"
      },
      "outputs": [
        {
          "output_type": "stream",
          "name": "stdout",
          "text": [
            "(543, 184) 184\n"
          ]
        }
      ],
      "source": [
        "# decoder_input_data\n",
        "tokenized_answers = tokenizer.texts_to_sequences( answers )\n",
        "maxlen_answers = max( [ len(x) for x in tokenized_answers ] )\n",
        "padded_answers = preprocessing.sequence.pad_sequences( tokenized_answers , maxlen=maxlen_answers , padding='post' )\n",
        "decoder_input_data = np.array( padded_answers )\n",
        "print( decoder_input_data.shape , maxlen_answers )"
      ]
    },
    {
      "cell_type": "code",
      "execution_count": 30,
      "metadata": {
        "colab": {
          "base_uri": "https://localhost:8080/"
        },
        "id": "ccY0wWdRCpCa",
        "outputId": "184000eb-6555-4a91-e3b9-7873ec252546"
      },
      "outputs": [
        {
          "output_type": "stream",
          "name": "stdout",
          "text": [
            "(543, 184, 1973)\n"
          ]
        }
      ],
      "source": [
        "# decoder_output_data\n",
        "tokenized_answers = tokenizer.texts_to_sequences( answers )\n",
        "for i in range(len(tokenized_answers)) :\n",
        "    tokenized_answers[i] = tokenized_answers[i][1:]\n",
        "padded_answers = preprocessing.sequence.pad_sequences( tokenized_answers , maxlen=maxlen_answers , padding='post' )\n",
        "onehot_answers = utils.to_categorical( padded_answers , VOCAB_SIZE )\n",
        "decoder_output_data = np.array( onehot_answers )\n",
        "print( decoder_output_data.shape )"
      ]
    },
    {
      "cell_type": "markdown",
      "metadata": {
        "id": "-D53pyucPCnk"
      },
      "source": [
        "# Step 4: Defining Encoder Decoder Model\n",
        "\n",
        "\n",
        "\n"
      ]
    },
    {
      "cell_type": "code",
      "execution_count": 31,
      "metadata": {
        "colab": {
          "base_uri": "https://localhost:8080/"
        },
        "id": "W3YjCFDwPRVN",
        "outputId": "fadfafef-bd67-41e6-b4db-f84fb8c8c174"
      },
      "outputs": [
        {
          "output_type": "stream",
          "name": "stdout",
          "text": [
            "Model: \"model_3\"\n",
            "__________________________________________________________________________________________________\n",
            " Layer (type)                   Output Shape         Param #     Connected to                     \n",
            "==================================================================================================\n",
            " input_5 (InputLayer)           [(None, 25)]         0           []                               \n",
            "                                                                                                  \n",
            " input_6 (InputLayer)           [(None, 184)]        0           []                               \n",
            "                                                                                                  \n",
            " embedding_2 (Embedding)        (None, 25, 200)      394600      ['input_5[0][0]']                \n",
            "                                                                                                  \n",
            " embedding_3 (Embedding)        (None, 184, 200)     394600      ['input_6[0][0]']                \n",
            "                                                                                                  \n",
            " lstm_2 (LSTM)                  [(None, 200),        320800      ['embedding_2[0][0]']            \n",
            "                                 (None, 200),                                                     \n",
            "                                 (None, 200)]                                                     \n",
            "                                                                                                  \n",
            " lstm_3 (LSTM)                  [(None, 184, 200),   320800      ['embedding_3[0][0]',            \n",
            "                                 (None, 200),                     'lstm_2[0][1]',                 \n",
            "                                 (None, 200)]                     'lstm_2[0][2]']                 \n",
            "                                                                                                  \n",
            " dense_1 (Dense)                (None, 184, 1973)    396573      ['lstm_3[0][0]']                 \n",
            "                                                                                                  \n",
            "==================================================================================================\n",
            "Total params: 1,827,373\n",
            "Trainable params: 1,827,373\n",
            "Non-trainable params: 0\n",
            "__________________________________________________________________________________________________\n"
          ]
        }
      ],
      "source": [
        "encoder_inputs = tf.keras.layers.Input(shape=( maxlen_questions , ))\n",
        "encoder_embedding = tf.keras.layers.Embedding( VOCAB_SIZE, 200 , mask_zero=True ) (encoder_inputs)\n",
        "encoder_outputs , state_h , state_c = tf.keras.layers.LSTM( 200 , return_state=True )( encoder_embedding )\n",
        "encoder_states = [ state_h , state_c ]\n",
        "\n",
        "decoder_inputs = tf.keras.layers.Input(shape=( maxlen_answers ,  ))\n",
        "decoder_embedding = tf.keras.layers.Embedding( VOCAB_SIZE, 200 , mask_zero=True) (decoder_inputs)\n",
        "decoder_lstm = tf.keras.layers.LSTM( 200 , return_state=True , return_sequences=True )\n",
        "decoder_outputs , _ , _ = decoder_lstm ( decoder_embedding , initial_state=encoder_states )\n",
        "decoder_dense = tf.keras.layers.Dense( VOCAB_SIZE , activation=tf.keras.activations.softmax ) \n",
        "output = decoder_dense ( decoder_outputs )\n",
        "\n",
        "model = tf.keras.models.Model([encoder_inputs, decoder_inputs], output )\n",
        "model.compile(optimizer=tf.keras.optimizers.RMSprop(), loss='categorical_crossentropy')\n",
        "\n",
        "model.summary()"
      ]
    },
    {
      "cell_type": "markdown",
      "metadata": {
        "id": "wVfSormAPb3w"
      },
      "source": [
        "# Step 5: Training the Model\n",
        "\n",
        "Entrenamos el modelo para varias épocas con el optimizador RMSprop y la función de pérdida de categorical_crossentropy."
      ]
    },
    {
      "cell_type": "code",
      "execution_count": 32,
      "metadata": {
        "colab": {
          "base_uri": "https://localhost:8080/"
        },
        "id": "OHlqQq64PYTH",
        "outputId": "0346e761-cc3d-40d4-f5da-6a5146b5aeca"
      },
      "outputs": [
        {
          "output_type": "stream",
          "name": "stdout",
          "text": [
            "Epoch 1/150\n",
            "11/11 [==============================] - 26s 1s/step - loss: 0.5168\n",
            "Epoch 2/150\n",
            "11/11 [==============================] - 16s 1s/step - loss: 0.4419\n",
            "Epoch 3/150\n",
            "11/11 [==============================] - 16s 1s/step - loss: 0.4321\n",
            "Epoch 4/150\n",
            "11/11 [==============================] - 16s 1s/step - loss: 0.4250\n",
            "Epoch 5/150\n",
            "11/11 [==============================] - 16s 1s/step - loss: 0.4176\n",
            "Epoch 6/150\n",
            "11/11 [==============================] - 16s 1s/step - loss: 0.4105\n",
            "Epoch 7/150\n",
            "11/11 [==============================] - 16s 2s/step - loss: 0.4046\n",
            "Epoch 8/150\n",
            "11/11 [==============================] - 16s 1s/step - loss: 0.3986\n",
            "Epoch 9/150\n",
            "11/11 [==============================] - 16s 1s/step - loss: 0.3935\n",
            "Epoch 10/150\n",
            "11/11 [==============================] - 16s 1s/step - loss: 0.3884\n",
            "Epoch 11/150\n",
            "11/11 [==============================] - 16s 1s/step - loss: 0.3837\n",
            "Epoch 12/150\n",
            "11/11 [==============================] - 17s 2s/step - loss: 0.3790\n",
            "Epoch 13/150\n",
            "11/11 [==============================] - 16s 1s/step - loss: 0.3743\n",
            "Epoch 14/150\n",
            "11/11 [==============================] - 16s 1s/step - loss: 0.3696\n",
            "Epoch 15/150\n",
            "11/11 [==============================] - 16s 1s/step - loss: 0.3646\n",
            "Epoch 16/150\n",
            "11/11 [==============================] - 16s 1s/step - loss: 0.3597\n",
            "Epoch 17/150\n",
            "11/11 [==============================] - 16s 1s/step - loss: 0.3549\n",
            "Epoch 18/150\n",
            "11/11 [==============================] - 16s 1s/step - loss: 0.3502\n",
            "Epoch 19/150\n",
            "11/11 [==============================] - 16s 1s/step - loss: 0.3453\n",
            "Epoch 20/150\n",
            "11/11 [==============================] - 16s 1s/step - loss: 0.3404\n",
            "Epoch 21/150\n",
            "11/11 [==============================] - 17s 2s/step - loss: 0.3356\n",
            "Epoch 22/150\n",
            "11/11 [==============================] - 17s 2s/step - loss: 0.3311\n",
            "Epoch 23/150\n",
            "11/11 [==============================] - 16s 1s/step - loss: 0.3262\n",
            "Epoch 24/150\n",
            "11/11 [==============================] - 17s 1s/step - loss: 0.3217\n",
            "Epoch 25/150\n",
            "11/11 [==============================] - 16s 1s/step - loss: 0.3176\n",
            "Epoch 26/150\n",
            "11/11 [==============================] - 17s 2s/step - loss: 0.3128\n",
            "Epoch 27/150\n",
            "11/11 [==============================] - 30s 3s/step - loss: 0.3086\n",
            "Epoch 28/150\n",
            "11/11 [==============================] - 17s 1s/step - loss: 0.3040\n",
            "Epoch 29/150\n",
            "11/11 [==============================] - 16s 1s/step - loss: 0.2998\n",
            "Epoch 30/150\n",
            "11/11 [==============================] - 16s 1s/step - loss: 0.2954\n",
            "Epoch 31/150\n",
            "11/11 [==============================] - 16s 1s/step - loss: 0.2914\n",
            "Epoch 32/150\n",
            "11/11 [==============================] - 16s 1s/step - loss: 0.2873\n",
            "Epoch 33/150\n",
            "11/11 [==============================] - 16s 1s/step - loss: 0.2826\n",
            "Epoch 34/150\n",
            "11/11 [==============================] - 16s 1s/step - loss: 0.2786\n",
            "Epoch 35/150\n",
            "11/11 [==============================] - 16s 1s/step - loss: 0.2747\n",
            "Epoch 36/150\n",
            "11/11 [==============================] - 16s 1s/step - loss: 0.2703\n",
            "Epoch 37/150\n",
            "11/11 [==============================] - 16s 1s/step - loss: 0.2661\n",
            "Epoch 38/150\n",
            "11/11 [==============================] - 16s 1s/step - loss: 0.2623\n",
            "Epoch 39/150\n",
            "11/11 [==============================] - 16s 1s/step - loss: 0.2583\n",
            "Epoch 40/150\n",
            "11/11 [==============================] - 16s 1s/step - loss: 0.2545\n",
            "Epoch 41/150\n",
            "11/11 [==============================] - 16s 1s/step - loss: 0.2504\n",
            "Epoch 42/150\n",
            "11/11 [==============================] - 16s 1s/step - loss: 0.2465\n",
            "Epoch 43/150\n",
            "11/11 [==============================] - 17s 2s/step - loss: 0.2425\n",
            "Epoch 44/150\n",
            "11/11 [==============================] - 16s 1s/step - loss: 0.2386\n",
            "Epoch 45/150\n",
            "11/11 [==============================] - 16s 1s/step - loss: 0.2351\n",
            "Epoch 46/150\n",
            "11/11 [==============================] - 16s 1s/step - loss: 0.2306\n",
            "Epoch 47/150\n",
            "11/11 [==============================] - 20s 2s/step - loss: 0.2273\n",
            "Epoch 48/150\n",
            "11/11 [==============================] - 16s 1s/step - loss: 0.2233\n",
            "Epoch 49/150\n",
            "11/11 [==============================] - 16s 1s/step - loss: 0.2196\n",
            "Epoch 50/150\n",
            "11/11 [==============================] - 16s 1s/step - loss: 0.2159\n",
            "Epoch 51/150\n",
            "11/11 [==============================] - 16s 1s/step - loss: 0.2122\n",
            "Epoch 52/150\n",
            "11/11 [==============================] - 16s 1s/step - loss: 0.2082\n",
            "Epoch 53/150\n",
            "11/11 [==============================] - 16s 1s/step - loss: 0.2051\n",
            "Epoch 54/150\n",
            "11/11 [==============================] - 16s 1s/step - loss: 0.2008\n",
            "Epoch 55/150\n",
            "11/11 [==============================] - 16s 1s/step - loss: 0.1976\n",
            "Epoch 56/150\n",
            "11/11 [==============================] - 16s 1s/step - loss: 0.1942\n",
            "Epoch 57/150\n",
            "11/11 [==============================] - 17s 1s/step - loss: 0.1906\n",
            "Epoch 58/150\n",
            "11/11 [==============================] - 17s 2s/step - loss: 0.1870\n",
            "Epoch 59/150\n",
            "11/11 [==============================] - 16s 1s/step - loss: 0.1831\n",
            "Epoch 60/150\n",
            "11/11 [==============================] - 16s 1s/step - loss: 0.1802\n",
            "Epoch 61/150\n",
            "11/11 [==============================] - 16s 1s/step - loss: 0.1764\n",
            "Epoch 62/150\n",
            "11/11 [==============================] - 16s 1s/step - loss: 0.1737\n",
            "Epoch 63/150\n",
            "11/11 [==============================] - 16s 1s/step - loss: 0.1697\n",
            "Epoch 64/150\n",
            "11/11 [==============================] - 17s 2s/step - loss: 0.1668\n",
            "Epoch 65/150\n",
            "11/11 [==============================] - 16s 1s/step - loss: 0.1634\n",
            "Epoch 66/150\n",
            "11/11 [==============================] - 16s 1s/step - loss: 0.1600\n",
            "Epoch 67/150\n",
            "11/11 [==============================] - 16s 1s/step - loss: 0.1570\n",
            "Epoch 68/150\n",
            "11/11 [==============================] - 16s 1s/step - loss: 0.1537\n",
            "Epoch 69/150\n",
            "11/11 [==============================] - 16s 1s/step - loss: 0.1509\n",
            "Epoch 70/150\n",
            "11/11 [==============================] - 16s 1s/step - loss: 0.1475\n",
            "Epoch 71/150\n",
            "11/11 [==============================] - 16s 1s/step - loss: 0.1449\n",
            "Epoch 72/150\n",
            "11/11 [==============================] - 17s 2s/step - loss: 0.1416\n",
            "Epoch 73/150\n",
            "11/11 [==============================] - 17s 2s/step - loss: 0.1388\n",
            "Epoch 74/150\n",
            "11/11 [==============================] - 16s 1s/step - loss: 0.1355\n",
            "Epoch 75/150\n",
            "11/11 [==============================] - 16s 1s/step - loss: 0.1330\n",
            "Epoch 76/150\n",
            "11/11 [==============================] - 16s 1s/step - loss: 0.1298\n",
            "Epoch 77/150\n",
            "11/11 [==============================] - 16s 1s/step - loss: 0.1276\n",
            "Epoch 78/150\n",
            "11/11 [==============================] - 16s 1s/step - loss: 0.1244\n",
            "Epoch 79/150\n",
            "11/11 [==============================] - 16s 1s/step - loss: 0.1220\n",
            "Epoch 80/150\n",
            "11/11 [==============================] - 16s 1s/step - loss: 0.1191\n",
            "Epoch 81/150\n",
            "11/11 [==============================] - 16s 1s/step - loss: 0.1167\n",
            "Epoch 82/150\n",
            "11/11 [==============================] - 16s 1s/step - loss: 0.1142\n",
            "Epoch 83/150\n",
            "11/11 [==============================] - 16s 1s/step - loss: 0.1114\n",
            "Epoch 84/150\n",
            "11/11 [==============================] - 18s 2s/step - loss: 0.1089\n",
            "Epoch 85/150\n",
            "11/11 [==============================] - 17s 2s/step - loss: 0.1064\n",
            "Epoch 86/150\n",
            "11/11 [==============================] - 17s 2s/step - loss: 0.1047\n",
            "Epoch 87/150\n",
            "11/11 [==============================] - 17s 2s/step - loss: 0.1017\n",
            "Epoch 88/150\n",
            "11/11 [==============================] - 18s 2s/step - loss: 0.0996\n",
            "Epoch 89/150\n",
            "11/11 [==============================] - 17s 2s/step - loss: 0.0977\n",
            "Epoch 90/150\n",
            "11/11 [==============================] - 17s 2s/step - loss: 0.0951\n",
            "Epoch 91/150\n",
            "11/11 [==============================] - 17s 2s/step - loss: 0.0936\n",
            "Epoch 92/150\n",
            "11/11 [==============================] - 17s 2s/step - loss: 0.0906\n",
            "Epoch 93/150\n",
            "11/11 [==============================] - 17s 2s/step - loss: 0.0888\n",
            "Epoch 94/150\n",
            "11/11 [==============================] - 17s 2s/step - loss: 0.0867\n",
            "Epoch 95/150\n",
            "11/11 [==============================] - 17s 2s/step - loss: 0.0853\n",
            "Epoch 96/150\n",
            "11/11 [==============================] - 17s 2s/step - loss: 0.0832\n",
            "Epoch 97/150\n",
            "11/11 [==============================] - 17s 2s/step - loss: 0.0812\n",
            "Epoch 98/150\n",
            "11/11 [==============================] - 17s 2s/step - loss: 0.0790\n",
            "Epoch 99/150\n",
            "11/11 [==============================] - 17s 2s/step - loss: 0.0777\n",
            "Epoch 100/150\n",
            "11/11 [==============================] - 17s 2s/step - loss: 0.0750\n",
            "Epoch 101/150\n",
            "11/11 [==============================] - 17s 2s/step - loss: 0.0738\n",
            "Epoch 102/150\n",
            "11/11 [==============================] - 17s 2s/step - loss: 0.0719\n",
            "Epoch 103/150\n",
            "11/11 [==============================] - 18s 2s/step - loss: 0.0701\n",
            "Epoch 104/150\n",
            "11/11 [==============================] - 17s 2s/step - loss: 0.0690\n",
            "Epoch 105/150\n",
            "11/11 [==============================] - 17s 2s/step - loss: 0.0671\n",
            "Epoch 106/150\n",
            "11/11 [==============================] - 17s 2s/step - loss: 0.0650\n",
            "Epoch 107/150\n",
            "11/11 [==============================] - 17s 2s/step - loss: 0.0636\n",
            "Epoch 108/150\n",
            "11/11 [==============================] - 17s 2s/step - loss: 0.0624\n",
            "Epoch 109/150\n",
            "11/11 [==============================] - 17s 2s/step - loss: 0.0607\n",
            "Epoch 110/150\n",
            "11/11 [==============================] - 18s 2s/step - loss: 0.0594\n",
            "Epoch 111/150\n",
            "11/11 [==============================] - 18s 2s/step - loss: 0.0576\n",
            "Epoch 112/150\n",
            "11/11 [==============================] - 18s 2s/step - loss: 0.0569\n",
            "Epoch 113/150\n",
            "11/11 [==============================] - 17s 2s/step - loss: 0.0550\n",
            "Epoch 114/150\n",
            "11/11 [==============================] - 17s 2s/step - loss: 0.0536\n",
            "Epoch 115/150\n",
            "11/11 [==============================] - 17s 2s/step - loss: 0.0526\n",
            "Epoch 116/150\n",
            "11/11 [==============================] - 17s 2s/step - loss: 0.0515\n",
            "Epoch 117/150\n",
            "11/11 [==============================] - 17s 2s/step - loss: 0.0497\n",
            "Epoch 118/150\n",
            "11/11 [==============================] - 17s 2s/step - loss: 0.0486\n",
            "Epoch 119/150\n",
            "11/11 [==============================] - 17s 2s/step - loss: 0.0472\n",
            "Epoch 120/150\n",
            "11/11 [==============================] - 17s 2s/step - loss: 0.0464\n",
            "Epoch 121/150\n",
            "11/11 [==============================] - 17s 2s/step - loss: 0.0453\n",
            "Epoch 122/150\n",
            "11/11 [==============================] - 17s 2s/step - loss: 0.0440\n",
            "Epoch 123/150\n",
            "11/11 [==============================] - 17s 2s/step - loss: 0.0431\n",
            "Epoch 124/150\n",
            "11/11 [==============================] - 17s 2s/step - loss: 0.0420\n",
            "Epoch 125/150\n",
            "11/11 [==============================] - 17s 2s/step - loss: 0.0406\n",
            "Epoch 126/150\n",
            "11/11 [==============================] - 17s 2s/step - loss: 0.0459\n",
            "Epoch 127/150\n",
            "11/11 [==============================] - 17s 2s/step - loss: 0.0420\n",
            "Epoch 128/150\n",
            "11/11 [==============================] - 17s 2s/step - loss: 0.0398\n",
            "Epoch 129/150\n",
            "11/11 [==============================] - 17s 2s/step - loss: 0.0385\n",
            "Epoch 130/150\n",
            "11/11 [==============================] - 18s 2s/step - loss: 0.0374\n",
            "Epoch 131/150\n",
            "11/11 [==============================] - 17s 2s/step - loss: 0.0365\n",
            "Epoch 132/150\n",
            "11/11 [==============================] - 17s 2s/step - loss: 0.0355\n",
            "Epoch 133/150\n",
            "11/11 [==============================] - 17s 2s/step - loss: 0.0347\n",
            "Epoch 134/150\n",
            "11/11 [==============================] - 17s 2s/step - loss: 0.0341\n",
            "Epoch 135/150\n",
            "11/11 [==============================] - 17s 2s/step - loss: 0.0336\n",
            "Epoch 136/150\n",
            "11/11 [==============================] - 17s 2s/step - loss: 0.0326\n",
            "Epoch 137/150\n",
            "11/11 [==============================] - 17s 2s/step - loss: 0.0318\n",
            "Epoch 138/150\n",
            "11/11 [==============================] - 17s 2s/step - loss: 0.0311\n",
            "Epoch 139/150\n",
            "11/11 [==============================] - 17s 2s/step - loss: 0.0306\n",
            "Epoch 140/150\n",
            "11/11 [==============================] - 17s 2s/step - loss: 0.0298\n",
            "Epoch 141/150\n",
            "11/11 [==============================] - 17s 2s/step - loss: 0.0290\n",
            "Epoch 142/150\n",
            "11/11 [==============================] - 17s 2s/step - loss: 0.0286\n",
            "Epoch 143/150\n",
            "11/11 [==============================] - 17s 2s/step - loss: 0.0280\n",
            "Epoch 144/150\n",
            "11/11 [==============================] - 18s 2s/step - loss: 0.0272\n",
            "Epoch 145/150\n",
            "11/11 [==============================] - 17s 2s/step - loss: 0.0266\n",
            "Epoch 146/150\n",
            "11/11 [==============================] - 17s 2s/step - loss: 0.0261\n",
            "Epoch 147/150\n",
            "11/11 [==============================] - 17s 2s/step - loss: 0.0253\n",
            "Epoch 148/150\n",
            "11/11 [==============================] - 17s 2s/step - loss: 0.0245\n",
            "Epoch 149/150\n",
            "11/11 [==============================] - 17s 2s/step - loss: 0.0242\n",
            "Epoch 150/150\n",
            "11/11 [==============================] - 17s 2s/step - loss: 0.0237\n"
          ]
        }
      ],
      "source": [
        "model.fit([encoder_input_data , decoder_input_data], decoder_output_data, batch_size=50, epochs=150 ) \n",
        "model.save( 'model.h5' )"
      ]
    },
    {
      "cell_type": "markdown",
      "metadata": {
        "id": "F1MIy1j9aVTo"
      },
      "source": [
        "# Step 6: Defining Inference Models\n",
        "\n",
        "Modelo de inferencia de codificador: toma preguntas como entrada y salida de estados LSTM (h y c)\n",
        "\n",
        "Modelo de inferencia del decodificador: toma 2 entradas, una son los estados LSTM, la segunda son las secuencias de entrada de respuesta. abrirá las respuestas a las preguntas que alimentaron el modelo del codificador y sus valores de estado."
      ]
    },
    {
      "cell_type": "code",
      "execution_count": 33,
      "metadata": {
        "id": "MpLowS27cn8X"
      },
      "outputs": [],
      "source": [
        "def make_inference_models():\n",
        "    \n",
        "    encoder_model = tf.keras.models.Model(encoder_inputs, encoder_states)\n",
        "    \n",
        "    decoder_state_input_h = tf.keras.layers.Input(shape=( 200 ,))\n",
        "    decoder_state_input_c = tf.keras.layers.Input(shape=( 200 ,))\n",
        "    \n",
        "    decoder_states_inputs = [decoder_state_input_h, decoder_state_input_c]\n",
        "    \n",
        "    decoder_outputs, state_h, state_c = decoder_lstm(\n",
        "        decoder_embedding , initial_state=decoder_states_inputs)\n",
        "    \n",
        "    decoder_states = [state_h, state_c]\n",
        "\n",
        "    decoder_outputs = decoder_dense(decoder_outputs)\n",
        "    \n",
        "    decoder_model = tf.keras.models.Model(\n",
        "        [decoder_inputs] + decoder_states_inputs,\n",
        "        [decoder_outputs] + decoder_states)\n",
        "    \n",
        "    return encoder_model , decoder_model"
      ]
    },
    {
      "cell_type": "markdown",
      "metadata": {
        "id": "EwoYVsBTeYra"
      },
      "source": [
        "# Step 7: Talking with the Chatbot\n",
        "\n",
        "defina un método str_to_tokens que convierta preguntas str en tokens Integer con relleno.\n",
        "\n",
        "1. Primero, tomamos una pregunta como entrada y predecimos los valores de estado usando enc_model.\n",
        "2. Establecemos los valores de estado en el LSTM del decodificador.\n",
        "3. Luego, generamos una secuencia que contiene el elemento <start>.\n",
        "4. Ingresamos esta secuencia en dec_model.\n",
        "5. Reemplazamos el elemento <start> con el elemento que fue predicho por dec_model y actualizamos los valores de estado.\n",
        "6. Llevamos a cabo los pasos anteriores de forma iterativa hasta que lleguemos a la etiqueta <end> o la longitud máxima de respuesta."
      ]
    },
    {
      "cell_type": "code",
      "execution_count": 34,
      "metadata": {
        "id": "oA7Yx45Li3wo"
      },
      "outputs": [],
      "source": [
        "def str_to_tokens( sentence : str ):\n",
        "\n",
        "    words = sentence.lower().split()\n",
        "    tokens_list = list()\n",
        "  \n",
        "    for word in words:\n",
        "        tokens_list.append( tokenizer.word_index[ word ] ) \n",
        "    return preprocessing.sequence.pad_sequences( [tokens_list] , maxlen=maxlen_questions , padding='post')\n"
      ]
    },
    {
      "cell_type": "code",
      "execution_count": null,
      "metadata": {
        "colab": {
          "base_uri": "https://localhost:8080/"
        },
        "id": "eUr4SQDveVb0",
        "outputId": "90652279-5a48-4e08-b1ae-e0e84981f702"
      },
      "outputs": [
        {
          "output_type": "stream",
          "name": "stdout",
          "text": [
            "Ingrese pregunta : Hola\n",
            "1/1 [==============================] - 2s 2s/step\n"
          ]
        },
        {
          "output_type": "stream",
          "name": "stderr",
          "text": [
            "WARNING:tensorflow:Model was constructed with shape (None, 184) for input KerasTensor(type_spec=TensorSpec(shape=(None, 184), dtype=tf.float32, name='input_6'), name='input_6', description=\"created by layer 'input_6'\"), but it was called on an input with incompatible shape (None, 1).\n"
          ]
        },
        {
          "output_type": "stream",
          "name": "stdout",
          "text": [
            "1/1 [==============================] - 2s 2s/step\n",
            "1/1 [==============================] - 0s 23ms/step\n",
            " hola end\n",
            "Ingrese pregunta : como estas\n",
            "1/1 [==============================] - 0s 26ms/step\n",
            "1/1 [==============================] - 0s 24ms/step\n",
            "1/1 [==============================] - 0s 27ms/step\n",
            "1/1 [==============================] - 0s 23ms/step\n",
            "1/1 [==============================] - 0s 23ms/step\n",
            "1/1 [==============================] - 0s 35ms/step\n",
            "1/1 [==============================] - 0s 22ms/step\n",
            "1/1 [==============================] - 0s 26ms/step\n",
            " lo estoy haciendo bien como estas end\n",
            "Ingrese pregunta : que es illuminatti\n",
            "1/1 [==============================] - 0s 22ms/step\n",
            "1/1 [==============================] - 0s 21ms/step\n",
            "1/1 [==============================] - 0s 24ms/step\n",
            "1/1 [==============================] - 0s 29ms/step\n",
            "1/1 [==============================] - 0s 22ms/step\n",
            "1/1 [==============================] - 0s 23ms/step\n",
            " una supuesta conspiracion mundial end\n"
          ]
        }
      ],
      "source": [
        "enc_model , dec_model = make_inference_models()\n",
        "\n",
        "for _ in range(10):\n",
        "    states_values = enc_model.predict( str_to_tokens( input( 'Ingrese pregunta : ' ) ) )\n",
        "    empty_target_seq = np.zeros( ( 1 , 1 ) )\n",
        "    empty_target_seq[0, 0] = tokenizer.word_index['start']\n",
        "    stop_condition = False\n",
        "    decoded_translation = ''\n",
        "    while not stop_condition :\n",
        "        dec_outputs , h , c = dec_model.predict([ empty_target_seq ] + states_values )\n",
        "        sampled_word_index = np.argmax( dec_outputs[0, -1, :] )\n",
        "        sampled_word = None\n",
        "        for word , index in tokenizer.word_index.items() :\n",
        "            if sampled_word_index == index :\n",
        "                decoded_translation += ' {}'.format( word )\n",
        "                sampled_word = word\n",
        "        \n",
        "        if sampled_word == 'end' or len(decoded_translation.split()) > maxlen_answers:\n",
        "            stop_condition = True\n",
        "            \n",
        "        empty_target_seq = np.zeros( ( 1 , 1 ) )  \n",
        "        empty_target_seq[ 0 , 0 ] = sampled_word_index\n",
        "        states_values = [ h , c ] \n",
        "\n",
        "    print( decoded_translation )"
      ]
    },
    {
      "cell_type": "code",
      "source": [],
      "metadata": {
        "id": "mri17SLV1Wyw"
      },
      "execution_count": null,
      "outputs": []
    },
    {
      "cell_type": "markdown",
      "metadata": {
        "id": "xPNjNwxUl2DO"
      },
      "source": [
        "# Conversion to TFLite \n",
        "\n",
        "Podemos convertir nuestro modelo seq2seq en un modelo TensorFlow Lite para que podamos usarlo en dispositivos perimetrales"
      ]
    },
    {
      "cell_type": "code",
      "execution_count": null,
      "metadata": {
        "id": "Ywh_aJ-Ulxme"
      },
      "outputs": [],
      "source": [
        "!pip install tf-nightly"
      ]
    },
    {
      "cell_type": "code",
      "execution_count": 41,
      "metadata": {
        "colab": {
          "base_uri": "https://localhost:8080/",
          "height": 397
        },
        "id": "Y3C3SlT-mboI",
        "outputId": "a7b46cae-8ab9-4d27-ca20-ed3e3810a3d0"
      },
      "outputs": [
        {
          "output_type": "error",
          "ename": "KeyboardInterrupt",
          "evalue": "ignored",
          "traceback": [
            "\u001b[0;31m---------------------------------------------------------------------------\u001b[0m",
            "\u001b[0;31mKeyboardInterrupt\u001b[0m                         Traceback (most recent call last)",
            "\u001b[0;32m<ipython-input-41-fdc27f94d910>\u001b[0m in \u001b[0;36m<module>\u001b[0;34m\u001b[0m\n\u001b[1;32m      1\u001b[0m \u001b[0mconverter\u001b[0m \u001b[0;34m=\u001b[0m \u001b[0mtf\u001b[0m\u001b[0;34m.\u001b[0m\u001b[0mlite\u001b[0m\u001b[0;34m.\u001b[0m\u001b[0mTFLiteConverter\u001b[0m\u001b[0;34m.\u001b[0m\u001b[0mfrom_keras_model\u001b[0m\u001b[0;34m(\u001b[0m \u001b[0menc_model\u001b[0m \u001b[0;34m)\u001b[0m\u001b[0;34m\u001b[0m\u001b[0;34m\u001b[0m\u001b[0m\n\u001b[0;32m----> 2\u001b[0;31m \u001b[0mbuffer\u001b[0m \u001b[0;34m=\u001b[0m \u001b[0mconverter\u001b[0m\u001b[0;34m.\u001b[0m\u001b[0mconvert\u001b[0m\u001b[0;34m(\u001b[0m\u001b[0;34m)\u001b[0m\u001b[0;34m\u001b[0m\u001b[0;34m\u001b[0m\u001b[0m\n\u001b[0m\u001b[1;32m      3\u001b[0m \u001b[0mopen\u001b[0m\u001b[0;34m(\u001b[0m \u001b[0;34m'enc_model.tflite'\u001b[0m \u001b[0;34m,\u001b[0m \u001b[0;34m'wb'\u001b[0m \u001b[0;34m)\u001b[0m\u001b[0;34m.\u001b[0m\u001b[0mwrite\u001b[0m\u001b[0;34m(\u001b[0m \u001b[0mbuffer\u001b[0m \u001b[0;34m)\u001b[0m\u001b[0;34m\u001b[0m\u001b[0;34m\u001b[0m\u001b[0m\n\u001b[1;32m      4\u001b[0m \u001b[0;34m\u001b[0m\u001b[0m\n\u001b[1;32m      5\u001b[0m \u001b[0mconverter\u001b[0m \u001b[0;34m=\u001b[0m \u001b[0mtf\u001b[0m\u001b[0;34m.\u001b[0m\u001b[0mlite\u001b[0m\u001b[0;34m.\u001b[0m\u001b[0mTFLiteConverter\u001b[0m\u001b[0;34m.\u001b[0m\u001b[0mfrom_keras_model\u001b[0m\u001b[0;34m(\u001b[0m \u001b[0mdec_model\u001b[0m \u001b[0;34m)\u001b[0m\u001b[0;34m\u001b[0m\u001b[0;34m\u001b[0m\u001b[0m\n",
            "\u001b[0;32m/usr/local/lib/python3.8/dist-packages/tensorflow/lite/python/lite.py\u001b[0m in \u001b[0;36mwrapper\u001b[0;34m(self, *args, **kwargs)\u001b[0m\n\u001b[1;32m    927\u001b[0m   \u001b[0;32mdef\u001b[0m \u001b[0mwrapper\u001b[0m\u001b[0;34m(\u001b[0m\u001b[0mself\u001b[0m\u001b[0;34m,\u001b[0m \u001b[0;34m*\u001b[0m\u001b[0margs\u001b[0m\u001b[0;34m,\u001b[0m \u001b[0;34m**\u001b[0m\u001b[0mkwargs\u001b[0m\u001b[0;34m)\u001b[0m\u001b[0;34m:\u001b[0m\u001b[0;34m\u001b[0m\u001b[0;34m\u001b[0m\u001b[0m\n\u001b[1;32m    928\u001b[0m     \u001b[0;31m# pylint: disable=protected-access\u001b[0m\u001b[0;34m\u001b[0m\u001b[0;34m\u001b[0m\u001b[0;34m\u001b[0m\u001b[0m\n\u001b[0;32m--> 929\u001b[0;31m     \u001b[0;32mreturn\u001b[0m \u001b[0mself\u001b[0m\u001b[0;34m.\u001b[0m\u001b[0m_convert_and_export_metrics\u001b[0m\u001b[0;34m(\u001b[0m\u001b[0mconvert_func\u001b[0m\u001b[0;34m,\u001b[0m \u001b[0;34m*\u001b[0m\u001b[0margs\u001b[0m\u001b[0;34m,\u001b[0m \u001b[0;34m**\u001b[0m\u001b[0mkwargs\u001b[0m\u001b[0;34m)\u001b[0m\u001b[0;34m\u001b[0m\u001b[0;34m\u001b[0m\u001b[0m\n\u001b[0m\u001b[1;32m    930\u001b[0m     \u001b[0;31m# pylint: enable=protected-access\u001b[0m\u001b[0;34m\u001b[0m\u001b[0;34m\u001b[0m\u001b[0;34m\u001b[0m\u001b[0m\n\u001b[1;32m    931\u001b[0m \u001b[0;34m\u001b[0m\u001b[0m\n",
            "\u001b[0;32m/usr/local/lib/python3.8/dist-packages/tensorflow/lite/python/lite.py\u001b[0m in \u001b[0;36m_convert_and_export_metrics\u001b[0;34m(self, convert_func, *args, **kwargs)\u001b[0m\n\u001b[1;32m    906\u001b[0m     \u001b[0mself\u001b[0m\u001b[0;34m.\u001b[0m\u001b[0m_save_conversion_params_metric\u001b[0m\u001b[0;34m(\u001b[0m\u001b[0;34m)\u001b[0m\u001b[0;34m\u001b[0m\u001b[0;34m\u001b[0m\u001b[0m\n\u001b[1;32m    907\u001b[0m     \u001b[0mstart_time\u001b[0m \u001b[0;34m=\u001b[0m \u001b[0mtime\u001b[0m\u001b[0;34m.\u001b[0m\u001b[0mprocess_time\u001b[0m\u001b[0;34m(\u001b[0m\u001b[0;34m)\u001b[0m\u001b[0;34m\u001b[0m\u001b[0;34m\u001b[0m\u001b[0m\n\u001b[0;32m--> 908\u001b[0;31m     \u001b[0mresult\u001b[0m \u001b[0;34m=\u001b[0m \u001b[0mconvert_func\u001b[0m\u001b[0;34m(\u001b[0m\u001b[0mself\u001b[0m\u001b[0;34m,\u001b[0m \u001b[0;34m*\u001b[0m\u001b[0margs\u001b[0m\u001b[0;34m,\u001b[0m \u001b[0;34m**\u001b[0m\u001b[0mkwargs\u001b[0m\u001b[0;34m)\u001b[0m\u001b[0;34m\u001b[0m\u001b[0;34m\u001b[0m\u001b[0m\n\u001b[0m\u001b[1;32m    909\u001b[0m     \u001b[0melapsed_time_ms\u001b[0m \u001b[0;34m=\u001b[0m \u001b[0;34m(\u001b[0m\u001b[0mtime\u001b[0m\u001b[0;34m.\u001b[0m\u001b[0mprocess_time\u001b[0m\u001b[0;34m(\u001b[0m\u001b[0;34m)\u001b[0m \u001b[0;34m-\u001b[0m \u001b[0mstart_time\u001b[0m\u001b[0;34m)\u001b[0m \u001b[0;34m*\u001b[0m \u001b[0;36m1000\u001b[0m\u001b[0;34m\u001b[0m\u001b[0;34m\u001b[0m\u001b[0m\n\u001b[1;32m    910\u001b[0m     \u001b[0;32mif\u001b[0m \u001b[0mresult\u001b[0m\u001b[0;34m:\u001b[0m\u001b[0;34m\u001b[0m\u001b[0;34m\u001b[0m\u001b[0m\n",
            "\u001b[0;32m/usr/local/lib/python3.8/dist-packages/tensorflow/lite/python/lite.py\u001b[0m in \u001b[0;36mconvert\u001b[0;34m(self)\u001b[0m\n\u001b[1;32m   1336\u001b[0m         \u001b[0mInvalid\u001b[0m \u001b[0mquantization\u001b[0m \u001b[0mparameters\u001b[0m\u001b[0;34m.\u001b[0m\u001b[0;34m\u001b[0m\u001b[0;34m\u001b[0m\u001b[0m\n\u001b[1;32m   1337\u001b[0m     \"\"\"\n\u001b[0;32m-> 1338\u001b[0;31m     \u001b[0msaved_model_convert_result\u001b[0m \u001b[0;34m=\u001b[0m \u001b[0mself\u001b[0m\u001b[0;34m.\u001b[0m\u001b[0m_convert_as_saved_model\u001b[0m\u001b[0;34m(\u001b[0m\u001b[0;34m)\u001b[0m\u001b[0;34m\u001b[0m\u001b[0;34m\u001b[0m\u001b[0m\n\u001b[0m\u001b[1;32m   1339\u001b[0m     \u001b[0;32mif\u001b[0m \u001b[0msaved_model_convert_result\u001b[0m\u001b[0;34m:\u001b[0m\u001b[0;34m\u001b[0m\u001b[0;34m\u001b[0m\u001b[0m\n\u001b[1;32m   1340\u001b[0m       \u001b[0;32mreturn\u001b[0m \u001b[0msaved_model_convert_result\u001b[0m\u001b[0;34m\u001b[0m\u001b[0;34m\u001b[0m\u001b[0m\n",
            "\u001b[0;32m/usr/local/lib/python3.8/dist-packages/tensorflow/lite/python/lite.py\u001b[0m in \u001b[0;36m_convert_as_saved_model\u001b[0;34m(self)\u001b[0m\n\u001b[1;32m   1316\u001b[0m     \u001b[0;32mtry\u001b[0m\u001b[0;34m:\u001b[0m\u001b[0;34m\u001b[0m\u001b[0;34m\u001b[0m\u001b[0m\n\u001b[1;32m   1317\u001b[0m       graph_def, input_tensors, output_tensors = (\n\u001b[0;32m-> 1318\u001b[0;31m           self._convert_keras_to_saved_model(temp_dir))\n\u001b[0m\u001b[1;32m   1319\u001b[0m       \u001b[0;32mif\u001b[0m \u001b[0mself\u001b[0m\u001b[0;34m.\u001b[0m\u001b[0msaved_model_dir\u001b[0m\u001b[0;34m:\u001b[0m\u001b[0;34m\u001b[0m\u001b[0;34m\u001b[0m\u001b[0m\n\u001b[1;32m   1320\u001b[0m         return super(TFLiteKerasModelConverterV2,\n",
            "\u001b[0;32m/usr/local/lib/python3.8/dist-packages/tensorflow/lite/python/convert_phase.py\u001b[0m in \u001b[0;36mwrapper\u001b[0;34m(*args, **kwargs)\u001b[0m\n\u001b[1;32m    203\u001b[0m     \u001b[0;32mdef\u001b[0m \u001b[0mwrapper\u001b[0m\u001b[0;34m(\u001b[0m\u001b[0;34m*\u001b[0m\u001b[0margs\u001b[0m\u001b[0;34m,\u001b[0m \u001b[0;34m**\u001b[0m\u001b[0mkwargs\u001b[0m\u001b[0;34m)\u001b[0m\u001b[0;34m:\u001b[0m\u001b[0;34m\u001b[0m\u001b[0;34m\u001b[0m\u001b[0m\n\u001b[1;32m    204\u001b[0m       \u001b[0;32mtry\u001b[0m\u001b[0;34m:\u001b[0m\u001b[0;34m\u001b[0m\u001b[0;34m\u001b[0m\u001b[0m\n\u001b[0;32m--> 205\u001b[0;31m         \u001b[0;32mreturn\u001b[0m \u001b[0mfunc\u001b[0m\u001b[0;34m(\u001b[0m\u001b[0;34m*\u001b[0m\u001b[0margs\u001b[0m\u001b[0;34m,\u001b[0m \u001b[0;34m**\u001b[0m\u001b[0mkwargs\u001b[0m\u001b[0;34m)\u001b[0m\u001b[0;34m\u001b[0m\u001b[0;34m\u001b[0m\u001b[0m\n\u001b[0m\u001b[1;32m    206\u001b[0m       \u001b[0;32mexcept\u001b[0m \u001b[0mConverterError\u001b[0m \u001b[0;32mas\u001b[0m \u001b[0mconverter_error\u001b[0m\u001b[0;34m:\u001b[0m\u001b[0;34m\u001b[0m\u001b[0;34m\u001b[0m\u001b[0m\n\u001b[1;32m    207\u001b[0m         \u001b[0;32mif\u001b[0m \u001b[0mconverter_error\u001b[0m\u001b[0;34m.\u001b[0m\u001b[0merrors\u001b[0m\u001b[0;34m:\u001b[0m\u001b[0;34m\u001b[0m\u001b[0;34m\u001b[0m\u001b[0m\n",
            "\u001b[0;32m/usr/local/lib/python3.8/dist-packages/tensorflow/lite/python/lite.py\u001b[0m in \u001b[0;36m_convert_keras_to_saved_model\u001b[0;34m(self, output_dir)\u001b[0m\n\u001b[1;32m   1246\u001b[0m     \"\"\"\n\u001b[1;32m   1247\u001b[0m     \u001b[0;32mtry\u001b[0m\u001b[0;34m:\u001b[0m\u001b[0;34m\u001b[0m\u001b[0;34m\u001b[0m\u001b[0m\n\u001b[0;32m-> 1248\u001b[0;31m       _saved_model.save(\n\u001b[0m\u001b[1;32m   1249\u001b[0m           \u001b[0mself\u001b[0m\u001b[0;34m.\u001b[0m\u001b[0m_keras_model\u001b[0m\u001b[0;34m,\u001b[0m\u001b[0;34m\u001b[0m\u001b[0;34m\u001b[0m\u001b[0m\n\u001b[1;32m   1250\u001b[0m           \u001b[0moutput_dir\u001b[0m\u001b[0;34m,\u001b[0m\u001b[0;34m\u001b[0m\u001b[0;34m\u001b[0m\u001b[0m\n",
            "\u001b[0;32m/usr/local/lib/python3.8/dist-packages/tensorflow/python/saved_model/save.py\u001b[0m in \u001b[0;36msave\u001b[0;34m(obj, export_dir, signatures, options)\u001b[0m\n\u001b[1;32m   1288\u001b[0m   \u001b[0;31m# pylint: enable=line-too-long\u001b[0m\u001b[0;34m\u001b[0m\u001b[0;34m\u001b[0m\u001b[0;34m\u001b[0m\u001b[0m\n\u001b[1;32m   1289\u001b[0m   \u001b[0mmetrics\u001b[0m\u001b[0;34m.\u001b[0m\u001b[0mIncrementWriteApi\u001b[0m\u001b[0;34m(\u001b[0m\u001b[0m_SAVE_V2_LABEL\u001b[0m\u001b[0;34m)\u001b[0m\u001b[0;34m\u001b[0m\u001b[0;34m\u001b[0m\u001b[0m\n\u001b[0;32m-> 1290\u001b[0;31m   \u001b[0msave_and_return_nodes\u001b[0m\u001b[0;34m(\u001b[0m\u001b[0mobj\u001b[0m\u001b[0;34m,\u001b[0m \u001b[0mexport_dir\u001b[0m\u001b[0;34m,\u001b[0m \u001b[0msignatures\u001b[0m\u001b[0;34m,\u001b[0m \u001b[0moptions\u001b[0m\u001b[0;34m)\u001b[0m\u001b[0;34m\u001b[0m\u001b[0;34m\u001b[0m\u001b[0m\n\u001b[0m\u001b[1;32m   1291\u001b[0m   \u001b[0mmetrics\u001b[0m\u001b[0;34m.\u001b[0m\u001b[0mIncrementWrite\u001b[0m\u001b[0;34m(\u001b[0m\u001b[0mwrite_version\u001b[0m\u001b[0;34m=\u001b[0m\u001b[0;34m\"2\"\u001b[0m\u001b[0;34m)\u001b[0m\u001b[0;34m\u001b[0m\u001b[0;34m\u001b[0m\u001b[0m\n\u001b[1;32m   1292\u001b[0m \u001b[0;34m\u001b[0m\u001b[0m\n",
            "\u001b[0;32m/usr/local/lib/python3.8/dist-packages/tensorflow/python/saved_model/save.py\u001b[0m in \u001b[0;36msave_and_return_nodes\u001b[0;34m(obj, export_dir, signatures, options, experimental_skip_checkpoint)\u001b[0m\n\u001b[1;32m   1323\u001b[0m \u001b[0;34m\u001b[0m\u001b[0m\n\u001b[1;32m   1324\u001b[0m   _, exported_graph, object_saver, asset_info, saved_nodes, node_paths = (\n\u001b[0;32m-> 1325\u001b[0;31m       _build_meta_graph(obj, signatures, options, meta_graph_def))\n\u001b[0m\u001b[1;32m   1326\u001b[0m   saved_model.saved_model_schema_version = (\n\u001b[1;32m   1327\u001b[0m       constants.SAVED_MODEL_SCHEMA_VERSION)\n",
            "\u001b[0;32m/usr/local/lib/python3.8/dist-packages/tensorflow/python/saved_model/save.py\u001b[0m in \u001b[0;36m_build_meta_graph\u001b[0;34m(obj, signatures, options, meta_graph_def)\u001b[0m\n\u001b[1;32m   1489\u001b[0m \u001b[0;34m\u001b[0m\u001b[0m\n\u001b[1;32m   1490\u001b[0m   \u001b[0;32mwith\u001b[0m \u001b[0msave_context\u001b[0m\u001b[0;34m.\u001b[0m\u001b[0msave_context\u001b[0m\u001b[0;34m(\u001b[0m\u001b[0moptions\u001b[0m\u001b[0;34m)\u001b[0m\u001b[0;34m:\u001b[0m\u001b[0;34m\u001b[0m\u001b[0;34m\u001b[0m\u001b[0m\n\u001b[0;32m-> 1491\u001b[0;31m     \u001b[0;32mreturn\u001b[0m \u001b[0m_build_meta_graph_impl\u001b[0m\u001b[0;34m(\u001b[0m\u001b[0mobj\u001b[0m\u001b[0;34m,\u001b[0m \u001b[0msignatures\u001b[0m\u001b[0;34m,\u001b[0m \u001b[0moptions\u001b[0m\u001b[0;34m,\u001b[0m \u001b[0mmeta_graph_def\u001b[0m\u001b[0;34m)\u001b[0m\u001b[0;34m\u001b[0m\u001b[0;34m\u001b[0m\u001b[0m\n\u001b[0m",
            "\u001b[0;32m/usr/local/lib/python3.8/dist-packages/tensorflow/python/saved_model/save.py\u001b[0m in \u001b[0;36m_build_meta_graph_impl\u001b[0;34m(obj, signatures, options, meta_graph_def)\u001b[0m\n\u001b[1;32m   1431\u001b[0m   \u001b[0maugmented_graph_view\u001b[0m \u001b[0;34m=\u001b[0m \u001b[0m_AugmentedGraphView\u001b[0m\u001b[0;34m(\u001b[0m\u001b[0mobj\u001b[0m\u001b[0;34m)\u001b[0m\u001b[0;34m\u001b[0m\u001b[0;34m\u001b[0m\u001b[0m\n\u001b[1;32m   1432\u001b[0m   \u001b[0;32mif\u001b[0m \u001b[0msignatures\u001b[0m \u001b[0;32mis\u001b[0m \u001b[0;32mNone\u001b[0m\u001b[0;34m:\u001b[0m\u001b[0;34m\u001b[0m\u001b[0;34m\u001b[0m\u001b[0m\n\u001b[0;32m-> 1433\u001b[0;31m     signatures = signature_serialization.find_function_to_export(\n\u001b[0m\u001b[1;32m   1434\u001b[0m         augmented_graph_view)\n\u001b[1;32m   1435\u001b[0m \u001b[0;34m\u001b[0m\u001b[0m\n",
            "\u001b[0;32m/usr/local/lib/python3.8/dist-packages/tensorflow/python/saved_model/signature_serialization.py\u001b[0m in \u001b[0;36mfind_function_to_export\u001b[0;34m(saveable_view)\u001b[0m\n\u001b[1;32m    101\u001b[0m   \u001b[0;31m# serving that model way later in the process stops working.\u001b[0m\u001b[0;34m\u001b[0m\u001b[0;34m\u001b[0m\u001b[0;34m\u001b[0m\u001b[0m\n\u001b[1;32m    102\u001b[0m   \u001b[0mpossible_signatures\u001b[0m \u001b[0;34m=\u001b[0m \u001b[0;34m[\u001b[0m\u001b[0;34m]\u001b[0m\u001b[0;34m\u001b[0m\u001b[0;34m\u001b[0m\u001b[0m\n\u001b[0;32m--> 103\u001b[0;31m   \u001b[0;32mfor\u001b[0m \u001b[0mname\u001b[0m\u001b[0;34m,\u001b[0m \u001b[0mchild\u001b[0m \u001b[0;32min\u001b[0m \u001b[0mchildren\u001b[0m\u001b[0;34m:\u001b[0m\u001b[0;34m\u001b[0m\u001b[0;34m\u001b[0m\u001b[0m\n\u001b[0m\u001b[1;32m    104\u001b[0m     \u001b[0;32mif\u001b[0m \u001b[0;32mnot\u001b[0m \u001b[0misinstance\u001b[0m\u001b[0;34m(\u001b[0m\u001b[0mchild\u001b[0m\u001b[0;34m,\u001b[0m \u001b[0;34m(\u001b[0m\u001b[0mdef_function\u001b[0m\u001b[0;34m.\u001b[0m\u001b[0mFunction\u001b[0m\u001b[0;34m,\u001b[0m \u001b[0mdefun\u001b[0m\u001b[0;34m.\u001b[0m\u001b[0mConcreteFunction\u001b[0m\u001b[0;34m)\u001b[0m\u001b[0;34m)\u001b[0m\u001b[0;34m:\u001b[0m\u001b[0;34m\u001b[0m\u001b[0;34m\u001b[0m\u001b[0m\n\u001b[1;32m    105\u001b[0m       \u001b[0;32mcontinue\u001b[0m\u001b[0;34m\u001b[0m\u001b[0;34m\u001b[0m\u001b[0m\n",
            "\u001b[0;32m/usr/local/lib/python3.8/dist-packages/tensorflow/python/saved_model/save.py\u001b[0m in \u001b[0;36mlist_children\u001b[0;34m(self, obj)\u001b[0m\n\u001b[1;32m    141\u001b[0m       \u001b[0mchildren\u001b[0m \u001b[0;34m=\u001b[0m \u001b[0mself\u001b[0m\u001b[0;34m.\u001b[0m\u001b[0m_children_cache\u001b[0m\u001b[0;34m[\u001b[0m\u001b[0mobj\u001b[0m\u001b[0;34m]\u001b[0m \u001b[0;34m=\u001b[0m \u001b[0;34m{\u001b[0m\u001b[0;34m}\u001b[0m\u001b[0;34m\u001b[0m\u001b[0;34m\u001b[0m\u001b[0m\n\u001b[1;32m    142\u001b[0m \u001b[0;34m\u001b[0m\u001b[0m\n\u001b[0;32m--> 143\u001b[0;31m       for name, child in super(_AugmentedGraphView, self).list_children(\n\u001b[0m\u001b[1;32m    144\u001b[0m           \u001b[0mobj\u001b[0m\u001b[0;34m,\u001b[0m\u001b[0;34m\u001b[0m\u001b[0;34m\u001b[0m\u001b[0m\n\u001b[1;32m    145\u001b[0m           \u001b[0msave_type\u001b[0m\u001b[0;34m=\u001b[0m\u001b[0mbase\u001b[0m\u001b[0;34m.\u001b[0m\u001b[0mSaveType\u001b[0m\u001b[0;34m.\u001b[0m\u001b[0mSAVEDMODEL\u001b[0m\u001b[0;34m,\u001b[0m\u001b[0;34m\u001b[0m\u001b[0;34m\u001b[0m\u001b[0m\n",
            "\u001b[0;32m/usr/local/lib/python3.8/dist-packages/tensorflow/python/training/tracking/graph_view.py\u001b[0m in \u001b[0;36mlist_children\u001b[0;34m(self, obj, save_type, **kwargs)\u001b[0m\n\u001b[1;32m    201\u001b[0m     \u001b[0mobj\u001b[0m\u001b[0;34m.\u001b[0m\u001b[0m_maybe_initialize_trackable\u001b[0m\u001b[0;34m(\u001b[0m\u001b[0;34m)\u001b[0m\u001b[0;34m\u001b[0m\u001b[0;34m\u001b[0m\u001b[0m\n\u001b[1;32m    202\u001b[0m     children = [base.TrackableReference(name, ref) for name, ref\n\u001b[0;32m--> 203\u001b[0;31m                 in obj._trackable_children(save_type, **kwargs).items()]\n\u001b[0m\u001b[1;32m    204\u001b[0m     \u001b[0;31m# pylint: enable=protected-access\u001b[0m\u001b[0;34m\u001b[0m\u001b[0;34m\u001b[0m\u001b[0;34m\u001b[0m\u001b[0m\n\u001b[1;32m    205\u001b[0m \u001b[0;34m\u001b[0m\u001b[0m\n",
            "\u001b[0;32m/usr/local/lib/python3.8/dist-packages/keras/engine/functional.py\u001b[0m in \u001b[0;36m_trackable_children\u001b[0;34m(self, save_type, **kwargs)\u001b[0m\n\u001b[1;32m    407\u001b[0m     \u001b[0mdependencies\u001b[0m \u001b[0;34m=\u001b[0m \u001b[0mself\u001b[0m\u001b[0;34m.\u001b[0m\u001b[0m_layer_checkpoint_dependencies\u001b[0m\u001b[0;34m\u001b[0m\u001b[0;34m\u001b[0m\u001b[0m\n\u001b[1;32m    408\u001b[0m     dependencies.update(\n\u001b[0;32m--> 409\u001b[0;31m         super(Functional, self)._trackable_children(save_type, **kwargs))\n\u001b[0m\u001b[1;32m    410\u001b[0m     \u001b[0;32mreturn\u001b[0m \u001b[0mdependencies\u001b[0m\u001b[0;34m\u001b[0m\u001b[0;34m\u001b[0m\u001b[0m\n\u001b[1;32m    411\u001b[0m \u001b[0;34m\u001b[0m\u001b[0m\n",
            "\u001b[0;32m/usr/local/lib/python3.8/dist-packages/keras/engine/training.py\u001b[0m in \u001b[0;36m_trackable_children\u001b[0;34m(self, save_type, **kwargs)\u001b[0m\n\u001b[1;32m   3199\u001b[0m       \u001b[0mself\u001b[0m\u001b[0;34m.\u001b[0m\u001b[0mtrain_tf_function\u001b[0m \u001b[0;34m=\u001b[0m \u001b[0;32mNone\u001b[0m\u001b[0;34m\u001b[0m\u001b[0;34m\u001b[0m\u001b[0m\n\u001b[1;32m   3200\u001b[0m \u001b[0;34m\u001b[0m\u001b[0m\n\u001b[0;32m-> 3201\u001b[0;31m     \u001b[0mchildren\u001b[0m \u001b[0;34m=\u001b[0m \u001b[0msuper\u001b[0m\u001b[0;34m(\u001b[0m\u001b[0mModel\u001b[0m\u001b[0;34m,\u001b[0m \u001b[0mself\u001b[0m\u001b[0;34m)\u001b[0m\u001b[0;34m.\u001b[0m\u001b[0m_trackable_children\u001b[0m\u001b[0;34m(\u001b[0m\u001b[0msave_type\u001b[0m\u001b[0;34m,\u001b[0m \u001b[0;34m**\u001b[0m\u001b[0mkwargs\u001b[0m\u001b[0;34m)\u001b[0m\u001b[0;34m\u001b[0m\u001b[0;34m\u001b[0m\u001b[0m\n\u001b[0m\u001b[1;32m   3202\u001b[0m \u001b[0;34m\u001b[0m\u001b[0m\n\u001b[1;32m   3203\u001b[0m     \u001b[0;32mif\u001b[0m \u001b[0msave_type\u001b[0m \u001b[0;34m==\u001b[0m \u001b[0;34m'savedmodel'\u001b[0m\u001b[0;34m:\u001b[0m\u001b[0;34m\u001b[0m\u001b[0;34m\u001b[0m\u001b[0m\n",
            "\u001b[0;32m/usr/local/lib/python3.8/dist-packages/keras/engine/base_layer.py\u001b[0m in \u001b[0;36m_trackable_children\u001b[0;34m(self, save_type, **kwargs)\u001b[0m\n\u001b[1;32m   3172\u001b[0m       \u001b[0;31m# that any input shape changes are applied before getting the config of\u001b[0m\u001b[0;34m\u001b[0m\u001b[0;34m\u001b[0m\u001b[0;34m\u001b[0m\u001b[0m\n\u001b[1;32m   3173\u001b[0m       \u001b[0;31m# the model.\u001b[0m\u001b[0;34m\u001b[0m\u001b[0;34m\u001b[0m\u001b[0;34m\u001b[0m\u001b[0m\n\u001b[0;32m-> 3174\u001b[0;31m       \u001b[0mchildren\u001b[0m \u001b[0;34m=\u001b[0m \u001b[0mself\u001b[0m\u001b[0;34m.\u001b[0m\u001b[0m_trackable_saved_model_saver\u001b[0m\u001b[0;34m.\u001b[0m\u001b[0mtrackable_children\u001b[0m\u001b[0;34m(\u001b[0m\u001b[0mcache\u001b[0m\u001b[0;34m)\u001b[0m\u001b[0;34m\u001b[0m\u001b[0;34m\u001b[0m\u001b[0m\n\u001b[0m\u001b[1;32m   3175\u001b[0m     \u001b[0;32melse\u001b[0m\u001b[0;34m:\u001b[0m\u001b[0;34m\u001b[0m\u001b[0;34m\u001b[0m\u001b[0m\n\u001b[1;32m   3176\u001b[0m       \u001b[0mchildren\u001b[0m \u001b[0;34m=\u001b[0m \u001b[0;34m{\u001b[0m\u001b[0;34m}\u001b[0m\u001b[0;34m\u001b[0m\u001b[0;34m\u001b[0m\u001b[0m\n",
            "\u001b[0;32m/usr/local/lib/python3.8/dist-packages/keras/saving/saved_model/base_serialization.py\u001b[0m in \u001b[0;36mtrackable_children\u001b[0;34m(self, serialization_cache)\u001b[0m\n\u001b[1;32m     57\u001b[0m       \u001b[0;32mreturn\u001b[0m \u001b[0;34m{\u001b[0m\u001b[0;34m}\u001b[0m\u001b[0;34m\u001b[0m\u001b[0;34m\u001b[0m\u001b[0m\n\u001b[1;32m     58\u001b[0m \u001b[0;34m\u001b[0m\u001b[0m\n\u001b[0;32m---> 59\u001b[0;31m     \u001b[0mchildren\u001b[0m \u001b[0;34m=\u001b[0m \u001b[0mself\u001b[0m\u001b[0;34m.\u001b[0m\u001b[0mobjects_to_serialize\u001b[0m\u001b[0;34m(\u001b[0m\u001b[0mserialization_cache\u001b[0m\u001b[0;34m)\u001b[0m\u001b[0;34m\u001b[0m\u001b[0;34m\u001b[0m\u001b[0m\n\u001b[0m\u001b[1;32m     60\u001b[0m     \u001b[0mchildren\u001b[0m\u001b[0;34m.\u001b[0m\u001b[0mupdate\u001b[0m\u001b[0;34m(\u001b[0m\u001b[0mself\u001b[0m\u001b[0;34m.\u001b[0m\u001b[0mfunctions_to_serialize\u001b[0m\u001b[0;34m(\u001b[0m\u001b[0mserialization_cache\u001b[0m\u001b[0;34m)\u001b[0m\u001b[0;34m)\u001b[0m\u001b[0;34m\u001b[0m\u001b[0;34m\u001b[0m\u001b[0m\n\u001b[1;32m     61\u001b[0m     \u001b[0;32mreturn\u001b[0m \u001b[0mchildren\u001b[0m\u001b[0;34m\u001b[0m\u001b[0;34m\u001b[0m\u001b[0m\n",
            "\u001b[0;32m/usr/local/lib/python3.8/dist-packages/keras/saving/saved_model/layer_serialization.py\u001b[0m in \u001b[0;36mobjects_to_serialize\u001b[0;34m(self, serialization_cache)\u001b[0m\n\u001b[1;32m     66\u001b[0m \u001b[0;34m\u001b[0m\u001b[0m\n\u001b[1;32m     67\u001b[0m   \u001b[0;32mdef\u001b[0m \u001b[0mobjects_to_serialize\u001b[0m\u001b[0;34m(\u001b[0m\u001b[0mself\u001b[0m\u001b[0;34m,\u001b[0m \u001b[0mserialization_cache\u001b[0m\u001b[0;34m)\u001b[0m\u001b[0;34m:\u001b[0m\u001b[0;34m\u001b[0m\u001b[0;34m\u001b[0m\u001b[0m\n\u001b[0;32m---> 68\u001b[0;31m     return (self._get_serialized_attributes(\n\u001b[0m\u001b[1;32m     69\u001b[0m         serialization_cache).objects_to_serialize)\n\u001b[1;32m     70\u001b[0m \u001b[0;34m\u001b[0m\u001b[0m\n",
            "\u001b[0;32m/usr/local/lib/python3.8/dist-packages/keras/saving/saved_model/layer_serialization.py\u001b[0m in \u001b[0;36m_get_serialized_attributes\u001b[0;34m(self, serialization_cache)\u001b[0m\n\u001b[1;32m     86\u001b[0m       \u001b[0;32mreturn\u001b[0m \u001b[0mserialized_attr\u001b[0m\u001b[0;34m\u001b[0m\u001b[0;34m\u001b[0m\u001b[0m\n\u001b[1;32m     87\u001b[0m \u001b[0;34m\u001b[0m\u001b[0m\n\u001b[0;32m---> 88\u001b[0;31m     object_dict, function_dict = self._get_serialized_attributes_internal(\n\u001b[0m\u001b[1;32m     89\u001b[0m         serialization_cache)\n\u001b[1;32m     90\u001b[0m \u001b[0;34m\u001b[0m\u001b[0m\n",
            "\u001b[0;32m/usr/local/lib/python3.8/dist-packages/keras/saving/saved_model/model_serialization.py\u001b[0m in \u001b[0;36m_get_serialized_attributes_internal\u001b[0;34m(self, serialization_cache)\u001b[0m\n\u001b[1;32m     54\u001b[0m     \u001b[0;31m# the ones serialized by Layer.\u001b[0m\u001b[0;34m\u001b[0m\u001b[0;34m\u001b[0m\u001b[0;34m\u001b[0m\u001b[0m\n\u001b[1;32m     55\u001b[0m     objects, functions = (\n\u001b[0;32m---> 56\u001b[0;31m         super(ModelSavedModelSaver, self)._get_serialized_attributes_internal(\n\u001b[0m\u001b[1;32m     57\u001b[0m             serialization_cache))\n\u001b[1;32m     58\u001b[0m     \u001b[0mfunctions\u001b[0m\u001b[0;34m[\u001b[0m\u001b[0;34m'_default_save_signature'\u001b[0m\u001b[0;34m]\u001b[0m \u001b[0;34m=\u001b[0m \u001b[0mdefault_signature\u001b[0m\u001b[0;34m\u001b[0m\u001b[0;34m\u001b[0m\u001b[0m\n",
            "\u001b[0;32m/usr/local/lib/python3.8/dist-packages/keras/saving/saved_model/layer_serialization.py\u001b[0m in \u001b[0;36m_get_serialized_attributes_internal\u001b[0;34m(self, serialization_cache)\u001b[0m\n\u001b[1;32m     96\u001b[0m     \u001b[0;34m\"\"\"Returns dictionary of serialized attributes.\"\"\"\u001b[0m\u001b[0;34m\u001b[0m\u001b[0;34m\u001b[0m\u001b[0m\n\u001b[1;32m     97\u001b[0m     \u001b[0mobjects\u001b[0m \u001b[0;34m=\u001b[0m \u001b[0msave_impl\u001b[0m\u001b[0;34m.\u001b[0m\u001b[0mwrap_layer_objects\u001b[0m\u001b[0;34m(\u001b[0m\u001b[0mself\u001b[0m\u001b[0;34m.\u001b[0m\u001b[0mobj\u001b[0m\u001b[0;34m,\u001b[0m \u001b[0mserialization_cache\u001b[0m\u001b[0;34m)\u001b[0m\u001b[0;34m\u001b[0m\u001b[0;34m\u001b[0m\u001b[0m\n\u001b[0;32m---> 98\u001b[0;31m     \u001b[0mfunctions\u001b[0m \u001b[0;34m=\u001b[0m \u001b[0msave_impl\u001b[0m\u001b[0;34m.\u001b[0m\u001b[0mwrap_layer_functions\u001b[0m\u001b[0;34m(\u001b[0m\u001b[0mself\u001b[0m\u001b[0;34m.\u001b[0m\u001b[0mobj\u001b[0m\u001b[0;34m,\u001b[0m \u001b[0mserialization_cache\u001b[0m\u001b[0;34m)\u001b[0m\u001b[0;34m\u001b[0m\u001b[0;34m\u001b[0m\u001b[0m\n\u001b[0m\u001b[1;32m     99\u001b[0m     \u001b[0;31m# Attribute validator requires that the default save signature is added to\u001b[0m\u001b[0;34m\u001b[0m\u001b[0;34m\u001b[0m\u001b[0;34m\u001b[0m\u001b[0m\n\u001b[1;32m    100\u001b[0m     \u001b[0;31m# function dict, even if the value is None.\u001b[0m\u001b[0;34m\u001b[0m\u001b[0;34m\u001b[0m\u001b[0;34m\u001b[0m\u001b[0m\n",
            "\u001b[0;32m/usr/local/lib/python3.8/dist-packages/keras/saving/saved_model/save_impl.py\u001b[0m in \u001b[0;36mwrap_layer_functions\u001b[0;34m(layer, serialization_cache)\u001b[0m\n\u001b[1;32m    147\u001b[0m   \u001b[0;31m# Reset the losses of the layer and its children. The call function in each\u001b[0m\u001b[0;34m\u001b[0m\u001b[0;34m\u001b[0m\u001b[0;34m\u001b[0m\u001b[0m\n\u001b[1;32m    148\u001b[0m   \u001b[0;31m# child layer is replaced with tf.functions.\u001b[0m\u001b[0;34m\u001b[0m\u001b[0;34m\u001b[0m\u001b[0;34m\u001b[0m\u001b[0m\n\u001b[0;32m--> 149\u001b[0;31m   \u001b[0moriginal_fns\u001b[0m \u001b[0;34m=\u001b[0m \u001b[0m_replace_child_layer_functions\u001b[0m\u001b[0;34m(\u001b[0m\u001b[0mlayer\u001b[0m\u001b[0;34m,\u001b[0m \u001b[0mserialization_cache\u001b[0m\u001b[0;34m)\u001b[0m\u001b[0;34m\u001b[0m\u001b[0;34m\u001b[0m\u001b[0m\n\u001b[0m\u001b[1;32m    150\u001b[0m   \u001b[0moriginal_losses\u001b[0m \u001b[0;34m=\u001b[0m \u001b[0m_reset_layer_losses\u001b[0m\u001b[0;34m(\u001b[0m\u001b[0mlayer\u001b[0m\u001b[0;34m)\u001b[0m\u001b[0;34m\u001b[0m\u001b[0;34m\u001b[0m\u001b[0m\n\u001b[1;32m    151\u001b[0m \u001b[0;34m\u001b[0m\u001b[0m\n",
            "\u001b[0;32m/usr/local/lib/python3.8/dist-packages/keras/saving/saved_model/save_impl.py\u001b[0m in \u001b[0;36m_replace_child_layer_functions\u001b[0;34m(layer, serialization_cache)\u001b[0m\n\u001b[1;32m    274\u001b[0m     \u001b[0;32mif\u001b[0m \u001b[0mchild_layer\u001b[0m \u001b[0;32mnot\u001b[0m \u001b[0;32min\u001b[0m \u001b[0mserialization_cache\u001b[0m\u001b[0;34m[\u001b[0m\u001b[0mconstants\u001b[0m\u001b[0;34m.\u001b[0m\u001b[0mKERAS_CACHE_KEY\u001b[0m\u001b[0;34m]\u001b[0m\u001b[0;34m:\u001b[0m\u001b[0;34m\u001b[0m\u001b[0;34m\u001b[0m\u001b[0m\n\u001b[1;32m    275\u001b[0m       serialized_functions = (\n\u001b[0;32m--> 276\u001b[0;31m           child_layer._trackable_saved_model_saver._get_serialized_attributes(\n\u001b[0m\u001b[1;32m    277\u001b[0m               serialization_cache).functions)\n\u001b[1;32m    278\u001b[0m     \u001b[0;32melse\u001b[0m\u001b[0;34m:\u001b[0m\u001b[0;34m\u001b[0m\u001b[0;34m\u001b[0m\u001b[0m\n",
            "\u001b[0;32m/usr/local/lib/python3.8/dist-packages/keras/saving/saved_model/layer_serialization.py\u001b[0m in \u001b[0;36m_get_serialized_attributes\u001b[0;34m(self, serialization_cache)\u001b[0m\n\u001b[1;32m     86\u001b[0m       \u001b[0;32mreturn\u001b[0m \u001b[0mserialized_attr\u001b[0m\u001b[0;34m\u001b[0m\u001b[0;34m\u001b[0m\u001b[0m\n\u001b[1;32m     87\u001b[0m \u001b[0;34m\u001b[0m\u001b[0m\n\u001b[0;32m---> 88\u001b[0;31m     object_dict, function_dict = self._get_serialized_attributes_internal(\n\u001b[0m\u001b[1;32m     89\u001b[0m         serialization_cache)\n\u001b[1;32m     90\u001b[0m \u001b[0;34m\u001b[0m\u001b[0m\n",
            "\u001b[0;32m/usr/local/lib/python3.8/dist-packages/keras/saving/saved_model/layer_serialization.py\u001b[0m in \u001b[0;36m_get_serialized_attributes_internal\u001b[0;34m(self, serialization_cache)\u001b[0m\n\u001b[1;32m    148\u001b[0m   \u001b[0;32mdef\u001b[0m \u001b[0m_get_serialized_attributes_internal\u001b[0m\u001b[0;34m(\u001b[0m\u001b[0mself\u001b[0m\u001b[0;34m,\u001b[0m \u001b[0mserialization_cache\u001b[0m\u001b[0;34m)\u001b[0m\u001b[0;34m:\u001b[0m\u001b[0;34m\u001b[0m\u001b[0;34m\u001b[0m\u001b[0m\n\u001b[1;32m    149\u001b[0m     objects, functions = (\n\u001b[0;32m--> 150\u001b[0;31m         super(RNNSavedModelSaver, self)._get_serialized_attributes_internal(\n\u001b[0m\u001b[1;32m    151\u001b[0m             serialization_cache))\n\u001b[1;32m    152\u001b[0m     \u001b[0mstates\u001b[0m \u001b[0;34m=\u001b[0m \u001b[0mtf\u001b[0m\u001b[0;34m.\u001b[0m\u001b[0m__internal__\u001b[0m\u001b[0;34m.\u001b[0m\u001b[0mtracking\u001b[0m\u001b[0;34m.\u001b[0m\u001b[0mwrap\u001b[0m\u001b[0;34m(\u001b[0m\u001b[0mself\u001b[0m\u001b[0;34m.\u001b[0m\u001b[0mobj\u001b[0m\u001b[0;34m.\u001b[0m\u001b[0mstates\u001b[0m\u001b[0;34m)\u001b[0m\u001b[0;34m\u001b[0m\u001b[0;34m\u001b[0m\u001b[0m\n",
            "\u001b[0;32m/usr/local/lib/python3.8/dist-packages/keras/saving/saved_model/layer_serialization.py\u001b[0m in \u001b[0;36m_get_serialized_attributes_internal\u001b[0;34m(self, serialization_cache)\u001b[0m\n\u001b[1;32m     96\u001b[0m     \u001b[0;34m\"\"\"Returns dictionary of serialized attributes.\"\"\"\u001b[0m\u001b[0;34m\u001b[0m\u001b[0;34m\u001b[0m\u001b[0m\n\u001b[1;32m     97\u001b[0m     \u001b[0mobjects\u001b[0m \u001b[0;34m=\u001b[0m \u001b[0msave_impl\u001b[0m\u001b[0;34m.\u001b[0m\u001b[0mwrap_layer_objects\u001b[0m\u001b[0;34m(\u001b[0m\u001b[0mself\u001b[0m\u001b[0;34m.\u001b[0m\u001b[0mobj\u001b[0m\u001b[0;34m,\u001b[0m \u001b[0mserialization_cache\u001b[0m\u001b[0;34m)\u001b[0m\u001b[0;34m\u001b[0m\u001b[0;34m\u001b[0m\u001b[0m\n\u001b[0;32m---> 98\u001b[0;31m     \u001b[0mfunctions\u001b[0m \u001b[0;34m=\u001b[0m \u001b[0msave_impl\u001b[0m\u001b[0;34m.\u001b[0m\u001b[0mwrap_layer_functions\u001b[0m\u001b[0;34m(\u001b[0m\u001b[0mself\u001b[0m\u001b[0;34m.\u001b[0m\u001b[0mobj\u001b[0m\u001b[0;34m,\u001b[0m \u001b[0mserialization_cache\u001b[0m\u001b[0;34m)\u001b[0m\u001b[0;34m\u001b[0m\u001b[0;34m\u001b[0m\u001b[0m\n\u001b[0m\u001b[1;32m     99\u001b[0m     \u001b[0;31m# Attribute validator requires that the default save signature is added to\u001b[0m\u001b[0;34m\u001b[0m\u001b[0;34m\u001b[0m\u001b[0;34m\u001b[0m\u001b[0m\n\u001b[1;32m    100\u001b[0m     \u001b[0;31m# function dict, even if the value is None.\u001b[0m\u001b[0;34m\u001b[0m\u001b[0;34m\u001b[0m\u001b[0;34m\u001b[0m\u001b[0m\n",
            "\u001b[0;32m/usr/local/lib/python3.8/dist-packages/keras/saving/saved_model/save_impl.py\u001b[0m in \u001b[0;36mwrap_layer_functions\u001b[0;34m(layer, serialization_cache)\u001b[0m\n\u001b[1;32m    195\u001b[0m       \u001b[0;32mfor\u001b[0m \u001b[0mfn\u001b[0m \u001b[0;32min\u001b[0m \u001b[0mfns\u001b[0m\u001b[0;34m.\u001b[0m\u001b[0mvalues\u001b[0m\u001b[0;34m(\u001b[0m\u001b[0;34m)\u001b[0m\u001b[0;34m:\u001b[0m\u001b[0;34m\u001b[0m\u001b[0;34m\u001b[0m\u001b[0m\n\u001b[1;32m    196\u001b[0m         \u001b[0;32mif\u001b[0m \u001b[0mfn\u001b[0m \u001b[0;32mis\u001b[0m \u001b[0;32mnot\u001b[0m \u001b[0;32mNone\u001b[0m \u001b[0;32mand\u001b[0m \u001b[0;32mnot\u001b[0m \u001b[0misinstance\u001b[0m\u001b[0;34m(\u001b[0m\u001b[0mfn\u001b[0m\u001b[0;34m,\u001b[0m \u001b[0mLayerCall\u001b[0m\u001b[0;34m)\u001b[0m\u001b[0;34m:\u001b[0m\u001b[0;34m\u001b[0m\u001b[0;34m\u001b[0m\u001b[0m\n\u001b[0;32m--> 197\u001b[0;31m           \u001b[0mfn\u001b[0m\u001b[0;34m.\u001b[0m\u001b[0mget_concrete_function\u001b[0m\u001b[0;34m(\u001b[0m\u001b[0;34m)\u001b[0m\u001b[0;34m\u001b[0m\u001b[0;34m\u001b[0m\u001b[0m\n\u001b[0m\u001b[1;32m    198\u001b[0m \u001b[0;34m\u001b[0m\u001b[0m\n\u001b[1;32m    199\u001b[0m   \u001b[0;31m# Restore overwritten functions and losses\u001b[0m\u001b[0;34m\u001b[0m\u001b[0;34m\u001b[0m\u001b[0;34m\u001b[0m\u001b[0m\n",
            "\u001b[0;32m/usr/lib/python3.8/contextlib.py\u001b[0m in \u001b[0;36m__exit__\u001b[0;34m(self, type, value, traceback)\u001b[0m\n\u001b[1;32m    118\u001b[0m         \u001b[0;32mif\u001b[0m \u001b[0mtype\u001b[0m \u001b[0;32mis\u001b[0m \u001b[0;32mNone\u001b[0m\u001b[0;34m:\u001b[0m\u001b[0;34m\u001b[0m\u001b[0;34m\u001b[0m\u001b[0m\n\u001b[1;32m    119\u001b[0m             \u001b[0;32mtry\u001b[0m\u001b[0;34m:\u001b[0m\u001b[0;34m\u001b[0m\u001b[0;34m\u001b[0m\u001b[0m\n\u001b[0;32m--> 120\u001b[0;31m                 \u001b[0mnext\u001b[0m\u001b[0;34m(\u001b[0m\u001b[0mself\u001b[0m\u001b[0;34m.\u001b[0m\u001b[0mgen\u001b[0m\u001b[0;34m)\u001b[0m\u001b[0;34m\u001b[0m\u001b[0;34m\u001b[0m\u001b[0m\n\u001b[0m\u001b[1;32m    121\u001b[0m             \u001b[0;32mexcept\u001b[0m \u001b[0mStopIteration\u001b[0m\u001b[0;34m:\u001b[0m\u001b[0;34m\u001b[0m\u001b[0;34m\u001b[0m\u001b[0m\n\u001b[1;32m    122\u001b[0m                 \u001b[0;32mreturn\u001b[0m \u001b[0;32mFalse\u001b[0m\u001b[0;34m\u001b[0m\u001b[0;34m\u001b[0m\u001b[0m\n",
            "\u001b[0;32m/usr/local/lib/python3.8/dist-packages/keras/saving/saved_model/save_impl.py\u001b[0m in \u001b[0;36mtracing_scope\u001b[0;34m()\u001b[0m\n\u001b[1;32m    357\u001b[0m       \u001b[0;32mif\u001b[0m \u001b[0mtraining\u001b[0m \u001b[0;32mis\u001b[0m \u001b[0;32mnot\u001b[0m \u001b[0;32mNone\u001b[0m\u001b[0;34m:\u001b[0m\u001b[0;34m\u001b[0m\u001b[0;34m\u001b[0m\u001b[0m\n\u001b[1;32m    358\u001b[0m         \u001b[0;32mwith\u001b[0m \u001b[0mbackend\u001b[0m\u001b[0;34m.\u001b[0m\u001b[0mdeprecated_internal_learning_phase_scope\u001b[0m\u001b[0;34m(\u001b[0m\u001b[0mtraining\u001b[0m\u001b[0;34m)\u001b[0m\u001b[0;34m:\u001b[0m\u001b[0;34m\u001b[0m\u001b[0;34m\u001b[0m\u001b[0m\n\u001b[0;32m--> 359\u001b[0;31m           \u001b[0mfn\u001b[0m\u001b[0;34m.\u001b[0m\u001b[0mget_concrete_function\u001b[0m\u001b[0;34m(\u001b[0m\u001b[0;34m*\u001b[0m\u001b[0margs\u001b[0m\u001b[0;34m,\u001b[0m \u001b[0;34m**\u001b[0m\u001b[0mkwargs\u001b[0m\u001b[0;34m)\u001b[0m\u001b[0;34m\u001b[0m\u001b[0;34m\u001b[0m\u001b[0m\n\u001b[0m\u001b[1;32m    360\u001b[0m       \u001b[0;32melse\u001b[0m\u001b[0;34m:\u001b[0m\u001b[0;34m\u001b[0m\u001b[0;34m\u001b[0m\u001b[0m\n\u001b[1;32m    361\u001b[0m         \u001b[0mfn\u001b[0m\u001b[0;34m.\u001b[0m\u001b[0mget_concrete_function\u001b[0m\u001b[0;34m(\u001b[0m\u001b[0;34m*\u001b[0m\u001b[0margs\u001b[0m\u001b[0;34m,\u001b[0m \u001b[0;34m**\u001b[0m\u001b[0mkwargs\u001b[0m\u001b[0;34m)\u001b[0m\u001b[0;34m\u001b[0m\u001b[0;34m\u001b[0m\u001b[0m\n",
            "\u001b[0;32m/usr/local/lib/python3.8/dist-packages/tensorflow/python/eager/def_function.py\u001b[0m in \u001b[0;36mget_concrete_function\u001b[0;34m(self, *args, **kwargs)\u001b[0m\n\u001b[1;32m   1237\u001b[0m   \u001b[0;32mdef\u001b[0m \u001b[0mget_concrete_function\u001b[0m\u001b[0;34m(\u001b[0m\u001b[0mself\u001b[0m\u001b[0;34m,\u001b[0m \u001b[0;34m*\u001b[0m\u001b[0margs\u001b[0m\u001b[0;34m,\u001b[0m \u001b[0;34m**\u001b[0m\u001b[0mkwargs\u001b[0m\u001b[0;34m)\u001b[0m\u001b[0;34m:\u001b[0m\u001b[0;34m\u001b[0m\u001b[0;34m\u001b[0m\u001b[0m\n\u001b[1;32m   1238\u001b[0m     \u001b[0;31m# Implements GenericFunction.get_concrete_function.\u001b[0m\u001b[0;34m\u001b[0m\u001b[0;34m\u001b[0m\u001b[0;34m\u001b[0m\u001b[0m\n\u001b[0;32m-> 1239\u001b[0;31m     \u001b[0mconcrete\u001b[0m \u001b[0;34m=\u001b[0m \u001b[0mself\u001b[0m\u001b[0;34m.\u001b[0m\u001b[0m_get_concrete_function_garbage_collected\u001b[0m\u001b[0;34m(\u001b[0m\u001b[0;34m*\u001b[0m\u001b[0margs\u001b[0m\u001b[0;34m,\u001b[0m \u001b[0;34m**\u001b[0m\u001b[0mkwargs\u001b[0m\u001b[0;34m)\u001b[0m\u001b[0;34m\u001b[0m\u001b[0;34m\u001b[0m\u001b[0m\n\u001b[0m\u001b[1;32m   1240\u001b[0m     \u001b[0mconcrete\u001b[0m\u001b[0;34m.\u001b[0m\u001b[0m_garbage_collector\u001b[0m\u001b[0;34m.\u001b[0m\u001b[0mrelease\u001b[0m\u001b[0;34m(\u001b[0m\u001b[0;34m)\u001b[0m  \u001b[0;31m# pylint: disable=protected-access\u001b[0m\u001b[0;34m\u001b[0m\u001b[0;34m\u001b[0m\u001b[0m\n\u001b[1;32m   1241\u001b[0m     \u001b[0;32mreturn\u001b[0m \u001b[0mconcrete\u001b[0m\u001b[0;34m\u001b[0m\u001b[0;34m\u001b[0m\u001b[0m\n",
            "\u001b[0;32m/usr/local/lib/python3.8/dist-packages/tensorflow/python/eager/def_function.py\u001b[0m in \u001b[0;36m_get_concrete_function_garbage_collected\u001b[0;34m(self, *args, **kwargs)\u001b[0m\n\u001b[1;32m   1228\u001b[0m       \u001b[0;31m# In this case we have not created variables on the first call. So we can\u001b[0m\u001b[0;34m\u001b[0m\u001b[0;34m\u001b[0m\u001b[0;34m\u001b[0m\u001b[0m\n\u001b[1;32m   1229\u001b[0m       \u001b[0;31m# run the first trace but we should fail if variables are created.\u001b[0m\u001b[0;34m\u001b[0m\u001b[0;34m\u001b[0m\u001b[0;34m\u001b[0m\u001b[0m\n\u001b[0;32m-> 1230\u001b[0;31m       concrete = self._stateful_fn._get_concrete_function_garbage_collected(  # pylint: disable=protected-access\n\u001b[0m\u001b[1;32m   1231\u001b[0m           *args, **kwargs)\n\u001b[1;32m   1232\u001b[0m       \u001b[0;32mif\u001b[0m \u001b[0mself\u001b[0m\u001b[0;34m.\u001b[0m\u001b[0m_created_variables\u001b[0m\u001b[0;34m:\u001b[0m\u001b[0;34m\u001b[0m\u001b[0;34m\u001b[0m\u001b[0m\n",
            "\u001b[0;32m/usr/local/lib/python3.8/dist-packages/tensorflow/python/eager/function.py\u001b[0m in \u001b[0;36m_get_concrete_function_garbage_collected\u001b[0;34m(self, *args, **kwargs)\u001b[0m\n\u001b[1;32m   2531\u001b[0m       \u001b[0margs\u001b[0m\u001b[0;34m,\u001b[0m \u001b[0mkwargs\u001b[0m \u001b[0;34m=\u001b[0m \u001b[0;32mNone\u001b[0m\u001b[0;34m,\u001b[0m \u001b[0;32mNone\u001b[0m\u001b[0;34m\u001b[0m\u001b[0;34m\u001b[0m\u001b[0m\n\u001b[1;32m   2532\u001b[0m     \u001b[0;32mwith\u001b[0m \u001b[0mself\u001b[0m\u001b[0;34m.\u001b[0m\u001b[0m_lock\u001b[0m\u001b[0;34m:\u001b[0m\u001b[0;34m\u001b[0m\u001b[0;34m\u001b[0m\u001b[0m\n\u001b[0;32m-> 2533\u001b[0;31m       \u001b[0mgraph_function\u001b[0m\u001b[0;34m,\u001b[0m \u001b[0m_\u001b[0m \u001b[0;34m=\u001b[0m \u001b[0mself\u001b[0m\u001b[0;34m.\u001b[0m\u001b[0m_maybe_define_function\u001b[0m\u001b[0;34m(\u001b[0m\u001b[0margs\u001b[0m\u001b[0;34m,\u001b[0m \u001b[0mkwargs\u001b[0m\u001b[0;34m)\u001b[0m\u001b[0;34m\u001b[0m\u001b[0;34m\u001b[0m\u001b[0m\n\u001b[0m\u001b[1;32m   2534\u001b[0m       \u001b[0mseen_names\u001b[0m \u001b[0;34m=\u001b[0m \u001b[0mset\u001b[0m\u001b[0;34m(\u001b[0m\u001b[0;34m)\u001b[0m\u001b[0;34m\u001b[0m\u001b[0;34m\u001b[0m\u001b[0m\n\u001b[1;32m   2535\u001b[0m       captured = object_identity.ObjectIdentitySet(\n",
            "\u001b[0;32m/usr/local/lib/python3.8/dist-packages/tensorflow/python/eager/function.py\u001b[0m in \u001b[0;36m_maybe_define_function\u001b[0;34m(self, args, kwargs)\u001b[0m\n\u001b[1;32m   2709\u001b[0m             \u001b[0;34m(\u001b[0m\u001b[0margs\u001b[0m\u001b[0;34m,\u001b[0m \u001b[0mkwargs\u001b[0m\u001b[0;34m)\u001b[0m \u001b[0;34m=\u001b[0m \u001b[0mcache_key\u001b[0m\u001b[0;34m.\u001b[0m\u001b[0m_placeholder_value\u001b[0m\u001b[0;34m(\u001b[0m\u001b[0;34m)\u001b[0m  \u001b[0;31m# pylint: disable=protected-access\u001b[0m\u001b[0;34m\u001b[0m\u001b[0;34m\u001b[0m\u001b[0m\n\u001b[1;32m   2710\u001b[0m \u001b[0;34m\u001b[0m\u001b[0m\n\u001b[0;32m-> 2711\u001b[0;31m           \u001b[0mgraph_function\u001b[0m \u001b[0;34m=\u001b[0m \u001b[0mself\u001b[0m\u001b[0;34m.\u001b[0m\u001b[0m_create_graph_function\u001b[0m\u001b[0;34m(\u001b[0m\u001b[0margs\u001b[0m\u001b[0;34m,\u001b[0m \u001b[0mkwargs\u001b[0m\u001b[0;34m)\u001b[0m\u001b[0;34m\u001b[0m\u001b[0;34m\u001b[0m\u001b[0m\n\u001b[0m\u001b[1;32m   2712\u001b[0m           self._function_cache.add(cache_key, cache_key_deletion_observer,\n\u001b[1;32m   2713\u001b[0m                                    graph_function)\n",
            "\u001b[0;32m/usr/local/lib/python3.8/dist-packages/tensorflow/python/eager/function.py\u001b[0m in \u001b[0;36m_create_graph_function\u001b[0;34m(self, args, kwargs)\u001b[0m\n\u001b[1;32m   2625\u001b[0m     \u001b[0marg_names\u001b[0m \u001b[0;34m=\u001b[0m \u001b[0mbase_arg_names\u001b[0m \u001b[0;34m+\u001b[0m \u001b[0mmissing_arg_names\u001b[0m\u001b[0;34m\u001b[0m\u001b[0;34m\u001b[0m\u001b[0m\n\u001b[1;32m   2626\u001b[0m     graph_function = ConcreteFunction(\n\u001b[0;32m-> 2627\u001b[0;31m         func_graph_module.func_graph_from_py_func(\n\u001b[0m\u001b[1;32m   2628\u001b[0m             \u001b[0mself\u001b[0m\u001b[0;34m.\u001b[0m\u001b[0m_name\u001b[0m\u001b[0;34m,\u001b[0m\u001b[0;34m\u001b[0m\u001b[0;34m\u001b[0m\u001b[0m\n\u001b[1;32m   2629\u001b[0m             \u001b[0mself\u001b[0m\u001b[0;34m.\u001b[0m\u001b[0m_python_function\u001b[0m\u001b[0;34m,\u001b[0m\u001b[0;34m\u001b[0m\u001b[0;34m\u001b[0m\u001b[0m\n",
            "\u001b[0;32m/usr/local/lib/python3.8/dist-packages/tensorflow/python/framework/func_graph.py\u001b[0m in \u001b[0;36mfunc_graph_from_py_func\u001b[0;34m(name, python_func, args, kwargs, signature, func_graph, autograph, autograph_options, add_control_dependencies, arg_names, op_return_value, collections, capture_by_value, acd_record_initial_resource_uses)\u001b[0m\n\u001b[1;32m   1139\u001b[0m         \u001b[0m_\u001b[0m\u001b[0;34m,\u001b[0m \u001b[0moriginal_func\u001b[0m \u001b[0;34m=\u001b[0m \u001b[0mtf_decorator\u001b[0m\u001b[0;34m.\u001b[0m\u001b[0munwrap\u001b[0m\u001b[0;34m(\u001b[0m\u001b[0mpython_func\u001b[0m\u001b[0;34m)\u001b[0m\u001b[0;34m\u001b[0m\u001b[0;34m\u001b[0m\u001b[0m\n\u001b[1;32m   1140\u001b[0m \u001b[0;34m\u001b[0m\u001b[0m\n\u001b[0;32m-> 1141\u001b[0;31m       \u001b[0mfunc_outputs\u001b[0m \u001b[0;34m=\u001b[0m \u001b[0mpython_func\u001b[0m\u001b[0;34m(\u001b[0m\u001b[0;34m*\u001b[0m\u001b[0mfunc_args\u001b[0m\u001b[0;34m,\u001b[0m \u001b[0;34m**\u001b[0m\u001b[0mfunc_kwargs\u001b[0m\u001b[0;34m)\u001b[0m\u001b[0;34m\u001b[0m\u001b[0;34m\u001b[0m\u001b[0m\n\u001b[0m\u001b[1;32m   1142\u001b[0m \u001b[0;34m\u001b[0m\u001b[0m\n\u001b[1;32m   1143\u001b[0m       \u001b[0;31m# invariant: `func_outputs` contains only Tensors, CompositeTensors,\u001b[0m\u001b[0;34m\u001b[0m\u001b[0;34m\u001b[0m\u001b[0;34m\u001b[0m\u001b[0m\n",
            "\u001b[0;32m/usr/local/lib/python3.8/dist-packages/tensorflow/python/eager/def_function.py\u001b[0m in \u001b[0;36mwrapped_fn\u001b[0;34m(*args, **kwds)\u001b[0m\n\u001b[1;32m    675\u001b[0m         \u001b[0;31m# the function a weak reference to itself to avoid a reference cycle.\u001b[0m\u001b[0;34m\u001b[0m\u001b[0;34m\u001b[0m\u001b[0;34m\u001b[0m\u001b[0m\n\u001b[1;32m    676\u001b[0m         \u001b[0;32mwith\u001b[0m \u001b[0mOptionalXlaContext\u001b[0m\u001b[0;34m(\u001b[0m\u001b[0mcompile_with_xla\u001b[0m\u001b[0;34m)\u001b[0m\u001b[0;34m:\u001b[0m\u001b[0;34m\u001b[0m\u001b[0;34m\u001b[0m\u001b[0m\n\u001b[0;32m--> 677\u001b[0;31m           \u001b[0mout\u001b[0m \u001b[0;34m=\u001b[0m \u001b[0mweak_wrapped_fn\u001b[0m\u001b[0;34m(\u001b[0m\u001b[0;34m)\u001b[0m\u001b[0;34m.\u001b[0m\u001b[0m__wrapped__\u001b[0m\u001b[0;34m(\u001b[0m\u001b[0;34m*\u001b[0m\u001b[0margs\u001b[0m\u001b[0;34m,\u001b[0m \u001b[0;34m**\u001b[0m\u001b[0mkwds\u001b[0m\u001b[0;34m)\u001b[0m\u001b[0;34m\u001b[0m\u001b[0;34m\u001b[0m\u001b[0m\n\u001b[0m\u001b[1;32m    678\u001b[0m         \u001b[0;32mreturn\u001b[0m \u001b[0mout\u001b[0m\u001b[0;34m\u001b[0m\u001b[0;34m\u001b[0m\u001b[0m\n\u001b[1;32m    679\u001b[0m \u001b[0;34m\u001b[0m\u001b[0m\n",
            "\u001b[0;32m/usr/local/lib/python3.8/dist-packages/keras/saving/saved_model/save_impl.py\u001b[0m in \u001b[0;36mwrapper\u001b[0;34m(*args, **kwargs)\u001b[0m\n\u001b[1;32m    570\u001b[0m       with autocast_variable.enable_auto_cast_variables(\n\u001b[1;32m    571\u001b[0m           layer._compute_dtype_object):  # pylint: disable=protected-access\n\u001b[0;32m--> 572\u001b[0;31m         \u001b[0mret\u001b[0m \u001b[0;34m=\u001b[0m \u001b[0mmethod\u001b[0m\u001b[0;34m(\u001b[0m\u001b[0;34m*\u001b[0m\u001b[0margs\u001b[0m\u001b[0;34m,\u001b[0m \u001b[0;34m**\u001b[0m\u001b[0mkwargs\u001b[0m\u001b[0;34m)\u001b[0m\u001b[0;34m\u001b[0m\u001b[0;34m\u001b[0m\u001b[0m\n\u001b[0m\u001b[1;32m    573\u001b[0m     \u001b[0m_restore_layer_losses\u001b[0m\u001b[0;34m(\u001b[0m\u001b[0moriginal_losses\u001b[0m\u001b[0;34m)\u001b[0m\u001b[0;34m\u001b[0m\u001b[0;34m\u001b[0m\u001b[0m\n\u001b[1;32m    574\u001b[0m     \u001b[0;32mreturn\u001b[0m \u001b[0mret\u001b[0m\u001b[0;34m\u001b[0m\u001b[0;34m\u001b[0m\u001b[0m\n",
            "\u001b[0;32m/usr/local/lib/python3.8/dist-packages/keras/saving/saved_model/utils.py\u001b[0m in \u001b[0;36mwrap_with_training_arg\u001b[0;34m(*args, **kwargs)\u001b[0m\n\u001b[1;32m    166\u001b[0m       \u001b[0;32mreturn\u001b[0m \u001b[0mwrapped_call\u001b[0m\u001b[0;34m(\u001b[0m\u001b[0;34m*\u001b[0m\u001b[0margs\u001b[0m\u001b[0;34m,\u001b[0m \u001b[0;34m**\u001b[0m\u001b[0mkwargs\u001b[0m\u001b[0;34m)\u001b[0m\u001b[0;34m\u001b[0m\u001b[0;34m\u001b[0m\u001b[0m\n\u001b[1;32m    167\u001b[0m \u001b[0;34m\u001b[0m\u001b[0m\n\u001b[0;32m--> 168\u001b[0;31m     return control_flow_util.smart_cond(\n\u001b[0m\u001b[1;32m    169\u001b[0m         \u001b[0mtraining\u001b[0m\u001b[0;34m,\u001b[0m \u001b[0;32mlambda\u001b[0m\u001b[0;34m:\u001b[0m \u001b[0mreplace_training_and_call\u001b[0m\u001b[0;34m(\u001b[0m\u001b[0;32mTrue\u001b[0m\u001b[0;34m)\u001b[0m\u001b[0;34m,\u001b[0m\u001b[0;34m\u001b[0m\u001b[0;34m\u001b[0m\u001b[0m\n\u001b[1;32m    170\u001b[0m         lambda: replace_training_and_call(False))\n",
            "\u001b[0;32m/usr/local/lib/python3.8/dist-packages/keras/utils/control_flow_util.py\u001b[0m in \u001b[0;36msmart_cond\u001b[0;34m(pred, true_fn, false_fn, name)\u001b[0m\n\u001b[1;32m    103\u001b[0m     return tf.cond(\n\u001b[1;32m    104\u001b[0m         pred, true_fn=true_fn, false_fn=false_fn, name=name)\n\u001b[0;32m--> 105\u001b[0;31m   return tf.__internal__.smart_cond.smart_cond(\n\u001b[0m\u001b[1;32m    106\u001b[0m       pred, true_fn=true_fn, false_fn=false_fn, name=name)\n\u001b[1;32m    107\u001b[0m \u001b[0;34m\u001b[0m\u001b[0m\n",
            "\u001b[0;32m/usr/local/lib/python3.8/dist-packages/tensorflow/python/framework/smart_cond.py\u001b[0m in \u001b[0;36msmart_cond\u001b[0;34m(pred, true_fn, false_fn, name)\u001b[0m\n\u001b[1;32m     51\u001b[0m   \u001b[0;32mif\u001b[0m \u001b[0mpred_value\u001b[0m \u001b[0;32mis\u001b[0m \u001b[0;32mnot\u001b[0m \u001b[0;32mNone\u001b[0m\u001b[0;34m:\u001b[0m\u001b[0;34m\u001b[0m\u001b[0;34m\u001b[0m\u001b[0m\n\u001b[1;32m     52\u001b[0m     \u001b[0;32mif\u001b[0m \u001b[0mpred_value\u001b[0m\u001b[0;34m:\u001b[0m\u001b[0;34m\u001b[0m\u001b[0;34m\u001b[0m\u001b[0m\n\u001b[0;32m---> 53\u001b[0;31m       \u001b[0;32mreturn\u001b[0m \u001b[0mtrue_fn\u001b[0m\u001b[0;34m(\u001b[0m\u001b[0;34m)\u001b[0m\u001b[0;34m\u001b[0m\u001b[0;34m\u001b[0m\u001b[0m\n\u001b[0m\u001b[1;32m     54\u001b[0m     \u001b[0;32melse\u001b[0m\u001b[0;34m:\u001b[0m\u001b[0;34m\u001b[0m\u001b[0;34m\u001b[0m\u001b[0m\n\u001b[1;32m     55\u001b[0m       \u001b[0;32mreturn\u001b[0m \u001b[0mfalse_fn\u001b[0m\u001b[0;34m(\u001b[0m\u001b[0;34m)\u001b[0m\u001b[0;34m\u001b[0m\u001b[0;34m\u001b[0m\u001b[0m\n",
            "\u001b[0;32m/usr/local/lib/python3.8/dist-packages/keras/saving/saved_model/utils.py\u001b[0m in \u001b[0;36m<lambda>\u001b[0;34m()\u001b[0m\n\u001b[1;32m    167\u001b[0m \u001b[0;34m\u001b[0m\u001b[0m\n\u001b[1;32m    168\u001b[0m     return control_flow_util.smart_cond(\n\u001b[0;32m--> 169\u001b[0;31m         \u001b[0mtraining\u001b[0m\u001b[0;34m,\u001b[0m \u001b[0;32mlambda\u001b[0m\u001b[0;34m:\u001b[0m \u001b[0mreplace_training_and_call\u001b[0m\u001b[0;34m(\u001b[0m\u001b[0;32mTrue\u001b[0m\u001b[0;34m)\u001b[0m\u001b[0;34m,\u001b[0m\u001b[0;34m\u001b[0m\u001b[0;34m\u001b[0m\u001b[0m\n\u001b[0m\u001b[1;32m    170\u001b[0m         lambda: replace_training_and_call(False))\n\u001b[1;32m    171\u001b[0m \u001b[0;34m\u001b[0m\u001b[0m\n",
            "\u001b[0;32m/usr/local/lib/python3.8/dist-packages/keras/saving/saved_model/utils.py\u001b[0m in \u001b[0;36mreplace_training_and_call\u001b[0;34m(training)\u001b[0m\n\u001b[1;32m    164\u001b[0m     \u001b[0;32mdef\u001b[0m \u001b[0mreplace_training_and_call\u001b[0m\u001b[0;34m(\u001b[0m\u001b[0mtraining\u001b[0m\u001b[0;34m)\u001b[0m\u001b[0;34m:\u001b[0m\u001b[0;34m\u001b[0m\u001b[0;34m\u001b[0m\u001b[0m\n\u001b[1;32m    165\u001b[0m       \u001b[0mset_training_arg\u001b[0m\u001b[0;34m(\u001b[0m\u001b[0mtraining\u001b[0m\u001b[0;34m,\u001b[0m \u001b[0mtraining_arg_index\u001b[0m\u001b[0;34m,\u001b[0m \u001b[0margs\u001b[0m\u001b[0;34m,\u001b[0m \u001b[0mkwargs\u001b[0m\u001b[0;34m)\u001b[0m\u001b[0;34m\u001b[0m\u001b[0;34m\u001b[0m\u001b[0m\n\u001b[0;32m--> 166\u001b[0;31m       \u001b[0;32mreturn\u001b[0m \u001b[0mwrapped_call\u001b[0m\u001b[0;34m(\u001b[0m\u001b[0;34m*\u001b[0m\u001b[0margs\u001b[0m\u001b[0;34m,\u001b[0m \u001b[0;34m**\u001b[0m\u001b[0mkwargs\u001b[0m\u001b[0;34m)\u001b[0m\u001b[0;34m\u001b[0m\u001b[0;34m\u001b[0m\u001b[0m\n\u001b[0m\u001b[1;32m    167\u001b[0m \u001b[0;34m\u001b[0m\u001b[0m\n\u001b[1;32m    168\u001b[0m     return control_flow_util.smart_cond(\n",
            "\u001b[0;32m/usr/local/lib/python3.8/dist-packages/keras/saving/saved_model/save_impl.py\u001b[0m in \u001b[0;36mcall\u001b[0;34m(inputs, *args, **kwargs)\u001b[0m\n\u001b[1;32m    650\u001b[0m     \u001b[0;32mreturn\u001b[0m \u001b[0mlayer\u001b[0m\u001b[0;34m.\u001b[0m\u001b[0mkeras_api\u001b[0m\u001b[0;34m.\u001b[0m\u001b[0m__call__\u001b[0m  \u001b[0;31m# pylint: disable=protected-access\u001b[0m\u001b[0;34m\u001b[0m\u001b[0;34m\u001b[0m\u001b[0m\n\u001b[1;32m    651\u001b[0m   \u001b[0;32mdef\u001b[0m \u001b[0mcall\u001b[0m\u001b[0;34m(\u001b[0m\u001b[0minputs\u001b[0m\u001b[0;34m,\u001b[0m \u001b[0;34m*\u001b[0m\u001b[0margs\u001b[0m\u001b[0;34m,\u001b[0m \u001b[0;34m**\u001b[0m\u001b[0mkwargs\u001b[0m\u001b[0;34m)\u001b[0m\u001b[0;34m:\u001b[0m\u001b[0;34m\u001b[0m\u001b[0;34m\u001b[0m\u001b[0m\n\u001b[0;32m--> 652\u001b[0;31m     \u001b[0;32mreturn\u001b[0m \u001b[0mcall_and_return_conditional_losses\u001b[0m\u001b[0;34m(\u001b[0m\u001b[0minputs\u001b[0m\u001b[0;34m,\u001b[0m \u001b[0;34m*\u001b[0m\u001b[0margs\u001b[0m\u001b[0;34m,\u001b[0m \u001b[0;34m**\u001b[0m\u001b[0mkwargs\u001b[0m\u001b[0;34m)\u001b[0m\u001b[0;34m[\u001b[0m\u001b[0;36m0\u001b[0m\u001b[0;34m]\u001b[0m\u001b[0;34m\u001b[0m\u001b[0;34m\u001b[0m\u001b[0m\n\u001b[0m\u001b[1;32m    653\u001b[0m   \u001b[0;32mreturn\u001b[0m \u001b[0m_create_call_fn_decorator\u001b[0m\u001b[0;34m(\u001b[0m\u001b[0mlayer\u001b[0m\u001b[0;34m,\u001b[0m \u001b[0mcall\u001b[0m\u001b[0;34m)\u001b[0m\u001b[0;34m\u001b[0m\u001b[0;34m\u001b[0m\u001b[0m\n\u001b[1;32m    654\u001b[0m \u001b[0;34m\u001b[0m\u001b[0m\n",
            "\u001b[0;32m/usr/local/lib/python3.8/dist-packages/keras/saving/saved_model/save_impl.py\u001b[0m in \u001b[0;36m__call__\u001b[0;34m(self, *args, **kwargs)\u001b[0m\n\u001b[1;32m    608\u001b[0m   \u001b[0;32mdef\u001b[0m \u001b[0m__call__\u001b[0m\u001b[0;34m(\u001b[0m\u001b[0mself\u001b[0m\u001b[0;34m,\u001b[0m \u001b[0;34m*\u001b[0m\u001b[0margs\u001b[0m\u001b[0;34m,\u001b[0m \u001b[0;34m**\u001b[0m\u001b[0mkwargs\u001b[0m\u001b[0;34m)\u001b[0m\u001b[0;34m:\u001b[0m\u001b[0;34m\u001b[0m\u001b[0;34m\u001b[0m\u001b[0m\n\u001b[1;32m    609\u001b[0m     \u001b[0mself\u001b[0m\u001b[0;34m.\u001b[0m\u001b[0m_maybe_trace\u001b[0m\u001b[0;34m(\u001b[0m\u001b[0margs\u001b[0m\u001b[0;34m,\u001b[0m \u001b[0mkwargs\u001b[0m\u001b[0;34m)\u001b[0m\u001b[0;34m\u001b[0m\u001b[0;34m\u001b[0m\u001b[0m\n\u001b[0;32m--> 610\u001b[0;31m     \u001b[0;32mreturn\u001b[0m \u001b[0mself\u001b[0m\u001b[0;34m.\u001b[0m\u001b[0mwrapped_call\u001b[0m\u001b[0;34m(\u001b[0m\u001b[0;34m*\u001b[0m\u001b[0margs\u001b[0m\u001b[0;34m,\u001b[0m \u001b[0;34m**\u001b[0m\u001b[0mkwargs\u001b[0m\u001b[0;34m)\u001b[0m\u001b[0;34m\u001b[0m\u001b[0;34m\u001b[0m\u001b[0m\n\u001b[0m\u001b[1;32m    611\u001b[0m \u001b[0;34m\u001b[0m\u001b[0m\n\u001b[1;32m    612\u001b[0m   \u001b[0;32mdef\u001b[0m \u001b[0mget_concrete_function\u001b[0m\u001b[0;34m(\u001b[0m\u001b[0mself\u001b[0m\u001b[0;34m,\u001b[0m \u001b[0;34m*\u001b[0m\u001b[0margs\u001b[0m\u001b[0;34m,\u001b[0m \u001b[0;34m**\u001b[0m\u001b[0mkwargs\u001b[0m\u001b[0;34m)\u001b[0m\u001b[0;34m:\u001b[0m\u001b[0;34m\u001b[0m\u001b[0;34m\u001b[0m\u001b[0m\n",
            "\u001b[0;32m/usr/local/lib/python3.8/dist-packages/tensorflow/python/util/traceback_utils.py\u001b[0m in \u001b[0;36merror_handler\u001b[0;34m(*args, **kwargs)\u001b[0m\n\u001b[1;32m    148\u001b[0m     \u001b[0mfiltered_tb\u001b[0m \u001b[0;34m=\u001b[0m \u001b[0;32mNone\u001b[0m\u001b[0;34m\u001b[0m\u001b[0;34m\u001b[0m\u001b[0m\n\u001b[1;32m    149\u001b[0m     \u001b[0;32mtry\u001b[0m\u001b[0;34m:\u001b[0m\u001b[0;34m\u001b[0m\u001b[0;34m\u001b[0m\u001b[0m\n\u001b[0;32m--> 150\u001b[0;31m       \u001b[0;32mreturn\u001b[0m \u001b[0mfn\u001b[0m\u001b[0;34m(\u001b[0m\u001b[0;34m*\u001b[0m\u001b[0margs\u001b[0m\u001b[0;34m,\u001b[0m \u001b[0;34m**\u001b[0m\u001b[0mkwargs\u001b[0m\u001b[0;34m)\u001b[0m\u001b[0;34m\u001b[0m\u001b[0;34m\u001b[0m\u001b[0m\n\u001b[0m\u001b[1;32m    151\u001b[0m     \u001b[0;32mexcept\u001b[0m \u001b[0mException\u001b[0m \u001b[0;32mas\u001b[0m \u001b[0me\u001b[0m\u001b[0;34m:\u001b[0m\u001b[0;34m\u001b[0m\u001b[0;34m\u001b[0m\u001b[0m\n\u001b[1;32m    152\u001b[0m       \u001b[0mfiltered_tb\u001b[0m \u001b[0;34m=\u001b[0m \u001b[0m_process_traceback_frames\u001b[0m\u001b[0;34m(\u001b[0m\u001b[0me\u001b[0m\u001b[0;34m.\u001b[0m\u001b[0m__traceback__\u001b[0m\u001b[0;34m)\u001b[0m\u001b[0;34m\u001b[0m\u001b[0;34m\u001b[0m\u001b[0m\n",
            "\u001b[0;32m/usr/local/lib/python3.8/dist-packages/tensorflow/python/eager/def_function.py\u001b[0m in \u001b[0;36m__call__\u001b[0;34m(self, *args, **kwds)\u001b[0m\n\u001b[1;32m    913\u001b[0m \u001b[0;34m\u001b[0m\u001b[0m\n\u001b[1;32m    914\u001b[0m       \u001b[0;32mwith\u001b[0m \u001b[0mOptionalXlaContext\u001b[0m\u001b[0;34m(\u001b[0m\u001b[0mself\u001b[0m\u001b[0;34m.\u001b[0m\u001b[0m_jit_compile\u001b[0m\u001b[0;34m)\u001b[0m\u001b[0;34m:\u001b[0m\u001b[0;34m\u001b[0m\u001b[0;34m\u001b[0m\u001b[0m\n\u001b[0;32m--> 915\u001b[0;31m         \u001b[0mresult\u001b[0m \u001b[0;34m=\u001b[0m \u001b[0mself\u001b[0m\u001b[0;34m.\u001b[0m\u001b[0m_call\u001b[0m\u001b[0;34m(\u001b[0m\u001b[0;34m*\u001b[0m\u001b[0margs\u001b[0m\u001b[0;34m,\u001b[0m \u001b[0;34m**\u001b[0m\u001b[0mkwds\u001b[0m\u001b[0;34m)\u001b[0m\u001b[0;34m\u001b[0m\u001b[0;34m\u001b[0m\u001b[0m\n\u001b[0m\u001b[1;32m    916\u001b[0m \u001b[0;34m\u001b[0m\u001b[0m\n\u001b[1;32m    917\u001b[0m       \u001b[0mnew_tracing_count\u001b[0m \u001b[0;34m=\u001b[0m \u001b[0mself\u001b[0m\u001b[0;34m.\u001b[0m\u001b[0mexperimental_get_tracing_count\u001b[0m\u001b[0;34m(\u001b[0m\u001b[0;34m)\u001b[0m\u001b[0;34m\u001b[0m\u001b[0;34m\u001b[0m\u001b[0m\n",
            "\u001b[0;32m/usr/local/lib/python3.8/dist-packages/tensorflow/python/eager/def_function.py\u001b[0m in \u001b[0;36m_call\u001b[0;34m(self, *args, **kwds)\u001b[0m\n\u001b[1;32m    952\u001b[0m       \u001b[0;31m# In this case we have not created variables on the first call. So we can\u001b[0m\u001b[0;34m\u001b[0m\u001b[0;34m\u001b[0m\u001b[0;34m\u001b[0m\u001b[0m\n\u001b[1;32m    953\u001b[0m       \u001b[0;31m# run the first trace but we should fail if variables are created.\u001b[0m\u001b[0;34m\u001b[0m\u001b[0;34m\u001b[0m\u001b[0;34m\u001b[0m\u001b[0m\n\u001b[0;32m--> 954\u001b[0;31m       \u001b[0mresults\u001b[0m \u001b[0;34m=\u001b[0m \u001b[0mself\u001b[0m\u001b[0;34m.\u001b[0m\u001b[0m_stateful_fn\u001b[0m\u001b[0;34m(\u001b[0m\u001b[0;34m*\u001b[0m\u001b[0margs\u001b[0m\u001b[0;34m,\u001b[0m \u001b[0;34m**\u001b[0m\u001b[0mkwds\u001b[0m\u001b[0;34m)\u001b[0m\u001b[0;34m\u001b[0m\u001b[0;34m\u001b[0m\u001b[0m\n\u001b[0m\u001b[1;32m    955\u001b[0m       \u001b[0;32mif\u001b[0m \u001b[0mself\u001b[0m\u001b[0;34m.\u001b[0m\u001b[0m_created_variables\u001b[0m \u001b[0;32mand\u001b[0m \u001b[0;32mnot\u001b[0m \u001b[0mALLOW_DYNAMIC_VARIABLE_CREATION\u001b[0m\u001b[0;34m:\u001b[0m\u001b[0;34m\u001b[0m\u001b[0;34m\u001b[0m\u001b[0m\n\u001b[1;32m    956\u001b[0m         raise ValueError(\"Creating variables on a non-first call to a function\"\n",
            "\u001b[0;32m/usr/local/lib/python3.8/dist-packages/tensorflow/python/eager/function.py\u001b[0m in \u001b[0;36m__call__\u001b[0;34m(self, *args, **kwargs)\u001b[0m\n\u001b[1;32m   2450\u001b[0m     \u001b[0;32mwith\u001b[0m \u001b[0mself\u001b[0m\u001b[0;34m.\u001b[0m\u001b[0m_lock\u001b[0m\u001b[0;34m:\u001b[0m\u001b[0;34m\u001b[0m\u001b[0;34m\u001b[0m\u001b[0m\n\u001b[1;32m   2451\u001b[0m       (graph_function,\n\u001b[0;32m-> 2452\u001b[0;31m        filtered_flat_args) = self._maybe_define_function(args, kwargs)\n\u001b[0m\u001b[1;32m   2453\u001b[0m     return graph_function._call_flat(\n\u001b[1;32m   2454\u001b[0m         filtered_flat_args, captured_inputs=graph_function.captured_inputs)  # pylint: disable=protected-access\n",
            "\u001b[0;32m/usr/local/lib/python3.8/dist-packages/tensorflow/python/eager/function.py\u001b[0m in \u001b[0;36m_maybe_define_function\u001b[0;34m(self, args, kwargs)\u001b[0m\n\u001b[1;32m   2709\u001b[0m             \u001b[0;34m(\u001b[0m\u001b[0margs\u001b[0m\u001b[0;34m,\u001b[0m \u001b[0mkwargs\u001b[0m\u001b[0;34m)\u001b[0m \u001b[0;34m=\u001b[0m \u001b[0mcache_key\u001b[0m\u001b[0;34m.\u001b[0m\u001b[0m_placeholder_value\u001b[0m\u001b[0;34m(\u001b[0m\u001b[0;34m)\u001b[0m  \u001b[0;31m# pylint: disable=protected-access\u001b[0m\u001b[0;34m\u001b[0m\u001b[0;34m\u001b[0m\u001b[0m\n\u001b[1;32m   2710\u001b[0m \u001b[0;34m\u001b[0m\u001b[0m\n\u001b[0;32m-> 2711\u001b[0;31m           \u001b[0mgraph_function\u001b[0m \u001b[0;34m=\u001b[0m \u001b[0mself\u001b[0m\u001b[0;34m.\u001b[0m\u001b[0m_create_graph_function\u001b[0m\u001b[0;34m(\u001b[0m\u001b[0margs\u001b[0m\u001b[0;34m,\u001b[0m \u001b[0mkwargs\u001b[0m\u001b[0;34m)\u001b[0m\u001b[0;34m\u001b[0m\u001b[0;34m\u001b[0m\u001b[0m\n\u001b[0m\u001b[1;32m   2712\u001b[0m           self._function_cache.add(cache_key, cache_key_deletion_observer,\n\u001b[1;32m   2713\u001b[0m                                    graph_function)\n",
            "\u001b[0;32m/usr/local/lib/python3.8/dist-packages/tensorflow/python/eager/function.py\u001b[0m in \u001b[0;36m_create_graph_function\u001b[0;34m(self, args, kwargs)\u001b[0m\n\u001b[1;32m   2625\u001b[0m     \u001b[0marg_names\u001b[0m \u001b[0;34m=\u001b[0m \u001b[0mbase_arg_names\u001b[0m \u001b[0;34m+\u001b[0m \u001b[0mmissing_arg_names\u001b[0m\u001b[0;34m\u001b[0m\u001b[0;34m\u001b[0m\u001b[0m\n\u001b[1;32m   2626\u001b[0m     graph_function = ConcreteFunction(\n\u001b[0;32m-> 2627\u001b[0;31m         func_graph_module.func_graph_from_py_func(\n\u001b[0m\u001b[1;32m   2628\u001b[0m             \u001b[0mself\u001b[0m\u001b[0;34m.\u001b[0m\u001b[0m_name\u001b[0m\u001b[0;34m,\u001b[0m\u001b[0;34m\u001b[0m\u001b[0;34m\u001b[0m\u001b[0m\n\u001b[1;32m   2629\u001b[0m             \u001b[0mself\u001b[0m\u001b[0;34m.\u001b[0m\u001b[0m_python_function\u001b[0m\u001b[0;34m,\u001b[0m\u001b[0;34m\u001b[0m\u001b[0;34m\u001b[0m\u001b[0m\n",
            "\u001b[0;32m/usr/local/lib/python3.8/dist-packages/tensorflow/python/framework/func_graph.py\u001b[0m in \u001b[0;36mfunc_graph_from_py_func\u001b[0;34m(name, python_func, args, kwargs, signature, func_graph, autograph, autograph_options, add_control_dependencies, arg_names, op_return_value, collections, capture_by_value, acd_record_initial_resource_uses)\u001b[0m\n\u001b[1;32m   1139\u001b[0m         \u001b[0m_\u001b[0m\u001b[0;34m,\u001b[0m \u001b[0moriginal_func\u001b[0m \u001b[0;34m=\u001b[0m \u001b[0mtf_decorator\u001b[0m\u001b[0;34m.\u001b[0m\u001b[0munwrap\u001b[0m\u001b[0;34m(\u001b[0m\u001b[0mpython_func\u001b[0m\u001b[0;34m)\u001b[0m\u001b[0;34m\u001b[0m\u001b[0;34m\u001b[0m\u001b[0m\n\u001b[1;32m   1140\u001b[0m \u001b[0;34m\u001b[0m\u001b[0m\n\u001b[0;32m-> 1141\u001b[0;31m       \u001b[0mfunc_outputs\u001b[0m \u001b[0;34m=\u001b[0m \u001b[0mpython_func\u001b[0m\u001b[0;34m(\u001b[0m\u001b[0;34m*\u001b[0m\u001b[0mfunc_args\u001b[0m\u001b[0;34m,\u001b[0m \u001b[0;34m**\u001b[0m\u001b[0mfunc_kwargs\u001b[0m\u001b[0;34m)\u001b[0m\u001b[0;34m\u001b[0m\u001b[0;34m\u001b[0m\u001b[0m\n\u001b[0m\u001b[1;32m   1142\u001b[0m \u001b[0;34m\u001b[0m\u001b[0m\n\u001b[1;32m   1143\u001b[0m       \u001b[0;31m# invariant: `func_outputs` contains only Tensors, CompositeTensors,\u001b[0m\u001b[0;34m\u001b[0m\u001b[0;34m\u001b[0m\u001b[0;34m\u001b[0m\u001b[0m\n",
            "\u001b[0;32m/usr/local/lib/python3.8/dist-packages/tensorflow/python/eager/def_function.py\u001b[0m in \u001b[0;36mwrapped_fn\u001b[0;34m(*args, **kwds)\u001b[0m\n\u001b[1;32m    675\u001b[0m         \u001b[0;31m# the function a weak reference to itself to avoid a reference cycle.\u001b[0m\u001b[0;34m\u001b[0m\u001b[0;34m\u001b[0m\u001b[0;34m\u001b[0m\u001b[0m\n\u001b[1;32m    676\u001b[0m         \u001b[0;32mwith\u001b[0m \u001b[0mOptionalXlaContext\u001b[0m\u001b[0;34m(\u001b[0m\u001b[0mcompile_with_xla\u001b[0m\u001b[0;34m)\u001b[0m\u001b[0;34m:\u001b[0m\u001b[0;34m\u001b[0m\u001b[0;34m\u001b[0m\u001b[0m\n\u001b[0;32m--> 677\u001b[0;31m           \u001b[0mout\u001b[0m \u001b[0;34m=\u001b[0m \u001b[0mweak_wrapped_fn\u001b[0m\u001b[0;34m(\u001b[0m\u001b[0;34m)\u001b[0m\u001b[0;34m.\u001b[0m\u001b[0m__wrapped__\u001b[0m\u001b[0;34m(\u001b[0m\u001b[0;34m*\u001b[0m\u001b[0margs\u001b[0m\u001b[0;34m,\u001b[0m \u001b[0;34m**\u001b[0m\u001b[0mkwds\u001b[0m\u001b[0;34m)\u001b[0m\u001b[0;34m\u001b[0m\u001b[0;34m\u001b[0m\u001b[0m\n\u001b[0m\u001b[1;32m    678\u001b[0m         \u001b[0;32mreturn\u001b[0m \u001b[0mout\u001b[0m\u001b[0;34m\u001b[0m\u001b[0;34m\u001b[0m\u001b[0m\n\u001b[1;32m    679\u001b[0m \u001b[0;34m\u001b[0m\u001b[0m\n",
            "\u001b[0;32m/usr/local/lib/python3.8/dist-packages/keras/saving/saved_model/save_impl.py\u001b[0m in \u001b[0;36mwrapper\u001b[0;34m(*args, **kwargs)\u001b[0m\n\u001b[1;32m    570\u001b[0m       with autocast_variable.enable_auto_cast_variables(\n\u001b[1;32m    571\u001b[0m           layer._compute_dtype_object):  # pylint: disable=protected-access\n\u001b[0;32m--> 572\u001b[0;31m         \u001b[0mret\u001b[0m \u001b[0;34m=\u001b[0m \u001b[0mmethod\u001b[0m\u001b[0;34m(\u001b[0m\u001b[0;34m*\u001b[0m\u001b[0margs\u001b[0m\u001b[0;34m,\u001b[0m \u001b[0;34m**\u001b[0m\u001b[0mkwargs\u001b[0m\u001b[0;34m)\u001b[0m\u001b[0;34m\u001b[0m\u001b[0;34m\u001b[0m\u001b[0m\n\u001b[0m\u001b[1;32m    573\u001b[0m     \u001b[0m_restore_layer_losses\u001b[0m\u001b[0;34m(\u001b[0m\u001b[0moriginal_losses\u001b[0m\u001b[0;34m)\u001b[0m\u001b[0;34m\u001b[0m\u001b[0;34m\u001b[0m\u001b[0m\n\u001b[1;32m    574\u001b[0m     \u001b[0;32mreturn\u001b[0m \u001b[0mret\u001b[0m\u001b[0;34m\u001b[0m\u001b[0;34m\u001b[0m\u001b[0m\n",
            "\u001b[0;32m/usr/local/lib/python3.8/dist-packages/keras/saving/saved_model/utils.py\u001b[0m in \u001b[0;36mwrap_with_training_arg\u001b[0;34m(*args, **kwargs)\u001b[0m\n\u001b[1;32m    166\u001b[0m       \u001b[0;32mreturn\u001b[0m \u001b[0mwrapped_call\u001b[0m\u001b[0;34m(\u001b[0m\u001b[0;34m*\u001b[0m\u001b[0margs\u001b[0m\u001b[0;34m,\u001b[0m \u001b[0;34m**\u001b[0m\u001b[0mkwargs\u001b[0m\u001b[0;34m)\u001b[0m\u001b[0;34m\u001b[0m\u001b[0;34m\u001b[0m\u001b[0m\n\u001b[1;32m    167\u001b[0m \u001b[0;34m\u001b[0m\u001b[0m\n\u001b[0;32m--> 168\u001b[0;31m     return control_flow_util.smart_cond(\n\u001b[0m\u001b[1;32m    169\u001b[0m         \u001b[0mtraining\u001b[0m\u001b[0;34m,\u001b[0m \u001b[0;32mlambda\u001b[0m\u001b[0;34m:\u001b[0m \u001b[0mreplace_training_and_call\u001b[0m\u001b[0;34m(\u001b[0m\u001b[0;32mTrue\u001b[0m\u001b[0;34m)\u001b[0m\u001b[0;34m,\u001b[0m\u001b[0;34m\u001b[0m\u001b[0;34m\u001b[0m\u001b[0m\n\u001b[1;32m    170\u001b[0m         lambda: replace_training_and_call(False))\n",
            "\u001b[0;32m/usr/local/lib/python3.8/dist-packages/keras/utils/control_flow_util.py\u001b[0m in \u001b[0;36msmart_cond\u001b[0;34m(pred, true_fn, false_fn, name)\u001b[0m\n\u001b[1;32m    103\u001b[0m     return tf.cond(\n\u001b[1;32m    104\u001b[0m         pred, true_fn=true_fn, false_fn=false_fn, name=name)\n\u001b[0;32m--> 105\u001b[0;31m   return tf.__internal__.smart_cond.smart_cond(\n\u001b[0m\u001b[1;32m    106\u001b[0m       pred, true_fn=true_fn, false_fn=false_fn, name=name)\n\u001b[1;32m    107\u001b[0m \u001b[0;34m\u001b[0m\u001b[0m\n",
            "\u001b[0;32m/usr/local/lib/python3.8/dist-packages/tensorflow/python/framework/smart_cond.py\u001b[0m in \u001b[0;36msmart_cond\u001b[0;34m(pred, true_fn, false_fn, name)\u001b[0m\n\u001b[1;32m     51\u001b[0m   \u001b[0;32mif\u001b[0m \u001b[0mpred_value\u001b[0m \u001b[0;32mis\u001b[0m \u001b[0;32mnot\u001b[0m \u001b[0;32mNone\u001b[0m\u001b[0;34m:\u001b[0m\u001b[0;34m\u001b[0m\u001b[0;34m\u001b[0m\u001b[0m\n\u001b[1;32m     52\u001b[0m     \u001b[0;32mif\u001b[0m \u001b[0mpred_value\u001b[0m\u001b[0;34m:\u001b[0m\u001b[0;34m\u001b[0m\u001b[0;34m\u001b[0m\u001b[0m\n\u001b[0;32m---> 53\u001b[0;31m       \u001b[0;32mreturn\u001b[0m \u001b[0mtrue_fn\u001b[0m\u001b[0;34m(\u001b[0m\u001b[0;34m)\u001b[0m\u001b[0;34m\u001b[0m\u001b[0;34m\u001b[0m\u001b[0m\n\u001b[0m\u001b[1;32m     54\u001b[0m     \u001b[0;32melse\u001b[0m\u001b[0;34m:\u001b[0m\u001b[0;34m\u001b[0m\u001b[0;34m\u001b[0m\u001b[0m\n\u001b[1;32m     55\u001b[0m       \u001b[0;32mreturn\u001b[0m \u001b[0mfalse_fn\u001b[0m\u001b[0;34m(\u001b[0m\u001b[0;34m)\u001b[0m\u001b[0;34m\u001b[0m\u001b[0;34m\u001b[0m\u001b[0m\n",
            "\u001b[0;32m/usr/local/lib/python3.8/dist-packages/keras/saving/saved_model/utils.py\u001b[0m in \u001b[0;36m<lambda>\u001b[0;34m()\u001b[0m\n\u001b[1;32m    167\u001b[0m \u001b[0;34m\u001b[0m\u001b[0m\n\u001b[1;32m    168\u001b[0m     return control_flow_util.smart_cond(\n\u001b[0;32m--> 169\u001b[0;31m         \u001b[0mtraining\u001b[0m\u001b[0;34m,\u001b[0m \u001b[0;32mlambda\u001b[0m\u001b[0;34m:\u001b[0m \u001b[0mreplace_training_and_call\u001b[0m\u001b[0;34m(\u001b[0m\u001b[0;32mTrue\u001b[0m\u001b[0;34m)\u001b[0m\u001b[0;34m,\u001b[0m\u001b[0;34m\u001b[0m\u001b[0;34m\u001b[0m\u001b[0m\n\u001b[0m\u001b[1;32m    170\u001b[0m         lambda: replace_training_and_call(False))\n\u001b[1;32m    171\u001b[0m \u001b[0;34m\u001b[0m\u001b[0m\n",
            "\u001b[0;32m/usr/local/lib/python3.8/dist-packages/keras/saving/saved_model/utils.py\u001b[0m in \u001b[0;36mreplace_training_and_call\u001b[0;34m(training)\u001b[0m\n\u001b[1;32m    164\u001b[0m     \u001b[0;32mdef\u001b[0m \u001b[0mreplace_training_and_call\u001b[0m\u001b[0;34m(\u001b[0m\u001b[0mtraining\u001b[0m\u001b[0;34m)\u001b[0m\u001b[0;34m:\u001b[0m\u001b[0;34m\u001b[0m\u001b[0;34m\u001b[0m\u001b[0m\n\u001b[1;32m    165\u001b[0m       \u001b[0mset_training_arg\u001b[0m\u001b[0;34m(\u001b[0m\u001b[0mtraining\u001b[0m\u001b[0;34m,\u001b[0m \u001b[0mtraining_arg_index\u001b[0m\u001b[0;34m,\u001b[0m \u001b[0margs\u001b[0m\u001b[0;34m,\u001b[0m \u001b[0mkwargs\u001b[0m\u001b[0;34m)\u001b[0m\u001b[0;34m\u001b[0m\u001b[0;34m\u001b[0m\u001b[0m\n\u001b[0;32m--> 166\u001b[0;31m       \u001b[0;32mreturn\u001b[0m \u001b[0mwrapped_call\u001b[0m\u001b[0;34m(\u001b[0m\u001b[0;34m*\u001b[0m\u001b[0margs\u001b[0m\u001b[0;34m,\u001b[0m \u001b[0;34m**\u001b[0m\u001b[0mkwargs\u001b[0m\u001b[0;34m)\u001b[0m\u001b[0;34m\u001b[0m\u001b[0;34m\u001b[0m\u001b[0m\n\u001b[0m\u001b[1;32m    167\u001b[0m \u001b[0;34m\u001b[0m\u001b[0m\n\u001b[1;32m    168\u001b[0m     return control_flow_util.smart_cond(\n",
            "\u001b[0;32m/usr/local/lib/python3.8/dist-packages/keras/saving/saved_model/save_impl.py\u001b[0m in \u001b[0;36mcall_and_return_conditional_losses\u001b[0;34m(*args, **kwargs)\u001b[0m\n\u001b[1;32m    632\u001b[0m   \u001b[0;32mdef\u001b[0m \u001b[0mcall_and_return_conditional_losses\u001b[0m\u001b[0;34m(\u001b[0m\u001b[0;34m*\u001b[0m\u001b[0margs\u001b[0m\u001b[0;34m,\u001b[0m \u001b[0;34m**\u001b[0m\u001b[0mkwargs\u001b[0m\u001b[0;34m)\u001b[0m\u001b[0;34m:\u001b[0m\u001b[0;34m\u001b[0m\u001b[0;34m\u001b[0m\u001b[0m\n\u001b[1;32m    633\u001b[0m     \u001b[0;34m\"\"\"Returns layer (call_output, conditional losses) tuple.\"\"\"\u001b[0m\u001b[0;34m\u001b[0m\u001b[0;34m\u001b[0m\u001b[0m\n\u001b[0;32m--> 634\u001b[0;31m     \u001b[0mcall_output\u001b[0m \u001b[0;34m=\u001b[0m \u001b[0mlayer_call\u001b[0m\u001b[0;34m(\u001b[0m\u001b[0;34m*\u001b[0m\u001b[0margs\u001b[0m\u001b[0;34m,\u001b[0m \u001b[0;34m**\u001b[0m\u001b[0mkwargs\u001b[0m\u001b[0;34m)\u001b[0m\u001b[0;34m\u001b[0m\u001b[0;34m\u001b[0m\u001b[0m\n\u001b[0m\u001b[1;32m    635\u001b[0m     \u001b[0;32mif\u001b[0m \u001b[0mversion_utils\u001b[0m\u001b[0;34m.\u001b[0m\u001b[0mis_v1_layer_or_model\u001b[0m\u001b[0;34m(\u001b[0m\u001b[0mlayer\u001b[0m\u001b[0;34m)\u001b[0m\u001b[0;34m:\u001b[0m\u001b[0;34m\u001b[0m\u001b[0;34m\u001b[0m\u001b[0m\n\u001b[1;32m    636\u001b[0m       conditional_losses = layer.get_losses_for(\n",
            "\u001b[0;32m/usr/local/lib/python3.8/dist-packages/keras/layers/rnn/lstm.py\u001b[0m in \u001b[0;36mcall\u001b[0;34m(self, inputs, mask, training, initial_state)\u001b[0m\n\u001b[1;32m    671\u001b[0m         \u001b[0;32melse\u001b[0m\u001b[0;34m:\u001b[0m\u001b[0;34m\u001b[0m\u001b[0;34m\u001b[0m\u001b[0m\n\u001b[1;32m    672\u001b[0m           (last_output, outputs, new_h, new_c,\n\u001b[0;32m--> 673\u001b[0;31m            runtime) = lstm_with_backend_selection(**normal_lstm_kwargs)\n\u001b[0m\u001b[1;32m    674\u001b[0m \u001b[0;34m\u001b[0m\u001b[0m\n\u001b[1;32m    675\u001b[0m       \u001b[0mstates\u001b[0m \u001b[0;34m=\u001b[0m \u001b[0;34m[\u001b[0m\u001b[0mnew_h\u001b[0m\u001b[0;34m,\u001b[0m \u001b[0mnew_c\u001b[0m\u001b[0;34m]\u001b[0m\u001b[0;34m\u001b[0m\u001b[0;34m\u001b[0m\u001b[0m\n",
            "\u001b[0;32m/usr/local/lib/python3.8/dist-packages/keras/layers/rnn/lstm.py\u001b[0m in \u001b[0;36mlstm_with_backend_selection\u001b[0;34m(inputs, init_h, init_c, kernel, recurrent_kernel, bias, mask, time_major, go_backwards, sequence_lengths, zero_output_for_mask, return_sequences)\u001b[0m\n\u001b[1;32m   1182\u001b[0m     \u001b[0;31m# grappler will kick in during session execution to optimize the graph.\u001b[0m\u001b[0;34m\u001b[0m\u001b[0;34m\u001b[0m\u001b[0;34m\u001b[0m\u001b[0m\n\u001b[1;32m   1183\u001b[0m     \u001b[0mlast_output\u001b[0m\u001b[0;34m,\u001b[0m \u001b[0moutputs\u001b[0m\u001b[0;34m,\u001b[0m \u001b[0mnew_h\u001b[0m\u001b[0;34m,\u001b[0m \u001b[0mnew_c\u001b[0m\u001b[0;34m,\u001b[0m \u001b[0mruntime\u001b[0m \u001b[0;34m=\u001b[0m \u001b[0mdefun_standard_lstm\u001b[0m\u001b[0;34m(\u001b[0m\u001b[0;34m**\u001b[0m\u001b[0mparams\u001b[0m\u001b[0;34m)\u001b[0m\u001b[0;34m\u001b[0m\u001b[0;34m\u001b[0m\u001b[0m\n\u001b[0;32m-> 1184\u001b[0;31m     \u001b[0mgru_lstm_utils\u001b[0m\u001b[0;34m.\u001b[0m\u001b[0mfunction_register\u001b[0m\u001b[0;34m(\u001b[0m\u001b[0mdefun_gpu_lstm\u001b[0m\u001b[0;34m,\u001b[0m \u001b[0;34m**\u001b[0m\u001b[0mparams\u001b[0m\u001b[0;34m)\u001b[0m\u001b[0;34m\u001b[0m\u001b[0;34m\u001b[0m\u001b[0m\n\u001b[0m\u001b[1;32m   1185\u001b[0m \u001b[0;34m\u001b[0m\u001b[0m\n\u001b[1;32m   1186\u001b[0m   \u001b[0;32mreturn\u001b[0m \u001b[0mlast_output\u001b[0m\u001b[0;34m,\u001b[0m \u001b[0moutputs\u001b[0m\u001b[0;34m,\u001b[0m \u001b[0mnew_h\u001b[0m\u001b[0;34m,\u001b[0m \u001b[0mnew_c\u001b[0m\u001b[0;34m,\u001b[0m \u001b[0mruntime\u001b[0m\u001b[0;34m\u001b[0m\u001b[0;34m\u001b[0m\u001b[0m\n",
            "\u001b[0;32m/usr/local/lib/python3.8/dist-packages/keras/layers/rnn/gru_lstm_utils.py\u001b[0m in \u001b[0;36mfunction_register\u001b[0;34m(func, *args, **kwargs)\u001b[0m\n\u001b[1;32m    244\u001b[0m   \u001b[0mconcrete_func\u001b[0m \u001b[0;34m=\u001b[0m \u001b[0mfunc\u001b[0m\u001b[0;34m.\u001b[0m\u001b[0mget_concrete_function\u001b[0m\u001b[0;34m(\u001b[0m\u001b[0;34m*\u001b[0m\u001b[0margs\u001b[0m\u001b[0;34m,\u001b[0m \u001b[0;34m**\u001b[0m\u001b[0mkwargs\u001b[0m\u001b[0;34m)\u001b[0m\u001b[0;34m\u001b[0m\u001b[0;34m\u001b[0m\u001b[0m\n\u001b[1;32m    245\u001b[0m   \u001b[0mconcrete_func\u001b[0m\u001b[0;34m.\u001b[0m\u001b[0madd_to_graph\u001b[0m\u001b[0;34m(\u001b[0m\u001b[0;34m)\u001b[0m\u001b[0;34m\u001b[0m\u001b[0;34m\u001b[0m\u001b[0m\n\u001b[0;32m--> 246\u001b[0;31m   \u001b[0mconcrete_func\u001b[0m\u001b[0;34m.\u001b[0m\u001b[0madd_gradient_functions_to_graph\u001b[0m\u001b[0;34m(\u001b[0m\u001b[0;34m)\u001b[0m\u001b[0;34m\u001b[0m\u001b[0;34m\u001b[0m\u001b[0m\n\u001b[0m\u001b[1;32m    247\u001b[0m   \u001b[0;32mreturn\u001b[0m \u001b[0mconcrete_func\u001b[0m\u001b[0;34m\u001b[0m\u001b[0;34m\u001b[0m\u001b[0m\n",
            "\u001b[0;32m/usr/local/lib/python3.8/dist-packages/tensorflow/python/eager/function.py\u001b[0m in \u001b[0;36madd_gradient_functions_to_graph\u001b[0;34m(self, g)\u001b[0m\n\u001b[1;32m   2111\u001b[0m     \u001b[0mself\u001b[0m\u001b[0;34m.\u001b[0m\u001b[0m_delayed_rewrite_functions\u001b[0m\u001b[0;34m.\u001b[0m\u001b[0mforward\u001b[0m\u001b[0;34m(\u001b[0m\u001b[0;34m)\u001b[0m\u001b[0;34m.\u001b[0m\u001b[0madd_to_graph\u001b[0m\u001b[0;34m(\u001b[0m\u001b[0mg\u001b[0m\u001b[0;34m)\u001b[0m\u001b[0;34m\u001b[0m\u001b[0;34m\u001b[0m\u001b[0m\n\u001b[1;32m   2112\u001b[0m     forward_function, backward_function = (\n\u001b[0;32m-> 2113\u001b[0;31m         self._delayed_rewrite_functions.forward_backward())\n\u001b[0m\u001b[1;32m   2114\u001b[0m     \u001b[0mforward_function\u001b[0m\u001b[0;34m.\u001b[0m\u001b[0madd_to_graph\u001b[0m\u001b[0;34m(\u001b[0m\u001b[0mg\u001b[0m\u001b[0;34m)\u001b[0m\u001b[0;34m\u001b[0m\u001b[0;34m\u001b[0m\u001b[0m\n\u001b[1;32m   2115\u001b[0m     \u001b[0mbackward_function\u001b[0m\u001b[0;34m.\u001b[0m\u001b[0madd_to_graph\u001b[0m\u001b[0;34m(\u001b[0m\u001b[0mg\u001b[0m\u001b[0;34m)\u001b[0m\u001b[0;34m\u001b[0m\u001b[0;34m\u001b[0m\u001b[0m\n",
            "\u001b[0;32m/usr/local/lib/python3.8/dist-packages/tensorflow/python/eager/function.py\u001b[0m in \u001b[0;36mforward_backward\u001b[0;34m(self, num_doutputs)\u001b[0m\n\u001b[1;32m    597\u001b[0m     \u001b[0;32mif\u001b[0m \u001b[0mforward_backward\u001b[0m \u001b[0;32mis\u001b[0m \u001b[0;32mnot\u001b[0m \u001b[0;32mNone\u001b[0m\u001b[0;34m:\u001b[0m\u001b[0;34m\u001b[0m\u001b[0;34m\u001b[0m\u001b[0m\n\u001b[1;32m    598\u001b[0m       \u001b[0;32mreturn\u001b[0m \u001b[0mforward_backward\u001b[0m\u001b[0;34m\u001b[0m\u001b[0;34m\u001b[0m\u001b[0m\n\u001b[0;32m--> 599\u001b[0;31m     \u001b[0mforward\u001b[0m\u001b[0;34m,\u001b[0m \u001b[0mbackward\u001b[0m \u001b[0;34m=\u001b[0m \u001b[0mself\u001b[0m\u001b[0;34m.\u001b[0m\u001b[0m_construct_forward_backward\u001b[0m\u001b[0;34m(\u001b[0m\u001b[0mnum_doutputs\u001b[0m\u001b[0;34m)\u001b[0m\u001b[0;34m\u001b[0m\u001b[0;34m\u001b[0m\u001b[0m\n\u001b[0m\u001b[1;32m    600\u001b[0m     \u001b[0mself\u001b[0m\u001b[0;34m.\u001b[0m\u001b[0m_cached_function_pairs\u001b[0m\u001b[0;34m[\u001b[0m\u001b[0mnum_doutputs\u001b[0m\u001b[0;34m]\u001b[0m \u001b[0;34m=\u001b[0m \u001b[0;34m(\u001b[0m\u001b[0mforward\u001b[0m\u001b[0;34m,\u001b[0m \u001b[0mbackward\u001b[0m\u001b[0;34m)\u001b[0m\u001b[0;34m\u001b[0m\u001b[0;34m\u001b[0m\u001b[0m\n\u001b[1;32m    601\u001b[0m     \u001b[0;32mreturn\u001b[0m \u001b[0mforward\u001b[0m\u001b[0;34m,\u001b[0m \u001b[0mbackward\u001b[0m\u001b[0;34m\u001b[0m\u001b[0;34m\u001b[0m\u001b[0m\n",
            "\u001b[0;32m/usr/local/lib/python3.8/dist-packages/tensorflow/python/eager/function.py\u001b[0m in \u001b[0;36m_construct_forward_backward\u001b[0;34m(self, num_doutputs)\u001b[0m\n\u001b[1;32m    640\u001b[0m       backwards_graph = func_graph_module.FuncGraph(\n\u001b[1;32m    641\u001b[0m           _backward_name(self._func_graph.name))\n\u001b[0;32m--> 642\u001b[0;31m       func_graph_module.func_graph_from_py_func(\n\u001b[0m\u001b[1;32m    643\u001b[0m           \u001b[0mname\u001b[0m\u001b[0;34m=\u001b[0m\u001b[0mbackwards_graph\u001b[0m\u001b[0;34m.\u001b[0m\u001b[0mname\u001b[0m\u001b[0;34m,\u001b[0m\u001b[0;34m\u001b[0m\u001b[0;34m\u001b[0m\u001b[0m\n\u001b[1;32m    644\u001b[0m           \u001b[0mpython_func\u001b[0m\u001b[0;34m=\u001b[0m\u001b[0m_backprop_function\u001b[0m\u001b[0;34m,\u001b[0m\u001b[0;34m\u001b[0m\u001b[0;34m\u001b[0m\u001b[0m\n",
            "\u001b[0;32m/usr/local/lib/python3.8/dist-packages/tensorflow/python/framework/func_graph.py\u001b[0m in \u001b[0;36mfunc_graph_from_py_func\u001b[0;34m(name, python_func, args, kwargs, signature, func_graph, autograph, autograph_options, add_control_dependencies, arg_names, op_return_value, collections, capture_by_value, acd_record_initial_resource_uses)\u001b[0m\n\u001b[1;32m   1139\u001b[0m         \u001b[0m_\u001b[0m\u001b[0;34m,\u001b[0m \u001b[0moriginal_func\u001b[0m \u001b[0;34m=\u001b[0m \u001b[0mtf_decorator\u001b[0m\u001b[0;34m.\u001b[0m\u001b[0munwrap\u001b[0m\u001b[0;34m(\u001b[0m\u001b[0mpython_func\u001b[0m\u001b[0;34m)\u001b[0m\u001b[0;34m\u001b[0m\u001b[0;34m\u001b[0m\u001b[0m\n\u001b[1;32m   1140\u001b[0m \u001b[0;34m\u001b[0m\u001b[0m\n\u001b[0;32m-> 1141\u001b[0;31m       \u001b[0mfunc_outputs\u001b[0m \u001b[0;34m=\u001b[0m \u001b[0mpython_func\u001b[0m\u001b[0;34m(\u001b[0m\u001b[0;34m*\u001b[0m\u001b[0mfunc_args\u001b[0m\u001b[0;34m,\u001b[0m \u001b[0;34m**\u001b[0m\u001b[0mfunc_kwargs\u001b[0m\u001b[0;34m)\u001b[0m\u001b[0;34m\u001b[0m\u001b[0;34m\u001b[0m\u001b[0m\n\u001b[0m\u001b[1;32m   1142\u001b[0m \u001b[0;34m\u001b[0m\u001b[0m\n\u001b[1;32m   1143\u001b[0m       \u001b[0;31m# invariant: `func_outputs` contains only Tensors, CompositeTensors,\u001b[0m\u001b[0;34m\u001b[0m\u001b[0;34m\u001b[0m\u001b[0;34m\u001b[0m\u001b[0m\n",
            "\u001b[0;32m/usr/local/lib/python3.8/dist-packages/tensorflow/python/eager/function.py\u001b[0m in \u001b[0;36m_backprop_function\u001b[0;34m(*grad_ys)\u001b[0m\n\u001b[1;32m    631\u001b[0m     \u001b[0;32mdef\u001b[0m \u001b[0m_backprop_function\u001b[0m\u001b[0;34m(\u001b[0m\u001b[0;34m*\u001b[0m\u001b[0mgrad_ys\u001b[0m\u001b[0;34m)\u001b[0m\u001b[0;34m:\u001b[0m\u001b[0;34m\u001b[0m\u001b[0;34m\u001b[0m\u001b[0m\n\u001b[1;32m    632\u001b[0m       \u001b[0;32mwith\u001b[0m \u001b[0mops\u001b[0m\u001b[0;34m.\u001b[0m\u001b[0mdevice\u001b[0m\u001b[0;34m(\u001b[0m\u001b[0;32mNone\u001b[0m\u001b[0;34m)\u001b[0m\u001b[0;34m:\u001b[0m\u001b[0;34m\u001b[0m\u001b[0;34m\u001b[0m\u001b[0m\n\u001b[0;32m--> 633\u001b[0;31m         return gradients_util._GradientsHelper(  # pylint: disable=protected-access\n\u001b[0m\u001b[1;32m    634\u001b[0m             \u001b[0mtrainable_outputs\u001b[0m\u001b[0;34m,\u001b[0m\u001b[0;34m\u001b[0m\u001b[0;34m\u001b[0m\u001b[0m\n\u001b[1;32m    635\u001b[0m             \u001b[0mself\u001b[0m\u001b[0;34m.\u001b[0m\u001b[0m_func_graph\u001b[0m\u001b[0;34m.\u001b[0m\u001b[0minputs\u001b[0m\u001b[0;34m,\u001b[0m\u001b[0;34m\u001b[0m\u001b[0;34m\u001b[0m\u001b[0m\n",
            "\u001b[0;32m/usr/local/lib/python3.8/dist-packages/tensorflow/python/ops/gradients_util.py\u001b[0m in \u001b[0;36m_GradientsHelper\u001b[0;34m(ys, xs, grad_ys, name, colocate_gradients_with_ops, gate_gradients, aggregation_method, stop_gradients, unconnected_gradients, src_graph)\u001b[0m\n\u001b[1;32m    693\u001b[0m                 \u001b[0;31m# If grad_fn was found, do not use SymbolicGradient even for\u001b[0m\u001b[0;34m\u001b[0m\u001b[0;34m\u001b[0m\u001b[0;34m\u001b[0m\u001b[0m\n\u001b[1;32m    694\u001b[0m                 \u001b[0;31m# functions.\u001b[0m\u001b[0;34m\u001b[0m\u001b[0;34m\u001b[0m\u001b[0;34m\u001b[0m\u001b[0m\n\u001b[0;32m--> 695\u001b[0;31m                 in_grads = _MaybeCompile(grad_scope, op, func_call,\n\u001b[0m\u001b[1;32m    696\u001b[0m                                          lambda: grad_fn(op, *out_grads))\n\u001b[1;32m    697\u001b[0m               \u001b[0;32melse\u001b[0m\u001b[0;34m:\u001b[0m\u001b[0;34m\u001b[0m\u001b[0;34m\u001b[0m\u001b[0m\n",
            "\u001b[0;32m/usr/local/lib/python3.8/dist-packages/tensorflow/python/ops/gradients_util.py\u001b[0m in \u001b[0;36m_MaybeCompile\u001b[0;34m(scope, op, func, grad_fn)\u001b[0m\n\u001b[1;32m    326\u001b[0m \u001b[0;34m\u001b[0m\u001b[0m\n\u001b[1;32m    327\u001b[0m   \u001b[0;32mif\u001b[0m \u001b[0;32mnot\u001b[0m \u001b[0mxla_compile\u001b[0m\u001b[0;34m:\u001b[0m\u001b[0;34m\u001b[0m\u001b[0;34m\u001b[0m\u001b[0m\n\u001b[0;32m--> 328\u001b[0;31m     \u001b[0;32mreturn\u001b[0m \u001b[0mgrad_fn\u001b[0m\u001b[0;34m(\u001b[0m\u001b[0;34m)\u001b[0m  \u001b[0;31m# Exit early\u001b[0m\u001b[0;34m\u001b[0m\u001b[0;34m\u001b[0m\u001b[0m\n\u001b[0m\u001b[1;32m    329\u001b[0m \u001b[0;34m\u001b[0m\u001b[0m\n\u001b[1;32m    330\u001b[0m   \u001b[0;31m# If the gradients are supposed to be compiled separately, we give them a\u001b[0m\u001b[0;34m\u001b[0m\u001b[0;34m\u001b[0m\u001b[0;34m\u001b[0m\u001b[0m\n",
            "\u001b[0;32m/usr/local/lib/python3.8/dist-packages/tensorflow/python/ops/gradients_util.py\u001b[0m in \u001b[0;36m<lambda>\u001b[0;34m()\u001b[0m\n\u001b[1;32m    694\u001b[0m                 \u001b[0;31m# functions.\u001b[0m\u001b[0;34m\u001b[0m\u001b[0;34m\u001b[0m\u001b[0;34m\u001b[0m\u001b[0m\n\u001b[1;32m    695\u001b[0m                 in_grads = _MaybeCompile(grad_scope, op, func_call,\n\u001b[0;32m--> 696\u001b[0;31m                                          lambda: grad_fn(op, *out_grads))\n\u001b[0m\u001b[1;32m    697\u001b[0m               \u001b[0;32melse\u001b[0m\u001b[0;34m:\u001b[0m\u001b[0;34m\u001b[0m\u001b[0;34m\u001b[0m\u001b[0m\n\u001b[1;32m    698\u001b[0m                 \u001b[0;31m# For function call ops, we add a 'SymbolicGradient'\u001b[0m\u001b[0;34m\u001b[0m\u001b[0;34m\u001b[0m\u001b[0;34m\u001b[0m\u001b[0m\n",
            "\u001b[0;32m/usr/local/lib/python3.8/dist-packages/tensorflow/python/ops/array_grad.py\u001b[0m in \u001b[0;36m_StridedSliceGrad\u001b[0;34m(op, grad)\u001b[0m\n\u001b[1;32m    283\u001b[0m   \u001b[0mstrides\u001b[0m \u001b[0;34m=\u001b[0m \u001b[0mstrides_static\u001b[0m \u001b[0;32mif\u001b[0m \u001b[0mstrides_static\u001b[0m \u001b[0;32mis\u001b[0m \u001b[0;32mnot\u001b[0m \u001b[0;32mNone\u001b[0m \u001b[0;32melse\u001b[0m \u001b[0mstrides\u001b[0m\u001b[0;34m\u001b[0m\u001b[0;34m\u001b[0m\u001b[0m\n\u001b[1;32m    284\u001b[0m \u001b[0;34m\u001b[0m\u001b[0m\n\u001b[0;32m--> 285\u001b[0;31m   return array_ops.strided_slice_grad(\n\u001b[0m\u001b[1;32m    286\u001b[0m       \u001b[0mx\u001b[0m\u001b[0;34m,\u001b[0m\u001b[0;34m\u001b[0m\u001b[0;34m\u001b[0m\u001b[0m\n\u001b[1;32m    287\u001b[0m       \u001b[0mbegin\u001b[0m\u001b[0;34m,\u001b[0m\u001b[0;34m\u001b[0m\u001b[0;34m\u001b[0m\u001b[0m\n",
            "\u001b[0;32m/usr/local/lib/python3.8/dist-packages/tensorflow/python/ops/gen_array_ops.py\u001b[0m in \u001b[0;36mstrided_slice_grad\u001b[0;34m(shape, begin, end, strides, dy, begin_mask, end_mask, ellipsis_mask, new_axis_mask, shrink_axis_mask, name)\u001b[0m\n\u001b[1;32m  10891\u001b[0m     \u001b[0mshrink_axis_mask\u001b[0m \u001b[0;34m=\u001b[0m \u001b[0;36m0\u001b[0m\u001b[0;34m\u001b[0m\u001b[0;34m\u001b[0m\u001b[0m\n\u001b[1;32m  10892\u001b[0m   \u001b[0mshrink_axis_mask\u001b[0m \u001b[0;34m=\u001b[0m \u001b[0m_execute\u001b[0m\u001b[0;34m.\u001b[0m\u001b[0mmake_int\u001b[0m\u001b[0;34m(\u001b[0m\u001b[0mshrink_axis_mask\u001b[0m\u001b[0;34m,\u001b[0m \u001b[0;34m\"shrink_axis_mask\"\u001b[0m\u001b[0;34m)\u001b[0m\u001b[0;34m\u001b[0m\u001b[0;34m\u001b[0m\u001b[0m\n\u001b[0;32m> 10893\u001b[0;31m   _, _, _op, _outputs = _op_def_library._apply_op_helper(\n\u001b[0m\u001b[1;32m  10894\u001b[0m         \u001b[0;34m\"StridedSliceGrad\"\u001b[0m\u001b[0;34m,\u001b[0m \u001b[0mshape\u001b[0m\u001b[0;34m=\u001b[0m\u001b[0mshape\u001b[0m\u001b[0;34m,\u001b[0m \u001b[0mbegin\u001b[0m\u001b[0;34m=\u001b[0m\u001b[0mbegin\u001b[0m\u001b[0;34m,\u001b[0m \u001b[0mend\u001b[0m\u001b[0;34m=\u001b[0m\u001b[0mend\u001b[0m\u001b[0;34m,\u001b[0m\u001b[0;34m\u001b[0m\u001b[0;34m\u001b[0m\u001b[0m\n\u001b[1;32m  10895\u001b[0m                             \u001b[0mstrides\u001b[0m\u001b[0;34m=\u001b[0m\u001b[0mstrides\u001b[0m\u001b[0;34m,\u001b[0m \u001b[0mdy\u001b[0m\u001b[0;34m=\u001b[0m\u001b[0mdy\u001b[0m\u001b[0;34m,\u001b[0m \u001b[0mbegin_mask\u001b[0m\u001b[0;34m=\u001b[0m\u001b[0mbegin_mask\u001b[0m\u001b[0;34m,\u001b[0m\u001b[0;34m\u001b[0m\u001b[0;34m\u001b[0m\u001b[0m\n",
            "\u001b[0;32m/usr/local/lib/python3.8/dist-packages/tensorflow/python/framework/op_def_library.py\u001b[0m in \u001b[0;36m_apply_op_helper\u001b[0;34m(op_type_name, name, **keywords)\u001b[0m\n\u001b[1;32m    777\u001b[0m   \u001b[0;32mwith\u001b[0m \u001b[0mg\u001b[0m\u001b[0;34m.\u001b[0m\u001b[0mas_default\u001b[0m\u001b[0;34m(\u001b[0m\u001b[0;34m)\u001b[0m\u001b[0;34m,\u001b[0m \u001b[0mops\u001b[0m\u001b[0;34m.\u001b[0m\u001b[0mname_scope\u001b[0m\u001b[0;34m(\u001b[0m\u001b[0mname\u001b[0m\u001b[0;34m)\u001b[0m \u001b[0;32mas\u001b[0m \u001b[0mscope\u001b[0m\u001b[0;34m:\u001b[0m\u001b[0;34m\u001b[0m\u001b[0;34m\u001b[0m\u001b[0m\n\u001b[1;32m    778\u001b[0m     \u001b[0;32mif\u001b[0m \u001b[0mfallback\u001b[0m\u001b[0;34m:\u001b[0m\u001b[0;34m\u001b[0m\u001b[0;34m\u001b[0m\u001b[0m\n\u001b[0;32m--> 779\u001b[0;31m       _ExtractInputsAndAttrs(op_type_name, op_def, allowed_list_attr_map,\n\u001b[0m\u001b[1;32m    780\u001b[0m                              \u001b[0mkeywords\u001b[0m\u001b[0;34m,\u001b[0m \u001b[0mdefault_type_attr_map\u001b[0m\u001b[0;34m,\u001b[0m \u001b[0mattrs\u001b[0m\u001b[0;34m,\u001b[0m \u001b[0minputs\u001b[0m\u001b[0;34m,\u001b[0m\u001b[0;34m\u001b[0m\u001b[0;34m\u001b[0m\u001b[0m\n\u001b[1;32m    781\u001b[0m                              input_types)\n",
            "\u001b[0;32m/usr/local/lib/python3.8/dist-packages/tensorflow/python/framework/op_def_library.py\u001b[0m in \u001b[0;36m_ExtractInputsAndAttrs\u001b[0;34m(op_type_name, op_def, allowed_list_attr_map, keywords, default_type_attr_map, attrs, inputs, input_types)\u001b[0m\n\u001b[1;32m    550\u001b[0m                 preferred_dtype=default_dtype)\n\u001b[1;32m    551\u001b[0m         \u001b[0;32melse\u001b[0m\u001b[0;34m:\u001b[0m\u001b[0;34m\u001b[0m\u001b[0;34m\u001b[0m\u001b[0m\n\u001b[0;32m--> 552\u001b[0;31m           values = ops.convert_to_tensor(\n\u001b[0m\u001b[1;32m    553\u001b[0m               \u001b[0mvalues\u001b[0m\u001b[0;34m,\u001b[0m\u001b[0;34m\u001b[0m\u001b[0;34m\u001b[0m\u001b[0m\n\u001b[1;32m    554\u001b[0m               \u001b[0mname\u001b[0m\u001b[0;34m=\u001b[0m\u001b[0minput_arg\u001b[0m\u001b[0;34m.\u001b[0m\u001b[0mname\u001b[0m\u001b[0;34m,\u001b[0m\u001b[0;34m\u001b[0m\u001b[0;34m\u001b[0m\u001b[0m\n",
            "\u001b[0;32m/usr/local/lib/python3.8/dist-packages/tensorflow/python/profiler/trace.py\u001b[0m in \u001b[0;36mwrapped\u001b[0;34m(*args, **kwargs)\u001b[0m\n\u001b[1;32m    181\u001b[0m         \u001b[0;32mwith\u001b[0m \u001b[0mTrace\u001b[0m\u001b[0;34m(\u001b[0m\u001b[0mtrace_name\u001b[0m\u001b[0;34m,\u001b[0m \u001b[0;34m**\u001b[0m\u001b[0mtrace_kwargs\u001b[0m\u001b[0;34m)\u001b[0m\u001b[0;34m:\u001b[0m\u001b[0;34m\u001b[0m\u001b[0;34m\u001b[0m\u001b[0m\n\u001b[1;32m    182\u001b[0m           \u001b[0;32mreturn\u001b[0m \u001b[0mfunc\u001b[0m\u001b[0;34m(\u001b[0m\u001b[0;34m*\u001b[0m\u001b[0margs\u001b[0m\u001b[0;34m,\u001b[0m \u001b[0;34m**\u001b[0m\u001b[0mkwargs\u001b[0m\u001b[0;34m)\u001b[0m\u001b[0;34m\u001b[0m\u001b[0;34m\u001b[0m\u001b[0m\n\u001b[0;32m--> 183\u001b[0;31m       \u001b[0;32mreturn\u001b[0m \u001b[0mfunc\u001b[0m\u001b[0;34m(\u001b[0m\u001b[0;34m*\u001b[0m\u001b[0margs\u001b[0m\u001b[0;34m,\u001b[0m \u001b[0;34m**\u001b[0m\u001b[0mkwargs\u001b[0m\u001b[0;34m)\u001b[0m\u001b[0;34m\u001b[0m\u001b[0;34m\u001b[0m\u001b[0m\n\u001b[0m\u001b[1;32m    184\u001b[0m \u001b[0;34m\u001b[0m\u001b[0m\n\u001b[1;32m    185\u001b[0m     \u001b[0;32mreturn\u001b[0m \u001b[0mwrapped\u001b[0m\u001b[0;34m\u001b[0m\u001b[0;34m\u001b[0m\u001b[0m\n",
            "\u001b[0;32m/usr/local/lib/python3.8/dist-packages/tensorflow/python/framework/ops.py\u001b[0m in \u001b[0;36mconvert_to_tensor\u001b[0;34m(value, dtype, name, as_ref, preferred_dtype, dtype_hint, ctx, accepted_result_types)\u001b[0m\n\u001b[1;32m   1638\u001b[0m \u001b[0;34m\u001b[0m\u001b[0m\n\u001b[1;32m   1639\u001b[0m     \u001b[0;32mif\u001b[0m \u001b[0mret\u001b[0m \u001b[0;32mis\u001b[0m \u001b[0;32mNone\u001b[0m\u001b[0;34m:\u001b[0m\u001b[0;34m\u001b[0m\u001b[0;34m\u001b[0m\u001b[0m\n\u001b[0;32m-> 1640\u001b[0;31m       \u001b[0mret\u001b[0m \u001b[0;34m=\u001b[0m \u001b[0mconversion_func\u001b[0m\u001b[0;34m(\u001b[0m\u001b[0mvalue\u001b[0m\u001b[0;34m,\u001b[0m \u001b[0mdtype\u001b[0m\u001b[0;34m=\u001b[0m\u001b[0mdtype\u001b[0m\u001b[0;34m,\u001b[0m \u001b[0mname\u001b[0m\u001b[0;34m=\u001b[0m\u001b[0mname\u001b[0m\u001b[0;34m,\u001b[0m \u001b[0mas_ref\u001b[0m\u001b[0;34m=\u001b[0m\u001b[0mas_ref\u001b[0m\u001b[0;34m)\u001b[0m\u001b[0;34m\u001b[0m\u001b[0;34m\u001b[0m\u001b[0m\n\u001b[0m\u001b[1;32m   1641\u001b[0m \u001b[0;34m\u001b[0m\u001b[0m\n\u001b[1;32m   1642\u001b[0m     \u001b[0;32mif\u001b[0m \u001b[0mret\u001b[0m \u001b[0;32mis\u001b[0m \u001b[0mNotImplemented\u001b[0m\u001b[0;34m:\u001b[0m\u001b[0;34m\u001b[0m\u001b[0;34m\u001b[0m\u001b[0m\n",
            "\u001b[0;32m/usr/local/lib/python3.8/dist-packages/tensorflow/python/framework/tensor_conversion_registry.py\u001b[0m in \u001b[0;36m_default_conversion_function\u001b[0;34m(***failed resolving arguments***)\u001b[0m\n\u001b[1;32m     46\u001b[0m \u001b[0;32mdef\u001b[0m \u001b[0m_default_conversion_function\u001b[0m\u001b[0;34m(\u001b[0m\u001b[0mvalue\u001b[0m\u001b[0;34m,\u001b[0m \u001b[0mdtype\u001b[0m\u001b[0;34m,\u001b[0m \u001b[0mname\u001b[0m\u001b[0;34m,\u001b[0m \u001b[0mas_ref\u001b[0m\u001b[0;34m)\u001b[0m\u001b[0;34m:\u001b[0m\u001b[0;34m\u001b[0m\u001b[0;34m\u001b[0m\u001b[0m\n\u001b[1;32m     47\u001b[0m   \u001b[0;32mdel\u001b[0m \u001b[0mas_ref\u001b[0m  \u001b[0;31m# Unused.\u001b[0m\u001b[0;34m\u001b[0m\u001b[0;34m\u001b[0m\u001b[0m\n\u001b[0;32m---> 48\u001b[0;31m   \u001b[0;32mreturn\u001b[0m \u001b[0mconstant_op\u001b[0m\u001b[0;34m.\u001b[0m\u001b[0mconstant\u001b[0m\u001b[0;34m(\u001b[0m\u001b[0mvalue\u001b[0m\u001b[0;34m,\u001b[0m \u001b[0mdtype\u001b[0m\u001b[0;34m,\u001b[0m \u001b[0mname\u001b[0m\u001b[0;34m=\u001b[0m\u001b[0mname\u001b[0m\u001b[0;34m)\u001b[0m\u001b[0;34m\u001b[0m\u001b[0;34m\u001b[0m\u001b[0m\n\u001b[0m\u001b[1;32m     49\u001b[0m \u001b[0;34m\u001b[0m\u001b[0m\n\u001b[1;32m     50\u001b[0m \u001b[0;34m\u001b[0m\u001b[0m\n",
            "\u001b[0;32m/usr/local/lib/python3.8/dist-packages/tensorflow/python/framework/constant_op.py\u001b[0m in \u001b[0;36mconstant\u001b[0;34m(value, dtype, shape, name)\u001b[0m\n\u001b[1;32m    265\u001b[0m     \u001b[0mValueError\u001b[0m\u001b[0;34m:\u001b[0m \u001b[0;32mif\u001b[0m \u001b[0mcalled\u001b[0m \u001b[0mon\u001b[0m \u001b[0ma\u001b[0m \u001b[0msymbolic\u001b[0m \u001b[0mtensor\u001b[0m\u001b[0;34m.\u001b[0m\u001b[0;34m\u001b[0m\u001b[0;34m\u001b[0m\u001b[0m\n\u001b[1;32m    266\u001b[0m   \"\"\"\n\u001b[0;32m--> 267\u001b[0;31m   return _constant_impl(value, dtype, shape, name, verify_shape=False,\n\u001b[0m\u001b[1;32m    268\u001b[0m                         allow_broadcast=True)\n\u001b[1;32m    269\u001b[0m \u001b[0;34m\u001b[0m\u001b[0m\n",
            "\u001b[0;32m/usr/local/lib/python3.8/dist-packages/tensorflow/python/framework/constant_op.py\u001b[0m in \u001b[0;36m_constant_impl\u001b[0;34m(value, dtype, shape, name, verify_shape, allow_broadcast)\u001b[0m\n\u001b[1;32m    287\u001b[0m   \u001b[0mdtype_value\u001b[0m \u001b[0;34m=\u001b[0m \u001b[0mattr_value_pb2\u001b[0m\u001b[0;34m.\u001b[0m\u001b[0mAttrValue\u001b[0m\u001b[0;34m(\u001b[0m\u001b[0mtype\u001b[0m\u001b[0;34m=\u001b[0m\u001b[0mtensor_value\u001b[0m\u001b[0;34m.\u001b[0m\u001b[0mtensor\u001b[0m\u001b[0;34m.\u001b[0m\u001b[0mdtype\u001b[0m\u001b[0;34m)\u001b[0m\u001b[0;34m\u001b[0m\u001b[0;34m\u001b[0m\u001b[0m\n\u001b[1;32m    288\u001b[0m   \u001b[0mattrs\u001b[0m \u001b[0;34m=\u001b[0m \u001b[0;34m{\u001b[0m\u001b[0;34m\"value\"\u001b[0m\u001b[0;34m:\u001b[0m \u001b[0mtensor_value\u001b[0m\u001b[0;34m,\u001b[0m \u001b[0;34m\"dtype\"\u001b[0m\u001b[0;34m:\u001b[0m \u001b[0mdtype_value\u001b[0m\u001b[0;34m}\u001b[0m\u001b[0;34m\u001b[0m\u001b[0;34m\u001b[0m\u001b[0m\n\u001b[0;32m--> 289\u001b[0;31m   const_tensor = g._create_op_internal(  # pylint: disable=protected-access\n\u001b[0m\u001b[1;32m    290\u001b[0m       \"Const\", [], [dtype_value.type], attrs=attrs, name=name).outputs[0]\n\u001b[1;32m    291\u001b[0m \u001b[0;34m\u001b[0m\u001b[0m\n",
            "\u001b[0;32m/usr/local/lib/python3.8/dist-packages/tensorflow/python/framework/func_graph.py\u001b[0m in \u001b[0;36m_create_op_internal\u001b[0;34m(self, op_type, inputs, dtypes, input_types, name, attrs, op_def, compute_device)\u001b[0m\n\u001b[1;32m    692\u001b[0m       \u001b[0minp\u001b[0m \u001b[0;34m=\u001b[0m \u001b[0mself\u001b[0m\u001b[0;34m.\u001b[0m\u001b[0mcapture\u001b[0m\u001b[0;34m(\u001b[0m\u001b[0minp\u001b[0m\u001b[0;34m)\u001b[0m\u001b[0;34m\u001b[0m\u001b[0;34m\u001b[0m\u001b[0m\n\u001b[1;32m    693\u001b[0m       \u001b[0mcaptured_inputs\u001b[0m\u001b[0;34m.\u001b[0m\u001b[0mappend\u001b[0m\u001b[0;34m(\u001b[0m\u001b[0minp\u001b[0m\u001b[0;34m)\u001b[0m\u001b[0;34m\u001b[0m\u001b[0;34m\u001b[0m\u001b[0m\n\u001b[0;32m--> 694\u001b[0;31m     return super(FuncGraph, self)._create_op_internal(  # pylint: disable=protected-access\n\u001b[0m\u001b[1;32m    695\u001b[0m         \u001b[0mop_type\u001b[0m\u001b[0;34m,\u001b[0m \u001b[0mcaptured_inputs\u001b[0m\u001b[0;34m,\u001b[0m \u001b[0mdtypes\u001b[0m\u001b[0;34m,\u001b[0m \u001b[0minput_types\u001b[0m\u001b[0;34m,\u001b[0m \u001b[0mname\u001b[0m\u001b[0;34m,\u001b[0m \u001b[0mattrs\u001b[0m\u001b[0;34m,\u001b[0m \u001b[0mop_def\u001b[0m\u001b[0;34m,\u001b[0m\u001b[0;34m\u001b[0m\u001b[0;34m\u001b[0m\u001b[0m\n\u001b[1;32m    696\u001b[0m         compute_device)\n",
            "\u001b[0;32m/usr/local/lib/python3.8/dist-packages/tensorflow/python/framework/ops.py\u001b[0m in \u001b[0;36m_create_op_internal\u001b[0;34m(self, op_type, inputs, dtypes, input_types, name, attrs, op_def, compute_device)\u001b[0m\n\u001b[1;32m   3761\u001b[0m           \u001b[0moriginal_op\u001b[0m\u001b[0;34m=\u001b[0m\u001b[0mself\u001b[0m\u001b[0;34m.\u001b[0m\u001b[0m_default_original_op\u001b[0m\u001b[0;34m,\u001b[0m\u001b[0;34m\u001b[0m\u001b[0;34m\u001b[0m\u001b[0m\n\u001b[1;32m   3762\u001b[0m           op_def=op_def)\n\u001b[0;32m-> 3763\u001b[0;31m       \u001b[0mself\u001b[0m\u001b[0;34m.\u001b[0m\u001b[0m_create_op_helper\u001b[0m\u001b[0;34m(\u001b[0m\u001b[0mret\u001b[0m\u001b[0;34m,\u001b[0m \u001b[0mcompute_device\u001b[0m\u001b[0;34m=\u001b[0m\u001b[0mcompute_device\u001b[0m\u001b[0;34m)\u001b[0m\u001b[0;34m\u001b[0m\u001b[0;34m\u001b[0m\u001b[0m\n\u001b[0m\u001b[1;32m   3764\u001b[0m     \u001b[0;32mreturn\u001b[0m \u001b[0mret\u001b[0m\u001b[0;34m\u001b[0m\u001b[0;34m\u001b[0m\u001b[0m\n\u001b[1;32m   3765\u001b[0m \u001b[0;34m\u001b[0m\u001b[0m\n",
            "\u001b[0;32m/usr/local/lib/python3.8/dist-packages/tensorflow/python/framework/ops.py\u001b[0m in \u001b[0;36m_create_op_helper\u001b[0;34m(self, op, compute_device)\u001b[0m\n\u001b[1;32m   3836\u001b[0m \u001b[0;34m\u001b[0m\u001b[0m\n\u001b[1;32m   3837\u001b[0m     \u001b[0;32mif\u001b[0m \u001b[0mcompute_device\u001b[0m\u001b[0;34m:\u001b[0m\u001b[0;34m\u001b[0m\u001b[0;34m\u001b[0m\u001b[0m\n\u001b[0;32m-> 3838\u001b[0;31m       \u001b[0mself\u001b[0m\u001b[0;34m.\u001b[0m\u001b[0m_apply_device_functions\u001b[0m\u001b[0;34m(\u001b[0m\u001b[0mop\u001b[0m\u001b[0;34m)\u001b[0m\u001b[0;34m\u001b[0m\u001b[0;34m\u001b[0m\u001b[0m\n\u001b[0m\u001b[1;32m   3839\u001b[0m \u001b[0;34m\u001b[0m\u001b[0m\n\u001b[1;32m   3840\u001b[0m     \u001b[0;31m# Snapshot the colocation stack metadata before we might generate error\u001b[0m\u001b[0;34m\u001b[0m\u001b[0;34m\u001b[0m\u001b[0;34m\u001b[0m\u001b[0m\n",
            "\u001b[0;32m/usr/local/lib/python3.8/dist-packages/tensorflow/python/framework/ops.py\u001b[0m in \u001b[0;36m_apply_device_functions\u001b[0;34m(self, op)\u001b[0m\n\u001b[1;32m   4744\u001b[0m     \u001b[0;31m# pylint: disable=protected-access\u001b[0m\u001b[0;34m\u001b[0m\u001b[0;34m\u001b[0m\u001b[0;34m\u001b[0m\u001b[0m\n\u001b[1;32m   4745\u001b[0m     \u001b[0mprior_device_string\u001b[0m \u001b[0;34m=\u001b[0m \u001b[0;32mNone\u001b[0m\u001b[0;34m\u001b[0m\u001b[0;34m\u001b[0m\u001b[0m\n\u001b[0;32m-> 4746\u001b[0;31m     \u001b[0;32mfor\u001b[0m \u001b[0mdevice_spec\u001b[0m \u001b[0;32min\u001b[0m \u001b[0mself\u001b[0m\u001b[0;34m.\u001b[0m\u001b[0m_device_function_stack\u001b[0m\u001b[0;34m.\u001b[0m\u001b[0mpeek_objs\u001b[0m\u001b[0;34m(\u001b[0m\u001b[0;34m)\u001b[0m\u001b[0;34m:\u001b[0m\u001b[0;34m\u001b[0m\u001b[0;34m\u001b[0m\u001b[0m\n\u001b[0m\u001b[1;32m   4747\u001b[0m       \u001b[0;32mif\u001b[0m \u001b[0mdevice_spec\u001b[0m\u001b[0;34m.\u001b[0m\u001b[0mis_null_merge\u001b[0m\u001b[0;34m:\u001b[0m\u001b[0;34m\u001b[0m\u001b[0;34m\u001b[0m\u001b[0m\n\u001b[1;32m   4748\u001b[0m         \u001b[0;32mcontinue\u001b[0m\u001b[0;34m\u001b[0m\u001b[0;34m\u001b[0m\u001b[0m\n",
            "\u001b[0;32m/usr/local/lib/python3.8/dist-packages/tensorflow/python/framework/traceable_stack.py\u001b[0m in \u001b[0;36mpeek_objs\u001b[0;34m(self)\u001b[0m\n\u001b[1;32m    109\u001b[0m   \u001b[0;32mdef\u001b[0m \u001b[0mpeek_objs\u001b[0m\u001b[0;34m(\u001b[0m\u001b[0mself\u001b[0m\u001b[0;34m)\u001b[0m\u001b[0;34m:\u001b[0m\u001b[0;34m\u001b[0m\u001b[0;34m\u001b[0m\u001b[0m\n\u001b[1;32m    110\u001b[0m     \u001b[0;34m\"\"\"Return iterator over stored objects ordered newest to oldest.\"\"\"\u001b[0m\u001b[0;34m\u001b[0m\u001b[0;34m\u001b[0m\u001b[0m\n\u001b[0;32m--> 111\u001b[0;31m     \u001b[0;32mreturn\u001b[0m \u001b[0;34m(\u001b[0m\u001b[0mt_obj\u001b[0m\u001b[0;34m.\u001b[0m\u001b[0mobj\u001b[0m \u001b[0;32mfor\u001b[0m \u001b[0mt_obj\u001b[0m \u001b[0;32min\u001b[0m \u001b[0mreversed\u001b[0m\u001b[0;34m(\u001b[0m\u001b[0mself\u001b[0m\u001b[0;34m.\u001b[0m\u001b[0m_stack\u001b[0m\u001b[0;34m)\u001b[0m\u001b[0;34m)\u001b[0m\u001b[0;34m\u001b[0m\u001b[0;34m\u001b[0m\u001b[0m\n\u001b[0m\u001b[1;32m    112\u001b[0m \u001b[0;34m\u001b[0m\u001b[0m\n\u001b[1;32m    113\u001b[0m   \u001b[0;32mdef\u001b[0m \u001b[0mpeek_traceable_objs\u001b[0m\u001b[0;34m(\u001b[0m\u001b[0mself\u001b[0m\u001b[0;34m)\u001b[0m\u001b[0;34m:\u001b[0m\u001b[0;34m\u001b[0m\u001b[0;34m\u001b[0m\u001b[0m\n",
            "\u001b[0;31mKeyboardInterrupt\u001b[0m: "
          ]
        }
      ],
      "source": [
        "converter = tf.lite.TFLiteConverter.from_keras_model( enc_model )\n",
        "buffer = converter.convert()\n",
        "open( 'enc_model.tflite' , 'wb' ).write( buffer )\n",
        "\n",
        "converter = tf.lite.TFLiteConverter.from_keras_model( dec_model )\n",
        "open( 'dec_model.tflite' , 'wb' ).write( buffer )"
      ]
    }
  ],
  "metadata": {
    "colab": {
      "provenance": []
    },
    "kernelspec": {
      "display_name": "Python 3",
      "name": "python3"
    }
  },
  "nbformat": 4,
  "nbformat_minor": 0
}